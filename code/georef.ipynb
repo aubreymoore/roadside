{
 "cells": [
  {
   "cell_type": "markdown",
   "id": "focused-isaac",
   "metadata": {},
   "source": [
    "# georef.ipynb\n",
    "\n",
    "This Jupyter notebook replaces **georef.py**.\n",
    "\n",
    "Can be run from the console using papermill:\n",
    "\n",
    "```\n",
    "papermill georef.ipynb \\\n",
    "          georef_output_20201211_134207.ipynb \\\n",
    "          -p video_path /home/aubreytensor1/Guam02/rawdata/20201211_134207.mp4 \\\n",
    "          -p db_path /home/aubreytensor1/Guam02/map/Guam02.db\n",
    "```\n",
    "\n",
    "### Modifications by Aubrey Moore\n",
    "* 2021-01-02 frame_number now zero based\n",
    "* 2021-01-03 Now works on a single video file\n",
    "* 2021-01-23 Added section \"Delete all records for video_id in the frames table\"\n",
    "* 2021-01-23 Added section \"Slice dfgps so that is contains data between start_time and stop_time\"\n",
    "\n",
    "### tracks Table Schema\n",
    "\n",
    "```sql\n",
    "DROP TABLE IF EXISTS tracks;\n",
    "\n",
    "CREATE TABLE tracks (\n",
    "    id INTEGER PRIMARY KEY AUTOINCREMENT,\n",
    "    name TEXT NOT NULL UNIQUE,\n",
    "    FOREIGN KEY(name) REFERENCES videos(name));\n",
    "\n",
    "SELECT AddGeometryColumn('tracks', 'geometry', 3857, 'LINESTRING', 'XY');\n",
    "```\n",
    "\n",
    "### frames Table Schema\n",
    "\n",
    "```sql\n",
    "CREATE TABLE frames (\n",
    "    id INTEGER PRIMARY KEY AUTOINCREMENT,\n",
    "    video_id INTEGER,\n",
    "    frame_number INTEGER NOT Null,\n",
    "    time TEXT,\n",
    "    geometry,\n",
    "    FOREIGN KEY(video_id) REFERENCES videos(id),\n",
    "    UNIQUE(video_id, frame_number)\n",
    ");\n",
    "\n",
    "SELECT RecoverGeometryColumn('frames', 'geometry', 3857, 'POINT', 'XY');\n",
    "```"
   ]
  },
  {
   "cell_type": "code",
   "execution_count": 50,
   "id": "stunning-baghdad",
   "metadata": {},
   "outputs": [],
   "source": [
    "import geopandas as gpd\n",
    "from shapely.geometry import Point, LineString\n",
    "import matplotlib.pyplot as plt\n",
    "\n",
    "import glob\n",
    "import logging\n",
    "import spatialite\n",
    "import os\n",
    "from datetime import datetime, timedelta\n",
    "import pandas as pd\n",
    "import cv2\n",
    "import plac\n",
    "import re\n",
    "import papermill"
   ]
  },
  {
   "cell_type": "code",
   "execution_count": 51,
   "id": "lyric-spread",
   "metadata": {
    "tags": [
     "parameters"
    ]
   },
   "outputs": [],
   "source": [
    "# This cell is tagged with \"parameters\"\n",
    "\n",
    "#video_path = '/home/aubreytensor1/Guam02/rawdata/20201222_140644.mp4'\n",
    "#db_path = '/home/aubreytensor1/Guam02/map/Guam02.db' # for testing\n",
    "\n",
    "video_path = '/home/aubrey/Documents/roadside/rawdata/20210427_104527.mp4'\n",
    "db_path = '/home/aubrey/Documents/roadside/output/spatialite.db'"
   ]
  },
  {
   "cell_type": "code",
   "execution_count": 52,
   "id": "dominant-encoding",
   "metadata": {},
   "outputs": [],
   "source": [
    "name = os.path.basename(video_path)"
   ]
  },
  {
   "cell_type": "code",
   "execution_count": 53,
   "id": "finnish-listing",
   "metadata": {},
   "outputs": [],
   "source": [
    "def get_video_start_stop(video_path, cursor):\n",
    "    \"\"\"\n",
    "    Get the video start and stop times from the exif field in the videos database table\n",
    "    \"\"\"\n",
    "    filename = os.path.basename(video_path)\n",
    "    sql = '''\n",
    "        SELECT\n",
    "            JSON_EXTRACT(exif, \"$.QuickTime:CreateDate\") AS start_time_utc,\n",
    "            JSON_EXTRACT(exif, \"$.QuickTime:Duration\") AS duration\n",
    "        FROM videos\n",
    "        WHERE name = (?);\n",
    "        '''\n",
    "    cursor.execute(sql, [filename])\n",
    "    createDate, duration = cursor.fetchone()\n",
    "    # print(f'CreateDate: {createDate}, Duration: {duration}')\n",
    "    createDate = datetime.strptime(createDate, '%Y:%m:%d %H:%M:%S')\n",
    "    start = createDate - timedelta(seconds=duration)\n",
    "    stop = createDate\n",
    "    logging.info(f'Start: {start}   Stop:  {stop} UTC')\n",
    "    return start, stop"
   ]
  },
  {
   "cell_type": "code",
   "execution_count": 54,
   "id": "preceding-swedish",
   "metadata": {},
   "outputs": [],
   "source": [
    "def get_lat_lon(timestamp, dfgps):\n",
    "    timestamp = pd.to_datetime(timestamp)\n",
    "    df = dfgps[dfgps.time==timestamp]\n",
    "    if not df.empty:\n",
    "        # There is a record for exact timestamp (unlikely); return lat lon.\n",
    "        return dfgps.lat.values[0], dfgps.lon.values[0]\n",
    "    else:\n",
    "        # Estimate lat lon using linear interpolation records just prior and post timestamp\n",
    "        df1 = dfgps[dfgps.time<timestamp].tail(1)\n",
    "        df2 = dfgps[dfgps.time>timestamp].head(1)\n",
    "        t1 = df1.time.values[0]\n",
    "        t2 = df2.time.values[0]\n",
    "        lat1 = df1.lat.values[0]\n",
    "        lat2 = df2.lat.values[0]\n",
    "        lon1 = df1.lon.values[0]\n",
    "        lon2 = df2.lon.values[0]\n",
    "        fraction = (timestamp-t1)/(t2-t1)\n",
    "        lat = lat1 + fraction*(lat2-lat1)\n",
    "        lon = lon1 + fraction*(lon2-lon1)\n",
    "        return lat, lon"
   ]
  },
  {
   "cell_type": "code",
   "execution_count": 55,
   "id": "charitable-husband",
   "metadata": {},
   "outputs": [],
   "source": [
    "def populate_frames_table(video_path, db_path):\n",
    "    \"\"\"\n",
    "    Populates the frames table in the survey database.\n",
    "    Columns are: frame_number, timestamp (UTC), lat, lon\n",
    "    \"\"\"\n",
    "    FRAME_INTERVAL = 1000 # Sets frequency for logging\n",
    "\n",
    "    logging.basicConfig(\n",
    "        level=logging.INFO,\n",
    "        format=\"%(asctime)s [%(levelname)s] %(funcName)s %(message)s\",\n",
    "        datefmt=\"%Y-%m-%dT%H:%M:%S%z\",\n",
    "        handlers=[logging.StreamHandler()])\n",
    "    logging.info('Starting georef.py')\n",
    "\n",
    "    # Connect database\n",
    "    conn = spatialite.connect(db_path)\n",
    "    cursor = conn.cursor()\n",
    "\n",
    "    # Find the GPS log file\n",
    "    gpslogpath = re.sub(r'_\\d{6}.mp4', '.csv', video_path, 0, re.MULTILINE)\n",
    "    logging.info(f'gpslogpath = {gpslogpath}')\n",
    "\n",
    "    # Load the gps log file csv into a dataframe\n",
    "    logging.info(f'Reading GPS log from {gpslogpath}')\n",
    "    dfgps = pd.read_csv(gpslogpath, parse_dates=['time'])\n",
    "    dfgps['time'] = dfgps['time'].dt.tz_localize(None)\n",
    "    \n",
    "    print(dfgps)\n",
    "\n",
    "    # Slice dfgps so that is contains data between start_time-10s and stop_time+10s\n",
    "    start_time, stop_time = get_video_start_stop(video_path, cursor)\n",
    "    pd.set_option('display.max_columns', None)\n",
    "    logging.info(f'dfgps prior to slicing: {dfgps.time.iloc[0]}   {dfgps.time.iloc[-1]} UTC')\n",
    "    dfgps = dfgps[ dfgps.time.between(start_time-timedelta(0,10), stop_time+timedelta(0,10)) ]\n",
    "    logging.info(f'dfgps after slicing:    {dfgps.time.iloc[0]}   {dfgps.time.iloc[-1]} UTC')\n",
    "\n",
    "    gpslog_start_time = dfgps.time.min().to_pydatetime()\n",
    "    gpslog_stop_time = dfgps.time.max().to_pydatetime()\n",
    "    logging.info(f'dfgps after slicing:    {gpslog_start_time}   {gpslog_stop_time} UTC')\n",
    "\n",
    "    # Get the video_id from the videos table\n",
    "    video = os.path.basename(video_path)\n",
    "    sql = (f'SELECT id FROM videos WHERE name = \"{video}\"')\n",
    "    cursor.execute(sql)\n",
    "    video_id = cursor.fetchone()[0]\n",
    "\n",
    "    # Delete all records for video_id in the frames table\n",
    "    sql = (f'DELETE FROM frames WHERE video_id=\"{video_id}\";')\n",
    "    cursor.execute(sql)\n",
    "    conn.commit()\n",
    "\n",
    "    # populate frames table with records for the current video\n",
    "    cap = cv2.VideoCapture(video_path)\n",
    "    while True:\n",
    "        pos_msec = cap.get(cv2.CAP_PROP_POS_MSEC)\n",
    "        frame_number = cap.get(cv2.CAP_PROP_POS_FRAMES)\n",
    "        timestamp = start_time + timedelta(milliseconds=pos_msec)\n",
    "        if (timestamp > gpslog_start_time) and (timestamp < gpslog_stop_time):\n",
    "            lat, lon = get_lat_lon(timestamp, dfgps)\n",
    "            geometry = f'TRANSFORM(GeomFromText(\"POINT({lon} {lat})\", 4326), 3857)'\n",
    "            sql = f'INSERT INTO frames(video_id,frame_number,time,geometry) VALUES({video_id},{frame_number},\"{timestamp}\",{geometry});'\n",
    "            logging.debug(sql)\n",
    "            cursor.execute(sql)\n",
    "            conn.commit()\n",
    "        else:\n",
    "            logging.error(f'No gps log data available for frame {frame_number} in {video_path}')            \n",
    "        if (frame_number % FRAME_INTERVAL == 0):\n",
    "            logging.info(f'{frame_number} {timestamp}')\n",
    "        frame_exists, _ = cap.read()\n",
    "        if not frame_exists:\n",
    "            break\n",
    "            \n",
    "    cap.release()\n",
    "\n",
    "    # Disconnect database\n",
    "    cursor.close()\n",
    "    conn.close()\n",
    "\n",
    "    return dfgps"
   ]
  },
  {
   "cell_type": "code",
   "execution_count": 56,
   "id": "present-cornwall",
   "metadata": {},
   "outputs": [
    {
     "name": "stderr",
     "output_type": "stream",
     "text": [
      "2021-04-27T13:13:50+1000 [INFO] populate_frames_table Starting georef.py\n",
      "2021-04-27T13:13:50+1000 [INFO] populate_frames_table gpslogpath = /home/aubrey/Documents/roadside/rawdata/20210427.csv\n",
      "2021-04-27T13:13:50+1000 [INFO] populate_frames_table Reading GPS log from /home/aubrey/Documents/roadside/rawdata/20210427.csv\n",
      "2021-04-27T13:13:50+1000 [INFO] get_video_start_stop Start: 2021-04-27 00:45:28.891000   Stop:  2021-04-27 00:45:59 UTC\n",
      "2021-04-27T13:13:50+1000 [INFO] populate_frames_table dfgps prior to slicing: 2021-04-27 00:13:54.348000   2021-04-27 00:46:25.999000 UTC\n",
      "2021-04-27T13:13:50+1000 [INFO] populate_frames_table dfgps after slicing:    2021-04-27 00:45:18.999000   2021-04-27 00:46:04.999000 UTC\n",
      "2021-04-27T13:13:50+1000 [INFO] populate_frames_table dfgps after slicing:    2021-04-27 00:45:18.999000   2021-04-27 00:46:04.999000 UTC\n",
      "2021-04-27T13:13:50+1000 [INFO] populate_frames_table 0.0 2021-04-27 00:45:28.891000\n"
     ]
    },
    {
     "name": "stdout",
     "output_type": "stream",
     "text": [
      "                        time        lat         lon   elevation  accuracy  \\\n",
      "0    2021-04-27 00:13:54.348  13.413736  144.784644  200.816701      32.0   \n",
      "1    2021-04-27 00:13:57.000  13.413738  144.784645  200.949818      32.0   \n",
      "2    2021-04-27 00:13:58.000  13.413738  144.784646  200.947065      32.0   \n",
      "3    2021-04-27 00:14:00.000  13.413739  144.784644  200.851791      32.0   \n",
      "4    2021-04-27 00:14:02.000  13.413916  144.784758  173.784051      16.0   \n",
      "...                      ...        ...         ...         ...       ...   \n",
      "1095 2021-04-27 00:46:19.999  13.414576  144.784595  141.556775      16.0   \n",
      "1096 2021-04-27 00:46:21.999  13.414558  144.784590  141.577509      24.0   \n",
      "1097 2021-04-27 00:46:23.999  13.414597  144.784599  141.597440      24.0   \n",
      "1098 2021-04-27 00:46:24.999  13.414601  144.784595  141.694354      24.0   \n",
      "1099 2021-04-27 00:46:25.999  13.414609  144.784595  141.772051      32.0   \n",
      "\n",
      "         bearing     speed  satellites provider  hdop  vdop  pdop  \\\n",
      "0            NaN  0.000000           0      gps   8.0  12.4  14.7   \n",
      "1            NaN  0.000000           5      gps   8.0  12.4  14.7   \n",
      "2            NaN  0.000000           5      gps   8.0  12.4  14.7   \n",
      "3            NaN  0.000000           5      gps   8.0  12.4  14.7   \n",
      "4            NaN  0.000000           6      gps   2.9   2.8   4.0   \n",
      "...          ...       ...         ...      ...   ...   ...   ...   \n",
      "1095    6.967177  1.111905           6      gps   3.4   2.7   4.4   \n",
      "1096  359.562700  1.092458           6      gps   3.4   2.7   4.4   \n",
      "1097    9.866028  1.087602           5      gps   3.4   2.7   4.4   \n",
      "1098         NaN  0.000000           5      gps   3.4   2.7   4.4   \n",
      "1099         NaN  0.000000           4      gps   4.2   3.2   5.3   \n",
      "\n",
      "      geoidheight  ageofdgpsdata  dgpsid  activity  battery  annotation  \n",
      "0            49.5            NaN     NaN       NaN       96         NaN  \n",
      "1            49.5            NaN     NaN       NaN       96         NaN  \n",
      "2            49.5            NaN     NaN       NaN       96         NaN  \n",
      "3            49.5            NaN     NaN       NaN       96         NaN  \n",
      "4            49.5            NaN     NaN       NaN       96         NaN  \n",
      "...           ...            ...     ...       ...      ...         ...  \n",
      "1095         49.5            NaN     NaN       NaN       89         NaN  \n",
      "1096         49.5            NaN     NaN       NaN       89         NaN  \n",
      "1097         49.5            NaN     NaN       NaN       89         NaN  \n",
      "1098         49.5            NaN     NaN       NaN       89         NaN  \n",
      "1099         49.5            NaN     NaN       NaN       89         NaN  \n",
      "\n",
      "[1100 rows x 18 columns]\n"
     ]
    }
   ],
   "source": [
    "# MAIN\n",
    "\n",
    "df = populate_frames_table(video_path, db_path)"
   ]
  },
  {
   "cell_type": "code",
   "execution_count": 57,
   "id": "toxic-blake",
   "metadata": {},
   "outputs": [
    {
     "data": {
      "text/plain": [
       "<AxesSubplot:>"
      ]
     },
     "execution_count": 57,
     "metadata": {},
     "output_type": "execute_result"
    },
    {
     "data": {
      "image/png": "[encoded data removed]",
      "text/plain": [
       "<Figure size 432x288 with 1 Axes>"
      ]
     },
     "metadata": {
      "needs_background": "light"
     },
     "output_type": "display_data"
    }
   ],
   "source": [
    "# Convert dataframe to a geodataframe\n",
    "geometry = [Point(xy) for xy in zip(df.lon, df.lat)]\n",
    "df = df.drop(['lat', 'lon'], axis=1)\n",
    "gdf = gpd.GeoDataFrame(df, crs=\"EPSG:4326\", geometry=geometry)\n",
    "gdf.plot(markersize=1)"
   ]
  },
  {
   "cell_type": "code",
   "execution_count": 58,
   "id": "documentary-haiti",
   "metadata": {},
   "outputs": [
    {
     "data": {
      "text/plain": [
       "<Projected CRS: EPSG:3857>\n",
       "Name: WGS 84 / Pseudo-Mercator\n",
       "Axis Info [cartesian]:\n",
       "- X[east]: Easting (metre)\n",
       "- Y[north]: Northing (metre)\n",
       "Area of Use:\n",
       "- name: World between 85.06°S and 85.06°N.\n",
       "- bounds: (-180.0, -85.06, 180.0, 85.06)\n",
       "Coordinate Operation:\n",
       "- name: Popular Visualisation Pseudo-Mercator\n",
       "- method: Popular Visualisation Pseudo Mercator\n",
       "Datum: World Geodetic System 1984\n",
       "- Ellipsoid: WGS 84\n",
       "- Prime Meridian: Greenwich"
      ]
     },
     "execution_count": 58,
     "metadata": {},
     "output_type": "execute_result"
    },
    {
     "data": {
      "image/png": "[encoded data removed]",
      "text/plain": [
       "<Figure size 432x288 with 1 Axes>"
      ]
     },
     "metadata": {
      "needs_background": "light"
     },
     "output_type": "display_data"
    }
   ],
   "source": [
    "# Reproject geometry to UTM (meters)\n",
    "gdf = gdf.to_crs('EPSG:3857')\n",
    "gdf.plot(markersize=1)\n",
    "gdf.crs"
   ]
  },
  {
   "cell_type": "code",
   "execution_count": 59,
   "id": "mighty-grill",
   "metadata": {},
   "outputs": [
    {
     "name": "stdout",
     "output_type": "stream",
     "text": [
      "28\n"
     ]
    }
   ],
   "source": [
    "# Get the LineString\n",
    "ls = LineString(gdf.geometry.to_list())\n",
    "print(len(ls.coords))"
   ]
  },
  {
   "cell_type": "code",
   "execution_count": 60,
   "id": "better-freeware",
   "metadata": {},
   "outputs": [
    {
     "name": "stdout",
     "output_type": "stream",
     "text": [
      "2\n"
     ]
    },
    {
     "data": {
      "image/svg+xml": [
       "<svg xmlns=\"http://www.w3.org/2000/svg\" xmlns:xlink=\"http://www.w3.org/1999/xlink\" width=\"100.0\" height=\"100.0\" viewBox=\"16117318.451629736 1507110.757007696 22.866917748004198 5.788613628828898\" preserveAspectRatio=\"xMinYMin meet\"><g transform=\"matrix(1,0,0,-1,0,3014227.302629021)\"><polyline fill=\"none\" stroke=\"#66cc99\" stroke-width=\"0.45733835496008396\" points=\"16117319.298552616,1507111.6039305755 16117340.471624603,1507115.6986984452\" opacity=\"0.8\" /></g></svg>"
      ],
      "text/plain": [
       "<shapely.geometry.linestring.LineString at 0x7f9125cd8cc0>"
      ]
     },
     "execution_count": 60,
     "metadata": {},
     "output_type": "execute_result"
    }
   ],
   "source": [
    "# Simplify the LineString\n",
    "lss = ls.simplify(10)\n",
    "print(len(lss.coords))\n",
    "lss"
   ]
  },
  {
   "cell_type": "code",
   "execution_count": 61,
   "id": "amateur-bouquet",
   "metadata": {},
   "outputs": [
    {
     "data": {
      "image/png": "[encoded data removed]",
      "text/plain": [
       "<Figure size 432x288 with 1 Axes>"
      ]
     },
     "metadata": {
      "needs_background": "light"
     },
     "output_type": "display_data"
    }
   ],
   "source": [
    "# Save LineString plot to file\n",
    "p = gpd.GeoSeries(lss)\n",
    "p.plot()\n",
    "filename = name.replace('.mp4', '.png')\n",
    "filename = f'track_{filename}'\n",
    "plt.savefig(filename)"
   ]
  },
  {
   "cell_type": "code",
   "execution_count": 62,
   "id": "preceding-central",
   "metadata": {},
   "outputs": [
    {
     "name": "stdout",
     "output_type": "stream",
     "text": [
      "DELETE FROM tracks WHERE name='20210427_104527.mp4';\n",
      "INSERT INTO tracks VALUES(NULL, '20210427_104527.mp4', GeomFromText('LINESTRING (16117319.29855262 1507111.603930576, 16117340.4716246 1507115.698698445)',3857));\n"
     ]
    }
   ],
   "source": [
    "# Update the tracks table\n",
    "with spatialite.connect(db_path) as db:\n",
    "    sql = f\"DELETE FROM tracks WHERE name='{name}';\"\n",
    "    print(sql)\n",
    "    db.execute(sql)\n",
    "    sql = f\"INSERT INTO tracks VALUES(NULL, '{name}', GeomFromText('{lss.wkt}',3857));\"\n",
    "    print(sql)\n",
    "    db.execute(sql)\n",
    "    db.commit()"
   ]
  },
  {
   "cell_type": "code",
   "execution_count": 63,
   "id": "technical-opera",
   "metadata": {},
   "outputs": [
    {
     "name": "stdout",
     "output_type": "stream",
     "text": [
      "FINISHED\n"
     ]
    }
   ],
   "source": [
    "print('FINISHED')"
   ]
  }
 ],
 "metadata": {
  "kernelspec": {
   "display_name": "Python 3",
   "language": "python",
   "name": "python3"
  },
  "language_info": {
   "codemirror_mode": {
    "name": "ipython",
    "version": 3
   },
   "file_extension": ".py",
   "mimetype": "text/x-python",
   "name": "python",
   "nbconvert_exporter": "python",
   "pygments_lexer": "ipython3",
   "version": "3.6.9"
  }
 },
 "nbformat": 4,
 "nbformat_minor": 5
}
