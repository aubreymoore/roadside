{
 "cells": [
  {
   "cell_type": "code",
   "execution_count": 6,
   "id": "legislative-spider",
   "metadata": {},
   "outputs": [
    {
     "name": "stdout",
     "output_type": "stream",
     "text": [
      "   a  b\n",
      "0  1  4\n",
      "1  2  5\n",
      "2  3  6\n",
      "   a  b\n",
      "0  1  4\n",
      "1  2  5\n",
      "2  3  6\n"
     ]
    }
   ],
   "source": [
    "import pandas as pd \n",
    "\n",
    "# create a simple dataframe\n",
    "df = pd.DataFrame({'a': [1,2,3], 'b':[4,5,6]})\n",
    "\n",
    "# look at the column names\n",
    "print(df)\n",
    "\n",
    "# define a function we will pass\n",
    "# our dataframe to that will \n",
    "# change the dataframe some way\n",
    "def change_df_col_names(my_df):\n",
    "    my_df.columns = ['c', 'd']\n",
    "    return\n",
    "\n",
    "# now pass the original dataframe \n",
    "# into the function\n",
    "change_df_col_names(df.loc[0])\n",
    "\n",
    "# look at the column names for the\n",
    "# original object\n",
    "# note that we did not assign the\n",
    "# return value of the function to\n",
    "# the original variable name,\n",
    "# so it is the same reference as\n",
    "# before we called the function\n",
    "print(df)"
   ]
  },
  {
   "cell_type": "code",
   "execution_count": null,
   "id": "systematic-baltimore",
   "metadata": {},
   "outputs": [],
   "source": []
  }
 ],
 "metadata": {
  "kernelspec": {
   "display_name": "Python 3",
   "language": "python",
   "name": "python3"
  },
  "language_info": {
   "codemirror_mode": {
    "name": "ipython",
    "version": 3
   },
   "file_extension": ".py",
   "mimetype": "text/x-python",
   "name": "python",
   "nbconvert_exporter": "python",
   "pygments_lexer": "ipython3",
   "version": "3.6.9"
  }
 },
 "nbformat": 4,
 "nbformat_minor": 5
}
