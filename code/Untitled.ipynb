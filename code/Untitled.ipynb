{
 "cells": [
  {
   "cell_type": "code",
   "execution_count": 2,
   "metadata": {},
   "outputs": [],
   "source": [
    "import spatialite\n",
    "import math\n",
    "import geojson\n",
    "\n",
    "db_path = '/home/aubreytensor1/Guam02/map/Guam02.db'\n",
    "track_name = '20201211_141545.mp4'\n",
    "max_meters = 1000"
   ]
  },
  {
   "cell_type": "code",
   "execution_count": 33,
   "metadata": {},
   "outputs": [],
   "source": [
    "def get_points(db_path, track_name):\n",
    "    with spatialite.connect(db_path) as db:\n",
    "        sql = f\"\"\"\n",
    "        SELECT AsGeoJSON(geometry)\n",
    "        FROM tracks\n",
    "        WHERE name='{track_name}';\n",
    "        \"\"\"\n",
    "        s = db.execute(sql).fetchone()[0]\n",
    "    points = json.loads(s)['coordinates']\n",
    "    return points"
   ]
  },
  {
   "cell_type": "code",
   "execution_count": 13,
   "metadata": {},
   "outputs": [],
   "source": [
    "def get_geojson(db_path, track_name):\n",
    "    with spatialite.connect(db_path) as db:\n",
    "        sql = f\"SELECT AsGeoJSON(geometry) FROM tracks WHERE name='{track_name}';\"\n",
    "        s = db.execute(sql).fetchone()[0]\n",
    "        gj = geojson.loads(s)\n",
    "    return gj"
   ]
  },
  {
   "cell_type": "code",
   "execution_count": 39,
   "metadata": {},
   "outputs": [],
   "source": [
    "def update_geometry(db_path, track_name, geojson):\n",
    "    with spatialite.connect(db_path) as db:\n",
    "        geometry = f'GeomFromText(\"POINT({lon} {lat})\", 3857)' \n",
    "        sql = f\"UPDATE tracks SET geometry=GeomFromGeoJSON('{geometry}') WHERE name='{track_name}';\"\n",
    "        #print(sql)\n",
    "        db.execute(sql)\n",
    "        db.commit()"
   ]
  },
  {
   "cell_type": "code",
   "execution_count": 7,
   "metadata": {},
   "outputs": [],
   "source": [
    "def get_names(db_path):\n",
    "    with spatialite.connect(db_path) as db:\n",
    "        sql = f\"SELECT name FROM tracks;\"\n",
    "        results = db.execute(sql).fetchall()\n",
    "        names = []\n",
    "        for result in results:\n",
    "            names.append(result[0])\n",
    "        return names"
   ]
  },
  {
   "cell_type": "code",
   "execution_count": 40,
   "metadata": {},
   "outputs": [],
   "source": [
    "gj = get_geojson(db_path, track_name)\n",
    "update_geometry(db_path, track_name, geojson)"
   ]
  },
  {
   "cell_type": "code",
   "execution_count": 8,
   "metadata": {},
   "outputs": [
    {
     "data": {
      "text/plain": [
       "['20201211_131147.mp4',\n",
       " '20201211_134207.mp4',\n",
       " '20201211_141545.mp4',\n",
       " '20201211_144925.mp4',\n",
       " '20201214_143339.mp4',\n",
       " '20201214_150358.mp4',\n",
       " '20201214_153737.mp4',\n",
       " '20201214_161117.mp4',\n",
       " '20201215_134916.mp4',\n",
       " '20201215_141935.mp4',\n",
       " '20201215_150546.mp4',\n",
       " '20201215_153605.mp4',\n",
       " '20201217_115028.mp4',\n",
       " '20201217_122047.mp4',\n",
       " '20201217_125427.mp4',\n",
       " '20201217_130919.mp4',\n",
       " '20201217_135215.mp4',\n",
       " '20201217_142235.mp4',\n",
       " '20201217_145614.mp4',\n",
       " '20201217_152953.mp4',\n",
       " '20201221_101846.mp4',\n",
       " '20201221_111422.mp4',\n",
       " '20201221_114442.mp4',\n",
       " '20201221_121821.mp4',\n",
       " '20201221_125200.mp4',\n",
       " '20201221_144107.mp4',\n",
       " '20201221_151126.mp4',\n",
       " '20201222_140644.mp4',\n",
       " '20201222_143703.mp4',\n",
       " '20201222_151042.mp4',\n",
       " '20201222_154421.mp4',\n",
       " '20201222_161801.mp4',\n",
       " '20201224_131222.mp4',\n",
       " '20201224_134241.mp4',\n",
       " '20201224_141620.mp4']"
      ]
     },
     "execution_count": 8,
     "metadata": {},
     "output_type": "execute_result"
    }
   ],
   "source": [
    "get_names(db_path)"
   ]
  },
  {
   "cell_type": "code",
   "execution_count": 11,
   "metadata": {},
   "outputs": [],
   "source": [
    "def distance(x1,y1,x2,y2):\n",
    "    return math.sqrt((x2 - x1)**2 + (y2 - y1)**2)"
   ]
  },
  {
   "cell_type": "code",
   "execution_count": 26,
   "metadata": {},
   "outputs": [
    {
     "name": "stdout",
     "output_type": "stream",
     "text": [
      "segment: 1 prev_x: 16107155 x: 16119124 prev_y: 1512845 y: 1508987 meters: 12575\n",
      "segment: 2 prev_x: 16119124 x: 16119256 prev_y: 1508987 y: 1509049 meters: 146\n",
      "segment: 3 prev_x: 16119256 x: 16119308 prev_y: 1509049 y: 1508972 meters: 93\n",
      "segment: 4 prev_x: 16119308 x: 16119363 prev_y: 1508972 y: 1508938 meters: 65\n",
      "segment: 5 prev_x: 16119363 x: 16119436 prev_y: 1508938 y: 1508933 meters: 73\n",
      "segment: 6 prev_x: 16119436 x: 16119505 prev_y: 1508933 y: 1508959 meters: 74\n",
      "segment: 7 prev_x: 16119505 x: 16119552 prev_y: 1508959 y: 1509012 meters: 71\n",
      "segment: 8 prev_x: 16119552 x: 16119664 prev_y: 1509012 y: 1509220 meters: 236\n",
      "segment: 9 prev_x: 16119664 x: 16119658 prev_y: 1509220 y: 1509253 meters: 33\n",
      "segment: 10 prev_x: 16119658 x: 16119616 prev_y: 1509253 y: 1509291 meters: 57\n",
      "segment: 11 prev_x: 16119616 x: 16119584 prev_y: 1509291 y: 1509305 meters: 35\n",
      "segment: 12 prev_x: 16119584 x: 16119561 prev_y: 1509305 y: 1509281 meters: 33\n",
      "segment: 13 prev_x: 16119561 x: 16119597 prev_y: 1509281 y: 1509217 meters: 74\n",
      "segment: 14 prev_x: 16119597 x: 16119664 prev_y: 1509217 y: 1509227 meters: 68\n",
      "segment: 15 prev_x: 16119664 x: 16119809 prev_y: 1509227 y: 1509481 meters: 293\n",
      "segment: 16 prev_x: 16119809 x: 16119752 prev_y: 1509481 y: 1509458 meters: 62\n",
      "segment: 17 prev_x: 16119752 x: 16119692 prev_y: 1509458 y: 1509411 meters: 77\n",
      "segment: 18 prev_x: 16119692 x: 16119634 prev_y: 1509411 y: 1509203 meters: 216\n",
      "segment: 19 prev_x: 16119634 x: 16119516 prev_y: 1509203 y: 1508987 meters: 246\n",
      "segment: 20 prev_x: 16119516 x: 16119448 prev_y: 1508987 y: 1508945 meters: 80\n",
      "segment: 21 prev_x: 16119448 x: 16119329 prev_y: 1508945 y: 1508957 meters: 120\n",
      "segment: 22 prev_x: 16119329 x: 16119242 prev_y: 1508957 y: 1509048 meters: 127\n",
      "segment: 23 prev_x: 16119242 x: 16119054 prev_y: 1509048 y: 1509446 meters: 440\n",
      "segment: 24 prev_x: 16119054 x: 16118958 prev_y: 1509446 y: 1509688 meters: 260\n",
      "segment: 25 prev_x: 16118958 x: 16118940 prev_y: 1509688 y: 1509750 meters: 65\n",
      "segment: 26 prev_x: 16118940 x: 16118938 prev_y: 1509750 y: 1509991 meters: 241\n",
      "segment: 27 prev_x: 16118938 x: 16118921 prev_y: 1509991 y: 1510008 meters: 24\n",
      "segment: 28 prev_x: 16118921 x: 16118804 prev_y: 1510008 y: 1509938 meters: 136\n",
      "segment: 29 prev_x: 16118804 x: 16118669 prev_y: 1509938 y: 1509895 meters: 142\n",
      "segment: 30 prev_x: 16118669 x: 16117375 prev_y: 1509895 y: 1509633 meters: 1320\n",
      "segment: 31 prev_x: 16117375 x: 16117307 prev_y: 1509633 y: 1509600 meters: 76\n",
      "segment: 32 prev_x: 16117307 x: 16117092 prev_y: 1509600 y: 1509443 meters: 266\n",
      "segment: 33 prev_x: 16117092 x: 16116834 prev_y: 1509443 y: 1509384 meters: 265\n",
      "segment: 34 prev_x: 16116834 x: 16116639 prev_y: 1509384 y: 1509506 meters: 231\n",
      "segment: 35 prev_x: 16116639 x: 16116585 prev_y: 1509506 y: 1509569 meters: 83\n",
      "segment: 36 prev_x: 16116585 x: 16116475 prev_y: 1509569 y: 1510074 meters: 517\n",
      "segment: 37 prev_x: 16116475 x: 16116429 prev_y: 1510074 y: 1510164 meters: 101\n",
      "segment: 38 prev_x: 16116429 x: 16116368 prev_y: 1510164 y: 1510222 meters: 84\n",
      "segment: 39 prev_x: 16116368 x: 16116257 prev_y: 1510222 y: 1510298 meters: 135\n",
      "segment: 40 prev_x: 16116257 x: 16116149 prev_y: 1510298 y: 1510338 meters: 115\n",
      "segment: 41 prev_x: 16116149 x: 16115542 prev_y: 1510338 y: 1510426 meters: 614\n",
      "segment: 42 prev_x: 16115542 x: 16114971 prev_y: 1510426 y: 1510822 meters: 695\n",
      "segment: 43 prev_x: 16114971 x: 16114741 prev_y: 1510822 y: 1510957 meters: 267\n",
      "segment: 44 prev_x: 16114741 x: 16114648 prev_y: 1510957 y: 1511041 meters: 125\n",
      "segment: 45 prev_x: 16114648 x: 16114460 prev_y: 1511041 y: 1511301 meters: 321\n",
      "segment: 46 prev_x: 16114460 x: 16114423 prev_y: 1511301 y: 1511417 meters: 122\n",
      "segment: 47 prev_x: 16114423 x: 16114448 prev_y: 1511417 y: 1511522 meters: 107\n",
      "segment: 48 prev_x: 16114448 x: 16114696 prev_y: 1511522 y: 1511817 meters: 385\n",
      "segment: 49 prev_x: 16114696 x: 16114715 prev_y: 1511817 y: 1511893 meters: 79\n",
      "segment: 50 prev_x: 16114715 x: 16114705 prev_y: 1511893 y: 1511968 meters: 76\n",
      "segment: 51 prev_x: 16114705 x: 16114503 prev_y: 1511968 y: 1512296 meters: 385\n",
      "segment: 52 prev_x: 16114503 x: 16114358 prev_y: 1512296 y: 1512605 meters: 341\n",
      "segment: 53 prev_x: 16114358 x: 16114203 prev_y: 1512605 y: 1512866 meters: 304\n",
      "segment: 54 prev_x: 16114203 x: 16114133 prev_y: 1512866 y: 1512945 meters: 105\n",
      "segment: 55 prev_x: 16114133 x: 16113988 prev_y: 1512945 y: 1513064 meters: 188\n",
      "segment: 56 prev_x: 16113988 x: 16113955 prev_y: 1513064 y: 1513127 meters: 71\n",
      "segment: 57 prev_x: 16113955 x: 16113990 prev_y: 1513127 y: 1514312 meters: 1186\n",
      "segment: 58 prev_x: 16113990 x: 16113978 prev_y: 1514312 y: 1514377 meters: 66\n",
      "segment: 59 prev_x: 16113978 x: 16113916 prev_y: 1514377 y: 1514425 meters: 78\n",
      "segment: 60 prev_x: 16113916 x: 16113921 prev_y: 1514425 y: 1514658 meters: 233\n",
      "segment: 61 prev_x: 16113921 x: 16113899 prev_y: 1514658 y: 1514679 meters: 31\n",
      "segment: 62 prev_x: 16113899 x: 16113809 prev_y: 1514679 y: 1514669 meters: 91\n",
      "segment: 63 prev_x: 16113809 x: 16113678 prev_y: 1514669 y: 1514429 meters: 273\n",
      "segment: 64 prev_x: 16113678 x: 16113558 prev_y: 1514429 y: 1514309 meters: 170\n",
      "segment: 65 prev_x: 16113558 x: 16112532 prev_y: 1514309 y: 1514341 meters: 1027\n",
      "segment: 66 prev_x: 16112532 x: 16111700 prev_y: 1514341 y: 1514409 meters: 834\n",
      "segment: 67 prev_x: 16111700 x: 16110809 prev_y: 1514409 y: 1514419 meters: 891\n",
      "segment: 68 prev_x: 16110809 x: 16110716 prev_y: 1514419 y: 1514406 meters: 94\n",
      "segment: 69 prev_x: 16110716 x: 16110581 prev_y: 1514406 y: 1514332 meters: 153\n",
      "segment: 70 prev_x: 16110581 x: 16110455 prev_y: 1514332 y: 1514204 meters: 181\n",
      "segment: 71 prev_x: 16110455 x: 16110183 prev_y: 1514204 y: 1514021 meters: 327\n",
      "segment: 72 prev_x: 16110183 x: 16109888 prev_y: 1514021 y: 1513864 meters: 334\n",
      "segment: 73 prev_x: 16109888 x: 16109763 prev_y: 1513864 y: 1513825 meters: 132\n",
      "segment: 74 prev_x: 16109763 x: 16109461 prev_y: 1513825 y: 1513818 meters: 301\n",
      "segment: 75 prev_x: 16109461 x: 16108674 prev_y: 1513818 y: 1513622 meters: 811\n",
      "segment: 76 prev_x: 16108674 x: 16108582 prev_y: 1513622 y: 1513569 meters: 107\n",
      "segment: 77 prev_x: 16108582 x: 16108388 prev_y: 1513569 y: 1513371 meters: 277\n",
      "segment: 78 prev_x: 16108388 x: 16108299 prev_y: 1513371 y: 1513309 meters: 108\n",
      "segment: 79 prev_x: 16108299 x: 16107845 prev_y: 1513309 y: 1513183 meters: 471\n",
      "segment: 80 prev_x: 16107845 x: 16107627 prev_y: 1513183 y: 1513071 meters: 245\n",
      "segment: 81 prev_x: 16107627 x: 16107348 prev_y: 1513071 y: 1512985 meters: 292\n",
      "segment: 82 prev_x: 16107348 x: 16107268 prev_y: 1512985 y: 1512941 meters: 91\n",
      "segment: 83 prev_x: 16107268 x: 16107155 prev_y: 1512941 y: 1512845 meters: 148\n"
     ]
    }
   ],
   "source": [
    "names = get_names(db_path)\n",
    "gj = get_geojson(db_path, names[0])\n",
    "coordinates = gj['coordinates']\n",
    "prev_x = coordinate[0]\n",
    "prev_y = coordinate[1]\n",
    "for i, coordinate in enumerate(coordinates[1:]):\n",
    "    segment = i + 1\n",
    "    x = coordinate[0]\n",
    "    y = coordinate[1]\n",
    "    meters = distance(prev_x, prev_y, x, y)\n",
    "    print(f'segment: {segment} prev_x: {prev_x:.0f} x: {x:.0f} prev_y: {prev_y:.0f} y: {y:.0f} meters: {meters:.0f}')\n",
    "    prev_x = x\n",
    "    prev_y = y"
   ]
  },
  {
   "cell_type": "code",
   "execution_count": null,
   "metadata": {},
   "outputs": [],
   "source": []
  }
 ],
 "metadata": {
  "kernelspec": {
   "display_name": "Python 3",
   "language": "python",
   "name": "python3"
  },
  "language_info": {
   "codemirror_mode": {
    "name": "ipython",
    "version": 3
   },
   "file_extension": ".py",
   "mimetype": "text/x-python",
   "name": "python",
   "nbconvert_exporter": "python",
   "pygments_lexer": "ipython3",
   "version": "3.6.9"
  }
 },
 "nbformat": 4,
 "nbformat_minor": 4
}
