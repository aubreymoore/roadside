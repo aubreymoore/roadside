{
 "cells": [
  {
   "cell_type": "markdown",
   "id": "rural-velvet",
   "metadata": {
    "papermill": {
     "duration": 0.024581,
     "end_time": "2021-01-23T18:52:49.438258",
     "exception": false,
     "start_time": "2021-01-23T18:52:49.413677",
     "status": "completed"
    },
    "tags": []
   },
   "source": [
    "# georef.ipynb\n",
    "\n",
    "This Jupyter notebook replaces **georef.py**.\n",
    "\n",
    "```\n",
    "papermill weather_forecast_using_pyowm.ipynb \\\n",
    "          weather_forecast_using_pyowm_output.ipynb \\\n",
    "          -p city 'Sao Paulo,BR' \\\n",
    "          -k papermill-tutorial\n",
    "```\n",
    "\n",
    "### Modifications by Aubrey Moore\n",
    "* 2021-01-02 frame_number now zero based\n",
    "* 2021-01-03 Now works on a single video file\n",
    "* 2021-01-23 Added section \"Delete all records for video_id in the frames table\"\n",
    "* 2021-01-23 Added section \"Slice dfgps so that is contains data between start_time and stop_time\""
   ]
  },
  {
   "cell_type": "code",
   "execution_count": 1,
   "id": "polyphonic-least",
   "metadata": {
    "execution": {
     "iopub.execute_input": "2021-01-23T18:52:49.467630Z",
     "iopub.status.busy": "2021-01-23T18:52:49.467304Z",
     "iopub.status.idle": "2021-01-23T18:52:49.939868Z",
     "shell.execute_reply": "2021-01-23T18:52:49.939455Z"
    },
    "papermill": {
     "duration": 0.487865,
     "end_time": "2021-01-23T18:52:49.939950",
     "exception": false,
     "start_time": "2021-01-23T18:52:49.452085",
     "status": "completed"
    },
    "tags": []
   },
   "outputs": [],
   "source": [
    "import glob\n",
    "import logging\n",
    "import spatialite\n",
    "import os\n",
    "from datetime import datetime, timedelta\n",
    "import pandas as pd\n",
    "import cv2\n",
    "import plac\n",
    "import re\n",
    "import papermill"
   ]
  },
  {
   "cell_type": "code",
   "execution_count": 2,
   "id": "stock-programmer",
   "metadata": {
    "execution": {
     "iopub.execute_input": "2021-01-23T18:52:49.949160Z",
     "iopub.status.busy": "2021-01-23T18:52:49.948845Z",
     "iopub.status.idle": "2021-01-23T18:52:49.950830Z",
     "shell.execute_reply": "2021-01-23T18:52:49.950510Z"
    },
    "papermill": {
     "duration": 0.007414,
     "end_time": "2021-01-23T18:52:49.950898",
     "exception": false,
     "start_time": "2021-01-23T18:52:49.943484",
     "status": "completed"
    },
    "tags": [
     "parameters"
    ]
   },
   "outputs": [],
   "source": [
    "video_path = '/home/aubreytensor1/Guam02/rawdata/20201211_134207.mp4'\n",
    "db_path = '/home/aubreytensor1/Guam02/map/Guam02.db' # for testing"
   ]
  },
  {
   "cell_type": "code",
   "execution_count": 3,
   "id": "played-provincial",
   "metadata": {
    "execution": {
     "iopub.execute_input": "2021-01-23T18:52:49.961036Z",
     "iopub.status.busy": "2021-01-23T18:52:49.960700Z",
     "iopub.status.idle": "2021-01-23T18:52:49.962508Z",
     "shell.execute_reply": "2021-01-23T18:52:49.962179Z"
    },
    "papermill": {
     "duration": 0.008451,
     "end_time": "2021-01-23T18:52:49.962576",
     "exception": false,
     "start_time": "2021-01-23T18:52:49.954125",
     "status": "completed"
    },
    "tags": []
   },
   "outputs": [],
   "source": [
    "def get_video_start_stop(video_path, cursor):\n",
    "    \"\"\"\n",
    "    Get the video start and stop times from the exif field in the videos database table\n",
    "    \"\"\"\n",
    "    filename = os.path.basename(video_path)\n",
    "    sql = '''\n",
    "        SELECT\n",
    "            JSON_EXTRACT(exif, \"$.QuickTime:CreateDate\") AS start_time_utc,\n",
    "            JSON_EXTRACT(exif, \"$.QuickTime:Duration\") AS duration\n",
    "        FROM videos\n",
    "        WHERE name = (?);\n",
    "        '''\n",
    "    cursor.execute(sql, [filename])\n",
    "    createDate, duration = cursor.fetchone()\n",
    "    createDate = datetime.strptime(createDate, '%Y:%m:%d %H:%M:%S')\n",
    "    start = createDate - timedelta(seconds=duration)\n",
    "    stop = createDate\n",
    "    logging.info(f'        {start}   {stop} UTC')\n",
    "    return start, stop"
   ]
  },
  {
   "cell_type": "code",
   "execution_count": 4,
   "id": "difficult-hopkins",
   "metadata": {
    "execution": {
     "iopub.execute_input": "2021-01-23T18:52:49.973481Z",
     "iopub.status.busy": "2021-01-23T18:52:49.973139Z",
     "iopub.status.idle": "2021-01-23T18:52:49.975243Z",
     "shell.execute_reply": "2021-01-23T18:52:49.974972Z"
    },
    "papermill": {
     "duration": 0.009577,
     "end_time": "2021-01-23T18:52:49.975317",
     "exception": false,
     "start_time": "2021-01-23T18:52:49.965740",
     "status": "completed"
    },
    "tags": []
   },
   "outputs": [],
   "source": [
    "def get_lat_lon(timestamp, dfgps):\n",
    "    timestamp = pd.to_datetime(timestamp)\n",
    "    df = dfgps[dfgps.time==timestamp]\n",
    "    if not df.empty:\n",
    "        # There is a record for exact timestamp (unlikely); return lat lon.\n",
    "        return dfgps.lat.values[0], dfgps.lon.values[0]\n",
    "    else:\n",
    "        # Estimate lat lon using linear interpolation records just prior and post timestamp\n",
    "        df1 = dfgps[dfgps.time<timestamp].tail(1)\n",
    "        df2 = dfgps[dfgps.time>timestamp].head(1)\n",
    "        t1 = df1.time.values[0]\n",
    "        t2 = df2.time.values[0]\n",
    "        lat1 = df1.lat.values[0]\n",
    "        lat2 = df2.lat.values[0]\n",
    "        lon1 = df1.lon.values[0]\n",
    "        lon2 = df2.lon.values[0]\n",
    "        fraction = (timestamp-t1)/(t2-t1)\n",
    "        lat = lat1 + fraction*(lat2-lat1)\n",
    "        lon = lon1 + fraction*(lon2-lon1)\n",
    "        return lat, lon"
   ]
  },
  {
   "cell_type": "code",
   "execution_count": 5,
   "id": "known-contents",
   "metadata": {
    "execution": {
     "iopub.execute_input": "2021-01-23T18:52:49.988808Z",
     "iopub.status.busy": "2021-01-23T18:52:49.988456Z",
     "iopub.status.idle": "2021-01-23T18:52:49.992226Z",
     "shell.execute_reply": "2021-01-23T18:52:49.991893Z"
    },
    "papermill": {
     "duration": 0.013633,
     "end_time": "2021-01-23T18:52:49.992298",
     "exception": false,
     "start_time": "2021-01-23T18:52:49.978665",
     "status": "completed"
    },
    "tags": []
   },
   "outputs": [],
   "source": [
    "def main(video_path, db_path):\n",
    "    \"\"\"\n",
    "    Populates the frames field in the survey database.\n",
    "    Columns are: frame_number, timestamp (UTC), lat, lon\n",
    "    \"\"\"\n",
    "    FRAME_INTERVAL = 1000 # Sets frequency for logging\n",
    "\n",
    "    logging.basicConfig(\n",
    "        level=logging.INFO,\n",
    "        format=\"%(asctime)s [%(levelname)s] %(funcName)s %(message)s\",\n",
    "        datefmt=\"%Y-%m-%dT%H:%M:%S%z\",\n",
    "        handlers=[logging.StreamHandler()])\n",
    "    logging.info('Starting georef.py')\n",
    "\n",
    "    # Connect database\n",
    "    conn = spatialite.connect(db_path)\n",
    "    cursor = conn.cursor()\n",
    "\n",
    "    # Find the GPS log file\n",
    "    gpslogpath = re.sub(r'_\\d{6}.mp4', '.csv', video_path, 0, re.MULTILINE)\n",
    "    logging.info(f'gpslogpath = {gpslogpath}')\n",
    "\n",
    "    # Load the gps log file csv into a dataframe\n",
    "    logging.info(f'Reading GPS log from {gpslogpath}')\n",
    "    dfgps = pd.read_csv(gpslogpath, parse_dates=['time'])\n",
    "    dfgps['time'] = dfgps['time'].dt.tz_localize(None)\n",
    "\n",
    "    # Slice dfgps so that is contains data between start_time-10s and stop_time+10s\n",
    "    start_time, stop_time = get_video_start_stop(video_path, cursor)\n",
    "    pd.set_option('display.max_columns', None)\n",
    "    logging.info(f'dfgps prior to slicing: {dfgps.time.iloc[0]}   {dfgps.time.iloc[-1]} UTC')\n",
    "    dfgps = dfgps[ dfgps.time.between(start_time-timedelta(0,10), stop_time+timedelta(0,10)) ]\n",
    "    logging.info(f'dfgps after slicing:    {dfgps.time.iloc[0]}   {dfgps.time.iloc[-1]} UTC')\n",
    "\n",
    "#     dfgps.to_pickle(f'map/{os.path.basename(video_path)}.pikl')\n",
    "#     logging.info(f'dfgps pickled')\n",
    "\n",
    "    gpslog_start_time = dfgps.time.min().to_pydatetime()\n",
    "    gpslog_stop_time = dfgps.time.max().to_pydatetime()\n",
    "    logging.info(f'dfgps after slicing:    {gpslog_start_time}   {gpslog_stop_time} UTC')\n",
    "\n",
    "    # Get the video_id from the videos table\n",
    "    video = os.path.basename(video_path)\n",
    "    sql = (f'SELECT id FROM videos WHERE name = \"{video}\"')\n",
    "    cursor.execute(sql)\n",
    "    video_id = cursor.fetchone()[0]\n",
    "\n",
    "    # Delete all records for video_id in the frames table\n",
    "    sql = (f'DELETE FROM frames WHERE video_id=\"{video_id}\";')\n",
    "    cursor.execute(sql)\n",
    "    conn.commit()\n",
    "\n",
    "    # populate frames table with records for the current video\n",
    "    if (start_time > gpslog_start_time) and (stop_time < gpslog_stop_time):\n",
    "        logging.info(f'Started processing {video_path}')\n",
    "        logging.info('Building timestamp-location table.')\n",
    "\n",
    "        cap = cv2.VideoCapture(video_path)\n",
    "        while True:\n",
    "            pos_msec = cap.get(cv2.CAP_PROP_POS_MSEC)\n",
    "            frame_number = cap.get(cv2.CAP_PROP_POS_FRAMES)\n",
    "            timestamp = start_time + timedelta(milliseconds=pos_msec)\n",
    "            lat, lon = get_lat_lon(timestamp, dfgps)\n",
    "            geometry = f'TRANSFORM(GeomFromText(\"POINT({lon} {lat})\", 4326), 3857)'\n",
    "            sql = f'INSERT INTO frames(video_id,frame_number,time,geometry) VALUES({video_id},{frame_number},\"{timestamp}\",{geometry});'\n",
    "            logging.debug(sql)\n",
    "            cursor.execute(sql)\n",
    "            conn.commit()\n",
    "            if (frame_number % FRAME_INTERVAL == 0):\n",
    "                logging.info(f'{frame_number} {timestamp} {lat:7.4f} {lon:8.4f}')\n",
    "            frame_exists, _ = cap.read()\n",
    "            if not frame_exists:\n",
    "                break\n",
    "        cap.release()\n",
    "    else:\n",
    "        logging.error(f'Cannot process {video_path} - gps log data not available')\n",
    "\n",
    "    # Disconnect database\n",
    "    cursor.close()\n",
    "    conn.close()\n",
    "\n",
    "    logging.info(f'FINISHED {video_path}')"
   ]
  },
  {
   "cell_type": "code",
   "execution_count": 6,
   "id": "changing-rally",
   "metadata": {
    "execution": {
     "iopub.execute_input": "2021-01-23T18:52:50.001283Z",
     "iopub.status.busy": "2021-01-23T18:52:50.000953Z",
     "iopub.status.idle": "2021-01-23T18:59:09.541137Z",
     "shell.execute_reply": "2021-01-23T18:59:09.540589Z"
    },
    "papermill": {
     "duration": 379.545561,
     "end_time": "2021-01-23T18:59:09.541257",
     "exception": false,
     "start_time": "2021-01-23T18:52:49.995696",
     "status": "completed"
    },
    "tags": []
   },
   "outputs": [
    {
     "name": "stderr",
     "output_type": "stream",
     "text": [
      "2021-01-24T04:52:50+1000 [INFO] main Starting georef.py\n"
     ]
    },
    {
     "name": "stderr",
     "output_type": "stream",
     "text": [
      "2021-01-24T04:52:50+1000 [INFO] main gpslogpath = /home/aubreytensor1/Guam02/rawdata/20201211.csv\n"
     ]
    },
    {
     "name": "stderr",
     "output_type": "stream",
     "text": [
      "2021-01-24T04:52:50+1000 [INFO] main Reading GPS log from /home/aubreytensor1/Guam02/rawdata/20201211.csv\n"
     ]
    },
    {
     "name": "stderr",
     "output_type": "stream",
     "text": [
      "2021-01-24T04:52:50+1000 [INFO] get_video_start_stop         2020-12-11 03:45:27.897000   2020-12-11 04:19:07 UTC\n"
     ]
    },
    {
     "name": "stderr",
     "output_type": "stream",
     "text": [
      "2021-01-24T04:52:50+1000 [INFO] main dfgps prior to slicing: 2020-12-11 03:11:40.467000   2020-12-11 09:13:22 UTC\n"
     ]
    },
    {
     "name": "stderr",
     "output_type": "stream",
     "text": [
      "2021-01-24T04:52:50+1000 [INFO] main dfgps after slicing:    2020-12-11 03:45:17.999000   2020-12-11 04:19:17 UTC\n"
     ]
    },
    {
     "name": "stderr",
     "output_type": "stream",
     "text": [
      "2021-01-24T04:52:50+1000 [INFO] main dfgps after slicing:    2020-12-11 03:45:17.999000   2020-12-11 04:19:17 UTC\n"
     ]
    },
    {
     "name": "stderr",
     "output_type": "stream",
     "text": [
      "2021-01-24T04:52:50+1000 [INFO] main Started processing /home/aubreytensor1/Guam02/rawdata/20201211_134207.mp4\n"
     ]
    },
    {
     "name": "stderr",
     "output_type": "stream",
     "text": [
      "2021-01-24T04:52:50+1000 [INFO] main Building timestamp-location table.\n"
     ]
    },
    {
     "name": "stderr",
     "output_type": "stream",
     "text": [
      "2021-01-24T04:52:50+1000 [INFO] main 0.0 2020-12-11 03:45:27.897000 13.4645 144.6930\n"
     ]
    },
    {
     "name": "stderr",
     "output_type": "stream",
     "text": [
      "2021-01-24T04:53:03+1000 [INFO] main 1000.0 2020-12-11 03:46:34.509890 13.4565 144.6884\n"
     ]
    },
    {
     "name": "stderr",
     "output_type": "stream",
     "text": [
      "2021-01-24T04:53:13+1000 [INFO] main 2000.0 2020-12-11 03:47:41.122779 13.4473 144.6843\n"
     ]
    },
    {
     "name": "stderr",
     "output_type": "stream",
     "text": [
      "2021-01-24T04:53:23+1000 [INFO] main 3000.0 2020-12-11 03:48:47.735669 13.4394 144.6803\n"
     ]
    },
    {
     "name": "stderr",
     "output_type": "stream",
     "text": [
      "2021-01-24T04:53:32+1000 [INFO] main 4000.0 2020-12-11 03:49:54.348559 13.4359 144.6786\n"
     ]
    },
    {
     "name": "stderr",
     "output_type": "stream",
     "text": [
      "2021-01-24T04:53:42+1000 [INFO] main 5000.0 2020-12-11 03:51:00.961449 13.4259 144.6785\n"
     ]
    },
    {
     "name": "stderr",
     "output_type": "stream",
     "text": [
      "2021-01-24T04:53:51+1000 [INFO] main 6000.0 2020-12-11 03:52:07.574338 13.4208 144.6761\n"
     ]
    },
    {
     "name": "stderr",
     "output_type": "stream",
     "text": [
      "2021-01-24T04:54:01+1000 [INFO] main 7000.0 2020-12-11 03:53:14.187228 13.4137 144.6765\n"
     ]
    },
    {
     "name": "stderr",
     "output_type": "stream",
     "text": [
      "2021-01-24T04:54:11+1000 [INFO] main 8000.0 2020-12-11 03:54:20.800118 13.4070 144.6707\n"
     ]
    },
    {
     "name": "stderr",
     "output_type": "stream",
     "text": [
      "2021-01-24T04:54:21+1000 [INFO] main 9000.0 2020-12-11 03:55:27.413007 13.4012 144.6643\n"
     ]
    },
    {
     "name": "stderr",
     "output_type": "stream",
     "text": [
      "2021-01-24T04:54:30+1000 [INFO] main 10000.0 2020-12-11 03:56:34.025897 13.3946 144.6619\n"
     ]
    },
    {
     "name": "stderr",
     "output_type": "stream",
     "text": [
      "2021-01-24T04:54:40+1000 [INFO] main 11000.0 2020-12-11 03:57:40.638787 13.3869 144.6590\n"
     ]
    },
    {
     "name": "stderr",
     "output_type": "stream",
     "text": [
      "2021-01-24T04:54:49+1000 [INFO] main 12000.0 2020-12-11 03:58:47.251677 13.3805 144.6535\n"
     ]
    },
    {
     "name": "stderr",
     "output_type": "stream",
     "text": [
      "2021-01-24T04:54:59+1000 [INFO] main 13000.0 2020-12-11 03:59:53.864566 13.3715 144.6522\n"
     ]
    },
    {
     "name": "stderr",
     "output_type": "stream",
     "text": [
      "2021-01-24T04:55:09+1000 [INFO] main 14000.0 2020-12-11 04:01:00.477456 13.3629 144.6499\n"
     ]
    },
    {
     "name": "stderr",
     "output_type": "stream",
     "text": [
      "2021-01-24T04:55:18+1000 [INFO] main 15000.0 2020-12-11 04:02:07.090346 13.3560 144.6517\n"
     ]
    },
    {
     "name": "stderr",
     "output_type": "stream",
     "text": [
      "2021-01-24T04:55:28+1000 [INFO] main 16000.0 2020-12-11 04:03:13.703235 13.3488 144.6532\n"
     ]
    },
    {
     "name": "stderr",
     "output_type": "stream",
     "text": [
      "2021-01-24T04:55:38+1000 [INFO] main 17000.0 2020-12-11 04:04:20.316125 13.3420 144.6575\n"
     ]
    },
    {
     "name": "stderr",
     "output_type": "stream",
     "text": [
      "2021-01-24T04:55:47+1000 [INFO] main 18000.0 2020-12-11 04:05:26.929015 13.3334 144.6609\n"
     ]
    },
    {
     "name": "stderr",
     "output_type": "stream",
     "text": [
      "2021-01-24T04:56:01+1000 [INFO] main 19000.0 2020-12-11 04:06:33.541904 13.3265 144.6652\n"
     ]
    },
    {
     "name": "stderr",
     "output_type": "stream",
     "text": [
      "2021-01-24T04:56:16+1000 [INFO] main 20000.0 2020-12-11 04:07:40.154794 13.3233 144.6723\n"
     ]
    },
    {
     "name": "stderr",
     "output_type": "stream",
     "text": [
      "2021-01-24T04:56:32+1000 [INFO] main 21000.0 2020-12-11 04:08:46.767684 13.3131 144.6733\n"
     ]
    },
    {
     "name": "stderr",
     "output_type": "stream",
     "text": [
      "2021-01-24T04:56:48+1000 [INFO] main 22000.0 2020-12-11 04:09:53.380574 13.3056 144.6740\n"
     ]
    },
    {
     "name": "stderr",
     "output_type": "stream",
     "text": [
      "2021-01-24T04:57:03+1000 [INFO] main 23000.0 2020-12-11 04:10:59.993463 13.3028 144.6651\n"
     ]
    },
    {
     "name": "stderr",
     "output_type": "stream",
     "text": [
      "2021-01-24T04:57:18+1000 [INFO] main 24000.0 2020-12-11 04:12:06.606353 13.3002 144.6589\n"
     ]
    },
    {
     "name": "stderr",
     "output_type": "stream",
     "text": [
      "2021-01-24T04:57:35+1000 [INFO] main 25000.0 2020-12-11 04:13:13.219243 13.2991 144.6629\n"
     ]
    },
    {
     "name": "stderr",
     "output_type": "stream",
     "text": [
      "2021-01-24T04:57:52+1000 [INFO] main 26000.0 2020-12-11 04:14:19.832132 13.2955 144.6631\n"
     ]
    },
    {
     "name": "stderr",
     "output_type": "stream",
     "text": [
      "2021-01-24T04:58:10+1000 [INFO] main 27000.0 2020-12-11 04:15:26.445022 13.2887 144.6602\n"
     ]
    },
    {
     "name": "stderr",
     "output_type": "stream",
     "text": [
      "2021-01-24T04:58:28+1000 [INFO] main 28000.0 2020-12-11 04:16:33.057912 13.2828 144.6623\n"
     ]
    },
    {
     "name": "stderr",
     "output_type": "stream",
     "text": [
      "2021-01-24T04:58:46+1000 [INFO] main 29000.0 2020-12-11 04:17:39.670802 13.2760 144.6645\n"
     ]
    },
    {
     "name": "stderr",
     "output_type": "stream",
     "text": [
      "2021-01-24T04:59:04+1000 [INFO] main 30000.0 2020-12-11 04:18:46.283691 13.2697 144.6638\n"
     ]
    },
    {
     "name": "stderr",
     "output_type": "stream",
     "text": [
      "2021-01-24T04:59:09+1000 [INFO] main FINISHED /home/aubreytensor1/Guam02/rawdata/20201211_134207.mp4\n"
     ]
    }
   ],
   "source": [
    "main(video_path, db_path)"
   ]
  },
  {
   "cell_type": "raw",
   "id": "great-service",
   "metadata": {
    "papermill": {
     "duration": 0.011748,
     "end_time": "2021-01-23T18:59:09.568810",
     "exception": false,
     "start_time": "2021-01-23T18:59:09.557062",
     "status": "completed"
    },
    "tags": []
   },
   "source": [
    "if __name__ == '__main__':\n",
    "    import plac\n",
    "    plac.call(main)"
   ]
  }
 ],
 "metadata": {
  "kernelspec": {
   "display_name": "Python 3",
   "language": "python",
   "name": "python3"
  },
  "language_info": {
   "codemirror_mode": {
    "name": "ipython",
    "version": 3
   },
   "file_extension": ".py",
   "mimetype": "text/x-python",
   "name": "python",
   "nbconvert_exporter": "python",
   "pygments_lexer": "ipython3",
   "version": "3.6.9"
  },
  "papermill": {
   "default_parameters": {},
   "duration": 382.206242,
   "end_time": "2021-01-23T18:59:10.814636",
   "environment_variables": {},
   "exception": null,
   "input_path": "georef.ipynb",
   "output_path": "output.ipynb",
   "parameters": {},
   "start_time": "2021-01-23T18:52:48.608394",
   "version": "2.3.1"
  }
 },
 "nbformat": 4,
 "nbformat_minor": 5
}