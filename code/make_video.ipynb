{
 "cells": [
  {
   "cell_type": "code",
   "execution_count": 6,
   "id": "functional-application",
   "metadata": {},
   "outputs": [],
   "source": [
    "import cv2\n",
    "import glob"
   ]
  },
  {
   "cell_type": "code",
   "execution_count": 7,
   "id": "bulgarian-administration",
   "metadata": {
    "tags": [
     "parameters"
    ]
   },
   "outputs": [],
   "source": [
    "# Parameters for papermill\n",
    "\n",
    "image_path = '*.jpg'\n",
    "video_path = '20210430.mp4'"
   ]
  },
  {
   "cell_type": "code",
   "execution_count": 8,
   "id": "colored-courtesy",
   "metadata": {},
   "outputs": [],
   "source": [
    "# Get a sorted list of image files\n",
    "\n",
    "image_files = sorted(glob.glob(image_path))\n",
    "\n",
    "# Get size of first image in list. It is assumed that all images are the same size.\n",
    "\n",
    "frame = cv2.imread(image_files[0])\n",
    "height, width, channels = frame.shape\n",
    "\n",
    "# Define the codec and create VideoWriter object\n",
    "\n",
    "fourcc = cv2.VideoWriter_fourcc(*'mp4v') # Be sure to use lower case\n",
    "out = cv2.VideoWriter(video_path, fourcc, 1, (width, height))\n",
    "\n",
    "# Create video\n",
    "\n",
    "for image_file in image_files:\n",
    "    frame = cv2.imread(image_file)\n",
    "    out.write(frame)\n",
    "out.release()"
   ]
  }
 ],
 "metadata": {
  "kernelspec": {
   "display_name": "Python 3",
   "language": "python",
   "name": "python3"
  },
  "language_info": {
   "codemirror_mode": {
    "name": "ipython",
    "version": 3
   },
   "file_extension": ".py",
   "mimetype": "text/x-python",
   "name": "python",
   "nbconvert_exporter": "python",
   "pygments_lexer": "ipython3",
   "version": "3.6.9"
  }
 },
 "nbformat": 4,
 "nbformat_minor": 5
}
