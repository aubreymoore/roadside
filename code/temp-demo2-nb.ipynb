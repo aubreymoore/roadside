{
 "cells": [
  {
   "cell_type": "code",
   "execution_count": 1,
   "id": "respiratory-routine",
   "metadata": {
    "execution": {
     "iopub.execute_input": "2021-05-02T01:19:45.890436Z",
     "iopub.status.busy": "2021-05-02T01:19:45.890039Z",
     "iopub.status.idle": "2021-05-02T01:19:48.370880Z",
     "shell.execute_reply": "2021-05-02T01:19:48.370547Z"
    },
    "papermill": {
     "duration": 2.518191,
     "end_time": "2021-05-02T01:19:48.370964",
     "exception": false,
     "start_time": "2021-05-02T01:19:45.852773",
     "status": "completed"
    },
    "tags": []
   },
   "outputs": [
    {
     "name": "stdout",
     "output_type": "stream",
     "text": [
      "WARNING:tensorflow:From /usr/lib/python3/dist-packages/tensorflow_core/python/compat/v2_compat.py:68: disable_resource_variables (from tensorflow.python.ops.variable_scope) is deprecated and will be removed in a future version.\n",
      "Instructions for updating:\n",
      "non-resource variables are not supported in the long term\n"
     ]
    },
    {
     "name": "stderr",
     "output_type": "stream",
     "text": [
      "Using TensorFlow backend.\n"
     ]
    }
   ],
   "source": [
    "import os\n",
    "\n",
    "# Set environment variables\n",
    "os.environ['CUDA_VISIBLE_DEVICES'] = '0'\n",
    "\n",
    "# import tensorflow as tf\n",
    "# uncomment following lines if you are using TF2\n",
    "import tensorflow.compat.v1 as tf\n",
    "tf.disable_v2_behavior()\n",
    "\n",
    "import numpy as np\n",
    "import json\n",
    "import ast\n",
    "import cv2\n",
    "import argparse\n",
    "from PIL import Image\n",
    "import math\n",
    "import sys\n",
    "sys.path.append('./Mask_RCNN')\n",
    "from mrcnn.config import Config\n",
    "import mrcnn.model as modellib\n",
    "import skimage.io\n",
    "from collections import OrderedDict\n",
    "from skimage.measure import find_contours, approximate_polygon\n",
    "from xml_dumper import dump_as_cvat_annotation\n",
    "import glob"
   ]
  },
  {
   "cell_type": "code",
   "execution_count": 2,
   "id": "crude-circular",
   "metadata": {
    "execution": {
     "iopub.execute_input": "2021-05-02T01:19:48.385048Z",
     "iopub.status.busy": "2021-05-02T01:19:48.384610Z",
     "iopub.status.idle": "2021-05-02T01:19:48.387170Z",
     "shell.execute_reply": "2021-05-02T01:19:48.386911Z"
    },
    "papermill": {
     "duration": 0.012025,
     "end_time": "2021-05-02T01:19:48.387240",
     "exception": false,
     "start_time": "2021-05-02T01:19:48.375215",
     "status": "completed"
    },
    "tags": []
   },
   "outputs": [
    {
     "data": {
      "text/plain": [
       "'1.15.4'"
      ]
     },
     "execution_count": 2,
     "metadata": {},
     "output_type": "execute_result"
    }
   ],
   "source": [
    "tf.__version__"
   ]
  },
  {
   "cell_type": "code",
   "execution_count": 3,
   "id": "satellite-belle",
   "metadata": {
    "execution": {
     "iopub.execute_input": "2021-05-02T01:19:48.397908Z",
     "iopub.status.busy": "2021-05-02T01:19:48.397589Z",
     "iopub.status.idle": "2021-05-02T01:19:48.400847Z",
     "shell.execute_reply": "2021-05-02T01:19:48.400529Z"
    },
    "papermill": {
     "duration": 0.010043,
     "end_time": "2021-05-02T01:19:48.400949",
     "exception": false,
     "start_time": "2021-05-02T01:19:48.390906",
     "status": "completed"
    },
    "tags": []
   },
   "outputs": [
    {
     "name": "stdout",
     "output_type": "stream",
     "text": [
      "time: 122 µs (started: 2021-05-02 11:19:48 +10:00)\n"
     ]
    }
   ],
   "source": [
    "try:\n",
    "    %load_ext autotime\n",
    "except:\n",
    "    !pip install ipython-autotime\n",
    "    %load_ext autotime"
   ]
  },
  {
   "cell_type": "code",
   "execution_count": 4,
   "id": "charged-video",
   "metadata": {
    "execution": {
     "iopub.execute_input": "2021-05-02T01:19:48.411857Z",
     "iopub.status.busy": "2021-05-02T01:19:48.411529Z",
     "iopub.status.idle": "2021-05-02T01:19:48.413618Z",
     "shell.execute_reply": "2021-05-02T01:19:48.413303Z"
    },
    "papermill": {
     "duration": 0.008831,
     "end_time": "2021-05-02T01:19:48.413685",
     "exception": false,
     "start_time": "2021-05-02T01:19:48.404854",
     "status": "completed"
    },
    "tags": [
     "parameters"
    ]
   },
   "outputs": [
    {
     "name": "stdout",
     "output_type": "stream",
     "text": [
      "time: 588 µs (started: 2021-05-02 11:19:48 +10:00)\n"
     ]
    }
   ],
   "source": [
    "# Run from the roadside/code directory:\n",
    "\n",
    "# papermill -p IMAGE_FILE_PATH '../open-camera-test/*.jpg' -p OUTPUT_XML_PATH '../open-camera-test/detected_objects.xml' demo2-nb.ipynb temp-demo2-nb.ipynb\n",
    "\n",
    "IMAGE_FILE_PATH = '../open-camera-test/*.jpg'                  # Path to one or more image files. Can include wildcards. See https://pymotw.com/2/glob/ for pattern matching details.\n",
    "OUTPUT_XML_PATH = '../open-camera-test/detected_objects.xml'   # Path to output file which will contain metadata for detected objects.\n",
    "TYPE = 'both'                                                  # what type of models to use [both,classes,v_shape]\n",
    "#SKIP_NO = 1                                                    # int, num of frames to skip (must be >0)\n",
    "#NUM_FRAMES = None                                              # how many frames to consider?\n",
    "OD_MODEL = \"inference_data/frozen_inference_graph_5classes.pb\" # path to trained detection model\n",
    "CLASSES_CVAT = \"inference_data/5classes.csv\"                   # classes you want to use for cvat, see readme for more details.\n",
    "CLASSES_TYPE = \"od\"                                            # type of classes csv file [od, maskrcnn]\n",
    "MASK_MODEL =  \"inference_data/mask_rcnn_cvat_0160.h5\"          # path to trained maskrcnn model\n",
    "OD_THRESHOLD = 0.5                                             # threshold for IoU\n",
    "MASK_THRESHOLD = 0.5                                           # threshold for maskrcnn\n",
    "#SURVEY_TYPE = \"v_shape\"                                        # what to write in geojson [v_shape,classes]\n",
    "TASK_ID = 0                                                    # required only if you want to use this in cvat\n",
    "TASK_NAME = \"demo\"                                             # required only if you want to use this in cvat\n",
    "DUMP_SQL = False"
   ]
  },
  {
   "cell_type": "code",
   "execution_count": 5,
   "id": "elder-reservation",
   "metadata": {
    "execution": {
     "iopub.execute_input": "2021-05-02T01:19:48.424649Z",
     "iopub.status.busy": "2021-05-02T01:19:48.424323Z",
     "iopub.status.idle": "2021-05-02T01:19:48.426365Z",
     "shell.execute_reply": "2021-05-02T01:19:48.426102Z"
    },
    "papermill": {
     "duration": 0.008195,
     "end_time": "2021-05-02T01:19:48.426435",
     "exception": false,
     "start_time": "2021-05-02T01:19:48.418240",
     "status": "completed"
    },
    "tags": [
     "injected-parameters"
    ]
   },
   "outputs": [
    {
     "name": "stdout",
     "output_type": "stream",
     "text": [
      "time: 240 µs (started: 2021-05-02 11:19:48 +10:00)\n"
     ]
    }
   ],
   "source": [
    "# Parameters\n",
    "IMAGE_FILE_PATH = \"../open-camera-test/*.jpg\"\n",
    "OUTPUT_XML_PATH = \"../open-camera-test/detected_objects.xml\"\n"
   ]
  },
  {
   "cell_type": "code",
   "execution_count": 6,
   "id": "technological-fabric",
   "metadata": {
    "execution": {
     "iopub.execute_input": "2021-05-02T01:19:48.447706Z",
     "iopub.status.busy": "2021-05-02T01:19:48.447335Z",
     "iopub.status.idle": "2021-05-02T01:19:48.456288Z",
     "shell.execute_reply": "2021-05-02T01:19:48.455968Z"
    },
    "papermill": {
     "duration": 0.025582,
     "end_time": "2021-05-02T01:19:48.456357",
     "exception": false,
     "start_time": "2021-05-02T01:19:48.430775",
     "status": "completed"
    },
    "tags": []
   },
   "outputs": [
    {
     "name": "stdout",
     "output_type": "stream",
     "text": [
      "time: 6.63 ms (started: 2021-05-02 11:19:48 +10:00)\n"
     ]
    }
   ],
   "source": [
    "class ObjectDetection:\n",
    "    def __init__(self, model_path):\n",
    "        self.detection_graph = tf.Graph()\n",
    "        with self.detection_graph.as_default():\n",
    "            od_graph_def = tf.GraphDef()\n",
    "            with tf.gfile.GFile(model_path , 'rb') as fid:\n",
    "                serialized_graph = fid.read()\n",
    "                od_graph_def.ParseFromString(serialized_graph)\n",
    "                tf.import_graph_def(od_graph_def, name='')\n",
    "                config = tf.ConfigProto()\n",
    "                config.gpu_options.allow_growth=True\n",
    "                self.sess = tf.Session(graph=self.detection_graph, config=config)\n",
    "\n",
    "    def get_detections(self, image_np_expanded):\n",
    "        image_tensor = self.detection_graph.get_tensor_by_name('image_tensor:0')\n",
    "        boxes = self.detection_graph.get_tensor_by_name('detection_boxes:0')\n",
    "        scores = self.detection_graph.get_tensor_by_name('detection_scores:0')\n",
    "        classes = self.detection_graph.get_tensor_by_name('detection_classes:0')\n",
    "        num_detections = self.detection_graph.get_tensor_by_name('num_detections:0')\n",
    "        (boxes, scores, classes, num_detections) = self.sess.run([boxes, scores, classes, num_detections], feed_dict={image_tensor: image_np_expanded})\n",
    "        return boxes, scores, classes, num_detections\n",
    "\n",
    "    @staticmethod\n",
    "    def process_boxes(boxes, scores, classes, labels_mapping, threshold, width, height):\n",
    "        result = {}\n",
    "        for i in range(len(classes[0])):\n",
    "            if classes[0][i] in labels_mapping.keys():\n",
    "                if scores[0][i] >= threshold:\n",
    "                    xmin = int(boxes[0][i][1] * width)\n",
    "                    ymin = int(boxes[0][i][0] * height)\n",
    "                    xmax = int(boxes[0][i][3] * width)\n",
    "                    ymax = int(boxes[0][i][2] * height)\n",
    "                    label = labels_mapping[classes[0][i]]\n",
    "                    if label not in result:\n",
    "                        result[label] = []\n",
    "                    result[label].append([xmin,ymin,xmax,ymax])\n",
    "        return result\n",
    "\n",
    "class Segmentation:\n",
    "    def __init__(self, model_path, num_c=2):\n",
    "        class InferenceConfig(Config):\n",
    "            # Set batch size to 1 since we'll be running inference on\n",
    "            # one image at a time. Batch size = GPU_COUNT * IMAGES_PER_GPU\n",
    "            NAME = \"cvat\"\n",
    "            GPU_COUNT = 1\n",
    "            IMAGES_PER_GPU = 1\n",
    "            NUM_CLASSES = num_c\n",
    "\n",
    "        config = InferenceConfig()\n",
    "        #config.display()\n",
    "\n",
    "        # Create model object in inference mode.\n",
    "        self.model = modellib.MaskRCNN(mode=\"inference\", model_dir=\"./output\", config=config)\n",
    "        # Load weights trained on MS-COCO\n",
    "        self.model.load_weights(model_path, by_name=True)\n",
    "        self.labels_mapping = {0:'BG', 1:'cut'}\n",
    "\n",
    "    def get_polygons(self, images, threshold):\n",
    "        res = self.model.detect(images)\n",
    "        result = {}\n",
    "        for r in res:\n",
    "            for index, c_id in enumerate(r['class_ids']):\n",
    "                if c_id in self.labels_mapping.keys():\n",
    "                    if r['scores'][index] >= threshold:\n",
    "                        mask = r['masks'][:,:,index].astype(np.uint8)\n",
    "                        contours = find_contours(mask, 0.5)\n",
    "\n",
    "                        # KLUDGE\n",
    "                        # Handles a rare \"list index out of range error\" for contours[0]\n",
    "                        # If the contours array is empty, a dummy contour consisting of\n",
    "                        # the top left pisxel is provided.\n",
    "\n",
    "                        if not contours:\n",
    "                            print('ERROR: contour list is empty.')\n",
    "                            contour = np.array([[1.0,1.0],[1.0,0.0],[0.0,0.0],[0.0,1.0],[1.0,1.0]])\n",
    "                        else:\n",
    "                            contour = contours[0]\n",
    "                            # print(f'contour ({type(contour)}): {contour}')\n",
    "\n",
    "                        # end of KLUDGE\n",
    "\n",
    "                        contour = np.flip(contour, axis=1)\n",
    "                        contour = approximate_polygon(contour, tolerance=2.5)\n",
    "                        segmentation = contour.ravel().tolist()\n",
    "                        label = self.labels_mapping[c_id]\n",
    "                        if label not in result:\n",
    "                            result[label] = []\n",
    "                        result[label].append(segmentation)\n",
    "        return result\n",
    "\n",
    "\n",
    "    @staticmethod\n",
    "    def process_polygons(polygons, boxes):\n",
    "        \"\"\"\n",
    "           Check if any point of the polygon falls into any of coconot palms except for dead/non_recoverable.\n",
    "        \"\"\"\n",
    "        def _check_inside_boxes(polygon, boxes):\n",
    "            for point in polygon:\n",
    "                for label, bxes in boxes.items():\n",
    "                    for box in bxes:\n",
    "                        if point[0] > box[0] and point[0] < box[2] and point[1] > box[1] and point[1] < box[3] and label not in ['dead','non_recoverable']:\n",
    "                            # point is inside rectangle\n",
    "                            return True\n",
    "            return False\n",
    "\n",
    "        result = {}\n",
    "        for label_m, polys in polygons.items():\n",
    "            for polygon in polys:\n",
    "                p = [polygon[i:i+2] for i in range(0, len(polygon),2)]\n",
    "                if _check_inside_boxes(p, boxes):\n",
    "                    if label_m not in result:\n",
    "                        result[label_m] = []\n",
    "                    result[label_m].append(polygon)\n",
    "\n",
    "        return result\n",
    "\n",
    "\n",
    "def load_image_into_numpy(image):\n",
    "    (im_width, im_height) = image.size\n",
    "    return np.array(image.getdata()).reshape((im_height, im_width, 3)).astype(np.uint8)\n",
    "\n",
    "def draw_instances(frame, boxes, masks):\n",
    "    colors = {'zero':(0,255,0), 'light':(0,0,255),'medium':(255,0,0),'high':(120,120,0),'non_recoverable':(0,120,120),'cut':(0,0,0)}\n",
    "    #draw boxes\n",
    "    for label, bxes in boxes.items():\n",
    "        for box in bxes:\n",
    "            cv2.rectangle(frame, (box[0],box[1]), (box[2],box[3]), colors[label], 5)\n",
    "    #draw polygons\n",
    "    for label, polygons in masks.items():\n",
    "        for polygon in polygons:\n",
    "            p = [polygon[i:i+2] for i in range(0, len(polygon),2)]\n",
    "            pts = np.array(p, np.int32)\n",
    "            pts = pts.reshape((-1,1,2))\n",
    "            cv2.polylines(frame, [pts], True, (0,255,255),5)\n",
    "    return frame\n",
    "\n",
    "def get_labels(classes_csv, type=\"od\"):\n",
    "    labels = []\n",
    "    with open(classes_csv, \"r\") as f:\n",
    "        data = f.readlines()\n",
    "        # slogger.glob.info(\"class file data {}\".format(data))\n",
    "        for line in data[1:]:\n",
    "            if type == \"maskrcnn\":\n",
    "                if \",\" not in line:\n",
    "                    continue\n",
    "                # slogger.glob.info(\"classes line {}\".format(line))\n",
    "                label, num = line.strip().split(',')\n",
    "                labels.append(('label', [('name', line.strip())]))\n",
    "            else:\n",
    "                if \"label\" not in line:\n",
    "                    labels.append(('label', [('name', line.strip())]))\n",
    "    return labels"
   ]
  },
  {
   "cell_type": "code",
   "execution_count": 7,
   "id": "electronic-ladder",
   "metadata": {
    "execution": {
     "iopub.execute_input": "2021-05-02T01:19:48.474294Z",
     "iopub.status.busy": "2021-05-02T01:19:48.472036Z",
     "iopub.status.idle": "2021-05-02T01:21:18.805488Z",
     "shell.execute_reply": "2021-05-02T01:21:18.805762Z"
    },
    "papermill": {
     "duration": 90.344934,
     "end_time": "2021-05-02T01:21:18.805852",
     "exception": false,
     "start_time": "2021-05-02T01:19:48.460918",
     "status": "completed"
    },
    "tags": []
   },
   "outputs": [
    {
     "name": "stdout",
     "output_type": "stream",
     "text": [
      "WARNING:tensorflow:From /usr/lib/python3/dist-packages/tensorflow_core/python/ops/resource_variable_ops.py:1630: calling BaseResourceVariable.__init__ (from tensorflow.python.ops.resource_variable_ops) with constraint is deprecated and will be removed in a future version.\n",
      "Instructions for updating:\n",
      "If using Keras pass *_constraint arguments to layers.\n"
     ]
    },
    {
     "name": "stdout",
     "output_type": "stream",
     "text": [
      "WARNING:tensorflow:From /usr/lib/python3/dist-packages/keras/backend/tensorflow_backend.py:4070: The name tf.nn.max_pool is deprecated. Please use tf.nn.max_pool2d instead.\n",
      "\n"
     ]
    },
    {
     "name": "stdout",
     "output_type": "stream",
     "text": [
      "WARNING:tensorflow:From /home/aubrey/.local/lib/python3.6/site-packages/mrcnn/model.py:341: The name tf.log is deprecated. Please use tf.math.log instead.\n",
      "\n"
     ]
    },
    {
     "name": "stdout",
     "output_type": "stream",
     "text": [
      "WARNING:tensorflow:From /home/aubrey/.local/lib/python3.6/site-packages/mrcnn/model.py:399: where (from tensorflow.python.ops.array_ops) is deprecated and will be removed in a future version.\n",
      "Instructions for updating:\n",
      "Use tf.where in 2.0, which has the same broadcast rule as np.where\n"
     ]
    },
    {
     "name": "stdout",
     "output_type": "stream",
     "text": [
      "WARNING:tensorflow:From /home/aubrey/.local/lib/python3.6/site-packages/mrcnn/model.py:423: calling crop_and_resize_v1 (from tensorflow.python.ops.image_ops_impl) with box_ind is deprecated and will be removed in a future version.\n",
      "Instructions for updating:\n",
      "box_ind is deprecated, use box_indices instead\n"
     ]
    },
    {
     "name": "stdout",
     "output_type": "stream",
     "text": [
      "WARNING:tensorflow:From /home/aubrey/.local/lib/python3.6/site-packages/mrcnn/model.py:723: The name tf.sets.set_intersection is deprecated. Please use tf.sets.intersection instead.\n",
      "\n"
     ]
    },
    {
     "name": "stdout",
     "output_type": "stream",
     "text": [
      "WARNING:tensorflow:From /home/aubrey/.local/lib/python3.6/site-packages/mrcnn/model.py:725: The name tf.sparse_tensor_to_dense is deprecated. Please use tf.sparse.to_dense instead.\n",
      "\n"
     ]
    },
    {
     "name": "stdout",
     "output_type": "stream",
     "text": [
      "WARNING:tensorflow:From /home/aubrey/.local/lib/python3.6/site-packages/mrcnn/model.py:775: to_float (from tensorflow.python.ops.math_ops) is deprecated and will be removed in a future version.\n",
      "Instructions for updating:\n",
      "Use `tf.cast` instead.\n"
     ]
    },
    {
     "name": "stdout",
     "output_type": "stream",
     "text": [
      "Image 1 of 180\n"
     ]
    },
    {
     "name": "stdout",
     "output_type": "stream",
     "text": [
      "WARNING:tensorflow:From /usr/lib/python3/dist-packages/keras/backend/tensorflow_backend.py:422: The name tf.global_variables is deprecated. Please use tf.compat.v1.global_variables instead.\n",
      "\n"
     ]
    },
    {
     "name": "stdout",
     "output_type": "stream",
     "text": [
      "Result before processing:  {}\n",
      "Result after processing:  {}\n",
      "Image 2 of 180\n"
     ]
    },
    {
     "name": "stdout",
     "output_type": "stream",
     "text": [
      "Result before processing:  {}\n",
      "Result after processing:  {}\n",
      "Image 3 of 180\n"
     ]
    },
    {
     "name": "stdout",
     "output_type": "stream",
     "text": [
      "Result before processing:  {}\n",
      "Result after processing:  {}\n",
      "Image 4 of 180\n",
      "od {'zero': [[2, 267, 371, 761]]}\n"
     ]
    },
    {
     "name": "stdout",
     "output_type": "stream",
     "text": [
      "Result before processing:  {}\n",
      "Result after processing:  {}\n",
      "Image 5 of 180\n"
     ]
    },
    {
     "name": "stdout",
     "output_type": "stream",
     "text": [
      "Result before processing:  {}\n",
      "Result after processing:  {}\n",
      "Image 6 of 180\n"
     ]
    },
    {
     "name": "stdout",
     "output_type": "stream",
     "text": [
      "Result before processing:  {}\n",
      "Result after processing:  {}\n",
      "Image 7 of 180\n",
      "od {'zero': [[5, 263, 361, 791]]}\n"
     ]
    },
    {
     "name": "stdout",
     "output_type": "stream",
     "text": [
      "Result before processing:  {}\n",
      "Result after processing:  {}\n",
      "Image 8 of 180\n"
     ]
    },
    {
     "name": "stdout",
     "output_type": "stream",
     "text": [
      "Result before processing:  {}\n",
      "Result after processing:  {}\n",
      "Image 9 of 180\n"
     ]
    },
    {
     "name": "stdout",
     "output_type": "stream",
     "text": [
      "Result before processing:  {}\n",
      "Result after processing:  {}\n",
      "Image 10 of 180\n"
     ]
    },
    {
     "name": "stdout",
     "output_type": "stream",
     "text": [
      "Result before processing:  {}\n",
      "Result after processing:  {}\n",
      "Image 11 of 180\n"
     ]
    },
    {
     "name": "stdout",
     "output_type": "stream",
     "text": [
      "Result before processing:  {}\n",
      "Result after processing:  {}\n",
      "Image 12 of 180\n"
     ]
    },
    {
     "name": "stdout",
     "output_type": "stream",
     "text": [
      "Result before processing:  {}\n",
      "Result after processing:  {}\n",
      "Image 13 of 180\n"
     ]
    },
    {
     "name": "stdout",
     "output_type": "stream",
     "text": [
      "Result before processing:  {}\n",
      "Result after processing:  {}\n",
      "Image 14 of 180\n"
     ]
    },
    {
     "name": "stdout",
     "output_type": "stream",
     "text": [
      "Result before processing:  {}\n",
      "Result after processing:  {}\n",
      "Image 15 of 180\n",
      "od {'light': [[1, 280, 386, 752]]}\n"
     ]
    },
    {
     "name": "stdout",
     "output_type": "stream",
     "text": [
      "Result before processing:  {}\n",
      "Result after processing:  {}\n",
      "Image 16 of 180\n"
     ]
    },
    {
     "name": "stdout",
     "output_type": "stream",
     "text": [
      "Result before processing:  {}\n",
      "Result after processing:  {}\n",
      "Image 17 of 180\n"
     ]
    },
    {
     "name": "stdout",
     "output_type": "stream",
     "text": [
      "Result before processing:  {}\n",
      "Result after processing:  {}\n",
      "Image 18 of 180\n",
      "od {'zero': [[0, 290, 398, 781]]}\n"
     ]
    },
    {
     "name": "stdout",
     "output_type": "stream",
     "text": [
      "Result before processing:  {}\n",
      "Result after processing:  {}\n",
      "Image 19 of 180\n",
      "od {'zero': [[1, 249, 393, 775]]}\n"
     ]
    },
    {
     "name": "stdout",
     "output_type": "stream",
     "text": [
      "Result before processing:  {}\n",
      "Result after processing:  {}\n",
      "Image 20 of 180\n"
     ]
    },
    {
     "name": "stdout",
     "output_type": "stream",
     "text": [
      "Result before processing:  {'cut': [[101.0, 417.5, 56.0, 416.5, 42.0, 409.5, 23.0, 408.5, 13.5, 404.0, 12.5, 309.0, 19.0, 304.5, 26.0, 309.5, 51.0, 306.5, 70.0, 298.5, 76.0, 303.5, 100.0, 296.5, 163.0, 293.5, 177.0, 297.5, 183.5, 306.0, 182.5, 401.0, 171.0, 407.5, 101.0, 417.5]]}\n",
      "Result after processing:  {}\n",
      "Image 21 of 180\n"
     ]
    },
    {
     "name": "stdout",
     "output_type": "stream",
     "text": [
      "Result before processing:  {}\n",
      "Result after processing:  {}\n",
      "Image 22 of 180\n",
      "od {'light': [[0, 271, 403, 767]]}\n"
     ]
    },
    {
     "name": "stdout",
     "output_type": "stream",
     "text": [
      "Result before processing:  {}\n",
      "Result after processing:  {}\n",
      "Image 23 of 180\n",
      "od {'light': [[0, 290, 380, 757]]}\n"
     ]
    },
    {
     "name": "stdout",
     "output_type": "stream",
     "text": [
      "Result before processing:  {}\n",
      "Result after processing:  {}\n",
      "Image 24 of 180\n"
     ]
    },
    {
     "name": "stdout",
     "output_type": "stream",
     "text": [
      "Result before processing:  {}\n",
      "Result after processing:  {}\n",
      "Image 25 of 180\n"
     ]
    },
    {
     "name": "stdout",
     "output_type": "stream",
     "text": [
      "Result before processing:  {'cut': [[99.0, 413.5, 55.0, 410.5, 47.5, 397.0, 54.5, 370.0, 61.5, 359.0, 106.0, 318.5, 144.0, 305.5, 156.0, 308.5, 154.5, 299.0, 161.0, 293.5, 169.0, 294.5, 172.5, 298.0, 170.5, 314.0, 173.5, 326.0, 170.5, 356.0, 161.5, 379.0, 153.0, 388.5, 135.0, 398.5, 113.0, 410.5, 99.0, 413.5]]}\n",
      "Result after processing:  {}\n",
      "Image 26 of 180\n",
      "od {'light': [[0, 274, 365, 760]]}\n"
     ]
    },
    {
     "name": "stdout",
     "output_type": "stream",
     "text": [
      "Result before processing:  {}\n",
      "Result after processing:  {}\n",
      "Image 27 of 180\n",
      "od {'zero': [[1587, 332, 1916, 757]]}\n"
     ]
    },
    {
     "name": "stdout",
     "output_type": "stream",
     "text": [
      "Result before processing:  {}\n",
      "Result after processing:  {}\n",
      "Image 28 of 180\n",
      "od {'light': [[1411, 364, 1842, 800]]}\n"
     ]
    },
    {
     "name": "stdout",
     "output_type": "stream",
     "text": [
      "Result before processing:  {}\n",
      "Result after processing:  {}\n",
      "Image 29 of 180\n",
      "od {'light': [[1206, 395, 1595, 819]], 'zero': [[1211, 404, 1589, 805]]}\n"
     ]
    },
    {
     "name": "stdout",
     "output_type": "stream",
     "text": [
      "Result before processing:  {}\n",
      "Result after processing:  {}\n",
      "Image 30 of 180\n",
      "od {'light': [[1115, 418, 1480, 808]]}\n"
     ]
    },
    {
     "name": "stdout",
     "output_type": "stream",
     "text": [
      "Result before processing:  {}\n",
      "Result after processing:  {}\n",
      "Image 31 of 180\n",
      "od {'light': [[1072, 454, 1422, 814]], 'zero': [[1095, 450, 1421, 819]]}\n"
     ]
    },
    {
     "name": "stdout",
     "output_type": "stream",
     "text": [
      "Result before processing:  {}\n",
      "Result after processing:  {}\n",
      "Image 32 of 180\n",
      "od {'light': [[0, 472, 284, 867], [1072, 462, 1397, 790]]}\n"
     ]
    },
    {
     "name": "stdout",
     "output_type": "stream",
     "text": [
      "Result before processing:  {}\n",
      "Result after processing:  {}\n",
      "Image 33 of 180\n",
      "od {'light': [[1, 502, 362, 866], [1076, 487, 1381, 786]], 'zero': [[1082, 473, 1387, 795]]}\n"
     ]
    },
    {
     "name": "stdout",
     "output_type": "stream",
     "text": [
      "Result before processing:  {}\n",
      "Result after processing:  {}\n",
      "Image 34 of 180\n",
      "od {'light': [[14, 542, 552, 922], [1176, 482, 1459, 793]], 'zero': [[1172, 486, 1454, 794]]}\n"
     ]
    },
    {
     "name": "stdout",
     "output_type": "stream",
     "text": [
      "Result before processing:  {}\n",
      "Result after processing:  {}\n",
      "Image 35 of 180\n",
      "od {'light': [[231, 574, 736, 930], [1298, 516, 1576, 801]], 'zero': [[1299, 521, 1576, 795]]}\n"
     ]
    },
    {
     "name": "stdout",
     "output_type": "stream",
     "text": [
      "Result before processing:  {}\n",
      "Result after processing:  {}\n",
      "Image 36 of 180\n",
      "od {'zero': [[1467, 540, 1763, 817]], 'light': [[504, 603, 948, 955]]}\n"
     ]
    },
    {
     "name": "stdout",
     "output_type": "stream",
     "text": [
      "Result before processing:  {}\n",
      "Result after processing:  {}\n",
      "Image 37 of 180\n",
      "od {'light': [[0, 33, 406, 831], [688, 620, 1115, 952], [1630, 557, 1906, 853]], 'zero': [[697, 622, 1119, 957]]}\n"
     ]
    },
    {
     "name": "stdout",
     "output_type": "stream",
     "text": [
      "Result before processing:  {'cut': [[207.0, 112.5, 182.0, 112.5, 173.0, 108.5, 136.5, 70.0, 136.5, 61.0, 156.5, 43.0, 155.5, 35.0, 161.0, 27.5, 201.0, 12.5, 317.0, 7.5, 333.5, 14.0, 337.5, 42.0, 330.0, 56.5, 308.0, 70.5, 260.0, 79.5, 245.0, 87.5, 233.0, 101.5, 207.0, 112.5], [1803.0, 693.5, 1743.0, 692.5, 1726.0, 686.5, 1713.5, 669.0, 1703.5, 631.0, 1718.5, 582.0, 1738.0, 560.5, 1798.0, 555.5, 1815.0, 560.5, 1822.5, 572.0, 1810.5, 620.0, 1815.5, 686.0, 1803.0, 693.5]]}\n",
      "Result after processing:  {'cut': [[207.0, 112.5, 182.0, 112.5, 173.0, 108.5, 136.5, 70.0, 136.5, 61.0, 156.5, 43.0, 155.5, 35.0, 161.0, 27.5, 201.0, 12.5, 317.0, 7.5, 333.5, 14.0, 337.5, 42.0, 330.0, 56.5, 308.0, 70.5, 260.0, 79.5, 245.0, 87.5, 233.0, 101.5, 207.0, 112.5], [1803.0, 693.5, 1743.0, 692.5, 1726.0, 686.5, 1713.5, 669.0, 1703.5, 631.0, 1718.5, 582.0, 1738.0, 560.5, 1798.0, 555.5, 1815.0, 560.5, 1822.5, 572.0, 1810.5, 620.0, 1815.5, 686.0, 1803.0, 693.5]]}\n",
      "Image 38 of 180\n",
      "od {'light': [[854, 642, 1278, 955], [12, 26, 611, 1002], [1757, 562, 1920, 821]]}\n"
     ]
    },
    {
     "name": "stdout",
     "output_type": "stream",
     "text": [
      "Result before processing:  {'cut': [[361.0, 168.5, 334.0, 165.5, 324.5, 158.0, 325.5, 151.0, 320.5, 144.0, 324.5, 125.0, 330.0, 123.5, 349.0, 103.5, 366.0, 97.5, 413.0, 63.5, 457.0, 64.5, 461.5, 69.0, 461.5, 79.0, 452.5, 98.0, 440.0, 108.5, 402.0, 124.5, 394.5, 131.0, 378.5, 161.0, 361.0, 168.5], [552.0, 685.5, 535.0, 680.5, 522.5, 670.0, 505.5, 627.0, 507.5, 623.0, 501.5, 617.0, 505.0, 613.5, 524.0, 612.5, 531.0, 607.5, 539.0, 609.5, 571.0, 630.5, 580.5, 642.0, 592.5, 671.0, 591.5, 680.0, 552.0, 685.5]]}\n",
      "Result after processing:  {'cut': [[361.0, 168.5, 334.0, 165.5, 324.5, 158.0, 325.5, 151.0, 320.5, 144.0, 324.5, 125.0, 330.0, 123.5, 349.0, 103.5, 366.0, 97.5, 413.0, 63.5, 457.0, 64.5, 461.5, 69.0, 461.5, 79.0, 452.5, 98.0, 440.0, 108.5, 402.0, 124.5, 394.5, 131.0, 378.5, 161.0, 361.0, 168.5], [552.0, 685.5, 535.0, 680.5, 522.5, 670.0, 505.5, 627.0, 507.5, 623.0, 501.5, 617.0, 505.0, 613.5, 524.0, 612.5, 531.0, 607.5, 539.0, 609.5, 571.0, 630.5, 580.5, 642.0, 592.5, 671.0, 591.5, 680.0, 552.0, 685.5]]}\n",
      "Image 39 of 180\n",
      "od {'light': [[41, 0, 682, 1024], [936, 642, 1362, 991]], 'zero': [[945, 649, 1361, 989]]}\n"
     ]
    },
    {
     "name": "stdout",
     "output_type": "stream",
     "text": [
      "Result before processing:  {'cut': [[521.0, 173.5, 489.0, 169.5, 468.5, 155.0, 478.5, 124.0, 526.0, 105.5, 568.0, 103.5, 579.0, 107.5, 586.5, 130.0, 579.5, 152.0, 565.0, 161.5, 521.0, 173.5]]}\n",
      "Result after processing:  {'cut': [[521.0, 173.5, 489.0, 169.5, 468.5, 155.0, 478.5, 124.0, 526.0, 105.5, 568.0, 103.5, 579.0, 107.5, 586.5, 130.0, 579.5, 152.0, 565.0, 161.5, 521.0, 173.5]]}\n",
      "Image 40 of 180\n",
      "od {'light': [[36, 1, 767, 1022], [1042, 640, 1455, 993]]}\n"
     ]
    },
    {
     "name": "stdout",
     "output_type": "stream",
     "text": [
      "Result before processing:  {'cut': [[576.0, 237.5, 555.0, 233.5, 537.0, 214.5, 524.0, 207.5, 517.5, 199.0, 520.5, 190.0, 548.0, 174.5, 605.0, 157.5, 648.0, 159.5, 658.0, 164.5, 672.5, 182.0, 675.5, 191.0, 673.5, 208.0, 663.0, 223.5, 640.0, 232.5, 576.0, 237.5]]}\n",
      "Result after processing:  {'cut': [[576.0, 237.5, 555.0, 233.5, 537.0, 214.5, 524.0, 207.5, 517.5, 199.0, 520.5, 190.0, 548.0, 174.5, 605.0, 157.5, 648.0, 159.5, 658.0, 164.5, 672.5, 182.0, 675.5, 191.0, 673.5, 208.0, 663.0, 223.5, 640.0, 232.5, 576.0, 237.5]]}\n",
      "Image 41 of 180\n",
      "od {'light': [[84, 0, 898, 1030], [1154, 652, 1580, 995]], 'zero': [[1158, 651, 1581, 990]]}\n"
     ]
    },
    {
     "name": "stdout",
     "output_type": "stream",
     "text": [
      "Result before processing:  {'cut': [[684.0, 284.5, 671.0, 283.5, 664.5, 278.0, 634.5, 237.0, 635.5, 230.0, 696.0, 192.5, 739.0, 191.5, 761.0, 198.5, 768.5, 214.0, 762.5, 250.0, 741.0, 265.5, 699.0, 276.5, 684.0, 284.5], [852.0, 696.5, 826.0, 692.5, 813.0, 685.5, 797.5, 663.0, 797.5, 645.0, 808.0, 639.5, 836.0, 634.5, 869.0, 651.5, 885.5, 673.0, 891.5, 690.0, 888.0, 693.5, 852.0, 696.5]]}\n",
      "Result after processing:  {'cut': [[684.0, 284.5, 671.0, 283.5, 664.5, 278.0, 634.5, 237.0, 635.5, 230.0, 696.0, 192.5, 739.0, 191.5, 761.0, 198.5, 768.5, 214.0, 762.5, 250.0, 741.0, 265.5, 699.0, 276.5, 684.0, 284.5], [852.0, 696.5, 826.0, 692.5, 813.0, 685.5, 797.5, 663.0, 797.5, 645.0, 808.0, 639.5, 836.0, 634.5, 869.0, 651.5, 885.5, 673.0, 891.5, 690.0, 888.0, 693.5, 852.0, 696.5]]}\n",
      "Image 42 of 180\n",
      "od {'light': [[1256, 641, 1675, 1010], [173, 44, 977, 1042]]}\n"
     ]
    },
    {
     "name": "stdout",
     "output_type": "stream",
     "text": [
      "Result before processing:  {'cut': [[739.0, 296.5, 723.0, 294.5, 712.5, 283.0, 706.5, 273.0, 711.0, 261.5, 752.0, 232.5, 787.0, 215.5, 809.0, 212.5, 828.5, 217.0, 834.5, 227.0, 834.5, 239.0, 826.0, 250.5, 783.0, 269.5, 739.0, 296.5]]}\n",
      "Result after processing:  {'cut': [[739.0, 296.5, 723.0, 294.5, 712.5, 283.0, 706.5, 273.0, 711.0, 261.5, 752.0, 232.5, 787.0, 215.5, 809.0, 212.5, 828.5, 217.0, 834.5, 227.0, 834.5, 239.0, 826.0, 250.5, 783.0, 269.5, 739.0, 296.5]]}\n",
      "Image 43 of 180\n",
      "od {'light': [[251, 38, 994, 1039], [1267, 636, 1686, 1013]]}\n"
     ]
    },
    {
     "name": "stdout",
     "output_type": "stream",
     "text": [
      "Result before processing:  {'cut': [[808.0, 283.5, 768.0, 274.5, 746.5, 251.0, 746.5, 238.0, 796.0, 215.5, 812.0, 212.5, 848.0, 215.5, 856.5, 224.0, 861.5, 237.0, 857.5, 261.0, 840.0, 278.5, 808.0, 283.5]]}\n",
      "Result after processing:  {'cut': [[808.0, 283.5, 768.0, 274.5, 746.5, 251.0, 746.5, 238.0, 796.0, 215.5, 812.0, 212.5, 848.0, 215.5, 856.5, 224.0, 861.5, 237.0, 857.5, 261.0, 840.0, 278.5, 808.0, 283.5]]}\n",
      "Image 44 of 180\n",
      "od {'light': [[1427, 606, 1912, 951]]}\n"
     ]
    },
    {
     "name": "stdout",
     "output_type": "stream",
     "text": [
      "Result before processing:  {'cut': [[929.0, 257.5, 917.0, 256.5, 886.0, 238.5, 884.5, 225.0, 926.0, 203.5, 954.0, 180.5, 991.0, 180.5, 1004.5, 188.0, 1008.5, 198.0, 1005.5, 217.0, 995.0, 233.5, 980.0, 243.5, 929.0, 257.5]]}\n",
      "Result after processing:  {}\n",
      "Image 45 of 180\n"
     ]
    },
    {
     "name": "stdout",
     "output_type": "stream",
     "text": [
      "Result before processing:  {'cut': [[632.0, 667.5, 582.0, 666.5, 560.5, 656.0, 560.5, 633.0, 573.5, 605.0, 600.0, 584.5, 645.0, 570.5, 682.0, 544.5, 725.0, 544.5, 727.5, 556.0, 724.5, 568.0, 692.5, 628.0, 659.0, 657.5, 632.0, 667.5], [523.0, 574.5, 496.0, 574.5, 487.5, 568.0, 482.5, 555.0, 482.5, 523.0, 487.5, 513.0, 539.0, 483.5, 576.0, 477.5, 600.0, 480.5, 607.5, 503.0, 613.5, 506.0, 609.5, 530.0, 570.0, 547.5, 540.0, 569.5, 523.0, 574.5], [1758.0, 426.5, 1750.5, 424.0, 1758.0, 405.5, 1764.0, 420.5, 1796.5, 417.0, 1794.5, 398.0, 1761.5, 360.0, 1761.5, 347.0, 1771.0, 337.5, 1785.0, 330.5, 1844.0, 327.5, 1871.0, 338.5, 1888.5, 360.0, 1891.5, 395.0, 1887.0, 403.5, 1863.0, 411.5, 1821.0, 415.5, 1804.0, 422.5, 1778.0, 421.5, 1758.0, 426.5]]}\n",
      "Result after processing:  {}\n",
      "Image 46 of 180\n"
     ]
    },
    {
     "name": "stdout",
     "output_type": "stream",
     "text": [
      "Result before processing:  {}\n",
      "Result after processing:  {}\n",
      "Image 47 of 180\n"
     ]
    },
    {
     "name": "stdout",
     "output_type": "stream",
     "text": [
      "Result before processing:  {}\n",
      "Result after processing:  {}\n",
      "Image 48 of 180\n"
     ]
    },
    {
     "name": "stdout",
     "output_type": "stream",
     "text": [
      "Result before processing:  {}\n",
      "Result after processing:  {}\n",
      "Image 49 of 180\n"
     ]
    },
    {
     "name": "stdout",
     "output_type": "stream",
     "text": [
      "Result before processing:  {'cut': [[1302.0, 705.5, 1270.0, 704.5, 1246.0, 698.5, 1239.5, 688.0, 1241.5, 667.0, 1233.5, 642.0, 1238.0, 635.5, 1265.0, 620.5, 1311.0, 612.5, 1332.0, 613.5, 1339.5, 620.0, 1342.5, 632.0, 1359.5, 643.0, 1360.5, 658.0, 1332.0, 694.5, 1302.0, 705.5]]}\n",
      "Result after processing:  {}\n",
      "Image 50 of 180\n"
     ]
    },
    {
     "name": "stdout",
     "output_type": "stream",
     "text": [
      "Result before processing:  {'cut': [[1330.0, 710.5, 1292.0, 708.5, 1280.5, 701.0, 1279.5, 672.0, 1290.5, 644.0, 1321.0, 624.5, 1370.0, 605.5, 1373.0, 598.5, 1393.0, 594.5, 1419.0, 595.5, 1421.5, 601.0, 1416.0, 603.5, 1380.5, 605.0, 1384.5, 628.0, 1395.5, 631.0, 1399.0, 644.5, 1415.0, 644.5, 1415.5, 652.0, 1408.0, 651.5, 1399.5, 661.0, 1390.5, 674.0, 1388.5, 685.0, 1378.0, 696.5, 1330.0, 710.5]]}\n",
      "Result after processing:  {}\n",
      "Image 51 of 180\n"
     ]
    },
    {
     "name": "stdout",
     "output_type": "stream",
     "text": [
      "Result before processing:  {'cut': [[1470.0, 586.5, 1452.0, 583.5, 1413.5, 559.0, 1409.5, 553.0, 1408.5, 533.0, 1409.5, 525.0, 1419.0, 511.5, 1436.0, 508.5, 1452.0, 512.5, 1454.0, 517.5, 1478.0, 523.5, 1486.5, 530.0, 1483.5, 580.0, 1480.0, 584.5, 1470.0, 586.5]]}\n",
      "Result after processing:  {}\n",
      "Image 52 of 180\n"
     ]
    },
    {
     "name": "stdout",
     "output_type": "stream",
     "text": [
      "Result before processing:  {'cut': [[459.0, 833.5, 448.0, 832.5, 443.5, 828.0, 442.5, 792.0, 445.5, 773.0, 465.5, 736.0, 501.0, 698.5, 546.5, 663.0, 589.0, 610.5, 611.0, 591.5, 633.0, 593.5, 655.0, 601.5, 665.0, 609.5, 690.5, 614.0, 691.5, 624.0, 682.5, 641.0, 682.5, 655.0, 677.5, 665.0, 636.0, 721.5, 589.0, 759.5, 556.0, 773.5, 535.0, 789.5, 521.0, 793.5, 480.0, 830.5, 459.0, 833.5]]}\n",
      "Result after processing:  {}\n",
      "Image 53 of 180\n"
     ]
    },
    {
     "name": "stdout",
     "output_type": "stream",
     "text": [
      "Result before processing:  {}\n",
      "Result after processing:  {}\n",
      "Image 54 of 180\n"
     ]
    },
    {
     "name": "stdout",
     "output_type": "stream",
     "text": [
      "Result before processing:  {}\n",
      "Result after processing:  {}\n",
      "Image 55 of 180\n",
      "od {'light': [[1266, 18, 1920, 978]]}\n"
     ]
    },
    {
     "name": "stdout",
     "output_type": "stream",
     "text": [
      "Result before processing:  {}\n",
      "Result after processing:  {}\n",
      "Image 56 of 180\n"
     ]
    },
    {
     "name": "stdout",
     "output_type": "stream",
     "text": [
      "Result before processing:  {}\n",
      "Result after processing:  {}\n",
      "Image 57 of 180\n",
      "od {'light': [[293, 730, 379, 787]]}\n"
     ]
    },
    {
     "name": "stdout",
     "output_type": "stream",
     "text": [
      "Result before processing:  {}\n",
      "Result after processing:  {}\n",
      "Image 58 of 180\n"
     ]
    },
    {
     "name": "stdout",
     "output_type": "stream",
     "text": [
      "Result before processing:  {}\n",
      "Result after processing:  {}\n",
      "Image 59 of 180\n"
     ]
    },
    {
     "name": "stdout",
     "output_type": "stream",
     "text": [
      "Result before processing:  {}\n",
      "Result after processing:  {}\n",
      "Image 60 of 180\n"
     ]
    },
    {
     "name": "stdout",
     "output_type": "stream",
     "text": [
      "Result before processing:  {}\n",
      "Result after processing:  {}\n",
      "Image 61 of 180\n"
     ]
    },
    {
     "name": "stdout",
     "output_type": "stream",
     "text": [
      "Result before processing:  {}\n",
      "Result after processing:  {}\n",
      "Image 62 of 180\n",
      "od {'light': [[35, 852, 275, 1037]]}\n"
     ]
    },
    {
     "name": "stdout",
     "output_type": "stream",
     "text": [
      "Result before processing:  {}\n",
      "Result after processing:  {}\n",
      "Image 63 of 180\n"
     ]
    },
    {
     "name": "stdout",
     "output_type": "stream",
     "text": [
      "Result before processing:  {'cut': [[1128.0, 759.5, 1098.0, 759.5, 1070.0, 750.5, 1055.0, 741.5, 1027.5, 714.0, 1020.5, 701.0, 1017.5, 679.0, 972.5, 593.0, 973.5, 559.0, 981.5, 547.0, 980.5, 532.0, 984.0, 527.5, 1000.0, 524.5, 1016.0, 529.5, 1058.0, 554.5, 1103.0, 552.5, 1131.5, 576.0, 1176.5, 635.0, 1185.5, 661.0, 1192.5, 703.0, 1187.5, 730.0, 1166.0, 750.5, 1128.0, 759.5]]}\n",
      "Result after processing:  {}\n",
      "Image 64 of 180\n"
     ]
    },
    {
     "name": "stdout",
     "output_type": "stream",
     "text": [
      "Result before processing:  {'cut': [[825.0, 308.5, 801.0, 306.5, 783.0, 300.5, 742.5, 271.0, 727.5, 252.0, 713.5, 224.0, 711.5, 203.0, 723.0, 189.5, 828.0, 186.5, 858.0, 196.5, 872.5, 209.0, 878.5, 223.0, 879.5, 239.0, 865.5, 281.0, 852.0, 300.5, 825.0, 308.5]]}\n",
      "Result after processing:  {}\n",
      "Image 65 of 180\n",
      "od {'light': [[115, 633, 459, 959]]}\n"
     ]
    },
    {
     "name": "stdout",
     "output_type": "stream",
     "text": [
      "Result before processing:  {'cut': [[248.0, 711.5, 232.0, 707.5, 212.5, 689.0, 208.5, 680.0, 210.0, 666.5, 237.0, 662.5, 260.5, 676.0, 264.5, 692.0, 248.0, 711.5]]}\n",
      "Result after processing:  {'cut': [[248.0, 711.5, 232.0, 707.5, 212.5, 689.0, 208.5, 680.0, 210.0, 666.5, 237.0, 662.5, 260.5, 676.0, 264.5, 692.0, 248.0, 711.5]]}\n",
      "Image 66 of 180\n",
      "od {'light': [[315, 600, 680, 1047], [0, 522, 223, 946], [806, 705, 1040, 984]], 'zero': [[813, 704, 1040, 980]]}\n"
     ]
    },
    {
     "name": "stdout",
     "output_type": "stream",
     "text": [
      "Result before processing:  {'cut': [[1769.0, 660.5, 1758.0, 659.5, 1754.5, 655.0, 1748.5, 638.0, 1748.0, 621.5, 1771.0, 623.5, 1792.5, 637.0, 1790.5, 653.0, 1769.0, 660.5], [177.0, 843.5, 167.0, 842.5, 114.0, 810.5, 109.5, 805.0, 110.5, 799.0, 139.0, 778.5, 151.0, 779.5, 183.5, 821.0, 186.5, 836.0, 177.0, 843.5], [1315.0, 704.5, 1312.0, 701.5, 1303.0, 704.5, 1304.0, 701.5, 1290.0, 693.5, 1253.0, 693.5, 1247.5, 684.0, 1249.5, 673.0, 1262.0, 664.5, 1289.0, 666.5, 1311.5, 682.0, 1316.5, 695.0, 1315.0, 704.5]]}\n",
      "Result after processing:  {'cut': [[177.0, 843.5, 167.0, 842.5, 114.0, 810.5, 109.5, 805.0, 110.5, 799.0, 139.0, 778.5, 151.0, 779.5, 183.5, 821.0, 186.5, 836.0, 177.0, 843.5]]}\n",
      "Image 67 of 180\n",
      "od {'light': [[522, 509, 939, 1048], [0, 380, 508, 1020], [1000, 645, 1255, 932]]}\n"
     ]
    },
    {
     "name": "stdout",
     "output_type": "stream",
     "text": [
      "Result before processing:  {'cut': [[466.0, 730.5, 430.0, 726.5, 418.5, 714.0, 418.5, 708.0, 437.5, 686.0, 428.5, 674.0, 443.0, 667.5, 442.5, 662.0, 454.0, 652.5, 464.5, 660.0, 467.0, 674.5, 493.5, 677.0, 491.0, 680.5, 470.0, 682.5, 469.5, 686.0, 500.5, 719.0, 497.0, 727.5, 466.0, 730.5], [669.0, 600.5, 654.0, 600.5, 629.5, 575.0, 625.5, 554.0, 631.0, 546.5, 659.0, 544.5, 684.5, 567.0, 684.5, 577.0, 671.5, 591.0, 674.5, 596.0, 669.0, 600.5]]}\n",
      "Result after processing:  {'cut': [[466.0, 730.5, 430.0, 726.5, 418.5, 714.0, 418.5, 708.0, 437.5, 686.0, 428.5, 674.0, 443.0, 667.5, 442.5, 662.0, 454.0, 652.5, 464.5, 660.0, 467.0, 674.5, 493.5, 677.0, 491.0, 680.5, 470.0, 682.5, 469.5, 686.0, 500.5, 719.0, 497.0, 727.5, 466.0, 730.5], [669.0, 600.5, 654.0, 600.5, 629.5, 575.0, 625.5, 554.0, 631.0, 546.5, 659.0, 544.5, 684.5, 567.0, 684.5, 577.0, 671.5, 591.0, 674.5, 596.0, 669.0, 600.5]]}\n",
      "Image 68 of 180\n",
      "od {'light': [[339, 259, 936, 938], [924, 416, 1389, 1026], [1360, 562, 1673, 902]]}\n"
     ]
    },
    {
     "name": "stdout",
     "output_type": "stream",
     "text": [
      "Result before processing:  {'cut': [[357.0, 689.5, 342.0, 689.5, 334.5, 684.0, 335.5, 667.0, 380.0, 627.5, 400.0, 617.5, 414.0, 616.5, 434.5, 648.0, 426.5, 674.0, 411.0, 683.5, 357.0, 689.5], [379.0, 620.5, 359.0, 619.5, 347.5, 612.0, 344.5, 579.0, 359.0, 562.5, 377.0, 555.5, 397.0, 553.5, 407.0, 542.5, 414.0, 541.5, 422.5, 554.0, 422.5, 567.0, 413.5, 577.0, 409.5, 598.0, 405.0, 605.5, 379.0, 620.5], [1048.0, 514.5, 1025.0, 510.5, 1003.5, 492.0, 1010.0, 459.5, 1034.0, 459.5, 1055.5, 474.0, 1050.5, 498.0, 1053.5, 509.0, 1048.0, 514.5]]}\n",
      "Result after processing:  {'cut': [[357.0, 689.5, 342.0, 689.5, 334.5, 684.0, 335.5, 667.0, 380.0, 627.5, 400.0, 617.5, 414.0, 616.5, 434.5, 648.0, 426.5, 674.0, 411.0, 683.5, 357.0, 689.5], [379.0, 620.5, 359.0, 619.5, 347.5, 612.0, 344.5, 579.0, 359.0, 562.5, 377.0, 555.5, 397.0, 553.5, 407.0, 542.5, 414.0, 541.5, 422.5, 554.0, 422.5, 567.0, 413.5, 577.0, 409.5, 598.0, 405.0, 605.5, 379.0, 620.5], [1048.0, 514.5, 1025.0, 510.5, 1003.5, 492.0, 1010.0, 459.5, 1034.0, 459.5, 1055.5, 474.0, 1050.5, 498.0, 1053.5, 509.0, 1048.0, 514.5]]}\n",
      "Image 69 of 180\n",
      "od {'light': [[1030, 53, 1669, 1021]]}\n"
     ]
    },
    {
     "name": "stdout",
     "output_type": "stream",
     "text": [
      "Result before processing:  {}\n",
      "Result after processing:  {}\n",
      "Image 70 of 180\n"
     ]
    },
    {
     "name": "stdout",
     "output_type": "stream",
     "text": [
      "Result before processing:  {}\n",
      "Result after processing:  {}\n",
      "Image 71 of 180\n"
     ]
    },
    {
     "name": "stdout",
     "output_type": "stream",
     "text": [
      "Result before processing:  {'cut': [[1508.0, 227.5, 1474.0, 225.5, 1455.5, 210.0, 1452.5, 190.0, 1458.5, 145.0, 1540.5, 24.0, 1553.0, 14.5, 1576.0, 14.5, 1585.5, 22.0, 1589.5, 33.0, 1589.5, 75.0, 1566.5, 197.0, 1561.5, 208.0, 1549.0, 218.5, 1532.0, 225.5, 1508.0, 227.5]]}\n",
      "Result after processing:  {}\n",
      "Image 72 of 180\n"
     ]
    },
    {
     "name": "stdout",
     "output_type": "stream",
     "text": [
      "Result before processing:  {}\n",
      "Result after processing:  {}\n",
      "Image 73 of 180\n",
      "od {'zero': [[0, 580, 171, 815]]}\n"
     ]
    },
    {
     "name": "stdout",
     "output_type": "stream",
     "text": [
      "Result before processing:  {}\n",
      "Result after processing:  {}\n",
      "Image 74 of 180\n"
     ]
    },
    {
     "name": "stdout",
     "output_type": "stream",
     "text": [
      "Result before processing:  {}\n",
      "Result after processing:  {}\n",
      "Image 75 of 180\n",
      "od {'light': [[238, 442, 660, 938]]}\n"
     ]
    },
    {
     "name": "stdout",
     "output_type": "stream",
     "text": [
      "Result before processing:  {}\n",
      "Result after processing:  {}\n",
      "Image 76 of 180\n",
      "od {'light': [[536, 362, 975, 1040]]}\n"
     ]
    },
    {
     "name": "stdout",
     "output_type": "stream",
     "text": [
      "Result before processing:  {}\n",
      "Result after processing:  {}\n",
      "Image 77 of 180\n"
     ]
    },
    {
     "name": "stdout",
     "output_type": "stream",
     "text": [
      "Result before processing:  {'cut': [[1127.0, 242.5, 1116.0, 242.5, 1101.5, 225.0, 1100.5, 216.0, 1106.0, 209.5, 1119.0, 207.5, 1134.5, 219.0, 1135.5, 235.0, 1127.0, 242.5], [217.0, 93.5, 207.0, 93.5, 194.0, 87.5, 186.5, 75.0, 186.5, 67.0, 209.0, 66.5, 212.5, 75.0, 224.5, 83.0, 223.5, 89.0, 217.0, 93.5]]}\n",
      "Result after processing:  {}\n",
      "Image 78 of 180\n"
     ]
    },
    {
     "name": "stdout",
     "output_type": "stream",
     "text": [
      "Result before processing:  {'cut': [[363.0, 42.5, 361.0, 38.5, 347.0, 35.5, 295.0, 42.5, 286.5, 33.0, 277.5, 7.0, 331.0, 4.5, 367.0, 20.5, 371.0, 15.5, 377.5, 31.0, 371.0, 39.5, 366.0, 38.5, 363.0, 42.5]]}\n",
      "Result after processing:  {}\n",
      "Image 79 of 180\n"
     ]
    },
    {
     "name": "stdout",
     "output_type": "stream",
     "text": [
      "Result before processing:  {}\n",
      "Result after processing:  {}\n",
      "Image 80 of 180\n"
     ]
    },
    {
     "name": "stdout",
     "output_type": "stream",
     "text": [
      "Result before processing:  {'cut': [[88.0, 154.5, 77.0, 153.5, 63.5, 137.0, 61.5, 84.0, 45.0, 66.5, 32.5, 60.0, 30.5, 56.0, 34.5, 50.0, 27.5, 16.0, 34.0, 9.5, 46.0, 7.5, 165.0, 9.5, 168.5, 27.0, 161.5, 70.0, 138.5, 97.0, 133.5, 112.0, 115.5, 136.0, 100.0, 149.5, 88.0, 154.5]]}\n",
      "Result after processing:  {}\n",
      "Image 81 of 180\n"
     ]
    },
    {
     "name": "stdout",
     "output_type": "stream",
     "text": [
      "Result before processing:  {}\n",
      "Result after processing:  {}\n",
      "Image 82 of 180\n"
     ]
    },
    {
     "name": "stdout",
     "output_type": "stream",
     "text": [
      "Result before processing:  {}\n",
      "Result after processing:  {}\n",
      "Image 83 of 180\n"
     ]
    },
    {
     "name": "stdout",
     "output_type": "stream",
     "text": [
      "Result before processing:  {'cut': [[346.0, 148.5, 330.0, 148.5, 315.0, 143.5, 295.5, 121.0, 281.5, 74.0, 279.5, 19.0, 282.5, 11.0, 290.0, 5.5, 326.0, 3.5, 418.0, 7.5, 425.5, 19.0, 428.5, 54.0, 422.5, 91.0, 398.5, 111.0, 391.0, 123.5, 369.0, 139.5, 346.0, 148.5]]}\n",
      "Result after processing:  {}\n",
      "Image 84 of 180\n",
      "od {'light': [[28, 21, 1196, 1029]]}\n"
     ]
    },
    {
     "name": "stdout",
     "output_type": "stream",
     "text": [
      "Result before processing:  {}\n",
      "Result after processing:  {}\n",
      "Image 85 of 180\n"
     ]
    },
    {
     "name": "stdout",
     "output_type": "stream",
     "text": [
      "Result before processing:  {}\n",
      "Result after processing:  {}\n",
      "Image 86 of 180\n"
     ]
    },
    {
     "name": "stdout",
     "output_type": "stream",
     "text": [
      "Result before processing:  {}\n",
      "Result after processing:  {}\n",
      "Image 87 of 180\n",
      "od {'zero': [[327, 829, 422, 987]]}\n"
     ]
    },
    {
     "name": "stdout",
     "output_type": "stream",
     "text": [
      "Result before processing:  {}\n",
      "Result after processing:  {}\n",
      "Image 88 of 180\n"
     ]
    },
    {
     "name": "stdout",
     "output_type": "stream",
     "text": [
      "Result before processing:  {}\n",
      "Result after processing:  {}\n",
      "Image 89 of 180\n",
      "od {'light': [[1006, 389, 1610, 947]], 'zero': [[242, 815, 424, 1013], [356, 759, 603, 1002]]}\n"
     ]
    },
    {
     "name": "stdout",
     "output_type": "stream",
     "text": [
      "Result before processing:  {'cut': [[1253.0, 445.5, 1232.5, 436.0, 1232.5, 421.0, 1248.0, 400.5, 1265.0, 398.5, 1272.5, 410.0, 1274.5, 424.0, 1253.0, 445.5], [1321.0, 465.5, 1297.0, 454.5, 1290.5, 441.0, 1304.5, 400.0, 1315.0, 386.5, 1320.0, 385.5, 1335.0, 394.5, 1347.0, 389.5, 1355.0, 391.5, 1376.5, 420.0, 1376.5, 427.0, 1372.0, 424.5, 1363.0, 431.5, 1333.0, 435.5, 1328.5, 457.0, 1321.0, 465.5]]}\n",
      "Result after processing:  {'cut': [[1253.0, 445.5, 1232.5, 436.0, 1232.5, 421.0, 1248.0, 400.5, 1265.0, 398.5, 1272.5, 410.0, 1274.5, 424.0, 1253.0, 445.5], [1321.0, 465.5, 1297.0, 454.5, 1290.5, 441.0, 1304.5, 400.0, 1315.0, 386.5, 1320.0, 385.5, 1335.0, 394.5, 1347.0, 389.5, 1355.0, 391.5, 1376.5, 420.0, 1376.5, 427.0, 1372.0, 424.5, 1363.0, 431.5, 1333.0, 435.5, 1328.5, 457.0, 1321.0, 465.5]]}\n",
      "Image 90 of 180\n",
      "od {'zero': [[6, 697, 315, 1007]], 'light': [[1303, 206, 1920, 948]]}\n"
     ]
    },
    {
     "name": "stdout",
     "output_type": "stream",
     "text": [
      "Result before processing:  {'cut': [[1768.0, 311.5, 1746.0, 310.5, 1730.0, 300.5, 1713.0, 296.5, 1706.5, 287.0, 1713.5, 266.0, 1713.5, 242.0, 1727.0, 220.5, 1748.0, 210.5, 1790.0, 213.5, 1808.0, 218.5, 1836.5, 257.0, 1832.5, 283.0, 1826.0, 290.5, 1783.0, 309.5, 1768.0, 311.5], [1371.0, 645.5, 1324.0, 642.5, 1307.5, 627.0, 1306.5, 612.0, 1328.5, 578.0, 1336.5, 553.0, 1344.0, 544.5, 1372.0, 540.5, 1401.0, 541.5, 1436.0, 548.5, 1449.5, 573.0, 1437.5, 608.0, 1427.0, 617.5, 1405.0, 624.5, 1385.0, 641.5, 1371.0, 645.5]]}\n",
      "Result after processing:  {'cut': [[1768.0, 311.5, 1746.0, 310.5, 1730.0, 300.5, 1713.0, 296.5, 1706.5, 287.0, 1713.5, 266.0, 1713.5, 242.0, 1727.0, 220.5, 1748.0, 210.5, 1790.0, 213.5, 1808.0, 218.5, 1836.5, 257.0, 1832.5, 283.0, 1826.0, 290.5, 1783.0, 309.5, 1768.0, 311.5], [1371.0, 645.5, 1324.0, 642.5, 1307.5, 627.0, 1306.5, 612.0, 1328.5, 578.0, 1336.5, 553.0, 1344.0, 544.5, 1372.0, 540.5, 1401.0, 541.5, 1436.0, 548.5, 1449.5, 573.0, 1437.5, 608.0, 1427.0, 617.5, 1405.0, 624.5, 1385.0, 641.5, 1371.0, 645.5]]}\n",
      "Image 91 of 180\n",
      "od {'zero': [[0, 677, 281, 1011]]}\n"
     ]
    },
    {
     "name": "stdout",
     "output_type": "stream",
     "text": [
      "Result before processing:  {'cut': [[730.0, 611.5, 720.0, 611.5, 713.5, 607.0, 715.0, 590.5, 728.0, 588.5, 736.5, 595.0, 738.5, 603.0, 730.0, 611.5]]}\n",
      "Result after processing:  {}\n",
      "Image 92 of 180\n",
      "od {'light': [[603, 553, 800, 878], [52, 582, 535, 1004]], 'zero': [[865, 524, 1080, 877]]}\n"
     ]
    },
    {
     "name": "stdout",
     "output_type": "stream",
     "text": [
      "Result before processing:  {}\n",
      "Result after processing:  {}\n",
      "Image 93 of 180\n",
      "od {'zero': [[1296, 406, 1606, 723], [323, 236, 1010, 1074], [20, 417, 587, 1077]], 'light': [[833, 341, 1483, 1018]]}\n"
     ]
    },
    {
     "name": "stdout",
     "output_type": "stream",
     "text": [
      "Result before processing:  {}\n",
      "Result after processing:  {}\n",
      "Image 94 of 180\n",
      "od {'light': [[647, 17, 1657, 1015]], 'zero': [[386, 497, 960, 1040]]}\n"
     ]
    },
    {
     "name": "stdout",
     "output_type": "stream",
     "text": [
      "Result before processing:  {'cut': [[205.0, 361.5, 147.0, 349.5, 128.0, 337.5, 121.5, 329.0, 121.5, 316.0, 137.5, 265.0, 153.0, 249.5, 164.0, 245.5, 226.0, 248.5, 243.5, 261.0, 242.5, 281.0, 228.5, 311.0, 214.5, 358.0, 205.0, 361.5], [1681.0, 222.5, 1655.0, 220.5, 1637.0, 214.5, 1615.5, 198.0, 1615.5, 118.0, 1629.5, 86.0, 1652.0, 63.5, 1718.0, 61.5, 1730.5, 77.0, 1737.5, 117.0, 1747.5, 145.0, 1747.5, 161.0, 1735.5, 183.0, 1711.0, 209.5, 1681.0, 222.5], [811.0, 311.5, 802.0, 310.5, 792.0, 302.5, 775.0, 303.5, 771.0, 295.5, 760.5, 290.0, 750.0, 263.5, 744.5, 276.0, 743.5, 247.0, 763.0, 247.5, 780.5, 231.0, 780.0, 220.5, 771.0, 222.5, 759.5, 218.0, 761.5, 214.0, 755.5, 210.0, 762.0, 205.5, 814.0, 206.5, 824.5, 227.0, 835.5, 233.0, 849.5, 255.0, 849.5, 273.0, 834.5, 300.0, 825.0, 307.5, 811.0, 311.5], [475.0, 352.5, 443.0, 352.5, 440.5, 340.0, 436.5, 337.0, 448.5, 313.0, 461.0, 303.5, 472.5, 306.0, 476.5, 323.0, 475.0, 352.5]]}\n",
      "Result after processing:  {'cut': [[1681.0, 222.5, 1655.0, 220.5, 1637.0, 214.5, 1615.5, 198.0, 1615.5, 118.0, 1629.5, 86.0, 1652.0, 63.5, 1718.0, 61.5, 1730.5, 77.0, 1737.5, 117.0, 1747.5, 145.0, 1747.5, 161.0, 1735.5, 183.0, 1711.0, 209.5, 1681.0, 222.5], [811.0, 311.5, 802.0, 310.5, 792.0, 302.5, 775.0, 303.5, 771.0, 295.5, 760.5, 290.0, 750.0, 263.5, 744.5, 276.0, 743.5, 247.0, 763.0, 247.5, 780.5, 231.0, 780.0, 220.5, 771.0, 222.5, 759.5, 218.0, 761.5, 214.0, 755.5, 210.0, 762.0, 205.5, 814.0, 206.5, 824.5, 227.0, 835.5, 233.0, 849.5, 255.0, 849.5, 273.0, 834.5, 300.0, 825.0, 307.5, 811.0, 311.5]]}\n",
      "Image 95 of 180\n",
      "od {'light': [[0, 3, 350, 958]]}\n"
     ]
    },
    {
     "name": "stdout",
     "output_type": "stream",
     "text": [
      "Result before processing:  {}\n",
      "Result after processing:  {}\n",
      "Image 96 of 180\n",
      "od {'light': [[924, 4, 1908, 871]]}\n"
     ]
    },
    {
     "name": "stdout",
     "output_type": "stream",
     "text": [
      "Result before processing:  {'cut': [[1137.0, 252.5, 1114.5, 238.0, 1105.5, 226.0, 1103.5, 214.0, 1158.0, 154.5, 1175.0, 143.5, 1187.0, 141.5, 1197.5, 150.0, 1199.5, 161.0, 1193.5, 184.0, 1168.5, 234.0, 1158.0, 244.5, 1137.0, 252.5]]}\n",
      "Result after processing:  {'cut': [[1137.0, 252.5, 1114.5, 238.0, 1105.5, 226.0, 1103.5, 214.0, 1158.0, 154.5, 1175.0, 143.5, 1187.0, 141.5, 1197.5, 150.0, 1199.5, 161.0, 1193.5, 184.0, 1168.5, 234.0, 1158.0, 244.5, 1137.0, 252.5]]}\n",
      "Image 97 of 180\n",
      "od {'light': [[409, 35, 1342, 1056]]}\n"
     ]
    },
    {
     "name": "stdout",
     "output_type": "stream",
     "text": [
      "Result before processing:  {'cut': [[70.0, 938.5, 63.0, 936.5, 37.5, 908.0, 36.5, 885.0, 41.5, 867.0, 51.5, 862.0, 53.5, 848.0, 61.5, 833.0, 78.0, 819.5, 92.0, 818.5, 112.5, 830.0, 123.5, 856.0, 117.5, 872.0, 114.5, 914.0, 108.0, 925.5, 94.0, 926.5, 70.0, 938.5]]}\n",
      "Result after processing:  {}\n",
      "Image 98 of 180\n",
      "od {'zero': [[86, 212, 747, 1039], [916, 0, 1755, 960], [254, 55, 1209, 1061]]}\n"
     ]
    },
    {
     "name": "stdout",
     "output_type": "stream",
     "text": [
      "Result before processing:  {'cut': [[185.0, 862.5, 172.0, 860.5, 168.5, 849.0, 181.5, 812.0, 208.5, 770.0, 242.0, 745.5, 244.5, 757.0, 258.5, 763.0, 265.5, 781.0, 251.5, 823.0, 239.5, 843.0, 228.0, 852.5, 185.0, 862.5]]}\n",
      "Result after processing:  {'cut': [[185.0, 862.5, 172.0, 860.5, 168.5, 849.0, 181.5, 812.0, 208.5, 770.0, 242.0, 745.5, 244.5, 757.0, 258.5, 763.0, 265.5, 781.0, 251.5, 823.0, 239.5, 843.0, 228.0, 852.5, 185.0, 862.5]]}\n",
      "Image 99 of 180\n"
     ]
    },
    {
     "name": "stdout",
     "output_type": "stream",
     "text": [
      "Result before processing:  {}\n",
      "Result after processing:  {}\n",
      "Image 100 of 180\n"
     ]
    },
    {
     "name": "stdout",
     "output_type": "stream",
     "text": [
      "Result before processing:  {}\n",
      "Result after processing:  {}\n",
      "Image 101 of 180\n"
     ]
    },
    {
     "name": "stdout",
     "output_type": "stream",
     "text": [
      "Result before processing:  {}\n",
      "Result after processing:  {}\n",
      "Image 102 of 180\n"
     ]
    },
    {
     "name": "stdout",
     "output_type": "stream",
     "text": [
      "Result before processing:  {'cut': [[896.0, 476.5, 870.5, 471.0, 870.5, 465.0, 894.5, 428.0, 918.0, 404.5, 934.0, 402.5, 950.0, 407.5, 962.5, 435.0, 958.5, 445.0, 938.0, 465.5, 896.0, 476.5]]}\n",
      "Result after processing:  {}\n",
      "Image 103 of 180\n",
      "od {'light': [[0, 958, 79, 1066]], 'zero': [[1293, 413, 1826, 894]]}\n"
     ]
    },
    {
     "name": "stdout",
     "output_type": "stream",
     "text": [
      "Result before processing:  {}\n",
      "Result after processing:  {}\n",
      "Image 104 of 180\n",
      "od {'zero': [[1009, 752, 1200, 1018], [891, 742, 1075, 1026], [292, 929, 407, 1027]]}\n"
     ]
    },
    {
     "name": "stdout",
     "output_type": "stream",
     "text": [
      "Result before processing:  {}\n",
      "Result after processing:  {}\n",
      "Image 105 of 180\n",
      "od {'zero': [[1414, 704, 1621, 1001], [1546, 705, 1776, 1001], [1690, 697, 1915, 987]]}\n"
     ]
    },
    {
     "name": "stdout",
     "output_type": "stream",
     "text": [
      "Result before processing:  {'cut': [[1460.0, 752.5, 1428.5, 738.0, 1426.5, 730.0, 1432.0, 721.5, 1454.0, 720.5, 1473.5, 726.0, 1478.5, 740.0, 1460.0, 752.5]]}\n",
      "Result after processing:  {'cut': [[1460.0, 752.5, 1428.5, 738.0, 1426.5, 730.0, 1432.0, 721.5, 1454.0, 720.5, 1473.5, 726.0, 1478.5, 740.0, 1460.0, 752.5]]}\n",
      "Image 106 of 180\n"
     ]
    },
    {
     "name": "stdout",
     "output_type": "stream",
     "text": [
      "Result before processing:  {}\n",
      "Result after processing:  {}\n",
      "Image 107 of 180\n"
     ]
    },
    {
     "name": "stdout",
     "output_type": "stream",
     "text": [
      "Result before processing:  {'cut': [[865.0, 769.5, 833.0, 767.5, 823.5, 755.0, 823.5, 709.0, 828.5, 689.0, 839.5, 664.0, 848.0, 655.5, 859.0, 651.5, 878.0, 656.5, 901.0, 670.5, 911.0, 669.5, 921.5, 678.0, 930.5, 696.0, 936.5, 735.0, 936.5, 745.0, 930.0, 756.5, 865.0, 769.5]]}\n",
      "Result after processing:  {}\n",
      "Image 108 of 180\n"
     ]
    },
    {
     "name": "stdout",
     "output_type": "stream",
     "text": [
      "Result before processing:  {}\n",
      "Result after processing:  {}\n",
      "Image 109 of 180\n"
     ]
    },
    {
     "name": "stdout",
     "output_type": "stream",
     "text": [
      "Result before processing:  {}\n",
      "Result after processing:  {}\n",
      "Image 110 of 180\n",
      "od {'light': [[6, 331, 491, 1006]]}\n"
     ]
    },
    {
     "name": "stdout",
     "output_type": "stream",
     "text": [
      "Result before processing:  {}\n",
      "Result after processing:  {}\n",
      "Image 111 of 180\n",
      "od {'light': [[12, 145, 788, 1080]]}\n"
     ]
    },
    {
     "name": "stdout",
     "output_type": "stream",
     "text": [
      "Result before processing:  {'cut': [[168.0, 312.5, 153.0, 312.5, 146.5, 307.0, 150.5, 299.0, 121.5, 256.0, 113.5, 231.0, 111.5, 211.0, 116.5, 193.0, 136.0, 176.5, 158.0, 178.5, 173.0, 187.5, 184.5, 201.0, 200.5, 232.0, 212.5, 277.0, 210.0, 309.5, 186.0, 306.5, 168.0, 312.5]]}\n",
      "Result after processing:  {'cut': [[168.0, 312.5, 153.0, 312.5, 146.5, 307.0, 150.5, 299.0, 121.5, 256.0, 113.5, 231.0, 111.5, 211.0, 116.5, 193.0, 136.0, 176.5, 158.0, 178.5, 173.0, 187.5, 184.5, 201.0, 200.5, 232.0, 212.5, 277.0, 210.0, 309.5, 186.0, 306.5, 168.0, 312.5]]}\n",
      "Image 112 of 180\n",
      "od {'light': [[6, 226, 350, 896]]}\n"
     ]
    },
    {
     "name": "stdout",
     "output_type": "stream",
     "text": [
      "Result before processing:  {'cut': [[0.0, 184.5, 5.0, 176.5, 13.0, 173.5, 47.0, 176.5, 62.5, 193.0, 73.5, 221.0, 84.5, 230.0, 91.5, 256.0, 87.5, 265.0, 88.5, 282.0, 78.5, 301.0, 70.0, 307.5, 51.0, 310.5, 34.0, 308.5, 18.0, 295.5, 5.5, 282.0, 0.0, 267.5], [177.0, 411.5, 112.0, 411.5, 100.0, 408.5, 94.5, 401.0, 96.5, 386.0, 88.5, 373.0, 91.5, 364.0, 84.0, 358.5, 76.0, 358.5, 66.0, 348.5, 49.0, 341.5, 33.5, 329.0, 34.5, 322.0, 66.5, 280.0, 68.5, 270.0, 80.5, 260.0, 85.0, 242.5, 99.0, 241.5, 123.0, 260.5, 154.0, 243.5, 163.0, 231.5, 167.5, 234.0, 164.5, 242.0, 166.5, 276.0, 161.5, 304.0, 175.5, 336.0, 186.5, 343.0, 174.5, 357.0, 180.5, 391.0, 186.5, 401.0, 184.5, 408.0, 177.0, 411.5]]}\n",
      "Result after processing:  {'cut': [[0.0, 184.5, 5.0, 176.5, 13.0, 173.5, 47.0, 176.5, 62.5, 193.0, 73.5, 221.0, 84.5, 230.0, 91.5, 256.0, 87.5, 265.0, 88.5, 282.0, 78.5, 301.0, 70.0, 307.5, 51.0, 310.5, 34.0, 308.5, 18.0, 295.5, 5.5, 282.0, 0.0, 267.5], [177.0, 411.5, 112.0, 411.5, 100.0, 408.5, 94.5, 401.0, 96.5, 386.0, 88.5, 373.0, 91.5, 364.0, 84.0, 358.5, 76.0, 358.5, 66.0, 348.5, 49.0, 341.5, 33.5, 329.0, 34.5, 322.0, 66.5, 280.0, 68.5, 270.0, 80.5, 260.0, 85.0, 242.5, 99.0, 241.5, 123.0, 260.5, 154.0, 243.5, 163.0, 231.5, 167.5, 234.0, 164.5, 242.0, 166.5, 276.0, 161.5, 304.0, 175.5, 336.0, 186.5, 343.0, 174.5, 357.0, 180.5, 391.0, 186.5, 401.0, 184.5, 408.0, 177.0, 411.5]]}\n",
      "Image 113 of 180\n"
     ]
    },
    {
     "name": "stdout",
     "output_type": "stream",
     "text": [
      "Result before processing:  {'cut': [[1090.0, 414.5, 1062.0, 408.5, 1020.0, 407.5, 995.5, 395.0, 986.5, 369.0, 996.5, 333.0, 1016.0, 310.5, 1031.0, 307.5, 1047.0, 311.5, 1098.5, 313.0, 1102.5, 321.0, 1087.0, 324.5, 1087.5, 329.0, 1081.5, 333.0, 1086.5, 353.0, 1085.5, 393.0, 1091.0, 403.5, 1100.5, 406.0, 1099.0, 412.5, 1090.0, 414.5], [648.5, 0.0, 677.0, 10.5, 689.5, 31.0, 693.5, 74.0, 692.5, 96.0, 686.5, 109.0, 677.0, 120.5, 658.0, 124.5, 654.5, 129.0, 657.5, 135.0, 652.0, 138.5, 645.0, 135.5, 624.0, 137.5, 612.0, 141.5, 607.0, 148.5, 585.0, 152.5, 545.0, 152.5, 534.5, 146.0, 531.5, 133.0, 530.5, 102.0, 525.5, 86.0, 529.5, 55.0, 521.5, 35.0, 522.5, 18.0, 534.0, 5.5, 547.0, 0.5, 609.5, 0.0], [1659.0, 608.5, 1645.0, 606.5, 1629.5, 595.0, 1625.5, 572.0, 1632.5, 545.0, 1656.0, 542.5, 1689.0, 529.5, 1702.0, 532.5, 1716.5, 546.0, 1720.5, 556.0, 1719.5, 564.0, 1712.5, 573.0, 1711.5, 591.0, 1659.0, 608.5], [223.0, 118.5, 201.0, 114.5, 183.5, 100.0, 165.5, 79.0, 156.5, 48.0, 170.0, 35.5, 175.0, 38.5, 181.5, 30.0, 180.5, 25.0, 190.0, 17.5, 215.0, 16.5, 223.0, 7.5, 247.0, 7.5, 272.5, 51.0, 275.5, 70.0, 258.0, 93.5, 223.0, 118.5]]}\n",
      "Result after processing:  {}\n",
      "Image 114 of 180\n"
     ]
    },
    {
     "name": "stdout",
     "output_type": "stream",
     "text": [
      "Result before processing:  {'cut': [[850.0, 753.5, 763.0, 733.5, 761.5, 699.0, 801.0, 678.5, 828.0, 672.5, 856.0, 672.5, 888.0, 684.5, 905.5, 700.0, 916.5, 717.0, 917.5, 741.0, 906.0, 746.5, 850.0, 753.5]]}\n",
      "Result after processing:  {}\n",
      "Image 115 of 180\n",
      "od {'light': [[128, 588, 650, 1080]]}\n"
     ]
    },
    {
     "name": "stdout",
     "output_type": "stream",
     "text": [
      "Result before processing:  {}\n",
      "Result after processing:  {}\n",
      "Image 116 of 180\n",
      "od {'light': [[23, 818, 324, 1067]]}\n"
     ]
    },
    {
     "name": "stdout",
     "output_type": "stream",
     "text": [
      "Result before processing:  {'cut': [[1680.0, 525.5, 1668.0, 513.5, 1648.0, 502.5, 1594.0, 482.5, 1580.5, 469.0, 1575.5, 400.0, 1579.5, 389.0, 1593.0, 376.5, 1614.0, 374.5, 1642.0, 381.5, 1703.0, 419.5, 1743.0, 438.5, 1756.5, 456.0, 1757.5, 475.0, 1744.0, 493.5, 1717.0, 514.5, 1696.0, 523.5, 1680.0, 525.5], [95.0, 274.5, 87.0, 273.5, 74.0, 256.5, 53.0, 250.5, 32.0, 237.5, 23.5, 241.0, 22.5, 232.0, 26.0, 229.5, 32.0, 232.5, 36.5, 228.0, 32.0, 220.5, 24.5, 227.0, 21.5, 200.0, 38.0, 180.5, 89.0, 152.5, 108.0, 146.5, 133.0, 144.5, 173.0, 147.5, 181.5, 157.0, 185.5, 174.0, 180.5, 206.0, 136.0, 254.5, 95.0, 274.5]]}\n",
      "Result after processing:  {}\n",
      "Image 117 of 180\n",
      "od {'light': [[3, 58, 500, 958], [743, 783, 1130, 1080]]}\n"
     ]
    },
    {
     "name": "stdout",
     "output_type": "stream",
     "text": [
      "Result before processing:  {'cut': [[531.0, 559.5, 523.5, 558.0, 520.5, 544.0, 522.5, 508.0, 539.0, 491.5, 559.0, 492.5, 579.5, 520.0, 580.5, 547.0, 563.0, 556.5, 531.0, 559.5]]}\n",
      "Result after processing:  {}\n",
      "Image 118 of 180\n"
     ]
    },
    {
     "name": "stdout",
     "output_type": "stream",
     "text": [
      "Result before processing:  {}\n",
      "Result after processing:  {}\n",
      "Image 119 of 180\n",
      "od {'light': [[0, 587, 232, 953]]}\n"
     ]
    },
    {
     "name": "stdout",
     "output_type": "stream",
     "text": [
      "Result before processing:  {}\n",
      "Result after processing:  {}\n",
      "Image 120 of 180\n",
      "od {'light': [[7, 468, 644, 1080]]}\n"
     ]
    },
    {
     "name": "stdout",
     "output_type": "stream",
     "text": [
      "Result before processing:  {}\n",
      "Result after processing:  {}\n",
      "Image 121 of 180\n",
      "od {'light': [[917, 153, 1847, 1080]]}\n"
     ]
    },
    {
     "name": "stdout",
     "output_type": "stream",
     "text": [
      "Result before processing:  {'cut': [[1096.0, 510.5, 1071.0, 509.5, 1046.0, 481.5, 1028.0, 475.5, 1018.5, 464.0, 1019.5, 450.0, 1032.5, 427.0, 1038.5, 391.0, 1061.0, 380.5, 1104.0, 380.5, 1121.0, 385.5, 1130.5, 393.0, 1128.5, 397.0, 1140.5, 423.0, 1143.5, 456.0, 1139.5, 469.0, 1121.0, 472.5, 1106.0, 485.5, 1107.5, 494.0, 1104.5, 498.0, 1116.5, 504.0, 1096.0, 510.5], [704.0, 685.5, 677.0, 677.5, 660.0, 668.5, 652.5, 659.0, 648.5, 643.0, 652.5, 627.0, 652.5, 594.0, 661.0, 577.5, 674.0, 587.5, 690.0, 591.5, 715.5, 618.0, 732.5, 644.0, 732.5, 657.0, 721.5, 665.0, 715.5, 679.0, 704.0, 685.5], [1478.0, 526.5, 1457.0, 515.5, 1446.0, 516.5, 1438.0, 512.5, 1430.5, 501.0, 1435.5, 475.0, 1449.5, 444.0, 1503.0, 386.5, 1524.0, 386.5, 1554.0, 394.5, 1559.5, 404.0, 1557.5, 413.0, 1542.5, 438.0, 1532.5, 471.0, 1500.5, 517.0, 1478.0, 526.5], [761.0, 566.5, 729.0, 559.5, 721.5, 551.0, 717.5, 497.0, 732.0, 470.5, 762.0, 475.5, 768.5, 489.0, 772.5, 507.0, 772.5, 547.0, 764.5, 554.0, 762.5, 559.0, 767.5, 562.0, 761.0, 566.5]]}\n",
      "Result after processing:  {'cut': [[1096.0, 510.5, 1071.0, 509.5, 1046.0, 481.5, 1028.0, 475.5, 1018.5, 464.0, 1019.5, 450.0, 1032.5, 427.0, 1038.5, 391.0, 1061.0, 380.5, 1104.0, 380.5, 1121.0, 385.5, 1130.5, 393.0, 1128.5, 397.0, 1140.5, 423.0, 1143.5, 456.0, 1139.5, 469.0, 1121.0, 472.5, 1106.0, 485.5, 1107.5, 494.0, 1104.5, 498.0, 1116.5, 504.0, 1096.0, 510.5], [1478.0, 526.5, 1457.0, 515.5, 1446.0, 516.5, 1438.0, 512.5, 1430.5, 501.0, 1435.5, 475.0, 1449.5, 444.0, 1503.0, 386.5, 1524.0, 386.5, 1554.0, 394.5, 1559.5, 404.0, 1557.5, 413.0, 1542.5, 438.0, 1532.5, 471.0, 1500.5, 517.0, 1478.0, 526.5]]}\n",
      "Image 122 of 180\n",
      "od {'light': [[1106, 594, 1791, 1074]]}\n"
     ]
    },
    {
     "name": "stdout",
     "output_type": "stream",
     "text": [
      "Result before processing:  {'cut': [[1440.0, 666.5, 1424.0, 663.5, 1413.5, 649.0, 1401.5, 621.0, 1400.5, 609.0, 1408.0, 597.5, 1432.0, 580.5, 1447.0, 575.5, 1468.0, 575.5, 1488.0, 585.5, 1500.5, 598.0, 1506.5, 612.0, 1504.5, 630.0, 1488.5, 647.0, 1486.0, 654.5, 1482.0, 646.5, 1460.0, 649.5, 1440.0, 666.5], [1819.0, 709.5, 1803.0, 705.5, 1792.5, 682.0, 1786.5, 679.0, 1768.5, 637.0, 1758.5, 602.0, 1761.5, 578.0, 1768.5, 568.0, 1792.0, 563.5, 1802.0, 557.5, 1816.0, 558.5, 1840.5, 578.0, 1849.5, 631.0, 1841.5, 663.0, 1824.5, 695.0, 1832.5, 702.0, 1819.0, 709.5]]}\n",
      "Result after processing:  {'cut': [[1440.0, 666.5, 1424.0, 663.5, 1413.5, 649.0, 1401.5, 621.0, 1400.5, 609.0, 1408.0, 597.5, 1432.0, 580.5, 1447.0, 575.5, 1468.0, 575.5, 1488.0, 585.5, 1500.5, 598.0, 1506.5, 612.0, 1504.5, 630.0, 1488.5, 647.0, 1486.0, 654.5, 1482.0, 646.5, 1460.0, 649.5, 1440.0, 666.5], [1819.0, 709.5, 1803.0, 705.5, 1792.5, 682.0, 1786.5, 679.0, 1768.5, 637.0, 1758.5, 602.0, 1761.5, 578.0, 1768.5, 568.0, 1792.0, 563.5, 1802.0, 557.5, 1816.0, 558.5, 1840.5, 578.0, 1849.5, 631.0, 1841.5, 663.0, 1824.5, 695.0, 1832.5, 702.0, 1819.0, 709.5]]}\n",
      "Image 123 of 180\n"
     ]
    },
    {
     "name": "stdout",
     "output_type": "stream",
     "text": [
      "Result before processing:  {}\n",
      "Result after processing:  {}\n",
      "Image 124 of 180\n"
     ]
    },
    {
     "name": "stdout",
     "output_type": "stream",
     "text": [
      "Result before processing:  {}\n",
      "Result after processing:  {}\n",
      "Image 125 of 180\n"
     ]
    },
    {
     "name": "stdout",
     "output_type": "stream",
     "text": [
      "Result before processing:  {}\n",
      "Result after processing:  {}\n",
      "Image 126 of 180\n"
     ]
    },
    {
     "name": "stdout",
     "output_type": "stream",
     "text": [
      "Result before processing:  {}\n",
      "Result after processing:  {}\n",
      "Image 127 of 180\n"
     ]
    },
    {
     "name": "stdout",
     "output_type": "stream",
     "text": [
      "Result before processing:  {}\n",
      "Result after processing:  {}\n",
      "Image 128 of 180\n"
     ]
    },
    {
     "name": "stdout",
     "output_type": "stream",
     "text": [
      "Result before processing:  {}\n",
      "Result after processing:  {}\n",
      "Image 129 of 180\n"
     ]
    },
    {
     "name": "stdout",
     "output_type": "stream",
     "text": [
      "Result before processing:  {}\n",
      "Result after processing:  {}\n",
      "Image 130 of 180\n"
     ]
    },
    {
     "name": "stdout",
     "output_type": "stream",
     "text": [
      "Result before processing:  {}\n",
      "Result after processing:  {}\n",
      "Image 131 of 180\n"
     ]
    },
    {
     "name": "stdout",
     "output_type": "stream",
     "text": [
      "Result before processing:  {}\n",
      "Result after processing:  {}\n",
      "Image 132 of 180\n"
     ]
    },
    {
     "name": "stdout",
     "output_type": "stream",
     "text": [
      "Result before processing:  {'cut': [[121.0, 378.5, 96.0, 377.5, 81.5, 362.0, 78.5, 351.0, 82.5, 350.0, 87.5, 339.0, 84.5, 335.0, 87.5, 320.0, 116.0, 292.5, 143.0, 280.5, 164.0, 281.5, 169.5, 287.0, 173.5, 301.0, 175.5, 321.0, 172.5, 331.0, 140.0, 371.5, 121.0, 378.5], [269.0, 492.5, 251.0, 486.5, 196.0, 453.5, 187.5, 444.0, 184.5, 430.0, 202.0, 394.5, 219.0, 394.5, 238.0, 402.5, 286.5, 448.0, 291.5, 469.0, 284.5, 482.0, 269.0, 492.5]]}\n",
      "Result after processing:  {}\n",
      "Image 133 of 180\n"
     ]
    },
    {
     "name": "stdout",
     "output_type": "stream",
     "text": [
      "Result before processing:  {}\n",
      "Result after processing:  {}\n",
      "Image 134 of 180\n"
     ]
    },
    {
     "name": "stdout",
     "output_type": "stream",
     "text": [
      "Result before processing:  {'cut': [[426.0, 291.5, 401.0, 291.5, 395.5, 288.0, 390.5, 268.0, 389.5, 232.0, 381.5, 198.0, 389.5, 133.0, 414.0, 108.5, 429.0, 110.5, 468.0, 136.5, 478.5, 149.0, 488.5, 176.0, 494.5, 237.0, 493.5, 263.0, 484.0, 278.5, 473.0, 284.5, 426.0, 291.5]]}\n",
      "Result after processing:  {}\n",
      "Image 135 of 180\n"
     ]
    },
    {
     "name": "stdout",
     "output_type": "stream",
     "text": [
      "Result before processing:  {}\n",
      "Result after processing:  {}\n",
      "Image 136 of 180\n",
      "od {'light': [[349, 912, 496, 1019], [146, 881, 303, 1019]]}\n"
     ]
    },
    {
     "name": "stdout",
     "output_type": "stream",
     "text": [
      "Result before processing:  {}\n",
      "Result after processing:  {}\n",
      "Image 137 of 180\n",
      "od {'light': [[928, 889, 1087, 1014]], 'zero': [[47, 848, 259, 1003], [206, 849, 386, 1005]]}\n"
     ]
    },
    {
     "name": "stdout",
     "output_type": "stream",
     "text": [
      "Result before processing:  {}\n",
      "Result after processing:  {}\n",
      "Image 138 of 180\n",
      "od {'light': [[1068, 861, 1237, 1003], [889, 843, 1040, 978], [329, 837, 496, 1001]], 'zero': [[140, 839, 368, 1021]]}\n"
     ]
    },
    {
     "name": "stdout",
     "output_type": "stream",
     "text": [
      "Result before processing:  {}\n",
      "Result after processing:  {}\n",
      "Image 139 of 180\n",
      "od {'light': [[957, 836, 1138, 976]]}\n"
     ]
    },
    {
     "name": "stdout",
     "output_type": "stream",
     "text": [
      "Result before processing:  {}\n",
      "Result after processing:  {}\n",
      "Image 140 of 180\n",
      "od {'zero': [[0, 746, 274, 1030], [234, 808, 456, 1008], [727, 777, 912, 968]], 'light': [[934, 813, 1122, 965]]}\n"
     ]
    },
    {
     "name": "stdout",
     "output_type": "stream",
     "text": [
      "Result before processing:  {}\n",
      "Result after processing:  {}\n",
      "Image 141 of 180\n",
      "od {'zero': [[797, 748, 1014, 951], [988, 790, 1214, 970], [236, 778, 529, 1043]], 'light': [[220, 779, 534, 1044], [0, 689, 285, 1045]]}\n"
     ]
    },
    {
     "name": "stdout",
     "output_type": "stream",
     "text": [
      "Result before processing:  {}\n",
      "Result after processing:  {}\n",
      "Image 142 of 180\n",
      "od {'zero': [[417, 734, 746, 1039], [717, 806, 903, 1017], [980, 696, 1211, 1000], [115, 608, 539, 1049]], 'light': [[1170, 756, 1421, 1012]]}\n"
     ]
    },
    {
     "name": "stdout",
     "output_type": "stream",
     "text": [
      "Result before processing:  {}\n",
      "Result after processing:  {}\n",
      "Image 143 of 180\n",
      "od {'zero': [[1042, 742, 1260, 1026], [420, 494, 885, 1049], [1181, 632, 1548, 1006], [0, 442, 646, 1006]]}\n"
     ]
    },
    {
     "name": "stdout",
     "output_type": "stream",
     "text": [
      "Result before processing:  {}\n",
      "Result after processing:  {}\n",
      "Image 144 of 180\n",
      "od {'zero': [[0, 707, 213, 1067]]}\n"
     ]
    },
    {
     "name": "stdout",
     "output_type": "stream",
     "text": [
      "Result before processing:  {}\n",
      "Result after processing:  {}\n",
      "Image 145 of 180\n",
      "od {'light': [[919, 32, 1920, 1057]]}\n"
     ]
    },
    {
     "name": "stdout",
     "output_type": "stream",
     "text": [
      "Result before processing:  {'cut': [[817.0, 788.5, 787.0, 785.5, 780.0, 774.5, 764.0, 765.5, 758.5, 758.0, 751.5, 736.0, 748.5, 703.0, 754.0, 693.5, 772.0, 680.5, 797.0, 678.5, 817.5, 708.0, 830.5, 719.0, 837.5, 743.0, 837.5, 763.0, 830.5, 785.0, 817.0, 788.5]]}\n",
      "Result after processing:  {}\n",
      "Image 146 of 180\n"
     ]
    },
    {
     "name": "stdout",
     "output_type": "stream",
     "text": [
      "Result before processing:  {}\n",
      "Result after processing:  {}\n",
      "Image 147 of 180\n",
      "od {'light': [[687, 60, 1704, 1079], [12, 653, 180, 800], [128, 568, 353, 842]], 'zero': [[276, 542, 495, 825]]}\n"
     ]
    },
    {
     "name": "stdout",
     "output_type": "stream",
     "text": [
      "Result before processing:  {}\n",
      "Result after processing:  {}\n",
      "Image 148 of 180\n",
      "od {'light': [[1263, 240, 1920, 1064]]}\n"
     ]
    },
    {
     "name": "stdout",
     "output_type": "stream",
     "text": [
      "Result before processing:  {}\n",
      "Result after processing:  {}\n",
      "Image 149 of 180\n"
     ]
    },
    {
     "name": "stdout",
     "output_type": "stream",
     "text": [
      "Result before processing:  {'cut': [[1856.0, 230.5, 1833.0, 229.5, 1823.5, 223.0, 1820.5, 212.0, 1824.5, 207.0, 1817.5, 202.0, 1817.5, 190.0, 1826.5, 184.0, 1870.0, 117.5, 1904.0, 117.5, 1913.5, 125.0, 1912.5, 172.0, 1904.5, 187.0, 1870.5, 223.0, 1856.0, 230.5]]}\n",
      "Result after processing:  {}\n",
      "Image 150 of 180\n",
      "od {'light': [[1085, 326, 1557, 844]]}\n"
     ]
    },
    {
     "name": "stdout",
     "output_type": "stream",
     "text": [
      "Result before processing:  {'cut': [[1559.0, 324.5, 1531.5, 298.0, 1526.5, 278.0, 1520.5, 270.0, 1497.5, 255.0, 1493.5, 246.0, 1495.0, 220.5, 1559.5, 223.0, 1569.5, 249.0, 1564.5, 272.0, 1593.0, 290.5, 1595.5, 299.0, 1559.0, 324.5]]}\n",
      "Result after processing:  {}\n",
      "Image 151 of 180\n",
      "od {'light': [[1291, 207, 1902, 856]]}\n"
     ]
    },
    {
     "name": "stdout",
     "output_type": "stream",
     "text": [
      "Result before processing:  {}\n",
      "Result after processing:  {}\n",
      "Image 152 of 180\n"
     ]
    },
    {
     "name": "stdout",
     "output_type": "stream",
     "text": [
      "Result before processing:  {}\n",
      "Result after processing:  {}\n",
      "Image 153 of 180\n"
     ]
    },
    {
     "name": "stdout",
     "output_type": "stream",
     "text": [
      "Result before processing:  {'cut': [[1066.0, 291.5, 1058.5, 283.0, 1053.5, 256.0, 1061.5, 234.0, 1084.0, 215.5, 1106.0, 209.5, 1119.0, 212.5, 1125.5, 220.0, 1129.5, 240.0, 1124.5, 263.0, 1091.0, 282.5, 1072.0, 283.5, 1066.0, 291.5]]}\n",
      "Result after processing:  {}\n",
      "Image 154 of 180\n"
     ]
    },
    {
     "name": "stdout",
     "output_type": "stream",
     "text": [
      "Result before processing:  {}\n",
      "Result after processing:  {}\n",
      "Image 155 of 180\n"
     ]
    },
    {
     "name": "stdout",
     "output_type": "stream",
     "text": [
      "Result before processing:  {'cut': [[1178.0, 281.5, 1159.0, 273.5, 1150.5, 255.0, 1159.5, 226.0, 1156.5, 195.0, 1164.5, 169.0, 1181.0, 151.5, 1203.0, 140.5, 1228.0, 140.5, 1247.0, 129.5, 1253.5, 137.0, 1246.5, 159.0, 1250.5, 175.0, 1264.5, 193.0, 1267.5, 206.0, 1266.5, 226.0, 1259.5, 236.0, 1259.5, 243.0, 1228.0, 268.5, 1206.0, 277.5, 1178.0, 281.5], [1720.0, 448.5, 1706.0, 445.5, 1680.0, 447.5, 1672.5, 428.0, 1673.5, 391.0, 1677.5, 382.0, 1700.0, 360.5, 1714.0, 353.5, 1726.0, 354.5, 1732.5, 360.0, 1745.5, 386.0, 1741.5, 423.0, 1727.5, 444.0, 1720.0, 448.5]]}\n",
      "Result after processing:  {}\n",
      "Image 156 of 180\n"
     ]
    },
    {
     "name": "stdout",
     "output_type": "stream",
     "text": [
      "Result before processing:  {'cut': [[46.0, 615.5, 18.0, 613.5, 5.5, 596.0, 2.5, 578.0, 15.5, 546.0, 31.5, 524.0, 54.0, 503.5, 71.0, 495.5, 84.0, 492.5, 140.0, 494.5, 165.0, 505.5, 205.5, 544.0, 205.5, 555.0, 187.0, 592.5, 180.0, 587.5, 172.0, 590.5, 159.0, 583.5, 148.0, 586.5, 128.0, 580.5, 109.0, 580.5, 74.0, 607.5, 46.0, 615.5], [1417.0, 474.5, 1402.0, 473.5, 1399.0, 468.5, 1384.0, 466.5, 1376.5, 460.0, 1375.5, 447.0, 1386.5, 432.0, 1395.0, 424.5, 1406.0, 421.5, 1448.0, 415.5, 1468.0, 416.5, 1471.5, 420.0, 1471.5, 431.0, 1464.5, 447.0, 1448.0, 461.5, 1417.0, 474.5], [220.0, 510.5, 197.0, 502.5, 182.5, 483.0, 181.5, 467.0, 198.0, 447.5, 219.5, 449.0, 220.5, 462.0, 231.5, 487.0, 228.5, 502.0, 220.0, 510.5]]}\n",
      "Result after processing:  {}\n",
      "Image 157 of 180\n",
      "od {'light': [[1616, 653, 1912, 992]]}\n"
     ]
    },
    {
     "name": "stdout",
     "output_type": "stream",
     "text": [
      "Result before processing:  {'cut': [[441.0, 629.5, 418.5, 625.0, 427.5, 601.0, 418.5, 587.0, 432.5, 561.0, 432.5, 551.0, 425.5, 534.0, 428.0, 527.5, 446.0, 528.5, 457.0, 535.5, 483.0, 540.5, 486.5, 555.0, 499.5, 576.0, 498.5, 594.0, 490.0, 611.5, 456.0, 617.5, 449.5, 621.0, 456.0, 625.5, 441.0, 629.5]]}\n",
      "Result after processing:  {}\n",
      "Image 158 of 180\n",
      "od {'light': [[1608, 663, 1912, 981]]}\n"
     ]
    },
    {
     "name": "stdout",
     "output_type": "stream",
     "text": [
      "Result before processing:  {}\n",
      "Result after processing:  {}\n",
      "Image 159 of 180\n"
     ]
    },
    {
     "name": "stdout",
     "output_type": "stream",
     "text": [
      "Result before processing:  {'cut': [[1761.0, 692.5, 1755.0, 691.5, 1743.5, 677.0, 1745.0, 659.5, 1758.0, 659.5, 1769.5, 671.0, 1766.5, 688.0, 1761.0, 692.5], [1076.0, 365.5, 1015.0, 364.5, 961.0, 349.5, 941.5, 334.0, 929.5, 312.0, 928.5, 284.0, 952.0, 268.5, 1020.0, 243.5, 1077.0, 239.5, 1108.0, 249.5, 1130.0, 263.5, 1140.0, 274.5, 1161.0, 274.5, 1186.5, 289.0, 1194.5, 315.0, 1192.5, 324.0, 1183.0, 334.5, 1161.0, 346.5, 1149.0, 347.5, 1150.5, 353.0, 1147.0, 354.5, 1076.0, 365.5]]}\n",
      "Result after processing:  {}\n",
      "Image 160 of 180\n"
     ]
    },
    {
     "name": "stdout",
     "output_type": "stream",
     "text": [
      "Result before processing:  {}\n",
      "Result after processing:  {}\n",
      "Image 161 of 180\n",
      "od {'light': [[1623, 649, 1912, 989]]}\n"
     ]
    },
    {
     "name": "stdout",
     "output_type": "stream",
     "text": [
      "Result before processing:  {'cut': [[475.0, 614.5, 467.0, 614.5, 454.5, 597.0, 454.5, 554.0, 451.5, 539.0, 445.5, 531.0, 446.0, 518.5, 455.0, 518.5, 459.0, 530.5, 464.5, 529.0, 467.0, 521.5, 479.0, 519.5, 489.0, 523.5, 494.0, 534.5, 498.0, 529.5, 506.0, 530.5, 517.5, 542.0, 524.5, 563.0, 522.5, 582.0, 497.0, 606.5, 475.0, 614.5]]}\n",
      "Result after processing:  {}\n",
      "Image 162 of 180\n",
      "od {'light': [[1630, 643, 1912, 1004]]}\n"
     ]
    },
    {
     "name": "stdout",
     "output_type": "stream",
     "text": [
      "Result before processing:  {}\n",
      "Result after processing:  {}\n",
      "Image 163 of 180\n"
     ]
    },
    {
     "name": "stdout",
     "output_type": "stream",
     "text": [
      "Result before processing:  {'cut': [[483.0, 534.5, 479.5, 532.0, 482.0, 529.5, 489.5, 532.0, 483.0, 534.5]]}\n",
      "Result after processing:  {}\n",
      "Image 164 of 180\n",
      "od {'light': [[1639, 642, 1916, 992]]}\n"
     ]
    },
    {
     "name": "stdout",
     "output_type": "stream",
     "text": [
      "Result before processing:  {'cut': [[1792.0, 685.5, 1765.0, 680.5, 1757.5, 674.0, 1757.5, 663.0, 1763.0, 658.5, 1782.0, 661.5, 1796.5, 677.0, 1792.0, 685.5]]}\n",
      "Result after processing:  {'cut': [[1792.0, 685.5, 1765.0, 680.5, 1757.5, 674.0, 1757.5, 663.0, 1763.0, 658.5, 1782.0, 661.5, 1796.5, 677.0, 1792.0, 685.5]]}\n",
      "Image 165 of 180\n"
     ]
    },
    {
     "name": "stdout",
     "output_type": "stream",
     "text": [
      "Result before processing:  {'cut': [[1789.0, 687.5, 1765.0, 685.5, 1758.5, 676.0, 1761.5, 662.0, 1777.0, 660.5, 1792.0, 669.5, 1796.5, 682.0, 1789.0, 687.5]]}\n",
      "Result after processing:  {}\n",
      "Image 166 of 180\n",
      "od {'light': [[1629, 664, 1910, 964]]}\n"
     ]
    },
    {
     "name": "stdout",
     "output_type": "stream",
     "text": [
      "Result before processing:  {'cut': [[1788.0, 687.5, 1770.0, 684.5, 1760.5, 677.0, 1759.5, 669.0, 1766.0, 660.5, 1780.0, 660.5, 1793.5, 671.0, 1795.5, 683.0, 1788.0, 687.5]]}\n",
      "Result after processing:  {'cut': [[1788.0, 687.5, 1770.0, 684.5, 1760.5, 677.0, 1759.5, 669.0, 1766.0, 660.5, 1780.0, 660.5, 1793.5, 671.0, 1795.5, 683.0, 1788.0, 687.5]]}\n",
      "Image 167 of 180\n",
      "od {'light': [[1638, 656, 1911, 978]]}\n"
     ]
    },
    {
     "name": "stdout",
     "output_type": "stream",
     "text": [
      "Result before processing:  {}\n",
      "Result after processing:  {}\n",
      "Image 168 of 180\n",
      "od {'light': [[1636, 649, 1917, 995]]}\n"
     ]
    },
    {
     "name": "stdout",
     "output_type": "stream",
     "text": [
      "Result before processing:  {'cut': [[1010.0, 335.5, 985.0, 327.5, 974.5, 314.0, 971.5, 254.0, 978.5, 240.0, 992.0, 226.5, 1023.0, 207.5, 1044.0, 201.5, 1078.0, 202.5, 1104.0, 196.5, 1189.0, 198.5, 1228.0, 208.5, 1240.5, 217.0, 1239.5, 240.0, 1212.0, 262.5, 1100.0, 313.5, 1097.0, 320.5, 1075.0, 323.5, 1067.0, 331.5, 1044.0, 330.5, 1010.0, 335.5], [1795.0, 687.5, 1773.0, 679.5, 1766.5, 671.0, 1765.5, 659.0, 1790.0, 664.5, 1799.0, 670.5, 1801.5, 681.0, 1795.0, 687.5], [485.0, 618.5, 463.5, 613.0, 458.5, 604.0, 456.5, 581.0, 461.5, 559.0, 470.5, 540.0, 478.0, 533.5, 504.0, 545.5, 523.5, 576.0, 522.5, 590.0, 518.0, 590.5, 496.0, 616.5, 485.0, 618.5]]}\n",
      "Result after processing:  {'cut': [[1795.0, 687.5, 1773.0, 679.5, 1766.5, 671.0, 1765.5, 659.0, 1790.0, 664.5, 1799.0, 670.5, 1801.5, 681.0, 1795.0, 687.5]]}\n",
      "Image 169 of 180\n",
      "od {'light': [[1636, 648, 1910, 988]]}\n"
     ]
    },
    {
     "name": "stdout",
     "output_type": "stream",
     "text": [
      "Result before processing:  {'cut': [[1099.0, 342.5, 1017.0, 332.5, 1017.5, 327.0, 1010.5, 326.0, 1004.5, 311.0, 993.5, 303.0, 983.5, 285.0, 983.5, 253.0, 991.5, 242.0, 1011.0, 226.5, 1028.0, 219.5, 1076.0, 205.5, 1107.0, 202.5, 1123.0, 205.5, 1142.0, 227.5, 1175.0, 238.5, 1181.5, 251.0, 1192.5, 261.0, 1187.5, 266.0, 1189.5, 273.0, 1184.0, 278.5, 1169.0, 282.5, 1159.0, 280.5, 1159.0, 286.5, 1167.0, 284.5, 1169.5, 289.0, 1159.0, 289.5, 1150.0, 298.5, 1128.0, 304.5, 1122.5, 321.0, 1115.5, 327.0, 1117.5, 332.0, 1109.0, 340.5, 1099.0, 342.5]]}\n",
      "Result after processing:  {}\n",
      "Image 170 of 180\n",
      "od {'light': [[1632, 652, 1910, 969]]}\n"
     ]
    },
    {
     "name": "stdout",
     "output_type": "stream",
     "text": [
      "Result before processing:  {'cut': [[478.0, 530.5, 479.0, 527.5, 478.0, 530.5]]}\n",
      "Result after processing:  {}\n",
      "Image 171 of 180\n",
      "od {'light': [[1630, 652, 1913, 993]]}\n"
     ]
    },
    {
     "name": "stdout",
     "output_type": "stream",
     "text": [
      "Result before processing:  {}\n",
      "Result after processing:  {}\n",
      "Image 172 of 180\n"
     ]
    },
    {
     "name": "stdout",
     "output_type": "stream",
     "text": [
      "Result before processing:  {'cut': [[1789.0, 679.5, 1769.0, 673.5, 1763.5, 667.0, 1763.5, 659.0, 1776.0, 657.5, 1788.0, 663.5, 1793.5, 676.0, 1789.0, 679.5]]}\n",
      "Result after processing:  {}\n",
      "Image 173 of 180\n"
     ]
    },
    {
     "name": "stdout",
     "output_type": "stream",
     "text": [
      "Result before processing:  {}\n",
      "Result after processing:  {}\n",
      "Image 174 of 180\n"
     ]
    },
    {
     "name": "stdout",
     "output_type": "stream",
     "text": [
      "Result before processing:  {}\n",
      "Result after processing:  {}\n",
      "Image 175 of 180\n"
     ]
    },
    {
     "name": "stdout",
     "output_type": "stream",
     "text": [
      "Result before processing:  {'cut': [[1790.0, 679.5, 1777.0, 679.5, 1763.0, 671.5, 1759.5, 667.0, 1761.5, 658.0, 1776.0, 657.5, 1793.0, 668.5, 1794.5, 676.0, 1790.0, 679.5]]}\n",
      "Result after processing:  {}\n",
      "Image 176 of 180\n"
     ]
    },
    {
     "name": "stdout",
     "output_type": "stream",
     "text": [
      "Result before processing:  {}\n",
      "Result after processing:  {}\n",
      "Image 177 of 180\n"
     ]
    },
    {
     "name": "stdout",
     "output_type": "stream",
     "text": [
      "Result before processing:  {}\n",
      "Result after processing:  {}\n",
      "Image 178 of 180\n",
      "od {'light': [[1623, 671, 1909, 980]]}\n"
     ]
    },
    {
     "name": "stdout",
     "output_type": "stream",
     "text": [
      "Result before processing:  {'cut': [[469.0, 615.5, 456.5, 615.0, 466.5, 611.0, 462.5, 608.0, 461.5, 593.0, 451.0, 583.5, 447.0, 589.5, 443.5, 582.0, 447.5, 578.0, 451.5, 527.0, 457.0, 518.5, 481.5, 523.0, 478.5, 527.0, 482.5, 536.0, 490.0, 543.5, 494.5, 538.0, 495.5, 550.0, 499.5, 552.0, 507.5, 572.0, 506.5, 582.0, 494.5, 599.0, 469.0, 615.5], [1519.0, 438.5, 1488.0, 428.5, 1486.5, 422.0, 1498.0, 408.5, 1522.0, 401.5, 1525.5, 404.0, 1524.5, 413.0, 1529.5, 425.0, 1526.5, 434.0, 1519.0, 438.5]]}\n",
      "Result after processing:  {}\n",
      "Image 179 of 180\n",
      "od {'light': [[1623, 684, 1912, 975]]}\n"
     ]
    },
    {
     "name": "stdout",
     "output_type": "stream",
     "text": [
      "Result before processing:  {}\n",
      "Result after processing:  {}\n",
      "Image 180 of 180\n"
     ]
    },
    {
     "name": "stdout",
     "output_type": "stream",
     "text": [
      "Result before processing:  {'cut': [[463.0, 609.5, 454.0, 609.5, 442.0, 601.5, 439.0, 604.5, 436.5, 600.0, 439.0, 586.5, 443.5, 595.0, 443.5, 583.0, 439.5, 579.0, 448.5, 559.0, 451.5, 525.0, 458.0, 511.5, 478.0, 514.5, 478.5, 519.0, 494.5, 532.0, 495.5, 553.0, 501.5, 569.0, 495.5, 591.0, 478.0, 606.5, 463.0, 609.5]]}\n",
      "Result after processing:  {}\n",
      "FINISHED\n",
      "time: 1min 30s (started: 2021-05-02 11:19:48 +10:00)\n"
     ]
    }
   ],
   "source": [
    "# NEW CODE\n",
    "\n",
    "# Initialization\n",
    "################\n",
    "\n",
    "# Get a sorted list of image files\n",
    "\n",
    "# Intialize other variables\n",
    "\n",
    "image_files = sorted(glob.glob(IMAGE_FILE_PATH))\n",
    "num_frames = len(image_files)\n",
    "\n",
    "labels_from_csv = get_labels(CLASSES_CVAT, CLASSES_TYPE)\n",
    "final_result = {'meta':{'task': OrderedDict([('id',str(TASK_ID)),\n",
    "                                             ('name',str(TASK_NAME)),\n",
    "                                             ('size',str(num_frames)),\n",
    "                                             ('mode','interpolation'),\n",
    "                                             ('start_frame', str(0)),\n",
    "                                             ('stop_frame', str(num_frames-1)),\n",
    "                                             ('z_order',\"False\"),\n",
    "                                             ('labels', labels_from_csv)])},\n",
    "                'frames':[]}\n",
    "\n",
    "if TYPE == \"both\":\n",
    "    od_model = ObjectDetection(OD_MODEL)\n",
    "    seg_model = Segmentation(MASK_MODEL)\n",
    "elif TYPE == \"classes\":\n",
    "    od_model = ObjectDetection(OD_MODEL)\n",
    "elif TYPE == \"v_shape\":\n",
    "    seg_model = Segmentation(MASK_MODEL)\n",
    "    \n",
    "labels_mapping_od = {1:'zero',2:'light',3:'medium',4:'high',5:'non_recoverable'}\n",
    "\n",
    "# Get size of first image in list. It is assumed that all images are the same size.\n",
    "\n",
    "frame = cv2.imread(image_files[0])\n",
    "frame_height, frame_width, channels = frame.shape\n",
    "\n",
    "height, width = frame_height, frame_width\n",
    "\n",
    "# Process image files\n",
    "#####################\n",
    "\n",
    "frame_no = 0\n",
    "for image_file in image_files:\n",
    "    frame_no += 1\n",
    "    print(f'Image {frame_no} of {num_frames}')\n",
    "    frame = cv2.imread(image_file)\n",
    "    img = cv2.cvtColor(frame, cv2.COLOR_BGR2RGB)\n",
    "    image_np_expanded = np.expand_dims(img, axis=0)\n",
    "\n",
    "    od_result = {}\n",
    "    result = {}\n",
    "    if TYPE == \"both\" or TYPE == \"classes\":\n",
    "        # run detection\n",
    "        boxes, scores, classes, num_detections = od_model.get_detections(image_np_expanded)\n",
    "        #normalize bounding boxes, also apply threshold\n",
    "        od_result = ObjectDetection.process_boxes(boxes, scores, classes, labels_mapping_od, OD_THRESHOLD, width, height)\n",
    "        if od_result:\n",
    "            print(\"od\", od_result)\n",
    "            shapes = []\n",
    "            for label, boxes in od_result.items():\n",
    "                for box in boxes:\n",
    "                    shapes.append({'type':'rectangle','label':label,'occluded':0,'points':box})\n",
    "            final_result['frames'].append({'frame':frame_no, 'width':frame_width, 'height':frame_height, 'shapes':shapes})\n",
    "    if TYPE == \"both\" or TYPE == \"v_shape\":\n",
    "        # run segmentation\n",
    "        result = seg_model.get_polygons([img], MASK_THRESHOLD)\n",
    "        print(\"Result before processing: \", result)\n",
    "        if TYPE == \"both\" or TYPE == \"classes\":\n",
    "            # filter out false positives if boxes are available\n",
    "            result = Segmentation.process_polygons(result, od_result)\n",
    "            print(\"Result after processing: \", result)\n",
    "        if result:\n",
    "            shapes = []\n",
    "            for label, polygons in result.items():\n",
    "                for polygon in polygons:\n",
    "                    shapes.append({'type':'polygon','label':label,'occluded':0,'points':polygon})\n",
    "            frame_exists = False\n",
    "            for frame_ in final_result['frames']:\n",
    "                if frame_['frame'] == frame_no:\n",
    "                    break\n",
    "            if frame_exists:\n",
    "                final_result['frames']['shapes'].extend(shapes)\n",
    "            else:\n",
    "                final_result['frames'].append({'frame':frame_no, 'width':frame_width, 'height':frame_height, 'shapes':shapes})\n",
    "\n",
    "#frame = draw_instances(frame, od_result, result)\n",
    "dump_as_cvat_annotation(open(OUTPUT_XML_PATH, \"w\"), final_result)\n",
    "\n",
    "print('FINISHED')"
   ]
  }
 ],
 "metadata": {
  "kernelspec": {
   "display_name": "Python 3",
   "language": "python",
   "name": "python3"
  },
  "language_info": {
   "codemirror_mode": {
    "name": "ipython",
    "version": 3
   },
   "file_extension": ".py",
   "mimetype": "text/x-python",
   "name": "python",
   "nbconvert_exporter": "python",
   "pygments_lexer": "ipython3",
   "version": "3.6.9"
  },
  "papermill": {
   "default_parameters": {},
   "duration": 95.213504,
   "end_time": "2021-05-02T01:21:20.401509",
   "environment_variables": {},
   "exception": null,
   "input_path": "demo2-nb.ipynb",
   "output_path": "temp-demo2-nb.ipynb",
   "parameters": {
    "IMAGE_FILE_PATH": "../open-camera-test/*.jpg",
    "OUTPUT_XML_PATH": "../open-camera-test/detected_objects.xml"
   },
   "start_time": "2021-05-02T01:19:45.188005",
   "version": "2.2.0"
  }
 },
 "nbformat": 4,
 "nbformat_minor": 5
}