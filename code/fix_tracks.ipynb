{
 "cells": [
  {
   "cell_type": "code",
   "execution_count": 1,
   "id": "foster-deposit",
   "metadata": {},
   "outputs": [],
   "source": [
    "import pandas as pd\n",
    "import math\n",
    "import geopandas as gpd\n",
    "from shapely.geometry import Point, LineString\n",
    "import os\n",
    "import spatialite"
   ]
  },
  {
   "cell_type": "code",
   "execution_count": 2,
   "id": "seventh-enzyme",
   "metadata": {},
   "outputs": [],
   "source": [
    "name = '20201211_134207.mp4'\n",
    "db_path = '/home/aubreytensor1/Guam02/map/Guam02.db'"
   ]
  },
  {
   "cell_type": "code",
   "execution_count": 3,
   "id": "necessary-broad",
   "metadata": {},
   "outputs": [
    {
     "data": {
      "text/html": [
       "<div>\n",
       "<style scoped>\n",
       "    .dataframe tbody tr th:only-of-type {\n",
       "        vertical-align: middle;\n",
       "    }\n",
       "\n",
       "    .dataframe tbody tr th {\n",
       "        vertical-align: top;\n",
       "    }\n",
       "\n",
       "    .dataframe thead th {\n",
       "        text-align: right;\n",
       "    }\n",
       "</style>\n",
       "<table border=\"1\" class=\"dataframe\">\n",
       "  <thead>\n",
       "    <tr style=\"text-align: right;\">\n",
       "      <th></th>\n",
       "      <th>time</th>\n",
       "      <th>lat</th>\n",
       "      <th>lon</th>\n",
       "      <th>elevation</th>\n",
       "      <th>accuracy</th>\n",
       "      <th>bearing</th>\n",
       "      <th>speed</th>\n",
       "      <th>satellites</th>\n",
       "      <th>provider</th>\n",
       "      <th>hdop</th>\n",
       "      <th>vdop</th>\n",
       "      <th>pdop</th>\n",
       "      <th>geoidheight</th>\n",
       "      <th>ageofdgpsdata</th>\n",
       "      <th>dgpsid</th>\n",
       "      <th>activity</th>\n",
       "      <th>battery</th>\n",
       "      <th>annotation</th>\n",
       "    </tr>\n",
       "  </thead>\n",
       "  <tbody>\n",
       "    <tr>\n",
       "      <th>1153</th>\n",
       "      <td>2020-12-11 03:45:17.999</td>\n",
       "      <td>13.465293</td>\n",
       "      <td>144.694048</td>\n",
       "      <td>73.653534</td>\n",
       "      <td>4.0</td>\n",
       "      <td>234.71838</td>\n",
       "      <td>14.482941</td>\n",
       "      <td>27</td>\n",
       "      <td>gps</td>\n",
       "      <td>1.0</td>\n",
       "      <td>1.5</td>\n",
       "      <td>1.8</td>\n",
       "      <td>49.5</td>\n",
       "      <td>NaN</td>\n",
       "      <td>NaN</td>\n",
       "      <td>NaN</td>\n",
       "      <td>97</td>\n",
       "      <td>NaN</td>\n",
       "    </tr>\n",
       "    <tr>\n",
       "      <th>1154</th>\n",
       "      <td>2020-12-11 03:45:18.999</td>\n",
       "      <td>13.465215</td>\n",
       "      <td>144.693941</td>\n",
       "      <td>73.658495</td>\n",
       "      <td>4.0</td>\n",
       "      <td>233.24323</td>\n",
       "      <td>14.306335</td>\n",
       "      <td>24</td>\n",
       "      <td>gps</td>\n",
       "      <td>0.9</td>\n",
       "      <td>1.4</td>\n",
       "      <td>1.6</td>\n",
       "      <td>49.5</td>\n",
       "      <td>NaN</td>\n",
       "      <td>NaN</td>\n",
       "      <td>NaN</td>\n",
       "      <td>97</td>\n",
       "      <td>NaN</td>\n",
       "    </tr>\n",
       "    <tr>\n",
       "      <th>1155</th>\n",
       "      <td>2020-12-11 03:45:20.999</td>\n",
       "      <td>13.465053</td>\n",
       "      <td>144.693739</td>\n",
       "      <td>73.660075</td>\n",
       "      <td>4.0</td>\n",
       "      <td>229.16808</td>\n",
       "      <td>14.151920</td>\n",
       "      <td>26</td>\n",
       "      <td>gps</td>\n",
       "      <td>0.9</td>\n",
       "      <td>1.4</td>\n",
       "      <td>1.6</td>\n",
       "      <td>49.5</td>\n",
       "      <td>NaN</td>\n",
       "      <td>NaN</td>\n",
       "      <td>NaN</td>\n",
       "      <td>97</td>\n",
       "      <td>NaN</td>\n",
       "    </tr>\n",
       "    <tr>\n",
       "      <th>1156</th>\n",
       "      <td>2020-12-11 03:45:22.999</td>\n",
       "      <td>13.464881</td>\n",
       "      <td>144.693540</td>\n",
       "      <td>73.728305</td>\n",
       "      <td>4.0</td>\n",
       "      <td>229.02380</td>\n",
       "      <td>14.350318</td>\n",
       "      <td>25</td>\n",
       "      <td>gps</td>\n",
       "      <td>1.0</td>\n",
       "      <td>1.3</td>\n",
       "      <td>1.6</td>\n",
       "      <td>49.5</td>\n",
       "      <td>NaN</td>\n",
       "      <td>NaN</td>\n",
       "      <td>NaN</td>\n",
       "      <td>97</td>\n",
       "      <td>NaN</td>\n",
       "    </tr>\n",
       "    <tr>\n",
       "      <th>1157</th>\n",
       "      <td>2020-12-11 03:45:23.999</td>\n",
       "      <td>13.464795</td>\n",
       "      <td>144.693440</td>\n",
       "      <td>73.747476</td>\n",
       "      <td>4.0</td>\n",
       "      <td>228.97200</td>\n",
       "      <td>14.362541</td>\n",
       "      <td>26</td>\n",
       "      <td>gps</td>\n",
       "      <td>1.0</td>\n",
       "      <td>1.3</td>\n",
       "      <td>1.6</td>\n",
       "      <td>49.5</td>\n",
       "      <td>NaN</td>\n",
       "      <td>NaN</td>\n",
       "      <td>NaN</td>\n",
       "      <td>97</td>\n",
       "      <td>NaN</td>\n",
       "    </tr>\n",
       "    <tr>\n",
       "      <th>...</th>\n",
       "      <td>...</td>\n",
       "      <td>...</td>\n",
       "      <td>...</td>\n",
       "      <td>...</td>\n",
       "      <td>...</td>\n",
       "      <td>...</td>\n",
       "      <td>...</td>\n",
       "      <td>...</td>\n",
       "      <td>...</td>\n",
       "      <td>...</td>\n",
       "      <td>...</td>\n",
       "      <td>...</td>\n",
       "      <td>...</td>\n",
       "      <td>...</td>\n",
       "      <td>...</td>\n",
       "      <td>...</td>\n",
       "      <td>...</td>\n",
       "      <td>...</td>\n",
       "    </tr>\n",
       "    <tr>\n",
       "      <th>2307</th>\n",
       "      <td>2020-12-11 04:19:09.000</td>\n",
       "      <td>13.268123</td>\n",
       "      <td>144.664911</td>\n",
       "      <td>72.118045</td>\n",
       "      <td>4.0</td>\n",
       "      <td>152.32211</td>\n",
       "      <td>10.949270</td>\n",
       "      <td>23</td>\n",
       "      <td>gps</td>\n",
       "      <td>0.9</td>\n",
       "      <td>1.6</td>\n",
       "      <td>1.9</td>\n",
       "      <td>49.5</td>\n",
       "      <td>NaN</td>\n",
       "      <td>NaN</td>\n",
       "      <td>NaN</td>\n",
       "      <td>100</td>\n",
       "      <td>NaN</td>\n",
       "    </tr>\n",
       "    <tr>\n",
       "      <th>2308</th>\n",
       "      <td>2020-12-11 04:19:11.000</td>\n",
       "      <td>13.267967</td>\n",
       "      <td>144.665011</td>\n",
       "      <td>71.703881</td>\n",
       "      <td>4.0</td>\n",
       "      <td>143.55989</td>\n",
       "      <td>10.322861</td>\n",
       "      <td>25</td>\n",
       "      <td>gps</td>\n",
       "      <td>0.9</td>\n",
       "      <td>1.6</td>\n",
       "      <td>1.9</td>\n",
       "      <td>49.5</td>\n",
       "      <td>NaN</td>\n",
       "      <td>NaN</td>\n",
       "      <td>NaN</td>\n",
       "      <td>100</td>\n",
       "      <td>NaN</td>\n",
       "    </tr>\n",
       "    <tr>\n",
       "      <th>2309</th>\n",
       "      <td>2020-12-11 04:19:13.000</td>\n",
       "      <td>13.267842</td>\n",
       "      <td>144.665137</td>\n",
       "      <td>72.089352</td>\n",
       "      <td>4.0</td>\n",
       "      <td>127.64044</td>\n",
       "      <td>9.609566</td>\n",
       "      <td>26</td>\n",
       "      <td>gps</td>\n",
       "      <td>1.0</td>\n",
       "      <td>1.6</td>\n",
       "      <td>1.8</td>\n",
       "      <td>49.5</td>\n",
       "      <td>NaN</td>\n",
       "      <td>NaN</td>\n",
       "      <td>NaN</td>\n",
       "      <td>100</td>\n",
       "      <td>NaN</td>\n",
       "    </tr>\n",
       "    <tr>\n",
       "      <th>2310</th>\n",
       "      <td>2020-12-11 04:19:15.000</td>\n",
       "      <td>13.267758</td>\n",
       "      <td>144.665269</td>\n",
       "      <td>72.296592</td>\n",
       "      <td>4.0</td>\n",
       "      <td>115.41876</td>\n",
       "      <td>8.530318</td>\n",
       "      <td>26</td>\n",
       "      <td>gps</td>\n",
       "      <td>0.9</td>\n",
       "      <td>1.6</td>\n",
       "      <td>1.8</td>\n",
       "      <td>49.5</td>\n",
       "      <td>NaN</td>\n",
       "      <td>NaN</td>\n",
       "      <td>NaN</td>\n",
       "      <td>100</td>\n",
       "      <td>NaN</td>\n",
       "    </tr>\n",
       "    <tr>\n",
       "      <th>2311</th>\n",
       "      <td>2020-12-11 04:19:17.000</td>\n",
       "      <td>13.267703</td>\n",
       "      <td>144.665405</td>\n",
       "      <td>72.008010</td>\n",
       "      <td>3.0</td>\n",
       "      <td>110.36539</td>\n",
       "      <td>8.030733</td>\n",
       "      <td>26</td>\n",
       "      <td>gps</td>\n",
       "      <td>0.9</td>\n",
       "      <td>1.6</td>\n",
       "      <td>1.8</td>\n",
       "      <td>49.5</td>\n",
       "      <td>NaN</td>\n",
       "      <td>NaN</td>\n",
       "      <td>NaN</td>\n",
       "      <td>100</td>\n",
       "      <td>NaN</td>\n",
       "    </tr>\n",
       "  </tbody>\n",
       "</table>\n",
       "<p>1159 rows × 18 columns</p>\n",
       "</div>"
      ],
      "text/plain": [
       "                        time        lat         lon  elevation  accuracy  \\\n",
       "1153 2020-12-11 03:45:17.999  13.465293  144.694048  73.653534       4.0   \n",
       "1154 2020-12-11 03:45:18.999  13.465215  144.693941  73.658495       4.0   \n",
       "1155 2020-12-11 03:45:20.999  13.465053  144.693739  73.660075       4.0   \n",
       "1156 2020-12-11 03:45:22.999  13.464881  144.693540  73.728305       4.0   \n",
       "1157 2020-12-11 03:45:23.999  13.464795  144.693440  73.747476       4.0   \n",
       "...                      ...        ...         ...        ...       ...   \n",
       "2307 2020-12-11 04:19:09.000  13.268123  144.664911  72.118045       4.0   \n",
       "2308 2020-12-11 04:19:11.000  13.267967  144.665011  71.703881       4.0   \n",
       "2309 2020-12-11 04:19:13.000  13.267842  144.665137  72.089352       4.0   \n",
       "2310 2020-12-11 04:19:15.000  13.267758  144.665269  72.296592       4.0   \n",
       "2311 2020-12-11 04:19:17.000  13.267703  144.665405  72.008010       3.0   \n",
       "\n",
       "        bearing      speed  satellites provider  hdop  vdop  pdop  \\\n",
       "1153  234.71838  14.482941          27      gps   1.0   1.5   1.8   \n",
       "1154  233.24323  14.306335          24      gps   0.9   1.4   1.6   \n",
       "1155  229.16808  14.151920          26      gps   0.9   1.4   1.6   \n",
       "1156  229.02380  14.350318          25      gps   1.0   1.3   1.6   \n",
       "1157  228.97200  14.362541          26      gps   1.0   1.3   1.6   \n",
       "...         ...        ...         ...      ...   ...   ...   ...   \n",
       "2307  152.32211  10.949270          23      gps   0.9   1.6   1.9   \n",
       "2308  143.55989  10.322861          25      gps   0.9   1.6   1.9   \n",
       "2309  127.64044   9.609566          26      gps   1.0   1.6   1.8   \n",
       "2310  115.41876   8.530318          26      gps   0.9   1.6   1.8   \n",
       "2311  110.36539   8.030733          26      gps   0.9   1.6   1.8   \n",
       "\n",
       "      geoidheight  ageofdgpsdata  dgpsid  activity  battery  annotation  \n",
       "1153         49.5            NaN     NaN       NaN       97         NaN  \n",
       "1154         49.5            NaN     NaN       NaN       97         NaN  \n",
       "1155         49.5            NaN     NaN       NaN       97         NaN  \n",
       "1156         49.5            NaN     NaN       NaN       97         NaN  \n",
       "1157         49.5            NaN     NaN       NaN       97         NaN  \n",
       "...           ...            ...     ...       ...      ...         ...  \n",
       "2307         49.5            NaN     NaN       NaN      100         NaN  \n",
       "2308         49.5            NaN     NaN       NaN      100         NaN  \n",
       "2309         49.5            NaN     NaN       NaN      100         NaN  \n",
       "2310         49.5            NaN     NaN       NaN      100         NaN  \n",
       "2311         49.5            NaN     NaN       NaN      100         NaN  \n",
       "\n",
       "[1159 rows x 18 columns]"
      ]
     },
     "execution_count": 3,
     "metadata": {},
     "output_type": "execute_result"
    }
   ],
   "source": [
    "# Read a a pickled dataframe containing lat lon.\n",
    "df = pd.read_pickle(f'/home/aubreytensor1/Guam02/map/{name}.pikl')\n",
    "df"
   ]
  },
  {
   "cell_type": "code",
   "execution_count": 4,
   "id": "regulated-alliance",
   "metadata": {},
   "outputs": [
    {
     "data": {
      "text/plain": [
       "<AxesSubplot:>"
      ]
     },
     "execution_count": 4,
     "metadata": {},
     "output_type": "execute_result"
    },
    {
     "data": {
      "image/png": "[encoded data removed]",
      "text/plain": [
       "<Figure size 432x288 with 1 Axes>"
      ]
     },
     "metadata": {
      "needs_background": "light"
     },
     "output_type": "display_data"
    }
   ],
   "source": [
    "# Convert dataframe to a geodataframe\n",
    "geometry = [Point(xy) for xy in zip(df.lon, df.lat)]\n",
    "df = df.drop(['lat', 'lon'], axis=1)\n",
    "gdf = gpd.GeoDataFrame(df, crs=\"EPSG:4326\", geometry=geometry)\n",
    "gdf.plot(markersize=1)"
   ]
  },
  {
   "cell_type": "code",
   "execution_count": 5,
   "id": "mysterious-pregnancy",
   "metadata": {},
   "outputs": [
    {
     "data": {
      "text/plain": [
       "<Projected CRS: EPSG:3857>\n",
       "Name: WGS 84 / Pseudo-Mercator\n",
       "Axis Info [cartesian]:\n",
       "- X[east]: Easting (metre)\n",
       "- Y[north]: Northing (metre)\n",
       "Area of Use:\n",
       "- name: World between 85.06°S and 85.06°N.\n",
       "- bounds: (-180.0, -85.06, 180.0, 85.06)\n",
       "Coordinate Operation:\n",
       "- name: Popular Visualisation Pseudo-Mercator\n",
       "- method: Popular Visualisation Pseudo Mercator\n",
       "Datum: World Geodetic System 1984\n",
       "- Ellipsoid: WGS 84\n",
       "- Prime Meridian: Greenwich"
      ]
     },
     "execution_count": 5,
     "metadata": {},
     "output_type": "execute_result"
    },
    {
     "data": {
      "image/png": "[encoded data removed]",
      "text/plain": [
       "<Figure size 432x288 with 1 Axes>"
      ]
     },
     "metadata": {
      "needs_background": "light"
     },
     "output_type": "display_data"
    }
   ],
   "source": [
    "# Reproject geometry to UTM (meters)\n",
    "gdf = gdf.to_crs('EPSG:3857')\n",
    "gdf.plot(markersize=1)\n",
    "gdf.crs"
   ]
  },
  {
   "cell_type": "code",
   "execution_count": 6,
   "id": "international-norwegian",
   "metadata": {},
   "outputs": [
    {
     "name": "stdout",
     "output_type": "stream",
     "text": [
      "1159\n"
     ]
    },
    {
     "data": {
      "image/svg+xml": [
       "<svg xmlns=\"http://www.w3.org/2000/svg\" xmlns:xlink=\"http://www.w3.org/1999/xlink\" width=\"300\" height=\"300\" viewBox=\"16101331.379052436 1489429.0126312836 6840.667749861255 24416.729439803166\" preserveAspectRatio=\"xMinYMin meet\"><g transform=\"matrix(1,0,0,-1,0,3003274.7547023706)\"><polyline fill=\"none\" stroke=\"#66cc99\" stroke-width=\"162.77819626535444\" points=\"16107267.723489711,1512941.4187585015 16107255.829520429,1512932.5100541038 16107233.325117843,1512913.8559308322 16107211.207139598,1512894.2571891695 16107200.07497542,1512884.4266237067 16107177.673157098,1512864.7724599214 16107166.359837765,1512854.878200461 16107143.366721144,1512835.2103867775 16107120.182582593,1512815.2217719743 16107097.259646852,1512794.6118284734 16107074.047868663,1512773.62465045 16107050.813565735,1512752.7473310153 16107027.043458225,1512732.6664720452 16107002.534652319,1512713.5549719776 16106977.865163324,1512694.687934296 16106954.273550194,1512674.1445079308 16106932.582996737,1512651.047389721 16106913.512468642,1512625.5409020786 16106904.84131263,1512612.0724302754 16106889.930411872,1512583.625712211 16106878.661141386,1512553.4723622184 16106868.38700049,1512522.6454591872 16106863.05923108,1512507.192524523 16106852.558508921,1512476.0581504754 16106840.503677865,1512445.2430694667 16106828.920649095,1512414.0234866738 16106817.113082968,1512383.3406075498 16106805.014806889,1512353.084018496 16106792.824720746,1512322.845314549 16106780.90898623,1512292.1330634167 16106768.659355532,1512261.5112400022 16106757.520032471,1512231.1478247566 16106745.771942468,1512201.215361438 16106734.913378354,1512171.3607864405 16106729.52038604,1512156.3412947247 16106723.85053283,1512141.2115416136 16106712.080249771,1512110.6643196668 16106699.845079064,1512079.8326636609 16106687.823040877,1512048.6609628156 16106675.901346587,1512017.2478854547 16106669.799262892,1512001.4593081777 16106657.288952358,1511969.737068814 16106644.764425324,1511937.5325166774 16106632.45382891,1511904.8492768107 16106620.657215273,1511871.6052695643 16106615.208073074,1511854.8417835177 16106609.45528315,1511838.3115485345 16106596.856144413,1511805.7144503712 16106584.410556557,1511773.1744712284 16106571.166229727,1511741.423679863 16106564.922163332,1511725.374374497 16106552.44198664,1511693.1610681461 16106539.415948825,1511661.295325063 16106525.67976923,1511629.7670329737 16106512.115162458,1511598.2775793576 16106498.734341914,1511566.9232389354 16106484.232588723,1511536.5455223068 16106469.559281379,1511506.457073433 16106462.845219664,1511491.0323113233 16106449.245677615,1511460.258157467 16106442.304201907,1511444.8775225373 16106428.517854927,1511414.028181205 16106414.569049908,1511382.7826101168 16106399.804760834,1511351.347062012 16106385.156732267,1511319.1838880826 16106370.789615935,1511286.3446331953 16106356.552041236,1511253.0048466588 16106349.42824666,1511236.5658379912 16106334.852650775,1511205.0252289677 16106320.548996694,1511173.7776722102 16106313.557974907,1511158.2473865144 16106299.706106909,1511127.3772826665 16106292.9149375,1511111.8747647407 16106278.210805597,1511081.2146165934 16106271.19043835,1511065.7098395422 16106256.905110808,1511034.9912746628 16106250.464280467,1511019.329939741 16106236.768555764,1510988.0456386313 16106222.967238907,1510956.9560284957 16106208.577834064,1510926.0105783748 16106201.495031705,1510910.3977803427 16106186.291506879,1510879.2542989268 16106178.119715909,1510863.7814797289 16106162.562133849,1510832.2919308012 16106146.916889293,1510800.5410659495 16106130.735749444,1510768.4576667452 16106114.572888715,1510736.4875067442 16106107.683834113,1510719.9408255368 16106093.223066485,1510687.2878348604 16106077.365572328,1510655.106353838 16106069.123142606,1510639.164661862 16106053.146151097,1510607.5186282012 16106044.948004887,1510592.0704664413 16106029.58092963,1510561.2759353244 16106021.71188653,1510546.1101953476 16106005.99814339,1510515.1046301876 16105989.325657776,1510483.9935041429 16105980.450241154,1510468.5021772983 16105962.623786053,1510437.4072554803 16105953.89059282,1510421.5220597126 16105936.923404833,1510388.8848057569 16105919.757100958,1510356.2853617882 16105903.021305874,1510323.8592859872 16105887.036088804,1510291.7628554055 16105871.645514084,1510259.483672724 16105863.660417603,1510243.4586337358 16105848.007584276,1510211.4661338218 16105833.13886998,1510179.510223864 16105818.24383787,1510147.6672491622 16105802.998916302,1510115.9511644237 16105787.52481126,1510084.83952915 16105772.185472159,1510053.6365022063 16105758.305516196,1510025.3217077549 16105747.858834356,1510003.8991560226 16105740.310837414,1509988.8511524603 16105735.951498993,1509979.4548321285 16105735.951498993,1509979.4548321285 16105735.951498993,1509979.4548321285 16105735.951498993,1509979.4548321285 16105735.951498993,1509979.4548321285 16105735.951498993,1509979.4548321285 16105735.951498993,1509979.4548321285 16105735.951498993,1509979.4548321285 16105735.951498993,1509979.4548321285 16105735.951498993,1509979.4548321285 16105735.951498993,1509979.4548321285 16105735.951498993,1509979.4548321285 16105735.951498993,1509979.4548321285 16105735.951498993,1509979.4548321285 16105735.951498993,1509979.4548321285 16105735.951498993,1509979.4548321285 16105735.951498993,1509979.4548321285 16105735.951498993,1509979.4548321285 16105735.951498993,1509979.4548321285 16105735.951498993,1509979.4548321285 16105735.951498993,1509979.4548321285 16105735.951498993,1509979.4548321285 16105735.951498993,1509979.4548321285 16105735.951498993,1509979.4548321285 16105735.951498993,1509979.4548321285 16105734.763390284,1509975.0540463724 16105733.301961573,1509971.6734537496 16105728.751193875,1509962.1810995906 16105722.3101487,1509948.7636862025 16105714.412571691,1509932.7740634356 16105710.00611559,1509923.7175991603 16105700.451916864,1509903.7504338403 16105695.17367166,1509892.731687844 16105683.823158633,1509869.5032789928 16105677.557591908,1509857.4156619299 16105664.940596756,1509831.8941360824 16105652.148859972,1509805.541190167 16105638.53570168,1509778.6088793643 16105625.365496306,1509750.8327972584 16105610.711771343,1509722.2580022379 16105596.393843029,1509692.5861763074 16105582.242886396,1509662.047084315 16105568.609604375,1509630.066452312 16105562.05391856,1509613.7277516993 16105549.858641252,1509579.7666094864 16105538.160517244,1509544.9292824776 16105525.963426938,1509510.003319304 16105513.480459597,1509475.2641065363 16105501.203413425,1509440.9209332133 16105489.539283378,1509407.2260100895 16105484.539649582,1509390.47770296 16105477.28836336,1509356.8317741738 16105472.84091791,1509323.0091016025 16105470.013817756,1509289.092396042 16105469.738782614,1509272.1682351667 16105469.629588977,1509238.1899954644 16105472.486226413,1509203.4942522026 16105475.80198698,1509168.4648719581 16105478.509193651,1509133.2874308552 16105481.233043902,1509098.7658290511 16105484.40770217,1509064.591813982 16105486.205365218,1509047.5300376706 16105490.15411374,1509013.48514107 16105491.968963725,1508996.6404173533 16105496.27257299,1508963.2073006884 16105503.238656472,1508930.6921438652 16105513.17815675,1508899.3107983384 16105518.933430519,1508883.8736246608 16105528.810123973,1508852.9966265343 16105537.665106265,1508822.468690799 16105541.450653683,1508807.267827394 16105547.611245632,1508776.5055046545 16105549.038287768,1508760.8128290577 16105549.676763881,1508728.359606444 16105549.008164013,1508694.5894410848 16105548.630139118,1508677.252879368 16105547.229850842,1508641.49153804 16105546.298693359,1508605.0428516136 16105545.40676569,1508567.5235468182 16105544.999826763,1508548.6480937472 16105543.677842058,1508511.101262533 16105543.037076991,1508492.325060548 16105542.149046347,1508473.5802607366 16105538.64956773,1508436.3676819792 16105532.864931216,1508399.4171760662 16105521.574613785,1508364.1016614933 16105514.378471093,1508347.4062116358 16105499.744242668,1508315.6173626173 16105484.089235783,1508287.248449506 16105475.07147227,1508274.1875786213 16105456.484320212,1508248.7907370618 16105437.669391122,1508223.7643591384 16105418.14671781,1508199.0093409198 16105398.301336592,1508174.6635589993 16105388.755596617,1508162.6761872666 16105369.987695618,1508139.3888946392 16105361.032692624,1508128.0644418132 16105344.827132741,1508105.2474441924 16105337.063794877,1508094.0304559388 16105321.65728676,1508072.6807697585 16105306.058162842,1508052.7263947707 16105291.542824928,1508033.42056787 16105277.303885255,1508015.5387702552 16105264.792457215,1507999.6084021619 16105259.292349791,1507993.0068306087 16105250.137820391,1507981.6528374047 16105243.59851468,1507973.7067645625 16105240.703039644,1507970.3699384052 16105239.883997735,1507969.2887122948 16105239.298190232,1507968.542631107 16105238.57319157,1507967.623338609 16105236.17944214,1507964.412862829 16105230.444746705,1507957.585082723 16105227.109661102,1507953.390161831 16105219.179373788,1507943.327554912 16105211.692239715,1507930.6880681608 16105209.45085232,1507915.4359436831 16105212.731267827,1507907.908320818 16105223.256417485,1507894.925071003 16105230.051044041,1507889.2562088743 16105237.18517253,1507883.6408434093 16105252.378884526,1507871.418917109 16105260.473351633,1507864.9781276947 16105277.6856642,1507851.550373531 16105286.575009719,1507844.4412995623 16105304.686479118,1507829.2061614958 16105323.344073484,1507813.3790468103 16105332.468783947,1507804.759114039 16105349.216328716,1507785.2695813228 16105356.753542518,1507774.6804422797 16105364.935531957,1507763.7966529438 16105381.621965993,1507740.601624043 16105389.698560381,1507728.519345685 16105405.440018445,1507704.2626588745 16105420.434156017,1507679.180279197 16105433.267364984,1507653.3058746515 16105444.884291437,1507626.5789096616 16105454.340179555,1507598.6376152562 16105463.454553517,1507569.9415837256 16105472.402401112,1507540.7957932642 16105481.394115413,1507511.5711259947 16105490.149056653,1507482.2672988947 16105499.088298358,1507453.491082831 16105508.725653842,1507425.7350574883 16105513.242725374,1507412.0879301531 16105519.761349019,1507385.6863409863 16105521.654976897,1507359.7381572316 16105517.455516675,1507335.1193649143 16105508.04569982,1507311.7737890314 16105495.011970297,1507289.8970062793 16105480.374039367,1507268.680629493 16105463.045801535,1507247.8935676794 16105454.304062717,1507236.9856505843 16105436.525912385,1507213.9800070073 16105418.234180525,1507189.5815723345 16105399.266346596,1507163.9050406062 16105379.459741665,1507136.8218227662 16105359.938913867,1507108.214028612 16105340.932165014,1507079.1148263153 16105324.846229391,1507048.9626292828 16105317.373424178,1507034.2795993215 16105304.404058175,1507004.909722797 16105293.270730384,1506976.7387087666 16105285.519208988,1506948.1155195928 16105283.828861581,1506933.6453198795 16105282.757414391,1506919.2389516484 16105282.85194939,1506890.0339493742 16105284.45204191,1506860.9762981536 16105285.112004029,1506832.2088342637 16105284.973086951,1506804.2952504351 16105283.159548372,1506776.955445817 16105277.511489108,1506751.5837789464 16105272.77348639,1506739.6591977149 16105260.37722707,1506716.2888769044 16105244.37657633,1506694.0786161528 16105226.475013651,1506671.9458824925 16105205.407108167,1506650.930785335 16105181.720693845,1506629.8969251406 16105156.58477284,1506607.5129310773 16105129.889864663,1506584.4057245865 16105101.402799122,1506561.2188702412 16105073.062021324,1506536.423769632 16105058.269953962,1506524.0822312252 16105028.581392946,1506498.7274132518 16105013.721423753,1506485.4134930056 16104983.740367971,1506459.424358433 16104968.60202656,1506446.8259404069 16104954.635540785,1506433.487869913 16104925.89189303,1506408.762180146 16104897.636096116,1506385.144180619 16104883.644713353,1506373.5222929453 16104855.021833042,1506353.9629792504 16104824.619035838,1506339.6617323891 16104794.093803195,1506328.4657346527 16104763.651316345,1506318.6246423244 16104748.541195057,1506313.2540997195 16104718.609698344,1506300.9813853856 16104689.816094613,1506285.7990835523 16104661.573689196,1506268.6173795348 16104633.824079355,1506250.5458569643 16104607.046872266,1506229.794463823 16104580.053172259,1506208.6470282145 16104566.82704541,1506198.0839711123 16104540.618329257,1506177.5525817133 16104515.337996118,1506157.7517804236 16104502.537799418,1506148.270885608 16104476.507756438,1506129.8552471579 16104449.851278452,1506112.1611386146 16104422.769597435,1506095.171397654 16104409.197465815,1506087.2449224868 16104382.200247034,1506072.1005528031 16104355.239793103,1506057.7811313155 16104327.331887731,1506044.3705836884 16104299.596718853,1506029.7472092186 16104272.154228875,1506014.9427448742 16104258.219953565,1506007.9847590048 16104230.737926472,1505993.5484925583 16104217.102825789,1505986.4359748433 16104190.279779661,1505972.8939680934 16104164.884089675,1505959.404511392 16104140.8837077,1505945.5757969413 16104120.842916155,1505928.8807337275 16104113.400053442,1505918.9540532709 16104100.964356884,1505897.316216884 16104089.410922566,1505873.786624729 16104077.958161877,1505849.0101594746 16104065.849090971,1505823.7925968473 16104053.332945962,1505797.9117156959 16104039.45176899,1505772.141796013 16104032.61530353,1505759.156684657 16104025.829873327,1505746.2488423989 16104012.863270251,1505720.5264844294 16103999.768738443,1505694.553521548 16103986.638788251,1505667.8632372245 16103980.207933698,1505654.387997566 16103967.59791677,1505627.861973252 16103955.565142792,1505602.6869208019 16103944.260511514,1505578.6283311895 16103934.242675072,1505555.7230265448 16103929.908384603,1505544.7120889502 16103921.749482328,1505523.7395592784 16103917.654682422,1505513.5451516698 16103909.595265891,1505493.0536442962 16103901.154064251,1505472.1610093585 16103893.450061277,1505450.230283918 16103885.212994523,1505427.2785599187 16103876.63992281,1505403.3454399002 16103867.511752516,1505378.750208355 16103858.639667971,1505353.2865202082 16103854.289059313,1505340.3491739437 16103845.909645908,1505314.8299843248 16103842.050994221,1505302.501929184 16103834.494252365,1505278.966846706 16103826.88386786,1505256.1718060132 16103819.775232738,1505233.8521104697 16103816.810558788,1505222.792213487 16103809.95987732,1505201.0319136428 16103806.480297491,1505190.3580992094 16103800.338478697,1505169.222173936 16103794.181264026,1505148.8366339456 16103787.98293669,1505129.061792514 16103781.553318748,1505109.4203515842 16103774.636951905,1505089.6936093902 16103771.125363871,1505079.7611170409 16103763.845173433,1505059.9498900885 16103756.654811408,1505040.0250625075 16103748.858947609,1505019.4932891186 16103740.022807186,1504996.6491135277 16103731.232389266,1504972.1102235168 16103722.295447147,1504946.5214198572 16103712.822443048,1504919.7501994905 16103708.006924005,1504906.0772122669 16103699.917249264,1504877.884789957 16103692.139758611,1504849.0656698372 16103684.668053927,1504819.3202044738 16103677.296724034,1504789.0810696403 16103670.619093925,1504758.2834799737 16103667.945736667,1504742.5831778846 16103663.525658866,1504710.864914101 16103659.73406746,1504678.7158121753 16103657.19301686,1504645.9390927227 16103655.827233434,1504612.7003452366 16103654.223715559,1504579.2988900093 16103654.353565298,1504546.0256817199 16103654.065807626,1504512.8677733208 16103653.742908353,1504496.2511158495 16103652.87855085,1504463.3514677177 16103650.320096806,1504431.1479101796 16103643.979810935,1504399.7161538918 16103635.795616983,1504369.1400238685 16103625.696075272,1504339.3576747878 16103613.398395674,1504310.0802485987 16103600.95939507,1504280.8068706044 16103594.761366313,1504266.4026205337 16103588.838170283,1504252.1220990536 16103576.539577855,1504224.5289980094 16103563.684455724,1504198.8204292762 16103550.518899987,1504175.8022834458 16103536.1247777,1504155.8025356943 16103520.402773326,1504137.2603730964 16103504.76634307,1504119.5836321185 16103489.521963777,1504102.1622302511 16103474.17982238,1504085.2410873102 16103457.967022832,1504068.4139646578 16103449.674512718,1504059.759038542 16103432.525867647,1504042.0651654026 16103415.11431199,1504023.8470403985 16103397.74277286,1504004.4582112026 16103379.51533161,1503984.265439953 16103360.110608632,1503963.1884925647 16103340.190964684,1503941.8686449707 16103320.513748853,1503920.2989260543 16103300.55523959,1503898.642071781 16103280.238457954,1503876.8489350816 16103259.680652585,1503854.8933415469 16103239.277882716,1503832.7125139085 16103218.743088605,1503810.3383175933 16103198.021411287,1503788.03608195 16103177.126199702,1503765.676577398 16103166.80374773,1503754.4366387879 16103146.386825584,1503732.0774974755 16103127.244383724,1503710.1512325609 16103117.984965373,1503699.8732776777 16103108.390664762,1503690.7258308767 16103090.741815869,1503673.4852081935 16103073.922953615,1503658.188402381 16103057.048253233,1503643.027282409 16103039.514738638,1503627.2031624569 16103020.965830013,1503610.754896507 16103001.377614254,1503594.1576282745 16102980.991439693,1503576.8988204976 16102960.265497008,1503558.6008846972 16102939.283380851,1503539.4692025175 16102929.112979783,1503529.5058931767 16102909.289285475,1503507.939720012 16102891.238726668,1503483.689664162 16102873.786510954,1503458.1008644763 16102865.810775239,1503445.0994612966 16102850.846780287,1503418.2503046615 16102835.960022854,1503390.7300995083 16102821.433784677,1503363.0449700204 16102814.1577452,1503348.924770466 16102799.634046797,1503320.5991578936 16102785.079771724,1503292.4921172282 16102770.263819091,1503264.691008589 16102755.780013116,1503236.9609796614 16102748.733317206,1503223.1934961404 16102735.819309203,1503195.5119460318 16102722.511051971,1503168.596765967 16102708.805934565,1503142.000370133 16102694.972508943,1503115.4052186343 16102681.025120825,1503088.6061376792 16102667.314411135,1503061.2484197293 16102660.779553898,1503047.3504208368 16102649.369592024,1503018.5144037367 16102641.218149751,1502987.9928007927 16102635.391795889,1502956.6055294422 16102631.67608093,1502924.4956865036 16102629.09437489,1502891.6675602193 16102627.935618497,1502858.6398195927 16102627.701083323,1502826.1395310198 16102627.889756363,1502793.4683323402 16102627.721851323,1502760.5651903388 16102628.333858391,1502727.7285972373 16102630.845857697,1502695.5069385737 16102634.93480194,1502664.5596040373 16102639.47863558,1502634.0448913744 16102643.924123509,1502602.7142310108 16102649.143244248,1502571.0485670536 16102651.73239896,1502555.3045226287 16102656.321964389,1502523.8395794136 16102659.187436435,1502492.5622020916 16102659.672621343,1502460.9797865942 16102658.64820611,1502429.0180395995 16102654.873518134,1502396.6733089976 16102648.05871111,1502364.4653107447 16102644.452549485,1502348.2917748182 16102636.191451164,1502316.016492024 16102627.810697764,1502283.9019031487 16102618.846794482,1502252.2645668027 16102609.705225235,1502220.9626335353 16102604.887744261,1502205.4985589648 16102595.669899985,1502174.5605817172 16102586.849009939,1502143.5056320908 16102577.764410125,1502112.3988816312 16102572.901241807,1502096.883584851 16102563.201066796,1502065.8316183265 16102553.405592334,1502034.4212899164 16102543.707149733,1502003.0284211638 16102534.512948206,1501971.8169433363 16102525.11887755,1501940.6458698916 16102520.68546728,1501925.1599394595 16102511.318125958,1501894.715299827 16102506.297142558,1501879.5374657218 16102495.840755498,1501849.2448071581 16102485.533387035,1501819.5634535216 16102480.812206423,1501804.7937926878 16102472.024731962,1501775.3753001306 16102465.437710809,1501746.222195507 16102460.130905675,1501717.7260039325 16102455.148978848,1501689.6490443742 16102449.509873705,1501661.704940682 16102443.688413093,1501633.3750243725 16102437.960028984,1501605.2702924188 16102432.104665924,1501576.9962423714 16102426.309251914,1501548.7708417603 16102420.57248189,1501520.638232615 16102414.601637777,1501492.6881269058 16102411.223259,1501478.7955826428 16102404.363657081,1501451.2634543406 16102397.99742757,1501423.7684401665 16102391.410557017,1501396.4641385127 16102388.305760246,1501382.8135107032 16102382.060284633,1501355.0855665635 16102378.941272842,1501340.957881487 16102372.55326105,1501312.1536339475 16102366.116829928,1501282.5571693087 16102362.945199532,1501267.4396471311 16102356.769934723,1501236.525253253 16102350.31222338,1501205.0063573518 16102346.916988257,1501189.2082974534 16102339.767373262,1501157.8385174046 16102331.895942315,1501126.8493269642 16102327.943683326,1501111.5051056342 16102320.37656538,1501081.688333984 16102316.64278424,1501067.2157849453 16102308.781409742,1501038.8902147731 16102299.516114056,1501011.0222227469 16102289.054599706,1500982.644312696 16102278.951627549,1500953.8799415794 16102268.547442233,1500925.0205692418 16102263.27001303,1500910.7542270666 16102253.963483943,1500882.9049532132 16102249.661230668,1500869.4340630886 16102243.069205675,1500842.6449410156 16102240.67576628,1500829.6538934521 16102236.686736183,1500804.2073277957 16102235.702365022,1500791.4721532897 16102237.436073288,1500766.7160871378 16102239.542333663,1500754.4392965322 16102246.525465546,1500729.7372512585 16102258.704222513,1500707.5444876973 16102266.623014208,1500697.2201366748 16102285.70108222,1500677.6125669228 16102307.145368474,1500658.6334329194 16102329.40570795,1500638.900806613 16102352.088878624,1500618.478946947 16102374.55062262,1500599.0506803244 16102396.360799992,1500580.064001869 16102418.280474419,1500561.102606182 16102438.926176917,1500541.9459858555 16102459.341514511,1500523.4868927372 16102478.560475416,1500505.6220780096 16102497.651555594,1500488.7329621178 16102507.115270326,1500480.4019300635 16102525.667720878,1500463.7513431504 16102543.798667977,1500447.0818351966 16102561.487364328,1500430.441513864 16102570.119363945,1500421.9799793875 16102587.216664739,1500404.5491536527 16102595.617493335,1500395.4331219527 16102611.956456894,1500376.3256061524 16102627.5587236,1500356.4984098019 16102635.020408507,1500346.0504280496 16102649.302223705,1500324.4003657366 16102656.192585979,1500313.2200017052 16102669.838779721,1500289.6329920765 16102676.859132838,1500278.2084500547 16102691.554159533,1500254.96721797 16102706.718624774,1500231.1309481538 16102713.993160132,1500218.8081970662 16102720.506106261,1500205.706423209 16102726.002680283,1500191.880850375 16102736.176228527,1500163.5361448142 16102744.635840181,1500134.1392614695 16102752.091990137,1500103.8231857365 16102755.828606894,1500088.6516221636 16102759.460617844,1500073.45195738 16102767.049201757,1500043.2693051847 16102774.232527686,1500013.3493831104 16102779.902899873,1499983.7392343148 16102782.041761221,1499953.819261707 16102781.28419413,1499924.4520175369 16102777.288107425,1499896.7429988862 16102771.840362007,1499869.974828847 16102766.8102378,1499844.1463825086 16102762.404185684,1499819.5875470866 16102758.27935731,1499795.520226073 16102753.576343168,1499771.8316681546 16102748.710316613,1499748.567641053 16102746.309110085,1499736.8832029826 16102741.246845698,1499713.317393826 16102736.357913094,1499689.7328982113 16102731.322158625,1499665.9422223773 16102726.40950299,1499642.8474083245 16102724.248134136,1499631.1486634626 16102720.852541396,1499607.745231397 16102720.253755735,1499595.7715078196 16102721.393099697,1499572.0658570735 16102722.897746483,1499560.2413334379 16102728.476750664,1499536.5711121575 16102736.844176479,1499514.152300754 16102747.946924308,1499492.941096482 16102754.50310942,1499482.8259829516 16102769.063929202,1499463.767604364 16102786.123968834,1499446.9783788356 16102805.081302484,1499431.8429757848 16102825.645030275,1499418.7146872613 16102846.747969737,1499406.299734314 16102868.742819747,1499393.9942342464 16102880.156641554,1499387.738937023 16102903.257288963,1499374.0640544088 16102915.108023448,1499367.2115602626 16102927.06626173,1499359.9431268608 16102950.812759638,1499343.6696659054 16102975.010509552,1499325.867068175 16102986.623661222,1499316.2997746423 16103007.14632318,1499293.9702800638 16103025.424605597,1499269.987811501 16103041.735286165,1499244.816134194 16103057.042800374,1499218.658473846 16103072.9288205,1499192.2553127164 16103087.98841294,1499164.6163528915 16103101.64222764,1499136.183137424 16103112.625088064,1499106.3205773046 16103121.195097342,1499075.6801424997 16103125.44372374,1499060.2207425104 16103129.807618264,1499044.5808448195 16103138.884034371,1499012.999835085 16103148.087062461,1498981.382746868 16103158.253112465,1498949.6789513319 16103169.112972705,1498917.4602535907 16103174.453833455,1498901.323100004 16103185.918506507,1498868.788147321 16103191.78477519,1498852.336662057 16103197.490694588,1498835.8207472696 16103209.379647834,1498803.317269832 16103221.844326217,1498772.0378727608 16103233.970482897,1498741.7668925945 16103245.141801111,1498712.680700245 16103255.487870943,1498685.7573407535 16103265.206309818,1498660.4853273435 16103274.425010202,1498636.0752318704 16103283.715902722,1498612.7051877459 16103292.170194518,1498590.0889556992 16103300.68390248,1498567.8403560275 16103309.179106694,1498546.085358051 16103317.76846933,1498524.3277216153 16103326.361553466,1498501.977412509 16103334.946640918,1498479.058480694 16103343.481239213,1498455.7649201334 16103352.509932,1498431.1823326712 16103361.635667184,1498404.7985396308 16103370.959627146,1498375.5167437582 16103378.560600892,1498342.2934334306 16103386.751121067,1498307.3900754026 16103390.758727435,1498289.60381432 16103399.570472792,1498253.5339295263 16103409.67775201,1498215.995511085 16103417.036330588,1498197.2332105376 16103434.339087008,1498159.5126546072 16103452.447781775,1498122.0218854202 16103470.320046125,1498084.2791657762 16103486.965882784,1498046.9338879553 16103503.018431863,1498010.9372204165 16103510.880886637,1497993.5716809926 16103518.267777927,1497976.7059692815 16103532.561516048,1497945.1648086985 16103546.021082304,1497915.4497922244 16103552.299607359,1497901.284883216 16103564.555721052,1497874.6181794023 16103576.545134023,1497848.957866177 16103582.075554388,1497836.0937514107 16103593.244339311,1497810.7810412454 16103603.706996446,1497784.2738641896 16103608.434708705,1497770.4564500132 16103617.806577556,1497742.0749148973 16103626.818634748,1497712.293976551 16103635.024416951,1497680.689978723 16103637.950111799,1497663.7348386382 16103640.736172432,1497646.441483509 16103647.114342539,1497610.8438640065 16103650.400459947,1497592.4118093236 16103656.379409846,1497555.002905886 16103664.617675265,1497517.7251536122 16103676.189897487,1497482.1698263867 16103693.16273381,1497450.0624127411 16103713.034189189,1497421.146601922 16103735.191090386,1497396.2860803804 16103757.656605273,1497373.880482872 16103778.509376746,1497352.5040646803 16103796.437530244,1497330.1755977476 16103812.378957108,1497307.646955673 16103826.854390085,1497285.8065212255 16103833.420233486,1497274.7883786757 16103845.994232703,1497253.189230962 16103858.552675234,1497232.257221189 16103872.390912795,1497212.716295384 16103880.44666536,1497204.1973783209 16103897.070222234,1497187.5576550062 16103915.33086386,1497173.1006974434 16103924.78295009,1497166.200609029 16103944.065502668,1497153.0540301441 16103963.222925304,1497139.8511200994 16103972.989367075,1497133.2003494687 16103982.507047579,1497126.3079306134 16104001.162604835,1497112.3687708955 16104019.668875888,1497098.4088868506 16104037.533382645,1497083.9639591374 16104054.827293847,1497068.4865126328 16104071.740950624,1497052.7767102965 16104088.92284427,1497037.7080145907 16104106.47819249,1497023.2769232101 16104125.149183612,1497009.2065695047 16104145.665513737,1496996.2784047516 16104156.927910479,1496990.7018371406 16104181.09239683,1496981.447224187 16104194.22176651,1496977.9432746912 16104222.38039431,1496971.1542586142 16104251.900179075,1496965.488769005 16104282.447440522,1496958.5870416497 16104298.33017609,1496954.651118135 16104331.988812825,1496946.297479876 16104349.304110568,1496942.693570287 16104384.394336455,1496935.6473638942 16104402.181035839,1496932.861808938 16104437.64726549,1496929.4427258389 16104471.089539265,1496926.7236214085 16104503.00521874,1496923.8135072344 16104518.451620456,1496923.1959998237 16104548.346452253,1496922.1332009684 16104577.171584556,1496920.449675268 16104591.172807602,1496919.4021901628 16104618.26371897,1496917.0309185644 16104643.645343293,1496913.4868603598 16104667.90295341,1496906.591606482 16104690.765736772,1496895.4038591252 16104712.31273814,1496881.895061328 16104722.45339532,1496874.6659301235 16104740.723493582,1496858.6004632805 16104757.227522617,1496841.2094939528 16104771.785111316,1496821.9395115306 16104784.447339533,1496800.8579036521 16104795.816944629,1496777.542232455 16104809.136335582,1496753.9174456378 16104822.626884237,1496729.11241336 16104837.24466592,1496703.714154982 16104853.609934561,1496676.8499409584 16104861.400601044,1496663.7293758837 16104877.019726012,1496636.4791076013 16104891.95562439,1496608.1422217165 16104903.182112101,1496577.3834079013 16104908.127038538,1496543.7014911878 16104907.27313932,1496507.8666489013 16104901.134876782,1496472.4441110424 16104897.210533675,1496454.7420099215 16104888.329817208,1496420.3168279454 16104884.54245313,1496403.5321132494 16104877.431471815,1496370.3588688013 16104874.528408857,1496353.8567367832 16104871.108489262,1496321.2485551853 16104870.391054252,1496305.139959206 16104870.921734186,1496272.4385087604 16104872.256176272,1496239.090631323 16104873.02457122,1496221.8686956111 16104873.817967087,1496186.9012086648 16104873.927690867,1496151.9555983625 16104873.901539717,1496133.9177960514 16104875.210308285,1496097.6203690823 16104877.905161005,1496079.0426102122 16104881.33947944,1496060.2066640805 16104889.937519431,1496021.5814436383 16104901.415495917,1495981.6761784502 16104913.160243865,1495940.3916531103 16104918.056896275,1495919.8277547434 16104926.267009148,1495880.457404593 16104929.073061233,1495861.1763746662 16104932.077676022,1495822.0419404558 16104931.833084177,1495802.8071301228 16104932.482488701,1495764.4131054655 16104931.082936427,1495726.123867139 16104933.351789022,1495689.4541984827 16104940.012328817,1495652.2228228687 16104948.427442547,1495616.2106254147 16104956.51053623,1495582.3659883044 16104962.415583443,1495550.0071346948 16104962.158263333,1495517.7663179976 16104955.395697875,1495486.9568439778 16104943.784481127,1495456.7136792154 16104935.6632597,1495441.9351385692 16104915.026581697,1495413.781739857 16104892.819026645,1495385.056085256 16104870.417530853,1495356.227348273 16104859.588452615,1495341.8246577184 16104840.16461174,1495315.4227649935 16104830.280620793,1495288.0415390753 16104831.062082574,1495273.9226003382 16104842.043695973,1495246.9109795508 16104862.229377793,1495223.4406349568 16104882.573458502,1495199.0506879198 16104892.070093095,1495186.5814194048 16104909.408840915,1495162.719707275 16104918.115908988,1495151.9033927482 16104934.404238729,1495131.2896292254 16104949.473866701,1495112.8280281795 16104963.705225594,1495096.8485341195 16104970.27086109,1495088.9684675755 16104983.22380895,1495073.9903686936 16104995.716540333,1495058.2070826301 16105008.404594442,1495041.6050830341 16105021.565908894,1495024.2406282406 16105033.903214656,1495004.2063866013 16105046.955449106,1494982.467432283 16105052.42763337,1494969.8727381306 16105060.482153252,1494941.6110228181 16105065.37198694,1494910.0800144384 16105067.930280238,1494876.0831687758 16105068.950398585,1494858.5487436005 16105071.616839474,1494823.6633566197 16105074.0945375,1494789.3565479242 16105074.342759492,1494756.5552254901 16105071.584822275,1494725.37379396 16105060.097383311,1494696.6249634116 16105044.90765269,1494668.0414243978 16105026.26400765,1494640.037488255 16105003.021594957,1494614.307114192 16104975.951994834,1494592.5323940262 16104945.197641945,1494577.6504538837 16104914.352928476,1494568.2275354834 16104883.897407413,1494561.384455462 16104854.214588614,1494553.962507939 16104825.05923618,1494545.4019396126 16104796.394758094,1494536.8425255488 16104768.239618452,1494527.9047490319 16104740.573201567,1494516.181932716 16104714.776664859,1494499.7500189573 16104690.687671918,1494480.195899419 16104665.936958741,1494459.8534516613 16104653.113153176,1494449.4425475623 16104625.977256443,1494429.4592181167 16104597.36499839,1494412.9081943273 16104566.631814552,1494401.4176758367 16104550.826555232,1494397.0968111528 16104518.541494532,1494389.900666926 16104485.520175818,1494385.4859647886 16104450.819822205,1494384.892402119 16104433.541427948,1494384.1362484961 16104399.191756124,1494383.7007485696 16104365.639458386,1494385.1305176683 16104349.606188394,1494386.412279158 16104318.280647798,1494387.8083957382 16104288.47893509,1494385.7344561894 16104258.6574757,1494382.148620499 16104243.694104137,1494379.711930457 16104213.187860187,1494375.0102886157 16104182.518393371,1494369.090127078 16104149.914199205,1494364.6009576384 16104116.700466495,1494360.1475349911 16104082.450671412,1494355.5711743995 16104065.100352792,1494353.3201176852 16104029.822072657,1494348.7718814597 16103995.011796884,1494343.6273599952 16103960.294342624,1494337.6148645596 16103928.152506256,1494332.1578404398 16103898.705880152,1494327.1864961712 16103884.342866685,1494325.1525200277 16103856.81089078,1494321.2657958013 16103829.49506902,1494318.5492137456 16103816.421127541,1494316.6332915742 16103789.11973613,1494313.1238933231 16103762.045934962,1494309.382165944 16103735.463400187,1494305.1156308702 16103708.794338387,1494301.7950197961 16103682.873074623,1494300.4506406486 16103657.140236873,1494300.9063380973 16103629.774778187,1494303.0153055866 16103615.897316456,1494305.3196441245 16103586.134503596,1494310.1625564953 16103555.40857475,1494315.6502168744 16103539.785125671,1494317.819407957 16103509.490517946,1494321.1279201698 16103480.028093379,1494323.0557265775 16103465.967024552,1494323.5211074213 16103441.566431258,1494318.4028443233 16103421.819813728,1494305.6693663427 16103413.89966136,1494296.6642519427 16103400.349830331,1494275.5731801216 16103388.862341376,1494252.3880744 16103382.60612792,1494240.325778491 16103369.880009387,1494215.4073815555 16103356.412903748,1494189.5879133758 16103343.3196799,1494163.5387047126 16103337.390779186,1494150.217485911 16103328.057676721,1494123.5589032802 16103326.563213114,1494110.438178785 16103327.081609461,1494097.7942983243 16103337.821245806,1494078.030241531 16103344.974825831,1494070.2233656843 16103356.332586838,1494053.5390106593 16103358.404006105,1494035.021467745 16103355.63630083,1494018.1420866062 16103357.869711915,1494010.8426500303 16103366.513086822,1493997.445195003 16103378.34209853,1493989.706430811 16103392.114705594,1493986.008653667 16103399.836083995,1493986.4259974984 16103414.153690856,1493988.7966898596 16103428.640906716,1493990.0638054812 16103435.871148728,1493990.230121006 16103449.636994021,1493990.6249317261 16103456.621754754,1493990.967413027 16103470.592772994,1493990.8996039035 16103485.141068274,1493990.7161961244 16103499.998105103,1493990.4143792943 16103514.636207102,1493992.195552278 16103528.916475091,1493991.7718894256 16103542.893106723,1493989.9342582803 16103549.92377535,1493988.8642123041 16103564.934550012,1493985.7665550145 16103581.11122877,1493982.4140195113 16103598.066435566,1493979.0573037085 16103614.81090658,1493975.8509082282 16103631.010752352,1493972.5158564546 16103646.039216463,1493969.4131234926 16103659.617232403,1493966.3566813287 16103672.26083833,1493963.6013875927 16103685.07256225,1493961.2045604694 16103691.587772623,1493960.0239394035 16103705.819516353,1493957.7785608731 16103713.44802141,1493956.6651969778 16103729.47521578,1493954.0000900212 16103745.893208785,1493950.6962286197 16103762.09198036,1493947.1528039607 16103777.177916197,1493941.4999472934 16103784.131886974,1493937.7111016638 16103797.119244562,1493929.6795641475 16103803.200528318,1493924.7591076535 16103814.141143555,1493914.718606108 16103819.123132266,1493909.8478192857 16103828.643726101,1493899.7446781092 16103833.62532519,1493895.2732244693 16103844.752470834,1493887.9942942786 16103851.278137013,1493885.7310279072 16103865.034278426,1493883.9140967077 16103878.618734417,1493884.2157804626 16103885.691369468,1493884.2927108214 16103899.989683498,1493884.5975335704 16103914.998878976,1493885.379897343 16103922.73371342,1493885.3370714826 16103937.852148302,1493882.8584481857 16103951.665355109,1493874.4064310212 16103963.409958994,1493861.1168180872 16103972.339785308,1493844.2247032193 16103979.093806412,1493826.3907091024 16103983.325358702,1493808.413852878 16103983.592702067,1493790.1768381263 16103982.292492285,1493781.4132114833 16103976.27566209,1493764.6682505847 16103966.58315465,1493749.22721081 16103959.359302599,1493742.6904631401 16103942.612787267,1493732.2723286266 16103925.216486197,1493722.3467715676 16103909.198518647,1493711.0171142241 16103901.964029154,1493704.5954988655 16103889.46160439,1493690.2953662523 16103879.502854887,1493673.7527982788 16103875.363732027,1493665.0422778279 16103868.303031104,1493646.9335415945 16103864.817354642,1493637.6302279728 16103861.521696664,1493628.3287851561 16103855.6751473,1493609.0303115495 16103849.656080311,1493589.833115397 16103846.428353999,1493580.3584190754 16103839.89718922,1493561.8822492084 16103836.764689853,1493552.5674804586 16103829.893762449,1493534.0280600903 16103826.249262732,1493524.4532735618 16103818.065406572,1493504.9627704048 16103809.55074802,1493485.334489203 16103801.319330383,1493466.0313157106 16103793.231791025,1493446.6330010775 16103785.304637313,1493427.4843109376 16103781.408093113,1493417.9950450296 16103773.661717642,1493398.551515015 16103765.42522999,1493378.4952813275 16103761.280376283,1493367.8786200983 16103752.567236722,1493345.3172435078 16103743.888958408,1493322.402701321 16103739.33323208,1493310.8908874504 16103734.715491148,1493299.2739018488 16103725.33100448,1493275.552928888 16103715.347736862,1493251.4451737194 16103705.419756407,1493226.7943837289 16103694.665654408,1493200.2781171538 16103683.988515398,1493171.7255418445 16103672.885842988,1493142.7331661996 16103667.142985128,1493128.4956566181 16103656.288789423,1493099.9174662186 16103646.358324645,1493072.6368660193 16103637.12925601,1493047.2494256964 16103627.509566417,1493021.5255939018 16103622.545918707,1493008.4905194133 16103612.540854884,1492982.465620829 16103602.369501999,1492956.817414602 16103597.411200626,1492944.1855417227 16103588.158086782,1492919.898686582 16103583.940169679,1492908.5490854292 16103576.009387001,1492886.3784504551 16103567.836342955,1492864.2727322911 16103558.19390159,1492841.7953834622 16103545.322053678,1492819.2469573491 16103531.554064162,1492796.8605748068 16103524.528670566,1492785.5553311545 16103510.637513371,1492763.4303536576 16103504.68848051,1492752.8407182095 16103497.657545784,1492728.371978605 16103497.644612543,1492704.7813207714 16103499.843641624,1492681.067417107 16103501.794288926,1492669.3277249811 16103505.78016598,1492645.6583755224 16103512.138496626,1492622.5551005302 16103519.392213413,1492599.8892132172 16103529.57766283,1492575.4215979532 16103541.913014613,1492550.3336250004 16103555.312741855,1492524.6468961244 16103562.554397287,1492512.1895782659 16103576.829615626,1492488.5944823143 16103583.891265512,1492477.7377787319 16103601.407562947,1492459.7458911794 16103612.033190576,1492451.304688743 16103633.479728369,1492436.8388920466 16103655.021756493,1492421.5485869395 16103675.871565893,1492407.1296470817 16103686.103406793,1492400.7098471667 16103706.30777086,1492388.9534611471 16103716.201438174,1492382.280153143 16103735.742353942,1492370.312039041 16103753.96347309,1492359.5152459303 16103768.083073638,1492346.086604261 16103777.308897845,1492330.448114689 16103781.474671481,1492314.0108809464 16103782.155407349,1492297.0473565233 16103782.416773038,1492288.3922115213 16103781.888819857,1492269.8394896302 16103779.605861844,1492249.240685482 16103774.579893742,1492226.8308105033 16103765.52903752,1492203.6162187736 16103755.803862581,1492180.1532516098 16103747.21869613,1492155.6646891956 16103743.34013307,1492142.806437774 16103737.615663843,1492115.8914282117 16103735.249991713,1492102.6112348265 16103730.976463806,1492076.9381522485 16103726.833579587,1492051.792839049 16103724.218446534,1492027.8303906864 16103724.251189748,1492004.3885839868 16103727.363719536,1491981.3916584298 16103729.317378864,1491970.3278062954 16103734.82884842,1491948.8987213012 16103742.891049903,1491928.0896233981 16103751.531382538,1491906.9627780318 16103756.527745316,1491896.545114554 16103766.51143624,1491875.1442049993 16103775.909515308,1491853.4310209434 16103786.32205814,1491831.2081237144 16103796.626504527,1491810.0584986615 16103806.884428116,1491789.4042740392 16103817.33944904,1491768.3346607706 16103822.901727524,1491757.5596511802 16103834.307679692,1491734.1786251967 16103839.929793056,1491722.1155133236 16103851.418857455,1491697.903287691 16103863.325249637,1491673.855878277 16103874.453123666,1491649.813539218 16103885.747810323,1491625.958721195 16103897.059735054,1491602.5336446532 16103908.645402608,1491579.1495455266 16103920.913077937,1491554.776220108 16103926.822052455,1491542.629938818 16103938.558610851,1491517.652098369 16103944.406798523,1491505.307862505 16103955.661014585,1491481.8768495421 16103964.62608684,1491458.9222414098 16103969.911815492,1491435.442364976 16103971.359338822,1491423.0131889705 16103972.08009825,1491396.6064481947 16103971.991308983,1491369.5268909119 16103972.734709846,1491342.7274573324 16103973.58391696,1491316.2679698302 16103973.707137037,1491289.8906594242 16103973.435766416,1491276.7128437473 16103973.899389569,1491263.6839419391 16103974.388928745,1491238.880966952 16103969.709540179,1491216.8733532557 16103958.480395533,1491197.669989774 16103951.660672247,1491188.1655133304 16103938.049757222,1491168.6537845007 16103931.09300325,1491158.6995564909 16103917.189664278,1491138.7090381992 16103910.216860421,1491128.2451971963 16103896.021275848,1491107.444610259 16103882.362619795,1491087.031390129 16103875.455247464,1491077.0866344962 16103861.80194503,1491057.6648038703 16103847.723504998,1491038.6609223487 16103833.888889054,1491019.8760672202 16103819.94358989,1491001.590943777 16103807.982819675,1490982.345836654 16103800.00052832,1490961.5144290982 16103795.987426296,1490939.0552593262 16103793.997452643,1490915.763529296 16103792.238929942,1490891.9748875778 16103791.50085844,1490867.0495673157 16103791.68889865,1490841.3485213786 16103792.950138608,1490814.6960193173 16103796.160328336,1490788.5591570158 16103802.134319823,1490762.4130980615 16103806.277428593,1490749.5795711174 16103815.133872248,1490724.7508775694 16103824.872786105,1490700.2256017092 16103834.412703918,1490676.54767146 16103842.583234591,1490654.4751100577 16103846.4801167,1490643.7205867292 16103855.358549831,1490622.7436916593 16103864.760028604,1490603.064351376 16103874.42966628,1490584.299615801 16103886.812756639,1490568.6814563996 16103894.65772958,1490563.0727152703 16103912.170742353,1490556.2070700228 16103929.205586802,1490550.0954828293 16103942.885135384,1490539.3233638778 16103947.684109187,1490531.9555577396 16103955.968395352,1490515.557757462 16103964.657609971,1490498.353180265 16103973.9805539,1490481.1479677544 16103983.200518208,1490463.1048071457 16103993.689010404,1490443.229941177 16104004.333353361,1490422.4429414468 16104014.415763605,1490401.763251449 16104024.179064361,1490381.3457667937 16104035.407768466,1490363.5480974505 16104049.390389936,1490349.1896104491 16104064.116307229,1490339.6366812743 16104079.215546224,1490333.3359438688\" opacity=\"0.8\" /></g></svg>"
      ],
      "text/plain": [
       "<shapely.geometry.linestring.LineString at 0x7f84d56d3e80>"
      ]
     },
     "execution_count": 6,
     "metadata": {},
     "output_type": "execute_result"
    }
   ],
   "source": [
    "ls = LineString(gdf.geometry.to_list())\n",
    "print(len(ls.coords))\n",
    "ls"
   ]
  },
  {
   "cell_type": "code",
   "execution_count": 7,
   "id": "damaged-kazakhstan",
   "metadata": {},
   "outputs": [
    {
     "name": "stdout",
     "output_type": "stream",
     "text": [
      "115\n"
     ]
    },
    {
     "data": {
      "image/svg+xml": [
       "<svg xmlns=\"http://www.w3.org/2000/svg\" xmlns:xlink=\"http://www.w3.org/1999/xlink\" width=\"300\" height=\"300\" viewBox=\"16101332.363423597 1489429.0126312836 6839.683378700167 24416.729439803166\" preserveAspectRatio=\"xMinYMin meet\"><g transform=\"matrix(1,0,0,-1,0,3003274.7547023706)\"><polyline fill=\"none\" stroke=\"#66cc99\" stroke-width=\"162.77819626535444\" points=\"16107267.723489711,1512941.4187585015 16106954.273550194,1512674.1445079308 16106889.930411872,1512583.625712211 16106498.734341914,1511566.9232389354 16106201.495031705,1510910.3977803427 16105596.393843029,1509692.5861763074 16105489.539283378,1509407.2260100895 16105470.013817756,1509289.092396042 16105481.233043902,1509098.7658290511 16105496.27257299,1508963.2073006884 16105549.038287768,1508760.8128290577 16105532.864931216,1508399.4171760662 16105484.089235783,1508287.248449506 16105209.45085232,1507915.4359436831 16105332.468783947,1507804.759114039 16105420.434156017,1507679.180279197 16105521.654976897,1507359.7381572316 16105495.011970297,1507289.8970062793 16105359.938913867,1507108.214028612 16105304.404058175,1507004.909722797 16105285.519208988,1506948.1155195928 16105272.77348639,1506739.6591977149 16105205.407108167,1506650.930785335 16104883.644713353,1506373.5222929453 16104661.573689196,1506268.6173795348 16104422.769597435,1506095.171397654 16104140.8837077,1505945.5757969413 16104100.964356884,1505897.316216884 16103934.242675072,1505555.7230265448 16103708.006924005,1504906.0772122669 16103663.525658866,1504710.864914101 16103643.979810935,1504399.7161538918 16103563.684455724,1504198.8204292762 16103117.984965373,1503699.8732776777 16102909.289285475,1503507.939720012 16102649.369592024,1503018.5144037367 16102627.721851323,1502760.5651903388 16102659.187436435,1502492.5622020916 16102654.873518134,1502396.6733089976 16102472.024731962,1501775.3753001306 16102339.767373262,1501157.8385174046 16102236.686736183,1500804.2073277957 16102239.542333663,1500754.4392965322 16102266.623014208,1500697.2201366748 16102587.216664739,1500404.5491536527 16102720.506106261,1500205.706423209 16102782.041761221,1499953.819261707 16102720.852541396,1499607.745231397 16102728.476750664,1499536.5711121575 16102786.123968834,1499446.9783788356 16102986.623661222,1499316.2997746423 16103101.64222764,1499136.183137424 16103197.490694588,1498835.8207472696 16103361.635667184,1498404.7985396308 16103409.67775201,1498215.995511085 16103603.706996446,1497784.2738641896 16103664.617675265,1497517.7251536122 16103693.16273381,1497450.0624127411 16103880.44666536,1497204.1973783209 16104145.665513737,1496996.2784047516 16104384.394336455,1496935.6473638942 16104643.645343293,1496913.4868603598 16104722.45339532,1496874.6659301235 16104771.785111316,1496821.9395115306 16104903.182112101,1496577.3834079013 16104907.27313932,1496507.8666489013 16104871.108489262,1496321.2485551853 16104875.210308285,1496097.6203690823 16104926.267009148,1495880.457404593 16104933.351789022,1495689.4541984827 16104962.158263333,1495517.7663179976 16104943.784481127,1495456.7136792154 16104840.16461174,1495315.4227649935 16104831.062082574,1495273.9226003382 16105052.42763337,1494969.8727381306 16105074.342759492,1494756.5552254901 16105044.90765269,1494668.0414243978 16104975.951994834,1494592.5323940262 16104740.573201567,1494516.181932716 16104597.36499839,1494412.9081943273 16104518.541494532,1494389.900666926 16104288.47893509,1494385.7344561894 16103708.794338387,1494301.7950197961 16103441.566431258,1494318.4028443233 16103400.349830331,1494275.5731801216 16103328.057676721,1494123.5589032802 16103357.869711915,1494010.8426500303 16103378.34209853,1493989.706430811 16103528.916475091,1493991.7718894256 16103762.09198036,1493947.1528039607 16103844.752470834,1493887.9942942786 16103951.665355109,1493874.4064310212 16103983.325358702,1493808.413852878 16103966.58315465,1493749.22721081 16103901.964029154,1493704.5954988655 16103875.363732027,1493665.0422778279 16103567.836342955,1492864.2727322911 16103504.68848051,1492752.8407182095 16103497.644612543,1492704.7813207714 16103519.392213413,1492599.8892132172 16103583.891265512,1492477.7377787319 16103753.96347309,1492359.5152459303 16103781.474671481,1492314.0108809464 16103779.605861844,1492249.240685482 16103726.833579587,1492051.792839049 16103729.317378864,1491970.3278062954 16103964.62608684,1491458.9222414098 16103974.388928745,1491238.880966952 16103807.982819675,1490982.345836654 16103792.238929942,1490891.9748875778 16103796.160328336,1490788.5591570158 16103874.42966628,1490584.299615801 16103942.885135384,1490539.3233638778 16104035.407768466,1490363.5480974505 16104079.215546224,1490333.3359438688\" opacity=\"0.8\" /></g></svg>"
      ],
      "text/plain": [
       "<shapely.geometry.linestring.LineString at 0x7f851fcefeb8>"
      ]
     },
     "execution_count": 7,
     "metadata": {},
     "output_type": "execute_result"
    }
   ],
   "source": [
    "lss = ls.simplify(10)\n",
    "print(len(lss.coords))\n",
    "lss"
   ]
  },
  {
   "cell_type": "code",
   "execution_count": 8,
   "id": "advanced-girlfriend",
   "metadata": {},
   "outputs": [
    {
     "data": {
      "text/plain": [
       "shapely.geometry.linestring.LineString"
      ]
     },
     "execution_count": 8,
     "metadata": {},
     "output_type": "execute_result"
    }
   ],
   "source": [
    "type(lss)"
   ]
  },
  {
   "cell_type": "code",
   "execution_count": 9,
   "id": "nutritional-trinity",
   "metadata": {},
   "outputs": [
    {
     "data": {
      "text/plain": [
       "28073.615830461276"
      ]
     },
     "execution_count": 9,
     "metadata": {},
     "output_type": "execute_result"
    }
   ],
   "source": [
    "lss.length"
   ]
  },
  {
   "cell_type": "code",
   "execution_count": 10,
   "id": "unlimited-belle",
   "metadata": {},
   "outputs": [
    {
     "data": {
      "text/plain": [
       "'LINESTRING (16107267.72348971 1512941.418758502, 16106954.27355019 1512674.144507931, 16106889.93041187 1512583.625712211, 16106498.73434191 1511566.923238935, 16106201.49503171 1510910.397780343, 16105596.39384303 1509692.586176307, 16105489.53928338 1509407.22601009, 16105470.01381776 1509289.092396042, 16105481.2330439 1509098.765829051, 16105496.27257299 1508963.207300688, 16105549.03828777 1508760.812829058, 16105532.86493122 1508399.417176066, 16105484.08923578 1508287.248449506, 16105209.45085232 1507915.435943683, 16105332.46878395 1507804.759114039, 16105420.43415602 1507679.180279197, 16105521.6549769 1507359.738157232, 16105495.0119703 1507289.897006279, 16105359.93891387 1507108.214028612, 16105304.40405818 1507004.909722797, 16105285.51920899 1506948.115519593, 16105272.77348639 1506739.659197715, 16105205.40710817 1506650.930785335, 16104883.64471335 1506373.522292945, 16104661.5736892 1506268.617379535, 16104422.76959744 1506095.171397654, 16104140.8837077 1505945.575796941, 16104100.96435688 1505897.316216884, 16103934.24267507 1505555.723026545, 16103708.00692401 1504906.077212267, 16103663.52565887 1504710.864914101, 16103643.97981093 1504399.716153892, 16103563.68445572 1504198.820429276, 16103117.98496537 1503699.873277678, 16102909.28928548 1503507.939720012, 16102649.36959202 1503018.514403737, 16102627.72185132 1502760.565190339, 16102659.18743644 1502492.562202092, 16102654.87351813 1502396.673308998, 16102472.02473196 1501775.375300131, 16102339.76737326 1501157.838517405, 16102236.68673618 1500804.207327796, 16102239.54233366 1500754.439296532, 16102266.62301421 1500697.220136675, 16102587.21666474 1500404.549153653, 16102720.50610626 1500205.706423209, 16102782.04176122 1499953.819261707, 16102720.8525414 1499607.745231397, 16102728.47675066 1499536.571112158, 16102786.12396883 1499446.978378836, 16102986.62366122 1499316.299774642, 16103101.64222764 1499136.183137424, 16103197.49069459 1498835.82074727, 16103361.63566718 1498404.798539631, 16103409.67775201 1498215.995511085, 16103603.70699645 1497784.27386419, 16103664.61767527 1497517.725153612, 16103693.16273381 1497450.062412741, 16103880.44666536 1497204.197378321, 16104145.66551374 1496996.278404752, 16104384.39433645 1496935.647363894, 16104643.64534329 1496913.48686036, 16104722.45339532 1496874.665930124, 16104771.78511132 1496821.939511531, 16104903.1821121 1496577.383407901, 16104907.27313932 1496507.866648901, 16104871.10848926 1496321.248555185, 16104875.21030829 1496097.620369082, 16104926.26700915 1495880.457404593, 16104933.35178902 1495689.454198483, 16104962.15826333 1495517.766317998, 16104943.78448113 1495456.713679215, 16104840.16461174 1495315.422764994, 16104831.06208257 1495273.922600338, 16105052.42763337 1494969.872738131, 16105074.34275949 1494756.55522549, 16105044.90765269 1494668.041424398, 16104975.95199483 1494592.532394026, 16104740.57320157 1494516.181932716, 16104597.36499839 1494412.908194327, 16104518.54149453 1494389.900666926, 16104288.47893509 1494385.734456189, 16103708.79433839 1494301.795019796, 16103441.56643126 1494318.402844323, 16103400.34983033 1494275.573180122, 16103328.05767672 1494123.55890328, 16103357.86971192 1494010.84265003, 16103378.34209853 1493989.706430811, 16103528.91647509 1493991.771889426, 16103762.09198036 1493947.152803961, 16103844.75247083 1493887.994294279, 16103951.66535511 1493874.406431021, 16103983.3253587 1493808.413852878, 16103966.58315465 1493749.22721081, 16103901.96402915 1493704.595498865, 16103875.36373203 1493665.042277828, 16103567.83634296 1492864.272732291, 16103504.68848051 1492752.84071821, 16103497.64461254 1492704.781320771, 16103519.39221341 1492599.889213217, 16103583.89126551 1492477.737778732, 16103753.96347309 1492359.51524593, 16103781.47467148 1492314.010880946, 16103779.60586184 1492249.240685482, 16103726.83357959 1492051.792839049, 16103729.31737886 1491970.327806295, 16103964.62608684 1491458.92224141, 16103974.38892874 1491238.880966952, 16103807.98281967 1490982.345836654, 16103792.23892994 1490891.974887578, 16103796.16032834 1490788.559157016, 16103874.42966628 1490584.299615801, 16103942.88513538 1490539.323363878, 16104035.40776847 1490363.548097451, 16104079.21554622 1490333.335943869)'"
      ]
     },
     "execution_count": 10,
     "metadata": {},
     "output_type": "execute_result"
    }
   ],
   "source": [
    "lss.wkt"
   ]
  },
  {
   "cell_type": "code",
   "execution_count": 11,
   "id": "statistical-expansion",
   "metadata": {},
   "outputs": [
    {
     "name": "stdout",
     "output_type": "stream",
     "text": [
      "DELETE FROM tracks WHERE name='20201211_134207.mp4';\n",
      "INSERT INTO tracks VALUES(NULL, '20201211_134207.mp4', GeomFromText('LINESTRING (16107267.72348971 1512941.418758502, 16106954.27355019 1512674.144507931, 16106889.93041187 1512583.625712211, 16106498.73434191 1511566.923238935, 16106201.49503171 1510910.397780343, 16105596.39384303 1509692.586176307, 16105489.53928338 1509407.22601009, 16105470.01381776 1509289.092396042, 16105481.2330439 1509098.765829051, 16105496.27257299 1508963.207300688, 16105549.03828777 1508760.812829058, 16105532.86493122 1508399.417176066, 16105484.08923578 1508287.248449506, 16105209.45085232 1507915.435943683, 16105332.46878395 1507804.759114039, 16105420.43415602 1507679.180279197, 16105521.6549769 1507359.738157232, 16105495.0119703 1507289.897006279, 16105359.93891387 1507108.214028612, 16105304.40405818 1507004.909722797, 16105285.51920899 1506948.115519593, 16105272.77348639 1506739.659197715, 16105205.40710817 1506650.930785335, 16104883.64471335 1506373.522292945, 16104661.5736892 1506268.617379535, 16104422.76959744 1506095.171397654, 16104140.8837077 1505945.575796941, 16104100.96435688 1505897.316216884, 16103934.24267507 1505555.723026545, 16103708.00692401 1504906.077212267, 16103663.52565887 1504710.864914101, 16103643.97981093 1504399.716153892, 16103563.68445572 1504198.820429276, 16103117.98496537 1503699.873277678, 16102909.28928548 1503507.939720012, 16102649.36959202 1503018.514403737, 16102627.72185132 1502760.565190339, 16102659.18743644 1502492.562202092, 16102654.87351813 1502396.673308998, 16102472.02473196 1501775.375300131, 16102339.76737326 1501157.838517405, 16102236.68673618 1500804.207327796, 16102239.54233366 1500754.439296532, 16102266.62301421 1500697.220136675, 16102587.21666474 1500404.549153653, 16102720.50610626 1500205.706423209, 16102782.04176122 1499953.819261707, 16102720.8525414 1499607.745231397, 16102728.47675066 1499536.571112158, 16102786.12396883 1499446.978378836, 16102986.62366122 1499316.299774642, 16103101.64222764 1499136.183137424, 16103197.49069459 1498835.82074727, 16103361.63566718 1498404.798539631, 16103409.67775201 1498215.995511085, 16103603.70699645 1497784.27386419, 16103664.61767527 1497517.725153612, 16103693.16273381 1497450.062412741, 16103880.44666536 1497204.197378321, 16104145.66551374 1496996.278404752, 16104384.39433645 1496935.647363894, 16104643.64534329 1496913.48686036, 16104722.45339532 1496874.665930124, 16104771.78511132 1496821.939511531, 16104903.1821121 1496577.383407901, 16104907.27313932 1496507.866648901, 16104871.10848926 1496321.248555185, 16104875.21030829 1496097.620369082, 16104926.26700915 1495880.457404593, 16104933.35178902 1495689.454198483, 16104962.15826333 1495517.766317998, 16104943.78448113 1495456.713679215, 16104840.16461174 1495315.422764994, 16104831.06208257 1495273.922600338, 16105052.42763337 1494969.872738131, 16105074.34275949 1494756.55522549, 16105044.90765269 1494668.041424398, 16104975.95199483 1494592.532394026, 16104740.57320157 1494516.181932716, 16104597.36499839 1494412.908194327, 16104518.54149453 1494389.900666926, 16104288.47893509 1494385.734456189, 16103708.79433839 1494301.795019796, 16103441.56643126 1494318.402844323, 16103400.34983033 1494275.573180122, 16103328.05767672 1494123.55890328, 16103357.86971192 1494010.84265003, 16103378.34209853 1493989.706430811, 16103528.91647509 1493991.771889426, 16103762.09198036 1493947.152803961, 16103844.75247083 1493887.994294279, 16103951.66535511 1493874.406431021, 16103983.3253587 1493808.413852878, 16103966.58315465 1493749.22721081, 16103901.96402915 1493704.595498865, 16103875.36373203 1493665.042277828, 16103567.83634296 1492864.272732291, 16103504.68848051 1492752.84071821, 16103497.64461254 1492704.781320771, 16103519.39221341 1492599.889213217, 16103583.89126551 1492477.737778732, 16103753.96347309 1492359.51524593, 16103781.47467148 1492314.010880946, 16103779.60586184 1492249.240685482, 16103726.83357959 1492051.792839049, 16103729.31737886 1491970.327806295, 16103964.62608684 1491458.92224141, 16103974.38892874 1491238.880966952, 16103807.98281967 1490982.345836654, 16103792.23892994 1490891.974887578, 16103796.16032834 1490788.559157016, 16103874.42966628 1490584.299615801, 16103942.88513538 1490539.323363878, 16104035.40776847 1490363.548097451, 16104079.21554622 1490333.335943869)',3857));\n"
     ]
    }
   ],
   "source": [
    "with spatialite.connect(db_path) as db:\n",
    "    sql = f\"DELETE FROM tracks WHERE name='{name}';\"\n",
    "    print(sql)\n",
    "    db.execute(sql)\n",
    "    sql = f\"INSERT INTO tracks VALUES(NULL, '{name}', GeomFromText('{lss.wkt}',3857));\"\n",
    "    print(sql)\n",
    "    db.execute(sql)\n",
    "    db.commit()"
   ]
  },
  {
   "cell_type": "code",
   "execution_count": null,
   "id": "nutritional-noise",
   "metadata": {},
   "outputs": [],
   "source": []
  }
 ],
 "metadata": {
  "kernelspec": {
   "display_name": "Python 3",
   "language": "python",
   "name": "python3"
  },
  "language_info": {
   "codemirror_mode": {
    "name": "ipython",
    "version": 3
   },
   "file_extension": ".py",
   "mimetype": "text/x-python",
   "name": "python",
   "nbconvert_exporter": "python",
   "pygments_lexer": "ipython3",
   "version": "3.6.9"
  },
  "toc-autonumbering": false,
  "toc-showtags": false
 },
 "nbformat": 4,
 "nbformat_minor": 5
}
