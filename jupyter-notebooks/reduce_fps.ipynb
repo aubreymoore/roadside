{
 "cells": [
  {
   "cell_type": "code",
   "execution_count": 1,
   "metadata": {},
   "outputs": [],
   "source": [
    "import glob\n",
    "import subprocess"
   ]
  },
  {
   "cell_type": "code",
   "execution_count": 2,
   "metadata": {},
   "outputs": [],
   "source": [
    "DATE = '20201002'\n",
    "DATADIR ='/home/aubrey/Desktop'"
   ]
  },
  {
   "cell_type": "code",
   "execution_count": null,
   "metadata": {},
   "outputs": [],
   "source": [
    "# Grab "
   ]
  },
  {
   "cell_type": "code",
   "execution_count": null,
   "metadata": {},
   "outputs": [
    {
     "name": "stdout",
     "output_type": "stream",
     "text": [
      "/home/aubrey/Desktop/20201002/20201002_101554.mp4 --> /home/aubrey/Desktop/20201002/20201002_101554_3fps.mp4\n"
     ]
    }
   ],
   "source": [
    "for video in glob.glob(f'{DATADIR}/{DATE}/{DATE}_??????.mp4'):\n",
    "    video = f'{video}'\n",
    "    video_3fps = video.replace('.mp4', '_3fps.mp4')\n",
    "    print(f'{video} --> {video_3fps}')\n",
    "    output = subprocess.run(['ffmpeg', '-i', video, '-filter:v', 'fps=fps=3', video_3fps])\n",
    "    print(output)\n",
    "    print()"
   ]
  }
 ],
 "metadata": {
  "kernelspec": {
   "display_name": "Python 3",
   "language": "python",
   "name": "python3"
  },
  "language_info": {
   "codemirror_mode": {
    "name": "ipython",
    "version": 3
   },
   "file_extension": ".py",
   "mimetype": "text/x-python",
   "name": "python",
   "nbconvert_exporter": "python",
   "pygments_lexer": "ipython3",
   "version": "3.6.9"
  }
 },
 "nbformat": 4,
 "nbformat_minor": 4
}
