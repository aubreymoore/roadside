{
 "cells": [
  {
   "cell_type": "markdown",
   "metadata": {
    "papermill": {},
    "tags": []
   },
   "source": [
    "# get-random-bounding-boxes\n",
    "\n",
    "Aubrey Moore 2020-07-20\n",
    "\n",
    "Extracts a random set of images contained in bounded boxes for each label.\n",
    "\n",
    "Run using papermill and nbconvert using something like the following. Results will be in the HTML file.\n",
    "```bash\n",
    "# Usage ./doit.sh\n",
    "\n",
    "# exit when any command fails\n",
    "set -e\n",
    "\n",
    "# keep track of the last executed command\n",
    "trap 'last_command=$current_command; current_command=$BASH_COMMAND' DEBUG\n",
    "\n",
    "# echo an error message before exiting\n",
    "trap 'echo \"\\\"${last_command}\\\" command generated exit code $?.\"' EXIT\n",
    "\n",
    "mkdir -p reports/job27\n",
    "\n",
    "NOTEBOOK=\"reports/job27/job27.ipynb\"\n",
    "papermill --prepare-only get-random-bounding-boxes.ipynb $NOTEBOOK -y '{\"NSAMPLES\":\"10\"}' \n",
    "jupyter nbconvert --execute --to html $NOTEBOOK\n",
    "\n",
    "# Commit changes to GitHub\n",
    "\n",
    "cd ~/Desktop/roadside\n",
    "git config --global credential.helper store\n",
    "git add .\n",
    "git commit -m 'automated push'\n",
    "git push\n",
    "```"
   ]
  },
  {
   "cell_type": "code",
   "execution_count": 1,
   "metadata": {
    "papermill": {},
    "tags": []
   },
   "outputs": [],
   "source": [
    "import xml.etree.ElementTree as ET\n",
    "import pandas as pd\n",
    "import cv2\n",
    "from pathlib import Path\n",
    "import sys\n",
    "import glob\n",
    "import numpy as np\n",
    "import shutil\n",
    "from IPython.display import HTML, Image"
   ]
  },
  {
   "cell_type": "code",
   "execution_count": 2,
   "metadata": {
    "papermill": {},
    "tags": [
     "parameters"
    ]
   },
   "outputs": [],
   "source": [
    "DATADIR = '/media/aubrey/9C33-6BBD/job27'\n",
    "CVATXMLFILE = 'DONT-ANNOTATE-06-25-2020-115358-5.xml'\n",
    "VIDEOFILE = '20200625_115358_processed.mp4'\n",
    "NSAMPLES = '5'\n",
    "REPORTURL = 'https://raw.githubusercontent.com/aubreymoore/roadside/blob/master/jupyter-notebooks/get-random-bounding-boxes/reports'\n",
    "REPORTDIR = 'job27'"
   ]
  },
  {
   "cell_type": "code",
   "execution_count": null,
   "metadata": {
    "tags": [
     "injected-parameters"
    ]
   },
   "outputs": [],
   "source": [
    "# Parameters\n",
    "NSAMPLES = \"10\"\n"
   ]
  },
  {
   "cell_type": "code",
   "execution_count": 3,
   "metadata": {
    "papermill": {},
    "tags": []
   },
   "outputs": [],
   "source": [
    "def _src_from_data(data):\n",
    "    \"\"\"Base64 encodes image bytes for inclusion in an HTML img element\"\"\"\n",
    "    img_obj = Image(data=data)\n",
    "    for bundle in img_obj._repr_mimebundle_():\n",
    "        for mimetype, b64value in bundle.items():\n",
    "            if mimetype.startswith('image/'):\n",
    "                return f'data:{mimetype};base64,{b64value}'\n",
    "\n",
    "def gallery(images, row_height='auto'):\n",
    "    \"\"\"Shows a set of images in a gallery that flexes with the width of the notebook.\n",
    "    \n",
    "    Parameters\n",
    "    ----------\n",
    "    images: list of str or bytes\n",
    "        URLs or bytes of images to display\n",
    "\n",
    "    row_height: str\n",
    "        CSS height value to assign to all images. Set to 'auto' by default to show images\n",
    "        with their native dimensions. Set to a value like '250px' to make all rows\n",
    "        in the gallery equal height.\n",
    "    \"\"\"\n",
    "    figures = []\n",
    "    for image in images:\n",
    "        if isinstance(image, bytes):\n",
    "            src = _src_from_data(image)\n",
    "            caption = ''\n",
    "        else:\n",
    "            src = image\n",
    "            caption = f'<figcaption style=\"font-size: 0.6em\">{image}</figcaption>'\n",
    "        figures.append(f'''\n",
    "            <figure style=\"margin: 5px !important;\">\n",
    "              <img src=\"{src}\" style=\"height: {row_height}\">\n",
    "              {caption}\n",
    "            </figure>\n",
    "        ''')\n",
    "    return HTML(data=f'''\n",
    "        <div style=\"display: flex; flex-flow: row wrap; text-align: center;\">\n",
    "        {''.join(figures)}\n",
    "        </div>\n",
    "    ''')"
   ]
  },
  {
   "cell_type": "code",
   "execution_count": 4,
   "metadata": {
    "papermill": {},
    "tags": []
   },
   "outputs": [],
   "source": [
    "def str2int(s):\n",
    "    return int(float(s))\n",
    "\n",
    "# str2int('7.53')"
   ]
  },
  {
   "cell_type": "code",
   "execution_count": 5,
   "metadata": {
    "papermill": {},
    "tags": []
   },
   "outputs": [],
   "source": [
    "def get_bounding_boxes(xml_file):\n",
    "    \"\"\"\n",
    "    Returns a pandas dataframe.\n",
    "    \"\"\"   \n",
    "    tree = ET.parse(xml_file)\n",
    "    root = tree.getroot()\n",
    "    \n",
    "    print(ET.tostring(root.find('meta'), encoding='unicode'))\n",
    "\n",
    "    mylist = []\n",
    "    for track in root.findall('track'):\n",
    "        for box in track.findall('box'):\n",
    "            mydict = box.attrib\n",
    "            mydict.update(track.attrib)\n",
    "            mylist.append(mydict)\n",
    "    df = pd.DataFrame(mylist)\n",
    "    df = df[(df.occluded=='0') & (df.outside=='0')]\n",
    "    df.drop(['occluded', 'outside'], axis=1, inplace=True)\n",
    "    df.rename({'id': 'track_id'}, axis=1, inplace=True)\n",
    "    df.xbr = df.xbr.apply(lambda x: str2int(x))\n",
    "    df.xtl = df.xtl.apply(lambda x: str2int(x))\n",
    "    df.ybr = df.ybr.apply(lambda x: str2int(x))\n",
    "    df.ytl = df.ytl.apply(lambda x: str2int(x))\n",
    "    df.frame = df.frame.apply(lambda x: str2int(x))\n",
    "    df.track_id = df.track_id.apply(lambda x: str2int(x))\n",
    "    return df\n",
    "\n",
    "#get_bounding_boxes(f'{DATADIR}/{CVATXMLFILE}')"
   ]
  },
  {
   "cell_type": "code",
   "execution_count": 6,
   "metadata": {
    "papermill": {},
    "tags": []
   },
   "outputs": [],
   "source": [
    "def show_gallery(label):\n",
    "    images = glob.glob(f'{label}*.jpg')\n",
    "    print(images)\n",
    "    gallery(images)"
   ]
  },
  {
   "cell_type": "markdown",
   "metadata": {
    "papermill": {},
    "tags": []
   },
   "source": [
    "# MAIN"
   ]
  },
  {
   "cell_type": "code",
   "execution_count": 7,
   "metadata": {
    "papermill": {},
    "tags": []
   },
   "outputs": [
    {
     "name": "stdout",
     "output_type": "stream",
     "text": [
      "<meta>\n",
      "    <task>\n",
      "      <id>27</id>\n",
      "      <name>DONT-ANNOTATE-06-25-2020-115358-5</name>\n",
      "      <size>489</size>\n",
      "      <mode>interpolation</mode>\n",
      "      <overlap>5</overlap>\n",
      "      <bugtracker />\n",
      "      <created>2020-07-16 16:03:29.955417+00:00</created>\n",
      "      <updated>2020-07-16 16:15:09.647745+00:00</updated>\n",
      "      <start_frame>0</start_frame>\n",
      "      <stop_frame>488</stop_frame>\n",
      "      <frame_filter />\n",
      "      <z_order>False</z_order>\n",
      "      <labels>\n",
      "        <label>\n",
      "          <name>zero</name>\n",
      "          <attributes>\n",
      "          </attributes>\n",
      "        </label>\n",
      "        <label>\n",
      "          <name>light</name>\n",
      "          <attributes>\n",
      "          </attributes>\n",
      "        </label>\n",
      "        <label>\n",
      "          <name>medium</name>\n",
      "          <attributes>\n",
      "          </attributes>\n",
      "        </label>\n",
      "        <label>\n",
      "          <name>high</name>\n",
      "          <attributes>\n",
      "          </attributes>\n",
      "        </label>\n",
      "        <label>\n",
      "          <name>non_recoverable</name>\n",
      "          <attributes>\n",
      "          </attributes>\n",
      "        </label>\n",
      "      </labels>\n",
      "      <segments>\n",
      "        <segment>\n",
      "          <id>27</id>\n",
      "          <start>0</start>\n",
      "          <stop>488</stop>\n",
      "          <url>http://cvat-5-classes--crb.cnas-re-uog.onepanel.io/?id=27</url>\n",
      "        </segment>\n",
      "      </segments>\n",
      "      <owner>\n",
      "        <username>admin</username>\n",
      "        <email />\n",
      "      </owner>\n",
      "      <assignee />\n",
      "      <original_size>\n",
      "        <width>2288</width>\n",
      "        <height>1080</height>\n",
      "      </original_size>\n",
      "    </task>\n",
      "    <dumped>2020-07-18 01:15:25.170090+00:00</dumped>\n",
      "    <source>20200625_115358_processed.mp4</source>\n",
      "  </meta>\n",
      "  \n",
      "label\n",
      "high        4\n",
      "light     353\n",
      "medium     70\n",
      "zero      225\n",
      "dtype: int64\n"
     ]
    }
   ],
   "source": [
    "dfbb = get_bounding_boxes(f'{DATADIR}/{CVATXMLFILE}')\n",
    "\n",
    "# Extract random image samples for each damage level label and write these to jpg image files.\n",
    "        \n",
    "cap = cv2.VideoCapture(f'{DATADIR}/{VIDEOFILE}')\n",
    "grouped = dfbb.groupby('label')\n",
    "print(grouped.size())\n",
    "for name, df in grouped:\n",
    "    n = min(int(NSAMPLES), df.shape[0]) # get min of row count or NSAMPLES \n",
    "    for i, r in df.sample(n).iterrows():\n",
    "        cap.set(1, r.frame)\n",
    "        _, frame = cap.read()\n",
    "        img = frame[r.ytl:r.ybr, r.xtl:r.xbr]\n",
    "        cv2.imwrite(f'{r.label}-t{r.track_id:04d}-f{r.frame:04d}.jpg', img)\n",
    "cap.release()\n",
    "\n",
    "# Save image list as a CSV file\n",
    "# https://github.com/aubreymoore/roadside/blob/master/jupyter-notebooks/get-random-bounding-boxes/reports/job27/high-t0278-f0249.jpg\n",
    "\n",
    "imagelist = glob.glob('*.jpg')\n",
    "np.random.shuffle(imagelist)\n",
    "df = pd.DataFrame(imagelist,columns=['image'])\n",
    "df.image = df.apply(lambda r: f'{REPORTURL}/{REPORTDIR}/{r.image}', axis=1)\n",
    "df.to_csv('images.csv', index=False)"
   ]
  },
  {
   "cell_type": "markdown",
   "metadata": {
    "papermill": {},
    "tags": []
   },
   "source": [
    "# Zero damage"
   ]
  },
  {
   "cell_type": "code",
   "execution_count": 8,
   "metadata": {
    "papermill": {},
    "tags": []
   },
   "outputs": [
    {
     "data": {
      "text/html": [
       "\n",
       "        <div style=\"display: flex; flex-flow: row wrap; text-align: center;\">\n",
       "        \n",
       "            <figure style=\"margin: 5px !important;\">\n",
       "              <img src=\"zero-t0528-f0404.jpg\" style=\"height: auto\">\n",
       "              <figcaption style=\"font-size: 0.6em\">zero-t0528-f0404.jpg</figcaption>\n",
       "            </figure>\n",
       "        \n",
       "            <figure style=\"margin: 5px !important;\">\n",
       "              <img src=\"zero-t0501-f0399.jpg\" style=\"height: auto\">\n",
       "              <figcaption style=\"font-size: 0.6em\">zero-t0501-f0399.jpg</figcaption>\n",
       "            </figure>\n",
       "        \n",
       "            <figure style=\"margin: 5px !important;\">\n",
       "              <img src=\"zero-t0639-f0456.jpg\" style=\"height: auto\">\n",
       "              <figcaption style=\"font-size: 0.6em\">zero-t0639-f0456.jpg</figcaption>\n",
       "            </figure>\n",
       "        \n",
       "            <figure style=\"margin: 5px !important;\">\n",
       "              <img src=\"zero-t0133-f0139.jpg\" style=\"height: auto\">\n",
       "              <figcaption style=\"font-size: 0.6em\">zero-t0133-f0139.jpg</figcaption>\n",
       "            </figure>\n",
       "        \n",
       "            <figure style=\"margin: 5px !important;\">\n",
       "              <img src=\"zero-t0642-f0458.jpg\" style=\"height: auto\">\n",
       "              <figcaption style=\"font-size: 0.6em\">zero-t0642-f0458.jpg</figcaption>\n",
       "            </figure>\n",
       "        \n",
       "            <figure style=\"margin: 5px !important;\">\n",
       "              <img src=\"zero-t0071-f0127.jpg\" style=\"height: auto\">\n",
       "              <figcaption style=\"font-size: 0.6em\">zero-t0071-f0127.jpg</figcaption>\n",
       "            </figure>\n",
       "        \n",
       "            <figure style=\"margin: 5px !important;\">\n",
       "              <img src=\"zero-t0109-f0135.jpg\" style=\"height: auto\">\n",
       "              <figcaption style=\"font-size: 0.6em\">zero-t0109-f0135.jpg</figcaption>\n",
       "            </figure>\n",
       "        \n",
       "            <figure style=\"margin: 5px !important;\">\n",
       "              <img src=\"zero-t0031-f0040.jpg\" style=\"height: auto\">\n",
       "              <figcaption style=\"font-size: 0.6em\">zero-t0031-f0040.jpg</figcaption>\n",
       "            </figure>\n",
       "        \n",
       "            <figure style=\"margin: 5px !important;\">\n",
       "              <img src=\"zero-t0636-f0453.jpg\" style=\"height: auto\">\n",
       "              <figcaption style=\"font-size: 0.6em\">zero-t0636-f0453.jpg</figcaption>\n",
       "            </figure>\n",
       "        \n",
       "            <figure style=\"margin: 5px !important;\">\n",
       "              <img src=\"zero-t0481-f0396.jpg\" style=\"height: auto\">\n",
       "              <figcaption style=\"font-size: 0.6em\">zero-t0481-f0396.jpg</figcaption>\n",
       "            </figure>\n",
       "        \n",
       "        </div>\n",
       "    "
      ],
      "text/plain": [
       "<IPython.core.display.HTML object>"
      ]
     },
     "execution_count": 8,
     "metadata": {},
     "output_type": "execute_result"
    }
   ],
   "source": [
    "gallery(glob.glob('zero*.jpg'))"
   ]
  },
  {
   "cell_type": "markdown",
   "metadata": {
    "papermill": {},
    "tags": []
   },
   "source": [
    "# Light damage"
   ]
  },
  {
   "cell_type": "code",
   "execution_count": 9,
   "metadata": {
    "papermill": {},
    "tags": []
   },
   "outputs": [
    {
     "data": {
      "text/html": [
       "\n",
       "        <div style=\"display: flex; flex-flow: row wrap; text-align: center;\">\n",
       "        \n",
       "            <figure style=\"margin: 5px !important;\">\n",
       "              <img src=\"light-t0375-f0376.jpg\" style=\"height: auto\">\n",
       "              <figcaption style=\"font-size: 0.6em\">light-t0375-f0376.jpg</figcaption>\n",
       "            </figure>\n",
       "        \n",
       "            <figure style=\"margin: 5px !important;\">\n",
       "              <img src=\"light-t0519-f0402.jpg\" style=\"height: auto\">\n",
       "              <figcaption style=\"font-size: 0.6em\">light-t0519-f0402.jpg</figcaption>\n",
       "            </figure>\n",
       "        \n",
       "            <figure style=\"margin: 5px !important;\">\n",
       "              <img src=\"light-t0040-f0042.jpg\" style=\"height: auto\">\n",
       "              <figcaption style=\"font-size: 0.6em\">light-t0040-f0042.jpg</figcaption>\n",
       "            </figure>\n",
       "        \n",
       "            <figure style=\"margin: 5px !important;\">\n",
       "              <img src=\"light-t0134-f0139.jpg\" style=\"height: auto\">\n",
       "              <figcaption style=\"font-size: 0.6em\">light-t0134-f0139.jpg</figcaption>\n",
       "            </figure>\n",
       "        \n",
       "            <figure style=\"margin: 5px !important;\">\n",
       "              <img src=\"light-t0046-f0045.jpg\" style=\"height: auto\">\n",
       "              <figcaption style=\"font-size: 0.6em\">light-t0046-f0045.jpg</figcaption>\n",
       "            </figure>\n",
       "        \n",
       "            <figure style=\"margin: 5px !important;\">\n",
       "              <img src=\"light-t0445-f0390.jpg\" style=\"height: auto\">\n",
       "              <figcaption style=\"font-size: 0.6em\">light-t0445-f0390.jpg</figcaption>\n",
       "            </figure>\n",
       "        \n",
       "            <figure style=\"margin: 5px !important;\">\n",
       "              <img src=\"light-t0387-f0379.jpg\" style=\"height: auto\">\n",
       "              <figcaption style=\"font-size: 0.6em\">light-t0387-f0379.jpg</figcaption>\n",
       "            </figure>\n",
       "        \n",
       "            <figure style=\"margin: 5px !important;\">\n",
       "              <img src=\"light-t0073-f0128.jpg\" style=\"height: auto\">\n",
       "              <figcaption style=\"font-size: 0.6em\">light-t0073-f0128.jpg</figcaption>\n",
       "            </figure>\n",
       "        \n",
       "            <figure style=\"margin: 5px !important;\">\n",
       "              <img src=\"light-t0341-f0292.jpg\" style=\"height: auto\">\n",
       "              <figcaption style=\"font-size: 0.6em\">light-t0341-f0292.jpg</figcaption>\n",
       "            </figure>\n",
       "        \n",
       "            <figure style=\"margin: 5px !important;\">\n",
       "              <img src=\"light-t0230-f0169.jpg\" style=\"height: auto\">\n",
       "              <figcaption style=\"font-size: 0.6em\">light-t0230-f0169.jpg</figcaption>\n",
       "            </figure>\n",
       "        \n",
       "        </div>\n",
       "    "
      ],
      "text/plain": [
       "<IPython.core.display.HTML object>"
      ]
     },
     "execution_count": 9,
     "metadata": {},
     "output_type": "execute_result"
    }
   ],
   "source": [
    "gallery(glob.glob('light*.jpg'))"
   ]
  },
  {
   "cell_type": "markdown",
   "metadata": {
    "papermill": {},
    "tags": []
   },
   "source": [
    "# Medium damage"
   ]
  },
  {
   "cell_type": "code",
   "execution_count": 10,
   "metadata": {
    "papermill": {},
    "tags": []
   },
   "outputs": [
    {
     "data": {
      "text/html": [
       "\n",
       "        <div style=\"display: flex; flex-flow: row wrap; text-align: center;\">\n",
       "        \n",
       "            <figure style=\"margin: 5px !important;\">\n",
       "              <img src=\"medium-t0038-f0041.jpg\" style=\"height: auto\">\n",
       "              <figcaption style=\"font-size: 0.6em\">medium-t0038-f0041.jpg</figcaption>\n",
       "            </figure>\n",
       "        \n",
       "            <figure style=\"margin: 5px !important;\">\n",
       "              <img src=\"medium-t0067-f0127.jpg\" style=\"height: auto\">\n",
       "              <figcaption style=\"font-size: 0.6em\">medium-t0067-f0127.jpg</figcaption>\n",
       "            </figure>\n",
       "        \n",
       "            <figure style=\"margin: 5px !important;\">\n",
       "              <img src=\"medium-t0244-f0181.jpg\" style=\"height: auto\">\n",
       "              <figcaption style=\"font-size: 0.6em\">medium-t0244-f0181.jpg</figcaption>\n",
       "            </figure>\n",
       "        \n",
       "            <figure style=\"margin: 5px !important;\">\n",
       "              <img src=\"medium-t0284-f0253.jpg\" style=\"height: auto\">\n",
       "              <figcaption style=\"font-size: 0.6em\">medium-t0284-f0253.jpg</figcaption>\n",
       "            </figure>\n",
       "        \n",
       "            <figure style=\"margin: 5px !important;\">\n",
       "              <img src=\"medium-t0270-f0242.jpg\" style=\"height: auto\">\n",
       "              <figcaption style=\"font-size: 0.6em\">medium-t0270-f0242.jpg</figcaption>\n",
       "            </figure>\n",
       "        \n",
       "            <figure style=\"margin: 5px !important;\">\n",
       "              <img src=\"medium-t0320-f0272.jpg\" style=\"height: auto\">\n",
       "              <figcaption style=\"font-size: 0.6em\">medium-t0320-f0272.jpg</figcaption>\n",
       "            </figure>\n",
       "        \n",
       "            <figure style=\"margin: 5px !important;\">\n",
       "              <img src=\"medium-t0252-f0183.jpg\" style=\"height: auto\">\n",
       "              <figcaption style=\"font-size: 0.6em\">medium-t0252-f0183.jpg</figcaption>\n",
       "            </figure>\n",
       "        \n",
       "            <figure style=\"margin: 5px !important;\">\n",
       "              <img src=\"medium-t0290-f0256.jpg\" style=\"height: auto\">\n",
       "              <figcaption style=\"font-size: 0.6em\">medium-t0290-f0256.jpg</figcaption>\n",
       "            </figure>\n",
       "        \n",
       "            <figure style=\"margin: 5px !important;\">\n",
       "              <img src=\"medium-t0269-f0224.jpg\" style=\"height: auto\">\n",
       "              <figcaption style=\"font-size: 0.6em\">medium-t0269-f0224.jpg</figcaption>\n",
       "            </figure>\n",
       "        \n",
       "        </div>\n",
       "    "
      ],
      "text/plain": [
       "<IPython.core.display.HTML object>"
      ]
     },
     "execution_count": 10,
     "metadata": {},
     "output_type": "execute_result"
    }
   ],
   "source": [
    "gallery(glob.glob('medium*.jpg'))"
   ]
  },
  {
   "cell_type": "markdown",
   "metadata": {
    "papermill": {},
    "tags": []
   },
   "source": [
    "# High damage"
   ]
  },
  {
   "cell_type": "code",
   "execution_count": 11,
   "metadata": {
    "papermill": {},
    "tags": []
   },
   "outputs": [
    {
     "data": {
      "text/html": [
       "\n",
       "        <div style=\"display: flex; flex-flow: row wrap; text-align: center;\">\n",
       "        \n",
       "            <figure style=\"margin: 5px !important;\">\n",
       "              <img src=\"high-t0293-f0257.jpg\" style=\"height: auto\">\n",
       "              <figcaption style=\"font-size: 0.6em\">high-t0293-f0257.jpg</figcaption>\n",
       "            </figure>\n",
       "        \n",
       "            <figure style=\"margin: 5px !important;\">\n",
       "              <img src=\"high-t0310-f0265.jpg\" style=\"height: auto\">\n",
       "              <figcaption style=\"font-size: 0.6em\">high-t0310-f0265.jpg</figcaption>\n",
       "            </figure>\n",
       "        \n",
       "            <figure style=\"margin: 5px !important;\">\n",
       "              <img src=\"high-t0309-f0264.jpg\" style=\"height: auto\">\n",
       "              <figcaption style=\"font-size: 0.6em\">high-t0309-f0264.jpg</figcaption>\n",
       "            </figure>\n",
       "        \n",
       "            <figure style=\"margin: 5px !important;\">\n",
       "              <img src=\"high-t0278-f0249.jpg\" style=\"height: auto\">\n",
       "              <figcaption style=\"font-size: 0.6em\">high-t0278-f0249.jpg</figcaption>\n",
       "            </figure>\n",
       "        \n",
       "        </div>\n",
       "    "
      ],
      "text/plain": [
       "<IPython.core.display.HTML object>"
      ]
     },
     "execution_count": 11,
     "metadata": {},
     "output_type": "execute_result"
    }
   ],
   "source": [
    "gallery(glob.glob('high*.jpg'))"
   ]
  },
  {
   "cell_type": "markdown",
   "metadata": {
    "papermill": {},
    "tags": []
   },
   "source": [
    "# Non-recoverable damage"
   ]
  },
  {
   "cell_type": "code",
   "execution_count": 12,
   "metadata": {
    "papermill": {},
    "tags": []
   },
   "outputs": [
    {
     "data": {
      "text/html": [
       "\n",
       "        <div style=\"display: flex; flex-flow: row wrap; text-align: center;\">\n",
       "        \n",
       "        </div>\n",
       "    "
      ],
      "text/plain": [
       "<IPython.core.display.HTML object>"
      ]
     },
     "execution_count": 12,
     "metadata": {},
     "output_type": "execute_result"
    }
   ],
   "source": [
    "gallery(glob.glob('non_recoverable*.jpg'))"
   ]
  }
 ],
 "metadata": {
  "kernelspec": {
   "display_name": "newt",
   "language": "python",
   "name": "newt"
  },
  "language_info": {
   "codemirror_mode": {
    "name": "ipython",
    "version": 3
   },
   "file_extension": ".py",
   "mimetype": "text/x-python",
   "name": "python",
   "nbconvert_exporter": "python",
   "pygments_lexer": "ipython3",
   "version": "3.7.6"
  },
  "papermill": {
   "environment_variables": {},
   "input_path": "get-random-bounding-boxes.ipynb",
   "output_path": "reports/job27/job27.ipynb",
   "parameters": {
    "NSAMPLES": "10"
   },
   "version": "2.0.0"
  }
 },
 "nbformat": 4,
 "nbformat_minor": 2
}