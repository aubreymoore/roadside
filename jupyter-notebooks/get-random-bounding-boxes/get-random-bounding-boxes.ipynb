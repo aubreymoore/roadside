{
 "cells": [
  {
   "cell_type": "markdown",
   "metadata": {},
   "source": [
    "# get-random-bounding-boxes\n",
    "\n",
    "Aubrey Moore 2020-07-20\n",
    "\n",
    "Extracts a random set of images contained in bounded boxes for each label.\n",
    "\n",
    "Run using papermill and nbconvert using something like the following. Results will be in the HTML file.\n",
    "```bash\n",
    "# Usage ./doit.sh\n",
    "\n",
    "# exit when any command fails\n",
    "set -e\n",
    "\n",
    "# keep track of the last executed command\n",
    "trap 'last_command=$current_command; current_command=$BASH_COMMAND' DEBUG\n",
    "\n",
    "# echo an error message before exiting\n",
    "trap 'echo \"\\\"${last_command}\\\" command generated exit code $?.\"' EXIT\n",
    "\n",
    "mkdir -p reports/job27\n",
    "\n",
    "NOTEBOOK=\"reports/job27/job27.ipynb\"\n",
    "papermill --prepare-only get-random-bounding-boxes.ipynb $NOTEBOOK -y '{\"NSAMPLES\":\"10\"}' \n",
    "jupyter nbconvert --execute --to html $NOTEBOOK\n",
    "\n",
    "# Commit changes to GitHub\n",
    "\n",
    "cd ~/Desktop/roadside\n",
    "git config --global credential.helper store\n",
    "git add .\n",
    "git commit -m 'automated push'\n",
    "git push\n",
    "```"
   ]
  },
  {
   "cell_type": "code",
   "execution_count": null,
   "metadata": {},
   "outputs": [],
   "source": [
    "import xml.etree.ElementTree as ET\n",
    "import pandas as pd\n",
    "import cv2\n",
    "from pathlib import Path\n",
    "import sys\n",
    "import glob\n",
    "import numpy as np\n",
    "import shutil\n",
    "from IPython.display import HTML, Image"
   ]
  },
  {
   "cell_type": "code",
   "execution_count": null,
   "metadata": {
    "tags": [
     "parameters"
    ]
   },
   "outputs": [],
   "source": [
    "DATADIR = '/media/aubrey/9C33-6BBD/job27'\n",
    "CVATXMLFILE = 'DONT-ANNOTATE-06-25-2020-115358-5.xml'\n",
    "VIDEOFILE = '20200625_115358_processed.mp4'\n",
    "NSAMPLES = '5'\n",
    "REPORTURL = 'https://raw.githubusercontent.com/aubreymoore/roadside/master/jupyter-notebooks/get-random-bounding-boxes/reports'\n",
    "REPORTDIR = 'job27'"
   ]
  },
  {
   "cell_type": "code",
   "execution_count": null,
   "metadata": {},
   "outputs": [],
   "source": [
    "def _src_from_data(data):\n",
    "    \"\"\"Base64 encodes image bytes for inclusion in an HTML img element\"\"\"\n",
    "    img_obj = Image(data=data)\n",
    "    for bundle in img_obj._repr_mimebundle_():\n",
    "        for mimetype, b64value in bundle.items():\n",
    "            if mimetype.startswith('image/'):\n",
    "                return f'data:{mimetype};base64,{b64value}'\n",
    "\n",
    "def gallery(images, row_height='auto'):\n",
    "    \"\"\"Shows a set of images in a gallery that flexes with the width of the notebook.\n",
    "    \n",
    "    Parameters\n",
    "    ----------\n",
    "    images: list of str or bytes\n",
    "        URLs or bytes of images to display\n",
    "\n",
    "    row_height: str\n",
    "        CSS height value to assign to all images. Set to 'auto' by default to show images\n",
    "        with their native dimensions. Set to a value like '250px' to make all rows\n",
    "        in the gallery equal height.\n",
    "    \"\"\"\n",
    "    figures = []\n",
    "    for image in images:\n",
    "        if isinstance(image, bytes):\n",
    "            src = _src_from_data(image)\n",
    "            caption = ''\n",
    "        else:\n",
    "            src = image\n",
    "            caption = f'<figcaption style=\"font-size: 0.6em\">{image}</figcaption>'\n",
    "        figures.append(f'''\n",
    "            <figure style=\"margin: 5px !important;\">\n",
    "              <img src=\"{src}\" style=\"height: {row_height}\">\n",
    "              {caption}\n",
    "            </figure>\n",
    "        ''')\n",
    "    return HTML(data=f'''\n",
    "        <div style=\"display: flex; flex-flow: row wrap; text-align: center;\">\n",
    "        {''.join(figures)}\n",
    "        </div>\n",
    "    ''')"
   ]
  },
  {
   "cell_type": "code",
   "execution_count": null,
   "metadata": {},
   "outputs": [],
   "source": [
    "def str2int(s):\n",
    "    return int(float(s))\n",
    "\n",
    "# str2int('7.53')"
   ]
  },
  {
   "cell_type": "code",
   "execution_count": null,
   "metadata": {},
   "outputs": [],
   "source": [
    "def get_bounding_boxes(xml_file):\n",
    "    \"\"\"\n",
    "    Returns a pandas dataframe.\n",
    "    \"\"\"   \n",
    "    tree = ET.parse(xml_file)\n",
    "    root = tree.getroot()\n",
    "    \n",
    "    print(ET.tostring(root.find('meta'), encoding='unicode'))\n",
    "\n",
    "    mylist = []\n",
    "    for track in root.findall('track'):\n",
    "        for box in track.findall('box'):\n",
    "            mydict = box.attrib\n",
    "            mydict.update(track.attrib)\n",
    "            mylist.append(mydict)\n",
    "    df = pd.DataFrame(mylist)\n",
    "    df = df[(df.occluded=='0') & (df.outside=='0')]\n",
    "    df.drop(['occluded', 'outside'], axis=1, inplace=True)\n",
    "    df.rename({'id': 'track_id'}, axis=1, inplace=True)\n",
    "    df.xbr = df.xbr.apply(lambda x: str2int(x))\n",
    "    df.xtl = df.xtl.apply(lambda x: str2int(x))\n",
    "    df.ybr = df.ybr.apply(lambda x: str2int(x))\n",
    "    df.ytl = df.ytl.apply(lambda x: str2int(x))\n",
    "    df.frame = df.frame.apply(lambda x: str2int(x))\n",
    "    df.track_id = df.track_id.apply(lambda x: str2int(x))\n",
    "    return df\n",
    "\n",
    "#get_bounding_boxes(f'{DATADIR}/{CVATXMLFILE}')"
   ]
  },
  {
   "cell_type": "code",
   "execution_count": null,
   "metadata": {},
   "outputs": [],
   "source": [
    "def show_gallery(label):\n",
    "    images = glob.glob(f'{label}*.jpg')\n",
    "    print(images)\n",
    "    gallery(images)"
   ]
  },
  {
   "cell_type": "markdown",
   "metadata": {},
   "source": [
    "# MAIN"
   ]
  },
  {
   "cell_type": "code",
   "execution_count": null,
   "metadata": {},
   "outputs": [],
   "source": [
    "dfbb = get_bounding_boxes(f'{DATADIR}/{CVATXMLFILE}')\n",
    "\n",
    "# Extract random image samples for each damage level label and write these to jpg image files.\n",
    "        \n",
    "cap = cv2.VideoCapture(f'{DATADIR}/{VIDEOFILE}')\n",
    "grouped = dfbb.groupby('label')\n",
    "print(grouped.size())\n",
    "for name, df in grouped:\n",
    "    n = min(int(NSAMPLES), df.shape[0]) # get min of row count or NSAMPLES \n",
    "    for i, r in df.sample(n).iterrows():\n",
    "        cap.set(1, r.frame)\n",
    "        _, frame = cap.read()\n",
    "        img = frame[r.ytl:r.ybr, r.xtl:r.xbr]\n",
    "        cv2.imwrite(f'{r.label}-t{r.track_id:04d}-f{r.frame:04d}.jpg', img)\n",
    "cap.release()\n",
    "\n",
    "# Save image list as a CSV file\n",
    "# https://github.com/aubreymoore/roadside/blob/master/jupyter-notebooks/get-random-bounding-boxes/reports/job27/high-t0278-f0249.jpg\n",
    "\n",
    "imagelist = glob.glob('*.jpg')\n",
    "np.random.shuffle(imagelist)\n",
    "df = pd.DataFrame(imagelist,columns=['image'])\n",
    "df.image = df.apply(lambda r: f'{REPORTURL}/{REPORTDIR}/{r.image}', axis=1)\n",
    "df.to_csv('images.csv', index=False)"
   ]
  },
  {
   "cell_type": "markdown",
   "metadata": {},
   "source": [
    "# Zero damage"
   ]
  },
  {
   "cell_type": "code",
   "execution_count": null,
   "metadata": {},
   "outputs": [],
   "source": [
    "gallery(glob.glob('zero*.jpg'))"
   ]
  },
  {
   "cell_type": "markdown",
   "metadata": {},
   "source": [
    "# Light damage"
   ]
  },
  {
   "cell_type": "code",
   "execution_count": null,
   "metadata": {},
   "outputs": [],
   "source": [
    "gallery(glob.glob('light*.jpg'))"
   ]
  },
  {
   "cell_type": "markdown",
   "metadata": {},
   "source": [
    "# Medium damage"
   ]
  },
  {
   "cell_type": "code",
   "execution_count": null,
   "metadata": {},
   "outputs": [],
   "source": [
    "gallery(glob.glob('medium*.jpg'))"
   ]
  },
  {
   "cell_type": "markdown",
   "metadata": {},
   "source": [
    "# High damage"
   ]
  },
  {
   "cell_type": "code",
   "execution_count": null,
   "metadata": {},
   "outputs": [],
   "source": [
    "gallery(glob.glob('high*.jpg'))"
   ]
  },
  {
   "cell_type": "markdown",
   "metadata": {},
   "source": [
    "# Non-recoverable damage"
   ]
  },
  {
   "cell_type": "code",
   "execution_count": null,
   "metadata": {},
   "outputs": [],
   "source": [
    "gallery(glob.glob('non_recoverable*.jpg'))"
   ]
  }
 ],
 "metadata": {
  "kernelspec": {
   "display_name": "Python 3",
   "language": "python",
   "name": "python3"
  },
  "language_info": {
   "codemirror_mode": {
    "name": "ipython",
    "version": 3
   },
   "file_extension": ".py",
   "mimetype": "text/x-python",
   "name": "python",
   "nbconvert_exporter": "python",
   "pygments_lexer": "ipython3",
   "version": "3.6.9"
  }
 },
 "nbformat": 4,
 "nbformat_minor": 2
}
