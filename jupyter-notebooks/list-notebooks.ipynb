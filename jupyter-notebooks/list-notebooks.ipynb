{
 "cells": [
  {
   "cell_type": "markdown",
   "metadata": {},
   "source": [
    "I needed to get a list of all notebooks so that I could make sure that database passwords were not being being uploaded to GitHub. I found this to be the easiest way."
   ]
  },
  {
   "cell_type": "code",
   "execution_count": 10,
   "metadata": {},
   "outputs": [],
   "source": [
    "import glob"
   ]
  },
  {
   "cell_type": "code",
   "execution_count": 11,
   "metadata": {},
   "outputs": [
    {
     "data": {
      "text/plain": [
       "['list-notebooks.ipynb',\n",
       " 'confusion_matrix.ipynb',\n",
       " 'cvat-xml-to-csv.ipynb',\n",
       " 'make-gps-obs-csv.ipynb',\n",
       " 'georef.ipynb',\n",
       " 'extract-cvat-bounding-boxes.ipynb',\n",
       " 'bounding-boxes/bounding-boxes.ipynb',\n",
       " 'bounding-boxes/reports/06-23-test-cut-detector-20/06-23-test-cut-detector-20.ipynb',\n",
       " 'get-random-vcuts/get-random-vcuts.ipynb',\n",
       " 'videosurveydb/Untitled1.ipynb',\n",
       " 'videosurveydb/Untitled.ipynb',\n",
       " 'del-carmen-drone-flight/del-carmen-drone-flight.ipynb',\n",
       " 'get-random-bounding-boxes/get-random-bounding-boxes.ipynb',\n",
       " 'get-random-bounding-boxes/reports/job27/job27.ipynb',\n",
       " 'get-random-bounding-boxes/reports/job27/job27-turkle-results.ipynb',\n",
       " 'get-random-bounding-boxes/reports/job28/job28-turkle-results.ipynb',\n",
       " 'get-random-bounding-boxes/reports/job28/job28.ipynb']"
      ]
     },
     "execution_count": 11,
     "metadata": {},
     "output_type": "execute_result"
    }
   ],
   "source": [
    "filenames = glob.glob('**/*.ipynb', recursive=True)\n",
    "filenames"
   ]
  },
  {
   "cell_type": "code",
   "execution_count": 12,
   "metadata": {},
   "outputs": [
    {
     "name": "stdout",
     "output_type": "stream",
     "text": [
      "list-notebooks.ipynb contains sqlalchemy\n",
      "videosurveydb/Untitled.ipynb contains sqlalchemy\n"
     ]
    }
   ],
   "source": [
    "searchstring = 'sqlalchemy'\n",
    "for filename in filenames:\n",
    "    with open(filename) as f:\n",
    "        if searchstring in f.read():\n",
    "            print(f'{filename} contains {searchstring}')"
   ]
  },
  {
   "cell_type": "code",
   "execution_count": null,
   "metadata": {},
   "outputs": [],
   "source": []
  }
 ],
 "metadata": {
  "kernelspec": {
   "display_name": "newt",
   "language": "python",
   "name": "newt"
  },
  "language_info": {
   "codemirror_mode": {
    "name": "ipython",
    "version": 3
   },
   "file_extension": ".py",
   "mimetype": "text/x-python",
   "name": "python",
   "nbconvert_exporter": "python",
   "pygments_lexer": "ipython3",
   "version": "3.7.6"
  }
 },
 "nbformat": 4,
 "nbformat_minor": 2
}
