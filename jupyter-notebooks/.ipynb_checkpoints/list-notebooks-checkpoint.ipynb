{
 "cells": [
  {
   "cell_type": "code",
   "execution_count": 2,
   "metadata": {},
   "outputs": [
    {
     "data": {
      "text/plain": [
       "['confusion_matrix.ipynb',\n",
       " 'cvat-xml-to-csv.ipynb',\n",
       " 'make-gps-obs-csv.ipynb',\n",
       " 'georef.ipynb',\n",
       " 'extract-cvat-bounding-boxes.ipynb',\n",
       " 'list notebooks.ipynb',\n",
       " 'bounding-boxes/bounding-boxes.ipynb',\n",
       " 'bounding-boxes/reports/06-23-test-cut-detector-20/06-23-test-cut-detector-20.ipynb',\n",
       " 'get-random-vcuts/get-random-vcuts.ipynb',\n",
       " 'videosurveydb/Untitled1.ipynb',\n",
       " 'videosurveydb/Untitled.ipynb',\n",
       " 'del-carmen-drone-flight/del-carmen-drone-flight.ipynb',\n",
       " 'get-random-bounding-boxes/get-random-bounding-boxes.ipynb',\n",
       " 'get-random-bounding-boxes/reports/job27/job27.ipynb',\n",
       " 'get-random-bounding-boxes/reports/job27/job27-turkle-results.ipynb',\n",
       " 'get-random-bounding-boxes/reports/job28/job28-turkle-results.ipynb',\n",
       " 'get-random-bounding-boxes/reports/job28/job28.ipynb']"
      ]
     },
     "execution_count": 2,
     "metadata": {},
     "output_type": "execute_result"
    }
   ],
   "source": [
    "import glob\n",
    "glob.glob('**/*.ipynb', recursive=True)"
   ]
  },
  {
   "cell_type": "code",
   "execution_count": null,
   "metadata": {},
   "outputs": [],
   "source": []
  }
 ],
 "metadata": {
  "kernelspec": {
   "display_name": "newt",
   "language": "python",
   "name": "newt"
  },
  "language_info": {
   "codemirror_mode": {
    "name": "ipython",
    "version": 3
   },
   "file_extension": ".py",
   "mimetype": "text/x-python",
   "name": "python",
   "nbconvert_exporter": "python",
   "pygments_lexer": "ipython3",
   "version": "3.7.6"
  }
 },
 "nbformat": 4,
 "nbformat_minor": 2
}
