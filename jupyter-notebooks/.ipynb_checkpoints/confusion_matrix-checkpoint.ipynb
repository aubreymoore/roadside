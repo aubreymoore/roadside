{
 "cells": [
  {
   "cell_type": "markdown",
   "metadata": {},
   "source": [
    "# confusion_matrix\n",
    "\n",
    "This notebook can be run via papermill with something like this:\n",
    "```\n",
    "papermill confusion_matrix.ipynb get-random-bounding-boxes/reports/job27/job27-turkle-results.ipynb -y \"\n",
    "TURKLE_RESULTS_CSV_PATH: get-random-bounding-boxes/reports/job27/job27-turkle-results.csv\"\n",
    "```"
   ]
  },
  {
   "cell_type": "code",
   "execution_count": 16,
   "metadata": {},
   "outputs": [],
   "source": [
    "#!pip3 install pandasql"
   ]
  },
  {
   "cell_type": "code",
   "execution_count": 17,
   "metadata": {},
   "outputs": [],
   "source": [
    "import pandas as pd\n",
    "from sklearn import metrics\n",
    "import matplotlib.pyplot as plt\n",
    "import numpy as np\n",
    "import itertools\n",
    "from pandasql import sqldf"
   ]
  },
  {
   "cell_type": "code",
   "execution_count": 18,
   "metadata": {
    "tags": [
     "parameters"
    ]
   },
   "outputs": [],
   "source": [
    "TURKLE_RESULTS_CSV_PATH = '/home/aubrey/Desktop/CRB-Damage-Survey-Validation/index-Batch_7_results.csv'"
   ]
  },
  {
   "cell_type": "code",
   "execution_count": 19,
   "metadata": {},
   "outputs": [],
   "source": [
    "def plot_confusion_matrix(cm,\n",
    "                          target_names,\n",
    "                          title='Confusion matrix',\n",
    "                          cmap=None,\n",
    "                          normalize=True):\n",
    "    \"\"\"\n",
    "    given a sklearn confusion matrix (cm), make a nice plot\n",
    "\n",
    "    Arguments\n",
    "    ---------\n",
    "    cm:           confusion matrix from sklearn.metrics.confusion_matrix\n",
    "\n",
    "    target_names: given classification classes such as [0, 1, 2]\n",
    "                  the class names, for example: ['high', 'medium', 'low']\n",
    "\n",
    "    title:        the text to display at the top of the matrix\n",
    "\n",
    "    cmap:         the gradient of the values displayed from matplotlib.pyplot.cm\n",
    "                  see http://matplotlib.org/examples/color/colormaps_reference.html\n",
    "                  plt.get_cmap('jet') or plt.cm.Blues\n",
    "\n",
    "    normalize:    If False, plot the raw numbers\n",
    "                  If True, plot the proportions\n",
    "\n",
    "    Usage\n",
    "    -----\n",
    "    plot_confusion_matrix(cm           = cm,                  # confusion matrix created by\n",
    "                                                              # sklearn.metrics.confusion_matrix\n",
    "                          normalize    = True,                # show proportions\n",
    "                          target_names = y_labels_vals,       # list of names of the classes\n",
    "                          title        = best_estimator_name) # title of graph\n",
    "\n",
    "    Citation\n",
    "    ---------\n",
    "    http://scikit-learn.org/stable/auto_examples/model_selection/plot_confusion_matrix.html\n",
    "\n",
    "    \"\"\"\n",
    "\n",
    "    accuracy = np.trace(cm) / float(np.sum(cm))\n",
    "    misclass = 1 - accuracy\n",
    "\n",
    "    if cmap is None:\n",
    "        cmap = plt.get_cmap('Blues')\n",
    "\n",
    "    plt.figure(figsize=(8, 6))\n",
    "    plt.imshow(cm, interpolation='nearest', cmap=cmap)\n",
    "    plt.title(title)\n",
    "    plt.colorbar()\n",
    "\n",
    "    if target_names is not None:\n",
    "        tick_marks = np.arange(len(target_names))\n",
    "        plt.xticks(tick_marks, target_names, rotation=45)\n",
    "        plt.yticks(tick_marks, target_names)\n",
    "\n",
    "    if normalize:\n",
    "        cm = cm.astype('float') / cm.sum(axis=1)[:, np.newaxis]\n",
    "\n",
    "\n",
    "    thresh = cm.max() / 1.5 if normalize else cm.max() / 2\n",
    "    for i, j in itertools.product(range(cm.shape[0]), range(cm.shape[1])):\n",
    "        if normalize:\n",
    "            plt.text(j, i, \"{:0.4f}\".format(cm[i, j]),\n",
    "                     horizontalalignment=\"center\",\n",
    "                     color=\"white\" if cm[i, j] > thresh else \"black\")\n",
    "        else:\n",
    "            plt.text(j, i, \"{:,}\".format(cm[i, j]),\n",
    "                     horizontalalignment=\"center\",\n",
    "                     color=\"white\" if cm[i, j] > thresh else \"black\")\n",
    "\n",
    "\n",
    "    plt.tight_layout()\n",
    "    plt.ylabel(f'Human label ({human_name})')\n",
    "    plt.xlabel('Machine label\\naccuracy={:0.4f}; misclass={:0.4f}'.format(accuracy, misclass))\n",
    "    plt.savefig('confusion-matrix.pdf')\n",
    "    plt.show()"
   ]
  },
  {
   "cell_type": "markdown",
   "metadata": {},
   "source": [
    "# Main"
   ]
  },
  {
   "cell_type": "code",
   "execution_count": 20,
   "metadata": {},
   "outputs": [
    {
     "data": {
      "text/html": [
       "<div>\n",
       "<style scoped>\n",
       "    .dataframe tbody tr th:only-of-type {\n",
       "        vertical-align: middle;\n",
       "    }\n",
       "\n",
       "    .dataframe tbody tr th {\n",
       "        vertical-align: top;\n",
       "    }\n",
       "\n",
       "    .dataframe thead th {\n",
       "        text-align: right;\n",
       "    }\n",
       "</style>\n",
       "<table border=\"1\" class=\"dataframe\">\n",
       "  <thead>\n",
       "    <tr style=\"text-align: right;\">\n",
       "      <th></th>\n",
       "      <th>HITId</th>\n",
       "      <th>HITTypeId</th>\n",
       "      <th>Title</th>\n",
       "      <th>CreationTime</th>\n",
       "      <th>MaxAssignments</th>\n",
       "      <th>AssignmentDurationInSeconds</th>\n",
       "      <th>AssignmentId</th>\n",
       "      <th>WorkerId</th>\n",
       "      <th>AcceptTime</th>\n",
       "      <th>SubmitTime</th>\n",
       "      <th>WorkTimeInSeconds</th>\n",
       "      <th>Input.damage_index</th>\n",
       "      <th>Input.frame_number</th>\n",
       "      <th>Input.image_file_name</th>\n",
       "      <th>Input.image_url</th>\n",
       "      <th>Input.tree_id</th>\n",
       "      <th>Input.video</th>\n",
       "      <th>Input.xbr</th>\n",
       "      <th>Input.xtl</th>\n",
       "      <th>Input.ybr</th>\n",
       "      <th>Input.ytl</th>\n",
       "      <th>Answer.answer</th>\n",
       "      <th>Answer.note</th>\n",
       "      <th>Turkle.Username</th>\n",
       "    </tr>\n",
       "  </thead>\n",
       "  <tbody>\n",
       "    <tr>\n",
       "      <th>0</th>\n",
       "      <td>142</td>\n",
       "      <td>3</td>\n",
       "      <td>roadside1</td>\n",
       "      <td>Tue Nov 17 20:44:12 UTC 2020</td>\n",
       "      <td>10</td>\n",
       "      <td>86400</td>\n",
       "      <td>132</td>\n",
       "      <td>2</td>\n",
       "      <td>Tue Nov 17 20:47:25 UTC 2020</td>\n",
       "      <td>Tue Nov 17 20:47:38 UTC 2020</td>\n",
       "      <td>12</td>\n",
       "      <td>1</td>\n",
       "      <td>1292</td>\n",
       "      <td>000.jpg</td>\n",
       "      <td>https://github.com/aubreymoore/CRB-Damage-Surv...</td>\n",
       "      <td>4717</td>\n",
       "      <td>20201001_095445.mp4</td>\n",
       "      <td>937</td>\n",
       "      <td>563</td>\n",
       "      <td>696</td>\n",
       "      <td>379</td>\n",
       "      <td>light</td>\n",
       "      <td>NaN</td>\n",
       "      <td>aubreymoore</td>\n",
       "    </tr>\n",
       "  </tbody>\n",
       "</table>\n",
       "</div>"
      ],
      "text/plain": [
       "   HITId  HITTypeId      Title                  CreationTime  MaxAssignments  \\\n",
       "0    142          3  roadside1  Tue Nov 17 20:44:12 UTC 2020              10   \n",
       "\n",
       "   AssignmentDurationInSeconds  AssignmentId  WorkerId  \\\n",
       "0                        86400           132         2   \n",
       "\n",
       "                     AcceptTime                    SubmitTime  \\\n",
       "0  Tue Nov 17 20:47:25 UTC 2020  Tue Nov 17 20:47:38 UTC 2020   \n",
       "\n",
       "   WorkTimeInSeconds  Input.damage_index  Input.frame_number  \\\n",
       "0                 12                   1                1292   \n",
       "\n",
       "  Input.image_file_name                                    Input.image_url  \\\n",
       "0               000.jpg  https://github.com/aubreymoore/CRB-Damage-Surv...   \n",
       "\n",
       "   Input.tree_id          Input.video  Input.xbr  Input.xtl  Input.ybr  \\\n",
       "0           4717  20201001_095445.mp4        937        563        696   \n",
       "\n",
       "   Input.ytl Answer.answer  Answer.note Turkle.Username  \n",
       "0        379         light          NaN     aubreymoore  "
      ]
     },
     "execution_count": 20,
     "metadata": {},
     "output_type": "execute_result"
    }
   ],
   "source": [
    "pd.set_option('display.max_columns', 100)\n",
    "df = pd.read_csv(TURKLE_RESULTS_CSV_PATH)\n",
    "df.head(1)"
   ]
  },
  {
   "cell_type": "code",
   "execution_count": 21,
   "metadata": {},
   "outputs": [
    {
     "data": {
      "text/html": [
       "<div>\n",
       "<style scoped>\n",
       "    .dataframe tbody tr th:only-of-type {\n",
       "        vertical-align: middle;\n",
       "    }\n",
       "\n",
       "    .dataframe tbody tr th {\n",
       "        vertical-align: top;\n",
       "    }\n",
       "\n",
       "    .dataframe thead th {\n",
       "        text-align: right;\n",
       "    }\n",
       "</style>\n",
       "<table border=\"1\" class=\"dataframe\">\n",
       "  <thead>\n",
       "    <tr style=\"text-align: right;\">\n",
       "      <th></th>\n",
       "      <th>image_url</th>\n",
       "      <th>machine</th>\n",
       "      <th>human</th>\n",
       "    </tr>\n",
       "  </thead>\n",
       "  <tbody>\n",
       "    <tr>\n",
       "      <th>0</th>\n",
       "      <td>https://github.com/aubreymoore/CRB-Damage-Surv...</td>\n",
       "      <td>light</td>\n",
       "      <td>light</td>\n",
       "    </tr>\n",
       "    <tr>\n",
       "      <th>1</th>\n",
       "      <td>https://github.com/aubreymoore/CRB-Damage-Surv...</td>\n",
       "      <td>zero</td>\n",
       "      <td>zero</td>\n",
       "    </tr>\n",
       "    <tr>\n",
       "      <th>2</th>\n",
       "      <td>https://github.com/aubreymoore/CRB-Damage-Surv...</td>\n",
       "      <td>light</td>\n",
       "      <td>cannot determine: poor image quality</td>\n",
       "    </tr>\n",
       "    <tr>\n",
       "      <th>3</th>\n",
       "      <td>https://github.com/aubreymoore/CRB-Damage-Surv...</td>\n",
       "      <td>zero</td>\n",
       "      <td>cannot determine: poor image quality</td>\n",
       "    </tr>\n",
       "    <tr>\n",
       "      <th>4</th>\n",
       "      <td>https://github.com/aubreymoore/CRB-Damage-Surv...</td>\n",
       "      <td>light</td>\n",
       "      <td>zero</td>\n",
       "    </tr>\n",
       "    <tr>\n",
       "      <th>...</th>\n",
       "      <td>...</td>\n",
       "      <td>...</td>\n",
       "      <td>...</td>\n",
       "    </tr>\n",
       "    <tr>\n",
       "      <th>95</th>\n",
       "      <td>https://github.com/aubreymoore/CRB-Damage-Surv...</td>\n",
       "      <td>light</td>\n",
       "      <td>light</td>\n",
       "    </tr>\n",
       "    <tr>\n",
       "      <th>96</th>\n",
       "      <td>https://github.com/aubreymoore/CRB-Damage-Surv...</td>\n",
       "      <td>zero</td>\n",
       "      <td>cannot determine: poor image quality</td>\n",
       "    </tr>\n",
       "    <tr>\n",
       "      <th>97</th>\n",
       "      <td>https://github.com/aubreymoore/CRB-Damage-Surv...</td>\n",
       "      <td>high</td>\n",
       "      <td>high</td>\n",
       "    </tr>\n",
       "    <tr>\n",
       "      <th>98</th>\n",
       "      <td>https://github.com/aubreymoore/CRB-Damage-Surv...</td>\n",
       "      <td>light</td>\n",
       "      <td>zero</td>\n",
       "    </tr>\n",
       "    <tr>\n",
       "      <th>99</th>\n",
       "      <td>https://github.com/aubreymoore/CRB-Damage-Surv...</td>\n",
       "      <td>light</td>\n",
       "      <td>zero</td>\n",
       "    </tr>\n",
       "  </tbody>\n",
       "</table>\n",
       "<p>100 rows × 3 columns</p>\n",
       "</div>"
      ],
      "text/plain": [
       "                                            image_url machine  \\\n",
       "0   https://github.com/aubreymoore/CRB-Damage-Surv...   light   \n",
       "1   https://github.com/aubreymoore/CRB-Damage-Surv...    zero   \n",
       "2   https://github.com/aubreymoore/CRB-Damage-Surv...   light   \n",
       "3   https://github.com/aubreymoore/CRB-Damage-Surv...    zero   \n",
       "4   https://github.com/aubreymoore/CRB-Damage-Surv...   light   \n",
       "..                                                ...     ...   \n",
       "95  https://github.com/aubreymoore/CRB-Damage-Surv...   light   \n",
       "96  https://github.com/aubreymoore/CRB-Damage-Surv...    zero   \n",
       "97  https://github.com/aubreymoore/CRB-Damage-Surv...    high   \n",
       "98  https://github.com/aubreymoore/CRB-Damage-Surv...   light   \n",
       "99  https://github.com/aubreymoore/CRB-Damage-Surv...   light   \n",
       "\n",
       "                                   human  \n",
       "0                                  light  \n",
       "1                                   zero  \n",
       "2   cannot determine: poor image quality  \n",
       "3   cannot determine: poor image quality  \n",
       "4                                   zero  \n",
       "..                                   ...  \n",
       "95                                 light  \n",
       "96  cannot determine: poor image quality  \n",
       "97                                  high  \n",
       "98                                  zero  \n",
       "99                                  zero  \n",
       "\n",
       "[100 rows x 3 columns]"
      ]
     },
     "execution_count": 21,
     "metadata": {},
     "output_type": "execute_result"
    }
   ],
   "source": [
    "labels = ['zero','light','medium','high','non-recoverable']\n",
    "human_name = df['Turkle.Username'][0]\n",
    "df.rename({'Input.image_url':'image_url', 'Answer.answer':'human'}, axis='columns', inplace=True)\n",
    "df['machine'] = df.apply(lambda r: labels[r['Input.damage_index']], axis=1)\n",
    "df1 = df.filter(['image_url', 'machine', 'human'], axis='columns')\n",
    "df1"
   ]
  },
  {
   "cell_type": "code",
   "execution_count": 22,
   "metadata": {},
   "outputs": [
    {
     "name": "stderr",
     "output_type": "stream",
     "text": [
      "/usr/lib/python3/dist-packages/matplotlib/figure.py:2022: UserWarning: This figure includes Axes that are not compatible with tight_layout, so results might be incorrect.\n",
      "  warnings.warn(\"This figure includes Axes that are not compatible \"\n"
     ]
    },
    {
     "data": {
      "image/png": "[encoded data removed]",
      "text/plain": [
       "<matplotlib.figure.Figure at 0x7fa9bef5e940>"
      ]
     },
     "metadata": {
      "needs_background": "light"
     },
     "output_type": "display_data"
    }
   ],
   "source": [
    "cm = metrics.confusion_matrix(list(df1.human), list(df1.machine), labels=labels)\n",
    "\n",
    "plt.rcParams.update({'figure.autolayout': True})\n",
    "plot = plot_confusion_matrix(cm           = cm, \n",
    "                      cmap         = plt.cm.Reds,\n",
    "                      normalize    = False,\n",
    "                      target_names = labels,\n",
    "                      title        = \"Confusion Matrix\")"
   ]
  },
  {
   "cell_type": "code",
   "execution_count": 39,
   "metadata": {},
   "outputs": [
    {
     "name": "stdout",
     "output_type": "stream",
     "text": [
      "31 out of 100 images could not be classified by the human because these images\n",
      "were of poor quality or did not contain a coconut palm.\n"
     ]
    }
   ],
   "source": [
    "bad_images = sqldf('SELECT COUNT(*) FROM df WHERE human LIKE \"cannot%\";').values[0][0]\n",
    "n = df.shape[0]\n",
    "print(f'{bad_images} out of {n} images could not be classified by the human because these images')\n",
    "print('were of poor quality or did not contain a coconut palm.')"
   ]
  },
  {
   "cell_type": "code",
   "execution_count": null,
   "metadata": {},
   "outputs": [],
   "source": []
  }
 ],
 "metadata": {
  "kernelspec": {
   "display_name": "Python 3",
   "language": "python",
   "name": "python3"
  },
  "language_info": {
   "codemirror_mode": {
    "name": "ipython",
    "version": 3
   },
   "file_extension": ".py",
   "mimetype": "text/x-python",
   "name": "python",
   "nbconvert_exporter": "python",
   "pygments_lexer": "ipython3",
   "version": "3.6.9"
  }
 },
 "nbformat": 4,
 "nbformat_minor": 2
}
