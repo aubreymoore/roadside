{
 "cells": [
  {
   "cell_type": "code",
   "execution_count": 47,
   "metadata": {},
   "outputs": [],
   "source": [
    "import xml.etree.ElementTree as ET\n",
    "import pandas as pd\n",
    "import cv2\n",
    "from pathlib import Path\n",
    "import imutils\n",
    "import sys\n",
    "import glob\n",
    "import numpy as np"
   ]
  },
  {
   "cell_type": "code",
   "execution_count": 48,
   "metadata": {},
   "outputs": [],
   "source": [
    "# xml_file = 'test-133816-dont-annotate.xml'\n",
    "# bbox_csv_file = 'bbox.csv'\n",
    "DATADIR = '/media/aubrey/9C33-6BBD/06-23-test-cut-detector-20'\n",
    "CVATXMLFILE = '06-23-test-cut-detector-20.xml'\n",
    "#bbox_csv_file = '/media/aubrey/9C33-6BBD/06-23-test-cut-detector-20/bbox.csv'\n",
    "VIDEOFILE = '20200623_processed.mp4'"
   ]
  },
  {
   "cell_type": "code",
   "execution_count": 49,
   "metadata": {},
   "outputs": [],
   "source": [
    "def str2int(s):\n",
    "    return int(float(s))\n",
    "\n",
    "# str2int('7.53')"
   ]
  },
  {
   "cell_type": "code",
   "execution_count": 50,
   "metadata": {},
   "outputs": [],
   "source": [
    "def get_bounding_boxes(xml_file):\n",
    "    \"\"\"\n",
    "    Returns a pandas dataframe.\n",
    "    \"\"\"   \n",
    "    tree = ET.parse(xml_file)\n",
    "    root = tree.getroot()\n",
    "\n",
    "    mylist = []\n",
    "    for track in root.findall('track'):\n",
    "        for box in track.findall('box'):\n",
    "            mydict = box.attrib\n",
    "            mydict.update(track.attrib)\n",
    "            mylist.append(mydict)\n",
    "    df = pd.DataFrame(mylist)\n",
    "    df = df[(df.occluded=='0') & (df.outside=='0')]\n",
    "    df.drop(['occluded', 'outside'], axis=1, inplace=True)\n",
    "    df.rename({'id': 'track_id'}, axis=1, inplace=True)\n",
    "    df.xbr = df.xbr.apply(lambda x: str2int(x))\n",
    "    df.xtl = df.xtl.apply(lambda x: str2int(x))\n",
    "    df.ybr = df.ybr.apply(lambda x: str2int(x))\n",
    "    df.ytl = df.ytl.apply(lambda x: str2int(x))\n",
    "    df.frame = df.frame.apply(lambda x: str2int(x))\n",
    "    df.track_id = df.track_id.apply(lambda x: str2int(x))\n",
    "    return df\n",
    "\n",
    "#get_bounding_boxes(xml_file)"
   ]
  },
  {
   "cell_type": "code",
   "execution_count": 51,
   "metadata": {},
   "outputs": [],
   "source": [
    "def write_bounding_box_image(row):\n",
    "    \"\"\"\n",
    "    Writes image contained in bounding box.\n",
    "    \"\"\"\n",
    "    cap = cv2.VideoCapture(f'{DATADIR}/{VIDEOFILE}')\n",
    "    cap.set(1, row.frame)\n",
    "    _, frame = cap.read()\n",
    "    img = frame[row.ytl:row.ybr, row.xtl:row.xbr]\n",
    "    blank[row.ytl:row.ybr, row.xtl:row.xbr] = img\n",
    "    cap.release()\n",
    "    prefix = f'{DATADIR}/tracks/track{row.track_id:04d}'\n",
    "    Path(prefix).mkdir(parents=True, exist_ok=True)\n",
    "    cv2.imwrite(f'{prefix}//t{row.track_id:04d}f{row.frame:04d}.jpg', img)\n",
    "    "
   ]
  },
  {
   "cell_type": "code",
   "execution_count": 52,
   "metadata": {},
   "outputs": [],
   "source": [
    "def create_blank(width, height, rgb_color=(0,0,0)):\n",
    "    \"\"\"Create new image(numpy array) filled with certain color in RGB\"\"\"\n",
    "    # Create black blank image\n",
    "    image = np.zeros((height, width, 3), np.uint8)\n",
    "\n",
    "    # Since OpenCV uses BGR, convert the color first\n",
    "    color = tuple(reversed(rgb_color))\n",
    "    \n",
    "    # Fill image with color\n",
    "    image[:] = color\n",
    "\n",
    "    return image"
   ]
  },
  {
   "cell_type": "markdown",
   "metadata": {},
   "source": [
    "# MAIN"
   ]
  },
  {
   "cell_type": "code",
   "execution_count": 53,
   "metadata": {},
   "outputs": [
    {
     "ename": "SyntaxError",
     "evalue": "f-string: expecting '}' (<ipython-input-53-93e9daff104f>, line 6)",
     "output_type": "error",
     "traceback": [
      "\u001b[0;36m  File \u001b[0;32m\"<ipython-input-53-93e9daff104f>\"\u001b[0;36m, line \u001b[0;32m6\u001b[0m\n\u001b[0;31m    cv2.imwrite(f'{DATADIR}/tracks/track{track_id:04d}/{t{track_id:04d}.jpg', blank)\u001b[0m\n\u001b[0m               ^\u001b[0m\n\u001b[0;31mSyntaxError\u001b[0m\u001b[0;31m:\u001b[0m f-string: expecting '}'\n"
     ]
    }
   ],
   "source": [
    "dfbb = get_bounding_boxes(f'{DATADIR}/{CVATXMLFILE}')\n",
    "grouped = dfbb.groupby('track_id')\n",
    "for track_id, df in grouped:\n",
    "    blank = create_blank(1920, 1080, (128,128,128))       \n",
    "    df.apply(write_bounding_box_image, axis=1) \n",
    "    cv2.imwrite(f'{DATADIR}/tracks/track{track_id:04d}/t{track_id:04d}.jpg', blank)"
   ]
  }
 ],
 "metadata": {
  "kernelspec": {
   "display_name": "newt",
   "language": "python",
   "name": "newt"
  },
  "language_info": {
   "codemirror_mode": {
    "name": "ipython",
    "version": 3
   },
   "file_extension": ".py",
   "mimetype": "text/x-python",
   "name": "python",
   "nbconvert_exporter": "python",
   "pygments_lexer": "ipython3",
   "version": "3.7.6"
  }
 },
 "nbformat": 4,
 "nbformat_minor": 4
}
