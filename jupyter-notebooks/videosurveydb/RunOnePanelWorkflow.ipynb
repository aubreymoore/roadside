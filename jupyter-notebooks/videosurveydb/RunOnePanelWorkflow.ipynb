{
 "cells": [
  {
   "cell_type": "markdown",
   "metadata": {},
   "source": [
    "Click on the following link to monitor progress of submitted jobs.\n",
    "\n",
    "https://app.cnas-re-uog.onepanel.io/crb/workflow-templates/process-inference"
   ]
  },
  {
   "cell_type": "code",
   "execution_count": 13,
   "metadata": {},
   "outputs": [],
   "source": [
    "# Install a pip package in the current Jupyter kernel\n",
    "# import sys\n",
    "# !{sys.executable} -m pip install onepanel-sdk==0.12.0b2"
   ]
  },
  {
   "cell_type": "code",
   "execution_count": 14,
   "metadata": {},
   "outputs": [],
   "source": [
    "import onepanel.core.api\n",
    "from onepanel.core.api.rest import ApiException\n",
    "from onepanel.core.api.models import Parameter\n",
    "import os\n",
    "import sys\n",
    "import secrets"
   ]
  },
  {
   "cell_type": "code",
   "execution_count": 15,
   "metadata": {},
   "outputs": [],
   "source": [
    "INPUTVIDEO = 'raw-input/20200703/20200703_124043.mp4'\n",
    "GPSCSV = 'raw-input/20200703/20200703_124043_gps.csv'"
   ]
  },
  {
   "cell_type": "code",
   "execution_count": 16,
   "metadata": {},
   "outputs": [
    {
     "name": "stdout",
     "output_type": "stream",
     "text": [
      "Successfully executed workflow.\n"
     ]
    }
   ],
   "source": [
    "#auth_token = os.getenv('ONEPANEL_AUTHORIZATION')\n",
    "#auth_token = \"<paste-token-here> (not recommended)\"\n",
    "auth_token = secrets.auth_token # I hid my token in secrets.py and made sure this file was added to .gitignore\n",
    "configuration = onepanel.core.api.Configuration(\n",
    "    host = \"https://app.cnas-re-uog.onepanel.io/api\", api_key = {'Bearer': auth_token})\n",
    "configuration.api_key_prefix['Bearer'] = 'Bearer'\n",
    "\n",
    "# Enter a context with an instance of the API client\n",
    "with onepanel.core.api.ApiClient(configuration) as api_client:\n",
    "    # Create an instance of the API class\n",
    "    api_instance = onepanel.core.api.WorkflowServiceApi(api_client)\n",
    "    namespace = \"crb\" # str | \n",
    "    params = []\n",
    "    params.append(Parameter(name=\"input-video\", value=INPUTVIDEO))\n",
    "    params.append(Parameter(name=\"gps-csv-path\", value=GPSCSV))    \n",
    "    #params.append(Parameter(name=\"input-video\", value=sys.argv[1]))\n",
    "    #params.append(Parameter(name=\"gps-csv-path\", value=sys.argv[2]))\n",
    "    # you can add more parameters but they are optional. here is an example.\n",
    "    # you can change how many frame sto skip, by default its 7\n",
    "    # params.append(Parameter(name=\"skip-no\", value=str(9)))\n",
    "\n",
    "    body = onepanel.core.api.CreateWorkflowExecutionBody(parameters=params,\n",
    "    workflow_template_uid = \"process-inference\") \n",
    "    try:\n",
    "        api_response = api_instance.create_workflow_execution(namespace, body)\n",
    "        print(\"Successfully executed workflow.\")\n",
    "        #sys.exit(0)\n",
    "    except ApiException as e:\n",
    "        print(\"Exception when calling WorkflowServiceApi->create_workflow_execution: {}\\n\".format(e))\n",
    "        #sys.exit(1)"
   ]
  },
  {
   "cell_type": "code",
   "execution_count": null,
   "metadata": {},
   "outputs": [],
   "source": []
  }
 ],
 "metadata": {
  "kernelspec": {
   "display_name": "Python 3",
   "language": "python",
   "name": "python3"
  },
  "language_info": {
   "codemirror_mode": {
    "name": "ipython",
    "version": 3
   },
   "file_extension": ".py",
   "mimetype": "text/x-python",
   "name": "python",
   "nbconvert_exporter": "python",
   "pygments_lexer": "ipython3",
   "version": "3.6.9"
  }
 },
 "nbformat": 4,
 "nbformat_minor": 2
}
