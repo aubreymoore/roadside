{
 "cells": [
  {
   "cell_type": "code",
   "execution_count": 72,
   "metadata": {},
   "outputs": [],
   "source": [
    "import exiftool\n",
    "import glob\n",
    "import sqlite3\n",
    "import json"
   ]
  },
  {
   "cell_type": "code",
   "execution_count": 68,
   "metadata": {},
   "outputs": [],
   "source": [
    "DATADIR = '/home/aubrey/Desktop'\n",
    "DATE = '20201001'"
   ]
  },
  {
   "cell_type": "code",
   "execution_count": 69,
   "metadata": {},
   "outputs": [
    {
     "data": {
      "text/plain": [
       "<sqlite3.Cursor at 0x7ff125bdbd50>"
      ]
     },
     "execution_count": 69,
     "metadata": {},
     "output_type": "execute_result"
    }
   ],
   "source": [
    "conn = sqlite3.connect('test.db')\n",
    "c = conn.cursor()\n",
    "c.execute(\"CREATE TABLE exif (exif json)\")"
   ]
  },
  {
   "cell_type": "code",
   "execution_count": 82,
   "metadata": {},
   "outputs": [
    {
     "name": "stdout",
     "output_type": "stream",
     "text": [
      "/home/aubrey/Desktop/20201001/20201001_102824.mp4\n",
      "/home/aubrey/Desktop/20201001/20201001_095445.mp4\n",
      "/home/aubrey/Desktop/20201001/20201001_092426.mp4\n"
     ]
    }
   ],
   "source": [
    "for video in glob.glob(f'{DATADIR}/{DATE}/{DATE}_??????.mp4'):\n",
    "    print(video)\n",
    "    with exiftool.ExifTool() as et:\n",
    "        meta = et.get_metadata(video)\n",
    "    #jmeta = json.dumps(meta)\n",
    "    #sql = f'INSERT INTO exif VALUES ({jmeta});'\n",
    "    c.execute(\"INSERT INTO exif VALUES (?)\", [json.dumps(meta)])\n",
    "    conn.commit()  "
   ]
  },
  {
   "cell_type": "code",
   "execution_count": 91,
   "metadata": {},
   "outputs": [
    {
     "name": "stdout",
     "output_type": "stream",
     "text": [
      "('2020:10:01 01:05:31', 1986.661)\n",
      "('2020:10:01 00:31:46', 2019.305)\n",
      "('2020:09:30 23:58:07', 2019.373)\n"
     ]
    }
   ],
   "source": [
    "sql='''\n",
    "    SELECT \n",
    "        JSON_EXTRACT(exif, \"$.QuickTime:CreateDate\") AS start_time_utc,\n",
    "        JSON_EXTRACT(exif, \"$.QuickTime:Duration\") AS duration    \n",
    "    FROM exif;\n",
    "    '''\n",
    "c.execute(sql)\n",
    "\n",
    "rows = c.fetchall()\n",
    "\n",
    "for row in rows:\n",
    "    print(row)"
   ]
  },
  {
   "cell_type": "code",
   "execution_count": 55,
   "metadata": {},
   "outputs": [
    {
     "name": "stdout",
     "output_type": "stream",
     "text": [
      "\"/home/aubrey/Desktop/survey1/20201001/\"\n"
     ]
    },
    {
     "data": {
      "text/plain": [
       "[]"
      ]
     },
     "execution_count": 55,
     "metadata": {},
     "output_type": "execute_result"
    }
   ],
   "source": [
    "pattern = f'\"{DATADIR}/{DATE}/\"'\n",
    "print(pattern)\n",
    "glob.glob(pattern)"
   ]
  },
  {
   "cell_type": "code",
   "execution_count": null,
   "metadata": {},
   "outputs": [],
   "source": [
    "with exiftool.ExifTool() as et:\n",
    "    createDate = et.get_tag('QuickTime:CreateDate', filename)\n",
    "    logging.info(f'Exif Quicktime:CreateDate: {createDate} UTC')\n",
    "    duration = et.get_tag('QuickTime:Duration', filename)\n",
    "    logging.info(f'Exif QuickTime:Duration: {duration} seconds')\n"
   ]
  },
  {
   "cell_type": "code",
   "execution_count": 3,
   "metadata": {},
   "outputs": [],
   "source": [
    "import sqlite3\n",
    "\n",
    "db_file = 'data/raw/db.sqlite'\n",
    "tables = {\n",
    "    'Players': {\n",
    "        'id': 'INTEGER PRIMARY KEY',\n",
    "        'fname': 'TEXT',\n",
    "        'lname': 'TEXT',\n",
    "        'dob': 'DATETIME',\n",
    "        'age': 'INTEGER',\n",
    "        'height': 'INTEGER', # inches\n",
    "        'weight': 'INTEGER', # pounds\n",
    "        'rank': 'INTEGER',\n",
    "        'rhlh': 'INTEGER', # 0 - right, 1 - left\n",
    "        'bh': 'INTEGER', # 0 - onehand, 1 - twohand\n",
    "        'city': 'TEXT', # birth city\n",
    "        'county': 'TEXT' #birth country\n",
    "        }\n",
    "}\n",
    "\n",
    "\n",
    "conn = sqlite3.connect(db_file)\n",
    "c = conn.cursor()\n",
    "\n",
    "for table in tables.keys():\n",
    "    fieldset = []\n",
    "    for col, definition in tables[table].items():\n",
    "        fieldset.append(\"'{0}' {1}\".format(col, definition))\n",
    "\n",
    "    if len(fieldset) > 0:\n",
    "        query = \"CREATE TABLE IF NOT EXISTS {0} ({1})\".format(table, \", \".join(fieldset))\n",
    "\n",
    "        c.execute(query)\n",
    "\n",
    "c.close()\n",
    "conn.close()"
   ]
  }
 ],
 "metadata": {
  "kernelspec": {
   "display_name": "Python 3",
   "language": "python",
   "name": "python3"
  },
  "language_info": {
   "codemirror_mode": {
    "name": "ipython",
    "version": 3
   },
   "file_extension": ".py",
   "mimetype": "text/x-python",
   "name": "python",
   "nbconvert_exporter": "python",
   "pygments_lexer": "ipython3",
   "version": "3.6.9"
  }
 },
 "nbformat": 4,
 "nbformat_minor": 4
}
