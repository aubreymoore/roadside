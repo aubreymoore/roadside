{
 "cells": [
  {
   "cell_type": "code",
   "execution_count": null,
   "metadata": {},
   "outputs": [],
   "source": [
    "import pandas as pd"
   ]
  },
  {
   "cell_type": "code",
   "execution_count": null,
   "metadata": {},
   "outputs": [],
   "source": [
    "DATADIR = '/media/aubrey/9C33-6BBD/20200630_132859'\n",
    "CVATCSV = '20200630_132859-AI.csv'\n",
    "GPSCSV = '20200630_132859_gps.csv'\n",
    "GPSOBSCSV = '20200630_132859_gps_obs.csv'"
   ]
  },
  {
   "cell_type": "code",
   "execution_count": null,
   "metadata": {},
   "outputs": [],
   "source": [
    "damage = {'none':0, 'low':1, 'medium':2, 'high':3, 'non-recoverable':4}"
   ]
  },
  {
   "cell_type": "code",
   "execution_count": null,
   "metadata": {},
   "outputs": [],
   "source": [
    "df = pd.read_csv(f'{DATADIR}/{CVATCSV}')\n",
    "dfgps = pd.read_csv(f'{DATADIR}/{GPSCSV}')\n",
    "df = df.merge(right=dfgps, on='frame', how='left')\n",
    "df = df.dropna()\n",
    "df['damage'] = df.apply(lambda x: damage[x.label], axis='columns')\n",
    "df.to_csv(f'{DATADIR}/{GPSOBSCSV}', index=False)\n",
    "df"
   ]
  }
 ],
 "metadata": {
  "kernelspec": {
   "display_name": "newt",
   "language": "python",
   "name": "newt"
  },
  "language_info": {
   "codemirror_mode": {
    "name": "ipython",
    "version": 3
   },
   "file_extension": ".py",
   "mimetype": "text/x-python",
   "name": "python",
   "nbconvert_exporter": "python",
   "pygments_lexer": "ipython3",
   "version": "3.7.6"
  }
 },
 "nbformat": 4,
 "nbformat_minor": 2
}
