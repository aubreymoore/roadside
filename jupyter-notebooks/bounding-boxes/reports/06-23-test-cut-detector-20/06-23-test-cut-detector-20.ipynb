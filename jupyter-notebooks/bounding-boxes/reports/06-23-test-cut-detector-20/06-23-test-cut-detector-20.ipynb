{
 "cells": [
  {
   "cell_type": "markdown",
   "metadata": {
    "papermill": {},
    "tags": []
   },
   "source": [
    "# bounding-boxes\n",
    "\n",
    "Aubrey Moore 2020-07-14\n",
    "\n",
    "Outputs images displaying contents of bounding boxes for each track.\n",
    "\n",
    "Run papermill and nbconvert using something like the following. Results will be in the HTML file.\n",
    "```\n",
    "mkdir reports\n",
    "\n",
    "mkdir reports/06-23-test-cut-detector-20\n",
    "\n",
    "papermill --prepare-only bounding-boxes.ipynb reports/06-23-test-cut-detector-20/06-23-test-cut-detector-20.ipynb -y \"{'DATADIR':'/media/aubrey/9C33-6BBD/06-23-test-cut-detector-20','CVATXMLFILE':'06-23-test-cut-detector-20.xml','VIDEOFILE':'20200623_processed.mp4','SAVE_BB_IMAGES':'False'}\"\n",
    "\n",
    "jupyter nbconvert --execute --to html reports/06-23-test-cut-detector-20/06-23-test-cut-detector-20.ipynb\n",
    "\n",
    "```"
   ]
  },
  {
   "cell_type": "code",
   "execution_count": null,
   "metadata": {
    "papermill": {},
    "tags": []
   },
   "outputs": [],
   "source": [
    "import xml.etree.ElementTree as ET\n",
    "import pandas as pd\n",
    "import cv2\n",
    "import sys\n",
    "import glob\n",
    "import numpy as np\n",
    "from IPython.display import HTML, Image"
   ]
  },
  {
   "cell_type": "code",
   "execution_count": null,
   "metadata": {
    "papermill": {},
    "tags": [
     "parameters"
    ]
   },
   "outputs": [],
   "source": [
    "DATADIR = '/media/aubrey/9C33-6BBD/06-23-test-cut-detector-20'\n",
    "CVATXMLFILE = '06-23-test-cut-detector-20.xml'\n",
    "VIDEOFILE = '20200623_processed.mp4'\n",
    "SAVE_BB_IMAGES = 'False'"
   ]
  },
  {
   "cell_type": "code",
   "execution_count": null,
   "metadata": {
    "tags": [
     "injected-parameters"
    ]
   },
   "outputs": [],
   "source": [
    "# Parameters\n",
    "CVATXMLFILE = \"06-23-test-cut-detector-20.xml\"\n",
    "DATADIR = \"/media/aubrey/9C33-6BBD/06-23-test-cut-detector-20\"\n",
    "SAVE_BB_IMAGES = \"False\"\n",
    "VIDEOFILE = \"20200623_processed.mp4\"\n"
   ]
  },
  {
   "cell_type": "code",
   "execution_count": null,
   "metadata": {
    "papermill": {},
    "tags": []
   },
   "outputs": [],
   "source": [
    "def str2int(s):\n",
    "    return int(float(s))\n",
    "\n",
    "# str2int('7.53')"
   ]
  },
  {
   "cell_type": "code",
   "execution_count": null,
   "metadata": {
    "papermill": {},
    "tags": []
   },
   "outputs": [],
   "source": [
    "def get_bounding_boxes(xml_file):\n",
    "    \"\"\"\n",
    "    Returns a pandas dataframe.\n",
    "    \"\"\"   \n",
    "    tree = ET.parse(xml_file)\n",
    "    root = tree.getroot()\n",
    "\n",
    "    mylist = []\n",
    "    for track in root.findall('track'):\n",
    "        for box in track.findall('box'):\n",
    "            mydict = box.attrib\n",
    "            mydict.update(track.attrib)\n",
    "            mylist.append(mydict)\n",
    "    df = pd.DataFrame(mylist)\n",
    "    df = df[(df.occluded=='0') & (df.outside=='0')]\n",
    "    df.drop(['occluded', 'outside'], axis=1, inplace=True)\n",
    "    df.rename({'id': 'track_id'}, axis=1, inplace=True)\n",
    "    df.xbr = df.xbr.apply(lambda x: str2int(x))\n",
    "    df.xtl = df.xtl.apply(lambda x: str2int(x))\n",
    "    df.ybr = df.ybr.apply(lambda x: str2int(x))\n",
    "    df.ytl = df.ytl.apply(lambda x: str2int(x))\n",
    "    df.frame = df.frame.apply(lambda x: str2int(x))\n",
    "    df.track_id = df.track_id.apply(lambda x: str2int(x))\n",
    "    return df\n",
    "\n",
    "#get_bounding_boxes(xml_file)"
   ]
  },
  {
   "cell_type": "code",
   "execution_count": null,
   "metadata": {
    "papermill": {},
    "tags": []
   },
   "outputs": [],
   "source": [
    "def write_bounding_box_image(row):\n",
    "    \"\"\"\n",
    "    Writes image contained in bounding box.\n",
    "    \"\"\"\n",
    "    cap = cv2.VideoCapture(f'{DATADIR}/{VIDEOFILE}')\n",
    "    cap.set(1, row.frame)\n",
    "    _, frame = cap.read()\n",
    "    img = frame[row.ytl:row.ybr, row.xtl:row.xbr]\n",
    "    blank[row.ytl:row.ybr, row.xtl:row.xbr] = img\n",
    "    cap.release()\n",
    "    if SAVE_BB_IMAGES=='True':\n",
    "        cv2.imwrite(f't{row.track_id:04d}f{row.frame:04d}.jpg', img)   "
   ]
  },
  {
   "cell_type": "code",
   "execution_count": null,
   "metadata": {
    "papermill": {},
    "tags": []
   },
   "outputs": [],
   "source": [
    "def create_blank(width, height, rgb_color=(0,0,0)):\n",
    "    \"\"\"Create new image(numpy array) filled with certain color in RGB\"\"\"\n",
    "    # Create black blank image\n",
    "    image = np.zeros((height, width, 3), np.uint8)\n",
    "\n",
    "    # Since OpenCV uses BGR, convert the color first\n",
    "    color = tuple(reversed(rgb_color))\n",
    "    \n",
    "    # Fill image with color\n",
    "    image[:] = color\n",
    "\n",
    "    return image"
   ]
  },
  {
   "cell_type": "code",
   "execution_count": null,
   "metadata": {
    "papermill": {},
    "tags": []
   },
   "outputs": [],
   "source": [
    "def _src_from_data(data):\n",
    "    \"\"\"Base64 encodes image bytes for inclusion in an HTML img element\"\"\"\n",
    "    img_obj = Image(data=data)\n",
    "    for bundle in img_obj._repr_mimebundle_():\n",
    "        for mimetype, b64value in bundle.items():\n",
    "            if mimetype.startswith('image/'):\n",
    "                return f'data:{mimetype};base64,{b64value}'\n",
    "\n",
    "def gallery(images, row_height='auto'):\n",
    "    \"\"\"Shows a set of images in a gallery that flexes with the width of the notebook.\n",
    "    \n",
    "    Parameters\n",
    "    ----------\n",
    "    images: list of str or bytes\n",
    "        URLs or bytes of images to display\n",
    "\n",
    "    row_height: str\n",
    "        CSS height value to assign to all images. Set to 'auto' by default to show images\n",
    "        with their native dimensions. Set to a value like '250px' to make all rows\n",
    "        in the gallery equal height.\n",
    "    \"\"\"\n",
    "    figures = []\n",
    "    for image in images:\n",
    "        if isinstance(image, bytes):\n",
    "            src = _src_from_data(image)\n",
    "            caption = ''\n",
    "        else:\n",
    "            src = image\n",
    "            caption = f'<figcaption style=\"font-size: 0.6em\">{image}</figcaption>'\n",
    "        figures.append(f'''\n",
    "            <figure style=\"margin: 5px !important;\">\n",
    "              <img src=\"{src}\" style=\"height: {row_height}\">\n",
    "              {caption}\n",
    "            </figure>\n",
    "        ''')\n",
    "    return HTML(data=f'''\n",
    "        <div style=\"display: flex; flex-flow: row wrap; text-align: center;\">\n",
    "        {''.join(figures)}\n",
    "        </div>\n",
    "    ''')"
   ]
  },
  {
   "cell_type": "markdown",
   "metadata": {
    "papermill": {},
    "tags": []
   },
   "source": [
    "# MAIN"
   ]
  },
  {
   "cell_type": "code",
   "execution_count": null,
   "metadata": {
    "papermill": {},
    "tags": []
   },
   "outputs": [],
   "source": [
    "dfbb = get_bounding_boxes(f'{DATADIR}/{CVATXMLFILE}')\n",
    "grouped = dfbb.groupby('track_id')\n",
    "blankfilelist = []\n",
    "for track_id, df in grouped:\n",
    "    blank = create_blank(1920, 1080, (128,128,128))       \n",
    "    df.apply(write_bounding_box_image, axis=1)\n",
    "    blankfile = f't{track_id:04d}.jpg'\n",
    "    blankfilelist.append(blankfile)\n",
    "    cv2.imwrite(blankfile, blank)\n",
    "gallery(blankfilelist)"
   ]
  }
 ],
 "metadata": {
  "kernelspec": {
   "display_name": "newt",
   "language": "python",
   "name": "newt"
  },
  "language_info": {
   "codemirror_mode": {
    "name": "ipython",
    "version": 3
   },
   "file_extension": ".py",
   "mimetype": "text/x-python",
   "name": "python",
   "nbconvert_exporter": "python",
   "pygments_lexer": "ipython3",
   "version": "3.7.6"
  },
  "papermill": {
   "environment_variables": {},
   "input_path": "bounding-boxes.ipynb",
   "output_path": "reports/06-23-test-cut-detector-20/06-23-test-cut-detector-20.ipynb",
   "parameters": {
    "CVATXMLFILE": "06-23-test-cut-detector-20.xml",
    "DATADIR": "/media/aubrey/9C33-6BBD/06-23-test-cut-detector-20",
    "SAVE_BB_IMAGES": "False",
    "VIDEOFILE": "20200623_processed.mp4"
   },
   "version": "2.0.0"
  }
 },
 "nbformat": 4,
 "nbformat_minor": 4
}