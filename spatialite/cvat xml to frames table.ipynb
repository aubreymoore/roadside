{
 "cells": [
  {
   "cell_type": "code",
   "execution_count": 46,
   "metadata": {},
   "outputs": [],
   "source": [
    "import spatialite\n",
    "import xml.etree.ElementTree as ET\n",
    "import pandas as pd\n",
    "import os"
   ]
  },
  {
   "cell_type": "code",
   "execution_count": 47,
   "metadata": {},
   "outputs": [],
   "source": [
    "xml_path = '/home/aubrey/Desktop/20201001/cvat_annotation_20201001_092426_skip_5_numframes_30315.xml'\n",
    "gps_path = '/home/aubrey/Desktop/20201001/20201001_092426_gps.csv'\n",
    "db_path = '/home/aubrey/Documents/roadside/spatialite/Guam01.db'\n",
    "video_path = '/home/aubrey/Desktop/20201001/20201001_092426.mp4'"
   ]
  },
  {
   "cell_type": "code",
   "execution_count": 48,
   "metadata": {},
   "outputs": [],
   "source": [
    "# Get frame_numbers from the xml\n",
    "root = ET.parse(xmlpath).getroot()\n",
    "image_id_set = set()\n",
    "for image in root.findall('image'):\n",
    "    image_id_set.add(int(image.attrib['id']))\n",
    "mylist = sorted(list(image_id_set))"
   ]
  },
  {
   "cell_type": "code",
   "execution_count": 49,
   "metadata": {},
   "outputs": [
    {
     "data": {
      "text/html": [
       "<div>\n",
       "<style scoped>\n",
       "    .dataframe tbody tr th:only-of-type {\n",
       "        vertical-align: middle;\n",
       "    }\n",
       "\n",
       "    .dataframe tbody tr th {\n",
       "        vertical-align: top;\n",
       "    }\n",
       "\n",
       "    .dataframe thead th {\n",
       "        text-align: right;\n",
       "    }\n",
       "</style>\n",
       "<table border=\"1\" class=\"dataframe\">\n",
       "  <thead>\n",
       "    <tr style=\"text-align: right;\">\n",
       "      <th></th>\n",
       "      <th>frame</th>\n",
       "      <th>timestamp</th>\n",
       "      <th>lat</th>\n",
       "      <th>lon</th>\n",
       "    </tr>\n",
       "  </thead>\n",
       "  <tbody>\n",
       "    <tr>\n",
       "      <th>0</th>\n",
       "      <td>0</td>\n",
       "      <td>2020-09-30 23:24:27.693613</td>\n",
       "      <td>13.414324</td>\n",
       "      <td>144.784274</td>\n",
       "    </tr>\n",
       "    <tr>\n",
       "      <th>1</th>\n",
       "      <td>1</td>\n",
       "      <td>2020-09-30 23:24:27.760226</td>\n",
       "      <td>13.414324</td>\n",
       "      <td>144.784273</td>\n",
       "    </tr>\n",
       "    <tr>\n",
       "      <th>2</th>\n",
       "      <td>2</td>\n",
       "      <td>2020-09-30 23:24:27.826839</td>\n",
       "      <td>13.414324</td>\n",
       "      <td>144.784273</td>\n",
       "    </tr>\n",
       "    <tr>\n",
       "      <th>3</th>\n",
       "      <td>3</td>\n",
       "      <td>2020-09-30 23:24:27.893452</td>\n",
       "      <td>13.414324</td>\n",
       "      <td>144.784273</td>\n",
       "    </tr>\n",
       "    <tr>\n",
       "      <th>4</th>\n",
       "      <td>4</td>\n",
       "      <td>2020-09-30 23:24:27.960065</td>\n",
       "      <td>13.414324</td>\n",
       "      <td>144.784273</td>\n",
       "    </tr>\n",
       "    <tr>\n",
       "      <th>...</th>\n",
       "      <td>...</td>\n",
       "      <td>...</td>\n",
       "      <td>...</td>\n",
       "      <td>...</td>\n",
       "    </tr>\n",
       "    <tr>\n",
       "      <th>30310</th>\n",
       "      <td>30310</td>\n",
       "      <td>2020-09-30 23:58:06.733448</td>\n",
       "      <td>13.419328</td>\n",
       "      <td>144.677429</td>\n",
       "    </tr>\n",
       "    <tr>\n",
       "      <th>30311</th>\n",
       "      <td>30311</td>\n",
       "      <td>2020-09-30 23:58:06.800061</td>\n",
       "      <td>13.419320</td>\n",
       "      <td>144.677434</td>\n",
       "    </tr>\n",
       "    <tr>\n",
       "      <th>30312</th>\n",
       "      <td>30312</td>\n",
       "      <td>2020-09-30 23:58:06.866674</td>\n",
       "      <td>13.419312</td>\n",
       "      <td>144.677438</td>\n",
       "    </tr>\n",
       "    <tr>\n",
       "      <th>30313</th>\n",
       "      <td>30313</td>\n",
       "      <td>2020-09-30 23:58:06.933287</td>\n",
       "      <td>13.419303</td>\n",
       "      <td>144.677443</td>\n",
       "    </tr>\n",
       "    <tr>\n",
       "      <th>30314</th>\n",
       "      <td>30314</td>\n",
       "      <td>2020-09-30 23:58:06.999900</td>\n",
       "      <td>13.419295</td>\n",
       "      <td>144.677448</td>\n",
       "    </tr>\n",
       "  </tbody>\n",
       "</table>\n",
       "<p>30315 rows × 4 columns</p>\n",
       "</div>"
      ],
      "text/plain": [
       "       frame                   timestamp        lat         lon\n",
       "0          0  2020-09-30 23:24:27.693613  13.414324  144.784274\n",
       "1          1  2020-09-30 23:24:27.760226  13.414324  144.784273\n",
       "2          2  2020-09-30 23:24:27.826839  13.414324  144.784273\n",
       "3          3  2020-09-30 23:24:27.893452  13.414324  144.784273\n",
       "4          4  2020-09-30 23:24:27.960065  13.414324  144.784273\n",
       "...      ...                         ...        ...         ...\n",
       "30310  30310  2020-09-30 23:58:06.733448  13.419328  144.677429\n",
       "30311  30311  2020-09-30 23:58:06.800061  13.419320  144.677434\n",
       "30312  30312  2020-09-30 23:58:06.866674  13.419312  144.677438\n",
       "30313  30313  2020-09-30 23:58:06.933287  13.419303  144.677443\n",
       "30314  30314  2020-09-30 23:58:06.999900  13.419295  144.677448\n",
       "\n",
       "[30315 rows x 4 columns]"
      ]
     },
     "execution_count": 49,
     "metadata": {},
     "output_type": "execute_result"
    }
   ],
   "source": [
    "\n",
    "\n",
    "\n",
    "dfgps"
   ]
  },
  {
   "cell_type": "code",
   "execution_count": 50,
   "metadata": {},
   "outputs": [
    {
     "name": "stdout",
     "output_type": "stream",
     "text": [
      "1\n"
     ]
    }
   ],
   "source": [
    "conn = spatialite.connect(db_path)\n",
    "cur = conn.cursor()\n",
    "\n",
    "# Get the video_id from the videos field\n",
    "video = os.path.basename(video_path)\n",
    "sql = (f'SELECT id FROM videos WHERE name = \"{video}\"')\n",
    "cur.execute(sql)\n",
    "video_id = cur.fetchone()[0]\n",
    "print(video_id)\n",
    "\n",
    "# Create a dataframe contining one column, 'frame' (=frame_number)\n",
    "df = pd.DataFrame(mylist, columns=['frame'])\n",
    "\n",
    "# Read the gps csv into a second dataframe. Columns are frame, timestamp, lat, and lon. \n",
    "dfgps = pd.read_csv(gpspath)\n",
    "\n",
    "# Merge the two dataframes, joining on the \"frame\" column.\n",
    "df = df.merge(dfgps)"
   ]
  },
  {
   "cell_type": "code",
   "execution_count": 51,
   "metadata": {},
   "outputs": [
    {
     "ename": "IntegrityError",
     "evalue": "UNIQUE constraint failed: frames.video_id, frames.frame_number",
     "output_type": "error",
     "traceback": [
      "\u001b[0;31m---------------------------------------------------------------------------\u001b[0m",
      "\u001b[0;31mIntegrityError\u001b[0m                            Traceback (most recent call last)",
      "\u001b[0;32m<ipython-input-51-6e5dbe243aff>\u001b[0m in \u001b[0;36m<module>\u001b[0;34m\u001b[0m\n\u001b[1;32m      5\u001b[0m     \u001b[0ms\u001b[0m \u001b[0;34m+=\u001b[0m \u001b[0;34mf\"{video_id}, {r.frame}, '{r.timestamp}', \"\u001b[0m\u001b[0;34m\u001b[0m\u001b[0;34m\u001b[0m\u001b[0m\n\u001b[1;32m      6\u001b[0m     \u001b[0ms\u001b[0m \u001b[0;34m+=\u001b[0m \u001b[0;34mf\"TRANSFORM( GeomFromText('POINT({r.lon} {r.lat})', 4326), 3857));\\n\"\u001b[0m\u001b[0;34m\u001b[0m\u001b[0;34m\u001b[0m\u001b[0m\n\u001b[0;32m----> 7\u001b[0;31m     \u001b[0mcur\u001b[0m\u001b[0;34m.\u001b[0m\u001b[0mexecute\u001b[0m\u001b[0;34m(\u001b[0m\u001b[0ms\u001b[0m\u001b[0;34m)\u001b[0m\u001b[0;34m\u001b[0m\u001b[0;34m\u001b[0m\u001b[0m\n\u001b[0m\u001b[1;32m      8\u001b[0m \u001b[0mcur\u001b[0m\u001b[0;34m.\u001b[0m\u001b[0mexecute\u001b[0m\u001b[0;34m(\u001b[0m\u001b[0;34m\"COMMIT;\"\u001b[0m\u001b[0;34m)\u001b[0m\u001b[0;34m\u001b[0m\u001b[0;34m\u001b[0m\u001b[0m\n",
      "\u001b[0;31mIntegrityError\u001b[0m: UNIQUE constraint failed: frames.video_id, frames.frame_number"
     ]
    }
   ],
   "source": [
    "# Populate the frames table\n",
    "cur.execute(\"BEGIN;\")\n",
    "for i, r in df.iterrows():\n",
    "    s = 'INSERT INTO frames (video_id,frame_number,time,geometry) VALUES ('      \n",
    "    s += f\"{video_id}, {r.frame}, '{r.timestamp}', \"\n",
    "    s += f\"TRANSFORM( GeomFromText('POINT({r.lon} {r.lat})', 4326), 3857));\\n\"\n",
    "    cur.execute(s)\n",
    "cur.execute(\"COMMIT;\")"
   ]
  },
  {
   "cell_type": "code",
   "execution_count": null,
   "metadata": {},
   "outputs": [],
   "source": []
  }
 ],
 "metadata": {
  "kernelspec": {
   "display_name": "Python 3",
   "language": "python",
   "name": "python3"
  },
  "language_info": {
   "codemirror_mode": {
    "name": "ipython",
    "version": 3
   },
   "file_extension": ".py",
   "mimetype": "text/x-python",
   "name": "python",
   "nbconvert_exporter": "python",
   "pygments_lexer": "ipython3",
   "version": "3.6.9"
  }
 },
 "nbformat": 4,
 "nbformat_minor": 4
}
