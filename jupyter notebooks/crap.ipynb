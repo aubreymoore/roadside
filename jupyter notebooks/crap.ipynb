{
 "cells": [
  {
   "cell_type": "markdown",
   "metadata": {
    "papermill": {
     "duration": 0.020449,
     "end_time": "2020-06-28T00:28:36.493739",
     "exception": false,
     "start_time": "2020-06-28T00:28:36.473290",
     "status": "completed"
    },
    "tags": []
   },
   "source": [
    "# Georeferences videos\n",
    "\n",
    "Input files are a video (\\*.mp4) recorded using the camera app and a log file (\\*.csv) created using the GPSLogger app.\n",
    "\n",
    "Output file is a csv file containing frame number, UTC timestamp, latitude and longitude."
   ]
  },
  {
   "cell_type": "code",
   "execution_count": 1,
   "metadata": {
    "papermill": {
     "duration": 0.27843,
     "end_time": "2020-06-28T00:28:36.790878",
     "exception": false,
     "start_time": "2020-06-28T00:28:36.512448",
     "status": "completed"
    },
    "tags": []
   },
   "outputs": [],
   "source": [
    "import cv2\n",
    "import pandas as pd\n",
    "import numpy as np\n",
    "import exiftool\n",
    "from datetime import datetime, timedelta\n",
    "import pytz\n",
    "import logging"
   ]
  },
  {
   "cell_type": "code",
   "execution_count": 2,
   "metadata": {
    "papermill": {
     "duration": 0.011433,
     "end_time": "2020-06-28T00:28:36.805299",
     "exception": false,
     "start_time": "2020-06-28T00:28:36.793866",
     "status": "completed"
    },
    "tags": []
   },
   "outputs": [],
   "source": [
    "def get_video_start_stop(filename):\n",
    "    \"\"\"\n",
    "    \"\"\"  \n",
    "    with exiftool.ExifTool() as et:\n",
    "        createDate = et.get_tag('QuickTime:CreateDate', filename)\n",
    "        logging.info(f'Exif Quicktime:CreateDate: {createDate} UTC')\n",
    "        duration = et.get_tag('QuickTime:Duration', filename)\n",
    "        logging.info(f'Exif QuickTime:Duration: {duration} seconds')\n",
    "    createDate = datetime.strptime(createDate, '%Y:%m:%d %H:%M:%S')   \n",
    "    start = createDate - timedelta(seconds=duration)\n",
    "    logging.info(f'Video started at {start} UTC')\n",
    "    stop = createDate\n",
    "    logging.info(f'Video ended at {stop} UTC')\n",
    "    return start, stop\n",
    "\n",
    "#get_video_start_stop(filename)"
   ]
  },
  {
   "cell_type": "code",
   "execution_count": 3,
   "metadata": {
    "papermill": {
     "duration": 0.019884,
     "end_time": "2020-06-28T00:28:36.827979",
     "exception": false,
     "start_time": "2020-06-28T00:28:36.808095",
     "status": "completed"
    },
    "tags": []
   },
   "outputs": [],
   "source": [
    "def get_lat_lon(timestamp):\n",
    "    timestamp = pd.to_datetime(timestamp)\n",
    "    df = dfgps[dfgps.time==timestamp]\n",
    "    if not df.empty:\n",
    "        # There is a record for exact timestamp (unlikely); return lat lon.\n",
    "        return dfgps.lat.values[0], dfgps.lon.values[0]\n",
    "    else:\n",
    "        # Estimate lat lon using linear interpolation records just prior and post timestamp \n",
    "        df1 = dfgps[dfgps.time<timestamp].tail(1)     \n",
    "        df2 = dfgps[dfgps.time>timestamp].head(1)\n",
    "        t1 = df1.time.values[0]\n",
    "        t2 = df2.time.values[0]\n",
    "        lat1 = df1.lat.values[0]\n",
    "        lat2 = df2.lat.values[0]\n",
    "        lon1 = df1.lon.values[0]\n",
    "        lon2 = df2.lon.values[0] \n",
    "        fraction = (timestamp-t1)/(t2-t1)\n",
    "        lat = lat1 + fraction*(lat2-lat1)\n",
    "        lon = lon1 + fraction*(lon2-lon1)\n",
    "        return lat, lon\n",
    "\n",
    "#start, stop = get_video_start_stop(filename)    \n",
    "#get_lat_lon(start)"
   ]
  },
  {
   "cell_type": "code",
   "execution_count": 4,
   "metadata": {
    "papermill": {
     "duration": 153.291779,
     "end_time": "2020-06-28T00:31:10.126779",
     "exception": false,
     "start_time": "2020-06-28T00:28:36.835000",
     "status": "completed"
    },
    "scrolled": true,
    "tags": []
   },
   "outputs": [
    {
     "name": "stderr",
     "output_type": "stream",
     "text": [
      "2020-06-28T10:28:36+1000 [INFO] <module> Reading videos.csv\n"
     ]
    },
    {
     "name": "stderr",
     "output_type": "stream",
     "text": [
      "2020-06-28T10:28:36+1000 [INFO] <module> Started processing /home/aubrey/Desktop/2020-06-19/20200623/20200623_140136.mp4\n"
     ]
    },
    {
     "name": "stderr",
     "output_type": "stream",
     "text": [
      "2020-06-28T10:28:36+1000 [INFO] <module> Reading GPS log from /home/aubrey/Desktop/2020-06-19/20200623/20200623.csv\n"
     ]
    },
    {
     "name": "stderr",
     "output_type": "stream",
     "text": [
      "2020-06-28T10:28:36+1000 [INFO] <module> Building timestamp-location table.\n"
     ]
    },
    {
     "name": "stderr",
     "output_type": "stream",
     "text": [
      "2020-06-28T10:28:36+1000 [INFO] get_video_start_stop Exif Quicktime:CreateDate: 2020:06:23 04:11:00 UTC\n"
     ]
    },
    {
     "name": "stderr",
     "output_type": "stream",
     "text": [
      "2020-06-28T10:28:36+1000 [INFO] get_video_start_stop Exif QuickTime:Duration: 563.641 seconds\n"
     ]
    },
    {
     "name": "stderr",
     "output_type": "stream",
     "text": [
      "2020-06-28T10:28:36+1000 [INFO] get_video_start_stop Video started at 2020-06-23 04:01:36.359000 UTC\n"
     ]
    },
    {
     "name": "stderr",
     "output_type": "stream",
     "text": [
      "2020-06-28T10:28:36+1000 [INFO] get_video_start_stop Video ended at 2020-06-23 04:11:00 UTC\n"
     ]
    },
    {
     "name": "stderr",
     "output_type": "stream",
     "text": [
      "2020-06-28T10:28:53+1000 [INFO] <module> 1800 2020-06-23 04:02:36.370800 13.4132 144.7824\n"
     ]
    },
    {
     "name": "stderr",
     "output_type": "stream",
     "text": [
      "2020-06-28T10:29:09+1000 [INFO] <module> 3600 2020-06-23 04:03:36.391589 13.4183 144.7791\n"
     ]
    },
    {
     "name": "stderr",
     "output_type": "stream",
     "text": [
      "2020-06-28T10:29:25+1000 [INFO] <module> 5400 2020-06-23 04:04:36.512522 13.4263 144.7823\n"
     ]
    },
    {
     "name": "stderr",
     "output_type": "stream",
     "text": [
      "2020-06-28T10:29:42+1000 [INFO] <module> 7200 2020-06-23 04:05:36.633256 13.4343 144.7811\n"
     ]
    },
    {
     "name": "stderr",
     "output_type": "stream",
     "text": [
      "2020-06-28T10:29:58+1000 [INFO] <module> 9000 2020-06-23 04:06:36.654156 13.4374 144.7906\n"
     ]
    },
    {
     "name": "stderr",
     "output_type": "stream",
     "text": [
      "2020-06-28T10:30:14+1000 [INFO] <module> 10800 2020-06-23 04:07:36.708511 13.4394 144.7985\n"
     ]
    },
    {
     "name": "stderr",
     "output_type": "stream",
     "text": [
      "2020-06-28T10:30:31+1000 [INFO] <module> 12600 2020-06-23 04:08:36.762600 13.4342 144.8004\n"
     ]
    },
    {
     "name": "stderr",
     "output_type": "stream",
     "text": [
      "2020-06-28T10:30:47+1000 [INFO] <module> 14400 2020-06-23 04:09:37.216778 13.4303 144.8036\n"
     ]
    },
    {
     "name": "stderr",
     "output_type": "stream",
     "text": [
      "2020-06-28T10:31:04+1000 [INFO] <module> 16200 2020-06-23 04:10:37.304344 13.4332 144.8043\n"
     ]
    },
    {
     "name": "stderr",
     "output_type": "stream",
     "text": [
      "2020-06-28T10:31:10+1000 [INFO] <module> Saving output to /home/aubrey/Desktop/2020-06-19/20200623/20200623_140136_gps.csv\n"
     ]
    },
    {
     "name": "stderr",
     "output_type": "stream",
     "text": [
      "2020-06-28T10:31:10+1000 [INFO] <module> Finished processing /home/aubrey/Desktop/2020-06-19/20200623/20200623_140136.mp4\n"
     ]
    },
    {
     "name": "stderr",
     "output_type": "stream",
     "text": [
      "2020-06-28T10:31:10+1000 [INFO] <module> FINISED ALL\n"
     ]
    }
   ],
   "source": [
    "logging.basicConfig(\n",
    "    level=logging.INFO,\n",
    "    format=\"%(asctime)s [%(levelname)s] %(funcName)s %(message)s\",\n",
    "    datefmt=\"%Y-%m-%dT%H:%M:%S%z\",\n",
    "    handlers=[\n",
    "        logging.FileHandler(\"debug.log\"),\n",
    "        logging.StreamHandler(),\n",
    "    ]\n",
    ")\n",
    "\n",
    "logging.info('Reading videos.csv')\n",
    "dfvideos = pd.read_csv('videos.csv')\n",
    "\n",
    "for i, r in dfvideos.iterrows():\n",
    "    videopath =  r.videopath\n",
    "    gpslogpath = r.gpslogpath\n",
    "    frameinterval = r.frameinterval\n",
    "    \n",
    "    logging.info(f'Started processing {videopath}')\n",
    "    logging.info(f'Reading GPS log from {gpslogpath}')\n",
    "    dfgps = pd.read_csv(gpslogpath, parse_dates=['time'])\n",
    "    dfgps['time'] = dfgps['time'].dt.tz_localize(None)\n",
    "\n",
    "    logging.info('Building timestamp-location table.')\n",
    "    start_time, stop_time = get_video_start_stop(videopath)\n",
    "    data = list()\n",
    "    cap = cv2.VideoCapture(videopath)\n",
    "    i = 0\n",
    "    while(cap.isOpened()):\n",
    "        frame_exists, curr_frame = cap.read()\n",
    "        if frame_exists:\n",
    "            pos_msec = cap.get(cv2.CAP_PROP_POS_MSEC)\n",
    "            timestamp = start_time + timedelta(milliseconds=pos_msec)\n",
    "            lat, lon = get_lat_lon(timestamp)\n",
    "            data.append([i, timestamp, lat, lon])\n",
    "            i += 1\n",
    "            if (i%frameinterval==0):\n",
    "                logging.info(f'{i} {timestamp} {lat:7.4f} {lon:8.4f}')\n",
    "        else:\n",
    "            break\n",
    "    cap.release()\n",
    "    dfts = pd.DataFrame(data, columns=['frame', 'timestamp', 'lat', 'lon'])\n",
    "    outputpath = videopath.replace('.mp4','_gps.csv')\n",
    "    logging.info(f'Saving output to {outputpath}')                               \n",
    "    dfts.to_csv(outputpath, index=False)\n",
    "    logging.info(f'Finished processing {videopath}') \n",
    "logging.info('FINISED ALL')    "
   ]
  }
 ],
 "metadata": {
  "kernelspec": {
   "display_name": "newt",
   "language": "python",
   "name": "newt"
  },
  "language_info": {
   "codemirror_mode": {
    "name": "ipython",
    "version": 3
   },
   "file_extension": ".py",
   "mimetype": "text/x-python",
   "name": "python",
   "nbconvert_exporter": "python",
   "pygments_lexer": "ipython3",
   "version": "3.7.6"
  },
  "papermill": {
   "duration": 154.310304,
   "end_time": "2020-06-28T00:31:10.137084",
   "environment_variables": {},
   "exception": null,
   "input_path": "georef.ipynb",
   "output_path": "crap.ipynb",
   "parameters": {},
   "start_time": "2020-06-28T00:28:35.826780",
   "version": "2.0.0"
  }
 },
 "nbformat": 4,
 "nbformat_minor": 4
}