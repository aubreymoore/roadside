{
 "cells": [
  {
   "cell_type": "markdown",
   "metadata": {
    "papermill": {},
    "tags": []
   },
   "source": [
    "# get-random-bounding-boxes\n",
    "\n",
    "Extracts a random set of images contained in bounded boxes for each label."
   ]
  },
  {
   "cell_type": "code",
   "execution_count": null,
   "metadata": {
    "papermill": {},
    "tags": []
   },
   "outputs": [],
   "source": [
    "import xml.etree.ElementTree as ET\n",
    "import pandas as pd\n",
    "import cv2\n",
    "from pathlib import Path\n",
    "import sys\n",
    "import glob\n",
    "import numpy as np\n",
    "import shutil\n",
    "from IPython.display import HTML, Image"
   ]
  },
  {
   "cell_type": "code",
   "execution_count": 1,
   "metadata": {
    "papermill": {},
    "tags": [
     "parameters"
    ]
   },
   "outputs": [],
   "source": [
    "DATADIR = '/media/aubrey/9C33-6BBD/20200706_120855_processed-5-classes'\n",
    "CVATXMLFILE = '07-06-2020-120855-5-classes.xml'\n",
    "VIDEOFILE = '20200706_120855_processed.mp4'\n",
    "NSAMPLES = '10'"
   ]
  },
  {
   "cell_type": "code",
   "execution_count": null,
   "metadata": {
    "tags": [
     "injected-parameters"
    ]
   },
   "outputs": [],
   "source": [
    "# Parameters\n",
    "NSAMPLES = \"20\"\n"
   ]
  },
  {
   "cell_type": "code",
   "execution_count": null,
   "metadata": {
    "papermill": {},
    "tags": []
   },
   "outputs": [],
   "source": [
    "def _src_from_data(data):\n",
    "    \"\"\"Base64 encodes image bytes for inclusion in an HTML img element\"\"\"\n",
    "    img_obj = Image(data=data)\n",
    "    for bundle in img_obj._repr_mimebundle_():\n",
    "        for mimetype, b64value in bundle.items():\n",
    "            if mimetype.startswith('image/'):\n",
    "                return f'data:{mimetype};base64,{b64value}'\n",
    "\n",
    "def gallery(images, row_height='auto'):\n",
    "    \"\"\"Shows a set of images in a gallery that flexes with the width of the notebook.\n",
    "    \n",
    "    Parameters\n",
    "    ----------\n",
    "    images: list of str or bytes\n",
    "        URLs or bytes of images to display\n",
    "\n",
    "    row_height: str\n",
    "        CSS height value to assign to all images. Set to 'auto' by default to show images\n",
    "        with their native dimensions. Set to a value like '250px' to make all rows\n",
    "        in the gallery equal height.\n",
    "    \"\"\"\n",
    "    figures = []\n",
    "    for image in images:\n",
    "        if isinstance(image, bytes):\n",
    "            src = _src_from_data(image)\n",
    "            caption = ''\n",
    "        else:\n",
    "            src = image\n",
    "            caption = f'<figcaption style=\"font-size: 0.6em\">{image}</figcaption>'\n",
    "        figures.append(f'''\n",
    "            <figure style=\"margin: 5px !important;\">\n",
    "              <img src=\"{src}\" style=\"height: {row_height}\">\n",
    "              {caption}\n",
    "            </figure>\n",
    "        ''')\n",
    "    return HTML(data=f'''\n",
    "        <div style=\"display: flex; flex-flow: row wrap; text-align: center;\">\n",
    "        {''.join(figures)}\n",
    "        </div>\n",
    "    ''')"
   ]
  },
  {
   "cell_type": "code",
   "execution_count": null,
   "metadata": {
    "papermill": {},
    "tags": []
   },
   "outputs": [],
   "source": [
    "def str2int(s):\n",
    "    return int(float(s))\n",
    "\n",
    "# str2int('7.53')"
   ]
  },
  {
   "cell_type": "code",
   "execution_count": null,
   "metadata": {
    "papermill": {},
    "tags": []
   },
   "outputs": [],
   "source": [
    "def get_bounding_boxes(xml_file):\n",
    "    \"\"\"\n",
    "    Returns a pandas dataframe.\n",
    "    \"\"\"   \n",
    "    tree = ET.parse(xml_file)\n",
    "    root = tree.getroot()\n",
    "\n",
    "    mylist = []\n",
    "    for track in root.findall('track'):\n",
    "        for box in track.findall('box'):\n",
    "            mydict = box.attrib\n",
    "            mydict.update(track.attrib)\n",
    "            mylist.append(mydict)\n",
    "    df = pd.DataFrame(mylist)\n",
    "    df = df[(df.occluded=='0') & (df.outside=='0')]\n",
    "    df.drop(['occluded', 'outside'], axis=1, inplace=True)\n",
    "    df.rename({'id': 'track_id'}, axis=1, inplace=True)\n",
    "    df.xbr = df.xbr.apply(lambda x: str2int(x))\n",
    "    df.xtl = df.xtl.apply(lambda x: str2int(x))\n",
    "    df.ybr = df.ybr.apply(lambda x: str2int(x))\n",
    "    df.ytl = df.ytl.apply(lambda x: str2int(x))\n",
    "    df.frame = df.frame.apply(lambda x: str2int(x))\n",
    "    df.track_id = df.track_id.apply(lambda x: str2int(x))\n",
    "    return df\n",
    "\n",
    "#get_bounding_boxes(xml_file)"
   ]
  },
  {
   "cell_type": "code",
   "execution_count": null,
   "metadata": {
    "papermill": {},
    "tags": []
   },
   "outputs": [],
   "source": [
    "def show_gallery(label):\n",
    "    images = glob.glob(f'{label}*.jpg')\n",
    "    print(images)\n",
    "    gallery(images)"
   ]
  },
  {
   "cell_type": "markdown",
   "metadata": {
    "papermill": {},
    "tags": []
   },
   "source": [
    "# MAIN"
   ]
  },
  {
   "cell_type": "code",
   "execution_count": null,
   "metadata": {
    "papermill": {},
    "tags": []
   },
   "outputs": [],
   "source": [
    "dfbb = get_bounding_boxes(f'{DATADIR}/{CVATXMLFILE}')\n",
    "\n",
    "# Extract random image samples for each damage level label and write these to jpg image files.\n",
    "        \n",
    "cap = cv2.VideoCapture(f'{DATADIR}/{VIDEOFILE}')\n",
    "grouped = dfbb.groupby('label')\n",
    "for _, df in grouped:\n",
    "    for i, r in df.sample(int(NSAMPLES)).iterrows():\n",
    "#         prefix = f'{DATADIR}/{r.label}_samples'\n",
    "#         Path(prefix).mkdir(parents=True, exist_ok=True)       \n",
    "        cap.set(1, r.frame)\n",
    "        _, frame = cap.read()\n",
    "        img = frame[r.ytl:r.ybr, r.xtl:r.xbr]\n",
    "        cv2.imwrite(f'{r.label}t{r.track_id:04d}f{r.frame:04d}.jpg', img)\n",
    "cap.release()"
   ]
  },
  {
   "cell_type": "markdown",
   "metadata": {
    "papermill": {},
    "tags": []
   },
   "source": [
    "# Zero damage"
   ]
  },
  {
   "cell_type": "code",
   "execution_count": null,
   "metadata": {
    "papermill": {},
    "tags": []
   },
   "outputs": [],
   "source": [
    "gallery(glob.glob('zero*.jpg'))"
   ]
  },
  {
   "cell_type": "markdown",
   "metadata": {
    "papermill": {},
    "tags": []
   },
   "source": [
    "# Light damage"
   ]
  },
  {
   "cell_type": "code",
   "execution_count": null,
   "metadata": {
    "papermill": {},
    "tags": []
   },
   "outputs": [],
   "source": [
    "gallery(glob.glob('light*.jpg'))"
   ]
  },
  {
   "cell_type": "markdown",
   "metadata": {
    "papermill": {},
    "tags": []
   },
   "source": [
    "# Medium damage"
   ]
  },
  {
   "cell_type": "code",
   "execution_count": null,
   "metadata": {
    "papermill": {},
    "tags": []
   },
   "outputs": [],
   "source": [
    "gallery(glob.glob('medium*.jpg'))"
   ]
  },
  {
   "cell_type": "markdown",
   "metadata": {
    "papermill": {},
    "tags": []
   },
   "source": [
    "# High damage"
   ]
  },
  {
   "cell_type": "code",
   "execution_count": null,
   "metadata": {
    "papermill": {},
    "tags": []
   },
   "outputs": [],
   "source": [
    "gallery(glob.glob('high*.jpg'))"
   ]
  },
  {
   "cell_type": "markdown",
   "metadata": {
    "papermill": {},
    "tags": []
   },
   "source": [
    "# Non-recoverable damage"
   ]
  },
  {
   "cell_type": "code",
   "execution_count": null,
   "metadata": {
    "papermill": {},
    "tags": []
   },
   "outputs": [],
   "source": [
    "gallery(glob.glob('non_recoverable*.jpg'))"
   ]
  }
 ],
 "metadata": {
  "kernelspec": {
   "display_name": "newt",
   "language": "python",
   "name": "newt"
  },
  "language_info": {
   "codemirror_mode": {
    "name": "ipython",
    "version": 3
   },
   "file_extension": ".py",
   "mimetype": "text/x-python",
   "name": "python",
   "nbconvert_exporter": "python",
   "pygments_lexer": "ipython3",
   "version": "3.7.6"
  },
  "papermill": {
   "environment_variables": {},
   "input_path": "get-random-bounding-boxes.ipynb",
   "output_path": "reports/20200706-120855-5-classes.ipynb",
   "parameters": {
    "NSAMPLES": "20"
   },
   "version": "2.0.0"
  }
 },
 "nbformat": 4,
 "nbformat_minor": 2
}