{
 "cells": [
  {
   "cell_type": "markdown",
   "metadata": {},
   "source": [
    "# routemap v.20200705A\n",
    "\n",
    "This jupyter notebook creates a geojson file with a polyline feature for each video in a folder named {DATAPATH}/{DATE}.\n",
    "\n",
    "To run using **papermill** enter something like this:\n",
    "\n",
    "papermill georef.ipynb /media/aubrey/9016-4EF8/20200628/routemap.ipynb -p DATAPATH '/media/aubrey/9016-4EF8' -p DATE '20200628'\n",
    "\n",
    "Input files are a videos (*.mp4) recorded using the camera app and a log file (*.csv) created using the GPSLogger app.\n",
    "\n",
    "Output file is a *.geojson file saved as {DATAPATH}/{DATE}/{DATE}.geojson."
   ]
  },
  {
   "cell_type": "code",
   "execution_count": 1,
   "metadata": {},
   "outputs": [],
   "source": [
    "import glob\n",
    "from geojson import Point, Feature, FeatureCollection, dump, LineString\n",
    "import pandas as pd\n",
    "import exiftool\n",
    "from datetime import datetime, timedelta"
   ]
  },
  {
   "cell_type": "code",
   "execution_count": 2,
   "metadata": {
    "tags": [
     "parameters"
    ]
   },
   "outputs": [],
   "source": [
    "# Default values for 3 parameters. May be changed by papermill.\n",
    "DATAPATH = '/media/aubrey/9016-4EF8'\n",
    "DATE = '20200703'"
   ]
  },
  {
   "cell_type": "code",
   "execution_count": 3,
   "metadata": {},
   "outputs": [],
   "source": [
    "def get_video_start_stop(filename):\n",
    "    \"\"\"\n",
    "    \"\"\"  \n",
    "    with exiftool.ExifTool() as et:\n",
    "        createDate = et.get_tag('QuickTime:CreateDate', filename)\n",
    "        duration = et.get_tag('QuickTime:Duration', filename)\n",
    "    createDate = datetime.strptime(createDate, '%Y:%m:%d %H:%M:%S')   \n",
    "    start = createDate - timedelta(seconds=duration)\n",
    "    stop = createDate\n",
    "    return start, stop\n",
    "\n",
    "#get_video_start_stop('/media/aubrey/9016-4EF8/20200703/20200703_121802.mp4')"
   ]
  },
  {
   "cell_type": "code",
   "execution_count": 4,
   "metadata": {},
   "outputs": [],
   "source": [
    "# Get paths for videos and gps log\n",
    "\n",
    "videolist = sorted(glob.glob(f'{DATAPATH}/{DATE}/*.mp4'))\n",
    "gpslogpath = glob.glob(f'{DATAPATH}/{DATE}/{DATE}.csv')[0]\n",
    "\n",
    "# Load the gps log into a dataframe \n",
    "\n",
    "dfgps = pd.read_csv(gpslogpath, parse_dates=['time'])\n",
    "dfgps['time'] = dfgps['time'].dt.tz_localize(None)\n",
    "\n",
    "# Create a geojson file for each video \n",
    "\n",
    "for i, video in enumerate(videolist):\n",
    "    start, stop = get_video_start_stop(video)\n",
    "    df=dfgps[dfgps.time.between(start, stop)]\n",
    "    linestring = LineString(list(zip(df.lon,df.lat)))\n",
    "    videoname = video.split('/')[-1].split('.')[0]\n",
    "    feature = Feature(geometry=linestring, properties={\"name\": videoname})\n",
    "    with open(f'{DATAPATH}/{DATE}/{videoname}.geojson', 'w') as f:\n",
    "        dump(FeatureCollection(feature), f)"
   ]
  }
 ],
 "metadata": {
  "kernelspec": {
   "display_name": "newt",
   "language": "python",
   "name": "newt"
  },
  "language_info": {
   "codemirror_mode": {
    "name": "ipython",
    "version": 3
   },
   "file_extension": ".py",
   "mimetype": "text/x-python",
   "name": "python",
   "nbconvert_exporter": "python",
   "pygments_lexer": "ipython3",
   "version": "3.7.6"
  }
 },
 "nbformat": 4,
 "nbformat_minor": 2
}
