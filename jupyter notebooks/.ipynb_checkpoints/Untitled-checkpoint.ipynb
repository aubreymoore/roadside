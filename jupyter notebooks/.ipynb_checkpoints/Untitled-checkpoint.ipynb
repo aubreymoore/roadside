{
 "cells": [
  {
   "cell_type": "code",
   "execution_count": 1,
   "metadata": {},
   "outputs": [],
   "source": [
    "from geojson import Point, Feature, FeatureCollection, dump, LineString\n",
    "import pandas as pd\n",
    "import glob"
   ]
  },
  {
   "cell_type": "code",
   "execution_count": 2,
   "metadata": {},
   "outputs": [],
   "source": [
    "# Default values for 3 parameters. May be changed by papermill.\n",
    "DATAPATH = '/home/aubrey/Desktop'\n",
    "DATE = '20210630'\n",
    "FRAME_INTERVAL = 1800"
   ]
  },
  {
   "cell_type": "code",
   "execution_count": 3,
   "metadata": {},
   "outputs": [
    {
     "data": {
      "text/html": [
       "<div>\n",
       "<style scoped>\n",
       "    .dataframe tbody tr th:only-of-type {\n",
       "        vertical-align: middle;\n",
       "    }\n",
       "\n",
       "    .dataframe tbody tr th {\n",
       "        vertical-align: top;\n",
       "    }\n",
       "\n",
       "    .dataframe thead th {\n",
       "        text-align: right;\n",
       "    }\n",
       "</style>\n",
       "<table border=\"1\" class=\"dataframe\">\n",
       "  <thead>\n",
       "    <tr style=\"text-align: right;\">\n",
       "      <th></th>\n",
       "      <th>frame</th>\n",
       "      <th>timestamp</th>\n",
       "      <th>lat</th>\n",
       "      <th>lon</th>\n",
       "    </tr>\n",
       "  </thead>\n",
       "  <tbody>\n",
       "    <tr>\n",
       "      <th>0</th>\n",
       "      <td>0</td>\n",
       "      <td>2020-06-30 03:30:10.381000</td>\n",
       "      <td>13.404777</td>\n",
       "      <td>144.692435</td>\n",
       "    </tr>\n",
       "    <tr>\n",
       "      <th>1</th>\n",
       "      <td>1</td>\n",
       "      <td>2020-06-30 03:30:10.447656</td>\n",
       "      <td>13.404777</td>\n",
       "      <td>144.692424</td>\n",
       "    </tr>\n",
       "    <tr>\n",
       "      <th>2</th>\n",
       "      <td>2</td>\n",
       "      <td>2020-06-30 03:30:10.480978</td>\n",
       "      <td>13.404777</td>\n",
       "      <td>144.692419</td>\n",
       "    </tr>\n",
       "    <tr>\n",
       "      <th>3</th>\n",
       "      <td>3</td>\n",
       "      <td>2020-06-30 03:30:10.514311</td>\n",
       "      <td>13.404778</td>\n",
       "      <td>144.692413</td>\n",
       "    </tr>\n",
       "    <tr>\n",
       "      <th>4</th>\n",
       "      <td>4</td>\n",
       "      <td>2020-06-30 03:30:10.547633</td>\n",
       "      <td>13.404778</td>\n",
       "      <td>144.692408</td>\n",
       "    </tr>\n",
       "    <tr>\n",
       "      <th>...</th>\n",
       "      <td>...</td>\n",
       "      <td>...</td>\n",
       "      <td>...</td>\n",
       "      <td>...</td>\n",
       "    </tr>\n",
       "    <tr>\n",
       "      <th>2076</th>\n",
       "      <td>2076</td>\n",
       "      <td>2020-06-30 03:31:19.833267</td>\n",
       "      <td>13.403433</td>\n",
       "      <td>144.688190</td>\n",
       "    </tr>\n",
       "    <tr>\n",
       "      <th>2077</th>\n",
       "      <td>2077</td>\n",
       "      <td>2020-06-30 03:31:19.866589</td>\n",
       "      <td>13.403433</td>\n",
       "      <td>144.688190</td>\n",
       "    </tr>\n",
       "    <tr>\n",
       "      <th>2078</th>\n",
       "      <td>2078</td>\n",
       "      <td>2020-06-30 03:31:19.899922</td>\n",
       "      <td>13.403433</td>\n",
       "      <td>144.688190</td>\n",
       "    </tr>\n",
       "    <tr>\n",
       "      <th>2079</th>\n",
       "      <td>2079</td>\n",
       "      <td>2020-06-30 03:31:19.933244</td>\n",
       "      <td>13.403433</td>\n",
       "      <td>144.688190</td>\n",
       "    </tr>\n",
       "    <tr>\n",
       "      <th>2080</th>\n",
       "      <td>2080</td>\n",
       "      <td>2020-06-30 03:31:19.966578</td>\n",
       "      <td>13.403433</td>\n",
       "      <td>144.688190</td>\n",
       "    </tr>\n",
       "  </tbody>\n",
       "</table>\n",
       "<p>2081 rows × 4 columns</p>\n",
       "</div>"
      ],
      "text/plain": [
       "      frame                  timestamp        lat         lon\n",
       "0         0 2020-06-30 03:30:10.381000  13.404777  144.692435\n",
       "1         1 2020-06-30 03:30:10.447656  13.404777  144.692424\n",
       "2         2 2020-06-30 03:30:10.480978  13.404777  144.692419\n",
       "3         3 2020-06-30 03:30:10.514311  13.404778  144.692413\n",
       "4         4 2020-06-30 03:30:10.547633  13.404778  144.692408\n",
       "...     ...                        ...        ...         ...\n",
       "2076   2076 2020-06-30 03:31:19.833267  13.403433  144.688190\n",
       "2077   2077 2020-06-30 03:31:19.866589  13.403433  144.688190\n",
       "2078   2078 2020-06-30 03:31:19.899922  13.403433  144.688190\n",
       "2079   2079 2020-06-30 03:31:19.933244  13.403433  144.688190\n",
       "2080   2080 2020-06-30 03:31:19.966578  13.403433  144.688190\n",
       "\n",
       "[2081 rows x 4 columns]"
      ]
     },
     "execution_count": 3,
     "metadata": {},
     "output_type": "execute_result"
    }
   ],
   "source": [
    "videolist = glob.glob(f'{DATAPATH}/{DATE}/*.mp4')\n",
    "video = videolist[0]\n",
    "gpspath = video.replace('.mp4','_gps.csv')\n",
    "geojsonpath = video.replace('.mp4','.geojson')\n",
    "df = pd.read_csv(gpspath, index_col=False, parse_dates=['timestamp'])\n",
    "df"
   ]
  },
  {
   "cell_type": "code",
   "execution_count": 4,
   "metadata": {},
   "outputs": [
    {
     "ename": "NameError",
     "evalue": "name 'geojson' is not defined",
     "output_type": "error",
     "traceback": [
      "\u001b[0;31m---------------------------------------------------------------------------\u001b[0m",
      "\u001b[0;31mNameError\u001b[0m                                 Traceback (most recent call last)",
      "\u001b[0;32m<ipython-input-4-5ba834b5bdc6>\u001b[0m in \u001b[0;36m<module>\u001b[0;34m\u001b[0m\n\u001b[1;32m      6\u001b[0m features.append(Feature(geometry=linestring,\n\u001b[1;32m      7\u001b[0m      properties={\"route\": \"Cross Island Road\", \"stroke\": \"#ff0000\", \"stroke-width\": 5, \"stroke-opacity\": 1}))\n\u001b[0;32m----> 8\u001b[0;31m \u001b[0mfeature_collection\u001b[0m \u001b[0;34m=\u001b[0m \u001b[0mgeojson\u001b[0m\u001b[0;34m.\u001b[0m\u001b[0mFeatureCollection\u001b[0m\u001b[0;34m(\u001b[0m\u001b[0mfeatures\u001b[0m\u001b[0;34m)\u001b[0m\u001b[0;34m\u001b[0m\u001b[0;34m\u001b[0m\u001b[0m\n\u001b[0m\u001b[1;32m      9\u001b[0m \u001b[0;34m\u001b[0m\u001b[0m\n\u001b[1;32m     10\u001b[0m \u001b[0;32mwith\u001b[0m \u001b[0mopen\u001b[0m\u001b[0;34m(\u001b[0m\u001b[0mgeojsonpath\u001b[0m\u001b[0;34m,\u001b[0m \u001b[0;34m'w'\u001b[0m\u001b[0;34m)\u001b[0m \u001b[0;32mas\u001b[0m \u001b[0mf\u001b[0m\u001b[0;34m:\u001b[0m\u001b[0;34m\u001b[0m\u001b[0;34m\u001b[0m\u001b[0m\n",
      "\u001b[0;31mNameError\u001b[0m: name 'geojson' is not defined"
     ]
    }
   ],
   "source": [
    "linestring = LineString(list(zip(df.lon,df.lat)))\n",
    "\n",
    "features = []\n",
    "features.append(Feature(geometry=linestring,\n",
    "     properties={\"route\": \"Cross Island Road\", \"stroke\": \"#ff0000\", \"stroke-width\": 5, \"stroke-opacity\": 1}))\n",
    "feature_collection = geojson.FeatureCollection(features)\n",
    "\n",
    "with open(geojsonpath, 'w') as f:\n",
    "    geojson.dump(feature_collection, f)"
   ]
  },
  {
   "cell_type": "code",
   "execution_count": null,
   "metadata": {},
   "outputs": [],
   "source": [
    "feature_collection.is_valid"
   ]
  },
  {
   "cell_type": "code",
   "execution_count": null,
   "metadata": {},
   "outputs": [],
   "source": [
    "geojsonpath"
   ]
  },
  {
   "cell_type": "code",
   "execution_count": null,
   "metadata": {},
   "outputs": [],
   "source": []
  }
 ],
 "metadata": {
  "kernelspec": {
   "display_name": "newt",
   "language": "python",
   "name": "newt"
  },
  "language_info": {
   "codemirror_mode": {
    "name": "ipython",
    "version": 3
   },
   "file_extension": ".py",
   "mimetype": "text/x-python",
   "name": "python",
   "nbconvert_exporter": "python",
   "pygments_lexer": "ipython3",
   "version": "3.7.6"
  }
 },
 "nbformat": 4,
 "nbformat_minor": 2
}
